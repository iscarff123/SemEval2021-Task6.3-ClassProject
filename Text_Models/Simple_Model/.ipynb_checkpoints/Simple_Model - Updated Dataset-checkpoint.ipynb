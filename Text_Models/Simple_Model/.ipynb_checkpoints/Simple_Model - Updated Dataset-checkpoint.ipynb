{
 "cells": [
  {
   "cell_type": "code",
   "execution_count": 1,
   "metadata": {},
   "outputs": [],
   "source": [
    "\n",
    "import json \n",
    "import os\n",
    "import re\n",
    "import random\n",
    "\n",
    "import requests\n",
    "\n",
    "import pandas as pd\n",
    "import numpy as np\n",
    "import matplotlib.pyplot as plt\n",
    "\n",
    "import torch\n",
    "import torch.nn as nn\n",
    "import torch.nn.functional as F\n",
    "from torch.utils.data import DataLoader\n",
    "from torch.utils.data.dataset import random_split\n",
    "\n",
    "\n",
    "\n",
    "import torchtext\n",
    "from torchtext import data\n",
    "from torchtext import datasets\n",
    "from torchtext.datasets import text_classification\n",
    "\n",
    "from torchtext.data import Field, Example, TabularDataset\n",
    "from torchtext.data import BucketIterator\n",
    "from torchtext.data.utils import ngrams_iterator\n",
    "from torchtext.data.utils import get_tokenizer\n",
    "\n",
    "\n",
    "# Plotting\n",
    "import seaborn as sns\n",
    "import matplotlib.pyplot as plt\n",
    "\n",
    "# Gensim\n",
    "import gensim\n",
    "from gensim.utils import simple_preprocess\n",
    "\n",
    "# NLTK\n",
    "import nltk\n",
    "from nltk.corpus import stopwords\n",
    "from collections import Counter\n",
    "from wordcloud import WordCloud\n",
    "\n",
    "from sklearn.preprocessing import MultiLabelBinarizer\n",
    "\n",
    "from yellowbrick.text import TSNEVisualizer\n",
    "\n",
    "import warnings \n",
    "\n",
    "\n",
    "random.seed(128)"
   ]
  },
  {
   "cell_type": "markdown",
   "metadata": {},
   "source": [
    "sourced: \n",
    "    https://github.com/MageshDominator/Blog_References/tree/master/ML%20based%20Multi-label%20Text%20Classification\n",
    "        https://medium.com/technovators/machine-learning-based-multi-label-text-classification-9a0e17f88bb4"
   ]
  },
  {
   "cell_type": "markdown",
   "metadata": {},
   "source": [
    "Load Data"
   ]
  },
  {
   "cell_type": "code",
   "execution_count": 2,
   "metadata": {},
   "outputs": [],
   "source": [
    "def extract_json_object(filename):\n",
    "    with open(file, \"r\", encoding='utf-8') as read_file:\n",
    "        json_array = json.load(read_file)\n",
    "    json_data = []    \n",
    "    #parse the data\n",
    "    for item in json_array:\n",
    "        details = {\"id\":None, \"labels\":None, \"text\":None}\n",
    "        details['id'] = item['id']\n",
    "        try: \n",
    "            details['labels'] = item['labels']\n",
    "        except KeyError: \n",
    "            details['labels'] = []         \n",
    "        details['text'] = item['text']\n",
    "        json_data.append(details)\n",
    "\n",
    "    \n",
    "    return json_data\n"
   ]
  },
  {
   "cell_type": "code",
   "execution_count": 3,
   "metadata": {},
   "outputs": [],
   "source": [
    "# file paths\n",
    "lst_file_path=[]\n",
    "\n",
    "lst_file_path.append(\"../data/training_data_task3.txt\")\n",
    "\n",
    "lst_file_path.append(\"../data/validation_data_task3.txt\")\n",
    "\n",
    "\n",
    "# List of keys \n",
    "dataset = [\"training\", \"validation\"] \n",
    "# empty dictionary\n",
    "dic_datasets =  dict.fromkeys(dataset, pd.DataFrame()) \n",
    "\n",
    "  \n",
    "\n"
   ]
  },
  {
   "cell_type": "code",
   "execution_count": 4,
   "metadata": {},
   "outputs": [
    {
     "name": "stdout",
     "output_type": "stream",
     "text": [
      "loading../data/training_data_task3.txt\n",
      "loading../data/validation_data_task3.txt\n"
     ]
    }
   ],
   "source": [
    "for i, file in enumerate(lst_file_path):\n",
    "    print('loading'+ file)\n",
    "    dic_datasets[dataset[i]] = pd.DataFrame(extract_json_object(extract_json_object))"
   ]
  },
  {
   "cell_type": "markdown",
   "metadata": {},
   "source": [
    "Seperate data into each components\n",
    "<br>Training, Dev and Test\n",
    "<br>Also apply no class to empty []"
   ]
  },
  {
   "cell_type": "code",
   "execution_count": 5,
   "metadata": {},
   "outputs": [],
   "source": [
    "df_training = pd.DataFrame(dic_datasets['training'][['id','labels','text']])\n",
    "df_training.labels = df_training.labels.apply(lambda y: ['no_class'] if len(y)==0 else y)\n",
    "\n",
    "df_val = pd.DataFrame(dic_datasets['validation'][['id','labels','text']])\n",
    "df_val.labels = df_val.labels.apply(lambda y: ['no_class'] if len(y)==0 else y)\n",
    "\n"
   ]
  },
  {
   "cell_type": "code",
   "execution_count": null,
   "metadata": {},
   "outputs": [],
   "source": []
  },
  {
   "cell_type": "markdown",
   "metadata": {},
   "source": [
    "Review Datasets"
   ]
  },
  {
   "cell_type": "code",
   "execution_count": 6,
   "metadata": {},
   "outputs": [
    {
     "name": "stdout",
     "output_type": "stream",
     "text": [
      "<class 'pandas.core.frame.DataFrame'>\n",
      "RangeIndex: 547 entries, 0 to 546\n",
      "Data columns (total 3 columns):\n",
      " #   Column  Non-Null Count  Dtype \n",
      "---  ------  --------------  ----- \n",
      " 0   id      547 non-null    object\n",
      " 1   labels  547 non-null    object\n",
      " 2   text    547 non-null    object\n",
      "dtypes: object(3)\n",
      "memory usage: 12.9+ KB\n"
     ]
    }
   ],
   "source": [
    "df_training.info()"
   ]
  },
  {
   "cell_type": "code",
   "execution_count": 7,
   "metadata": {},
   "outputs": [
    {
     "name": "stdout",
     "output_type": "stream",
     "text": [
      "<class 'pandas.core.frame.DataFrame'>\n",
      "RangeIndex: 140 entries, 0 to 139\n",
      "Data columns (total 3 columns):\n",
      " #   Column  Non-Null Count  Dtype \n",
      "---  ------  --------------  ----- \n",
      " 0   id      140 non-null    object\n",
      " 1   labels  140 non-null    object\n",
      " 2   text    140 non-null    object\n",
      "dtypes: object(3)\n",
      "memory usage: 3.4+ KB\n"
     ]
    }
   ],
   "source": [
    "df_val.info()"
   ]
  },
  {
   "cell_type": "code",
   "execution_count": null,
   "metadata": {},
   "outputs": [],
   "source": []
  },
  {
   "cell_type": "markdown",
   "metadata": {},
   "source": [
    "In order to properly process, we need to combine all labels of the datasets"
   ]
  },
  {
   "cell_type": "code",
   "execution_count": 8,
   "metadata": {},
   "outputs": [],
   "source": [
    "df_concat_labels = pd.concat([df_training.pop('labels'), df_val.pop('labels')])"
   ]
  },
  {
   "cell_type": "markdown",
   "metadata": {},
   "source": [
    "Review labels"
   ]
  },
  {
   "cell_type": "code",
   "execution_count": 9,
   "metadata": {},
   "outputs": [
    {
     "data": {
      "text/plain": [
       "0      [Appeal to fear/prejudice, Causal Oversimplifi...\n",
       "1                                      [Loaded Language]\n",
       "2      [Appeal to (Strong) Emotions, Reductio ad hitl...\n",
       "3                                               [Smears]\n",
       "4      [Appeal to (Strong) Emotions, Name calling/Lab...\n",
       "                             ...                        \n",
       "135                                             [Smears]\n",
       "136    [Loaded Language, Name calling/Labeling, Reduc...\n",
       "137    [Appeal to (Strong) Emotions, Appeal to fear/p...\n",
       "138                                    [Loaded Language]\n",
       "139    [Glittering generalities (Virtue), Loaded Lang...\n",
       "Name: labels, Length: 687, dtype: object"
      ]
     },
     "execution_count": 9,
     "metadata": {},
     "output_type": "execute_result"
    }
   ],
   "source": [
    "df_concat_labels"
   ]
  },
  {
   "cell_type": "markdown",
   "metadata": {},
   "source": [
    "len(df_training)use multilabel Binarizer <br>\n",
    "Use combined set and then resplit"
   ]
  },
  {
   "cell_type": "code",
   "execution_count": 10,
   "metadata": {},
   "outputs": [
    {
     "data": {
      "text/plain": [
       "547"
      ]
     },
     "execution_count": 10,
     "metadata": {},
     "output_type": "execute_result"
    }
   ],
   "source": [
    "len(df_training)"
   ]
  },
  {
   "cell_type": "code",
   "execution_count": 11,
   "metadata": {},
   "outputs": [
    {
     "data": {
      "text/plain": [
       "687"
      ]
     },
     "execution_count": 11,
     "metadata": {},
     "output_type": "execute_result"
    }
   ],
   "source": [
    "len(df_training) + len(df_val)"
   ]
  },
  {
   "cell_type": "code",
   "execution_count": null,
   "metadata": {},
   "outputs": [],
   "source": []
  },
  {
   "cell_type": "code",
   "execution_count": null,
   "metadata": {},
   "outputs": [],
   "source": []
  },
  {
   "cell_type": "code",
   "execution_count": 12,
   "metadata": {},
   "outputs": [],
   "source": [
    "mlb = MultiLabelBinarizer(sparse_output=True)\n",
    "\n",
    "\n",
    "concat_labels = df_training.join(pd.DataFrame.sparse.from_spmatrix(\n",
    "                    mlb.fit_transform(df_concat_labels),\n",
    "                    index=df_concat_labels.index,\n",
    "                    columns=mlb.classes_))\n",
    "\n",
    "\n",
    "train_labels = concat_labels[0:len(df_training)]\n",
    "\n",
    "\n",
    "val_labels = concat_labels[len(df_training):]\n",
    "\n",
    "\n"
   ]
  },
  {
   "cell_type": "markdown",
   "metadata": {},
   "source": [
    "ensure split off occured correctly"
   ]
  },
  {
   "cell_type": "code",
   "execution_count": 13,
   "metadata": {},
   "outputs": [
    {
     "data": {
      "text/plain": [
       "547"
      ]
     },
     "execution_count": 13,
     "metadata": {},
     "output_type": "execute_result"
    }
   ],
   "source": [
    "len(df_training)"
   ]
  },
  {
   "cell_type": "code",
   "execution_count": 14,
   "metadata": {},
   "outputs": [
    {
     "data": {
      "text/plain": [
       "140"
      ]
     },
     "execution_count": 14,
     "metadata": {},
     "output_type": "execute_result"
    }
   ],
   "source": [
    "len(df_val)"
   ]
  },
  {
   "cell_type": "code",
   "execution_count": 15,
   "metadata": {},
   "outputs": [
    {
     "data": {
      "text/plain": [
       "547"
      ]
     },
     "execution_count": 15,
     "metadata": {},
     "output_type": "execute_result"
    }
   ],
   "source": [
    "len(train_labels)"
   ]
  },
  {
   "cell_type": "code",
   "execution_count": 16,
   "metadata": {},
   "outputs": [
    {
     "data": {
      "text/plain": [
       "140"
      ]
     },
     "execution_count": 16,
     "metadata": {},
     "output_type": "execute_result"
    }
   ],
   "source": [
    "len(val_labels)"
   ]
  },
  {
   "cell_type": "markdown",
   "metadata": {},
   "source": [
    "remove the text field from the labels dataset"
   ]
  },
  {
   "cell_type": "code",
   "execution_count": 17,
   "metadata": {},
   "outputs": [
    {
     "name": "stdout",
     "output_type": "stream",
     "text": [
      "<class 'pandas.core.frame.DataFrame'>\n",
      "Int64Index: 547 entries, 0 to 406\n",
      "Data columns (total 24 columns):\n",
      " #   Column                                               Non-Null Count  Dtype           \n",
      "---  ------                                               --------------  -----           \n",
      " 0   id                                                   547 non-null    object          \n",
      " 1   Appeal to (Strong) Emotions                          547 non-null    Sparse[int32, 0]\n",
      " 2   Appeal to authority                                  547 non-null    Sparse[int32, 0]\n",
      " 3   Appeal to fear/prejudice                             547 non-null    Sparse[int32, 0]\n",
      " 4   Bandwagon                                            547 non-null    Sparse[int32, 0]\n",
      " 5   Black-and-white Fallacy/Dictatorship                 547 non-null    Sparse[int32, 0]\n",
      " 6   Causal Oversimplification                            547 non-null    Sparse[int32, 0]\n",
      " 7   Doubt                                                547 non-null    Sparse[int32, 0]\n",
      " 8   Exaggeration/Minimisation                            547 non-null    Sparse[int32, 0]\n",
      " 9   Flag-waving                                          547 non-null    Sparse[int32, 0]\n",
      " 10  Glittering generalities (Virtue)                     547 non-null    Sparse[int32, 0]\n",
      " 11  Loaded Language                                      547 non-null    Sparse[int32, 0]\n",
      " 12  Misrepresentation of Someone's Position (Straw Man)  547 non-null    Sparse[int32, 0]\n",
      " 13  Name calling/Labeling                                547 non-null    Sparse[int32, 0]\n",
      " 14  Obfuscation, Intentional vagueness, Confusion        547 non-null    Sparse[int32, 0]\n",
      " 15  Presenting Irrelevant Data (Red Herring)             547 non-null    Sparse[int32, 0]\n",
      " 16  Reductio ad hitlerum                                 547 non-null    Sparse[int32, 0]\n",
      " 17  Repetition                                           547 non-null    Sparse[int32, 0]\n",
      " 18  Slogans                                              547 non-null    Sparse[int32, 0]\n",
      " 19  Smears                                               547 non-null    Sparse[int32, 0]\n",
      " 20  Thought-terminating cliché                           547 non-null    Sparse[int32, 0]\n",
      " 21  Transfer                                             547 non-null    Sparse[int32, 0]\n",
      " 22  Whataboutism                                         547 non-null    Sparse[int32, 0]\n",
      " 23  no_class                                             547 non-null    Sparse[int32, 0]\n",
      "dtypes: Sparse[int32, 0](23), object(1)\n",
      "memory usage: 19.6+ KB\n",
      "None\n"
     ]
    }
   ],
   "source": [
    "train_labels = train_labels.drop(['text'], axis=1)\n",
    "val_labels = val_labels.drop(['text'], axis=1)\n",
    "\n",
    "\n",
    "print(train_labels.info())"
   ]
  },
  {
   "cell_type": "markdown",
   "metadata": {},
   "source": [
    "Review labels"
   ]
  },
  {
   "cell_type": "code",
   "execution_count": 18,
   "metadata": {},
   "outputs": [
    {
     "name": "stdout",
     "output_type": "stream",
     "text": [
      "<class 'pandas.core.frame.DataFrame'>\n",
      "Int64Index: 140 entries, 407 to 546\n",
      "Data columns (total 24 columns):\n",
      " #   Column                                               Non-Null Count  Dtype           \n",
      "---  ------                                               --------------  -----           \n",
      " 0   id                                                   140 non-null    object          \n",
      " 1   Appeal to (Strong) Emotions                          140 non-null    Sparse[int32, 0]\n",
      " 2   Appeal to authority                                  140 non-null    Sparse[int32, 0]\n",
      " 3   Appeal to fear/prejudice                             140 non-null    Sparse[int32, 0]\n",
      " 4   Bandwagon                                            140 non-null    Sparse[int32, 0]\n",
      " 5   Black-and-white Fallacy/Dictatorship                 140 non-null    Sparse[int32, 0]\n",
      " 6   Causal Oversimplification                            140 non-null    Sparse[int32, 0]\n",
      " 7   Doubt                                                140 non-null    Sparse[int32, 0]\n",
      " 8   Exaggeration/Minimisation                            140 non-null    Sparse[int32, 0]\n",
      " 9   Flag-waving                                          140 non-null    Sparse[int32, 0]\n",
      " 10  Glittering generalities (Virtue)                     140 non-null    Sparse[int32, 0]\n",
      " 11  Loaded Language                                      140 non-null    Sparse[int32, 0]\n",
      " 12  Misrepresentation of Someone's Position (Straw Man)  140 non-null    Sparse[int32, 0]\n",
      " 13  Name calling/Labeling                                140 non-null    Sparse[int32, 0]\n",
      " 14  Obfuscation, Intentional vagueness, Confusion        140 non-null    Sparse[int32, 0]\n",
      " 15  Presenting Irrelevant Data (Red Herring)             140 non-null    Sparse[int32, 0]\n",
      " 16  Reductio ad hitlerum                                 140 non-null    Sparse[int32, 0]\n",
      " 17  Repetition                                           140 non-null    Sparse[int32, 0]\n",
      " 18  Slogans                                              140 non-null    Sparse[int32, 0]\n",
      " 19  Smears                                               140 non-null    Sparse[int32, 0]\n",
      " 20  Thought-terminating cliché                           140 non-null    Sparse[int32, 0]\n",
      " 21  Transfer                                             140 non-null    Sparse[int32, 0]\n",
      " 22  Whataboutism                                         140 non-null    Sparse[int32, 0]\n",
      " 23  no_class                                             140 non-null    Sparse[int32, 0]\n",
      "dtypes: Sparse[int32, 0](23), object(1)\n",
      "memory usage: 5.0+ KB\n"
     ]
    }
   ],
   "source": [
    "val_labels.info()"
   ]
  },
  {
   "cell_type": "code",
   "execution_count": null,
   "metadata": {},
   "outputs": [],
   "source": []
  },
  {
   "cell_type": "markdown",
   "metadata": {},
   "source": [
    "Combine all text and then vectorize to be able to model using TFIDVectorizer"
   ]
  },
  {
   "cell_type": "code",
   "execution_count": 19,
   "metadata": {},
   "outputs": [],
   "source": [
    "from sklearn.feature_extraction.text import TfidfVectorizer\n",
    "from sklearn import metrics\n",
    "\n",
    "df_concat = pd.concat([df_training[\"text\"] , df_val[\"text\"]])\n",
    "\n",
    "\n",
    "vectorizer = TfidfVectorizer()\n",
    "vectorised_train_documents = vectorizer.fit_transform(df_concat)\n"
   ]
  },
  {
   "cell_type": "markdown",
   "metadata": {},
   "source": [
    "Vectorize the dev text "
   ]
  },
  {
   "cell_type": "code",
   "execution_count": 20,
   "metadata": {},
   "outputs": [
    {
     "data": {
      "text/plain": [
       "0           I can't breath but don't worry, I'm white.\\n\n",
       "1      SORRY, BUT I DON'T LISTEN TO ANTI-GUN LECTURES...\n",
       "2      ON MY WAY BACK TO THE WHITE HOUSE\\n\\nMR. TRUMP...\n",
       "3      For those times when you just can't make it to...\n",
       "4      SAYING YOU ARE A PATRIOT IS NOT ENOUGH\\n\\nYOU ...\n",
       "                             ...                        \n",
       "135                                     SHE AIN'T BLACK.\n",
       "136    Losers can keep watching sweaty NFL thugs supp...\n",
       "137    PEOPLE KEEP ASKING: \"WHY DID GOD TURN HIS BACK...\n",
       "138    Trump didn't make America racist...\\n\\nHe made...\n",
       "139    President Trump's rallies should feature a wal...\n",
       "Name: text, Length: 140, dtype: object"
      ]
     },
     "execution_count": 20,
     "metadata": {},
     "output_type": "execute_result"
    }
   ],
   "source": [
    "vectorised_val_documents = vectorizer.transform(df_val[\"text\"])\n",
    "df_val[\"text\"]"
   ]
  },
  {
   "cell_type": "markdown",
   "metadata": {},
   "source": [
    "Get feature names and present the top 50 words, notice no data transforms or data clensing has occured (will do on another pass)"
   ]
  },
  {
   "cell_type": "code",
   "execution_count": 21,
   "metadata": {},
   "outputs": [],
   "source": [
    "\n",
    "from yellowbrick.text import FreqDistVisualizer\n",
    "features = vectorizer.get_feature_names()\n"
   ]
  },
  {
   "cell_type": "code",
   "execution_count": 22,
   "metadata": {},
   "outputs": [
    {
     "data": {
      "image/png": "[encoded data removed]",
      "text/plain": [
       "<Figure size 576x396 with 1 Axes>"
      ]
     },
     "metadata": {},
     "output_type": "display_data"
    },
    {
     "data": {
      "text/plain": [
       "<AxesSubplot:title={'center':'Frequency Distribution of Top 50 tokens'}>"
      ]
     },
     "execution_count": 22,
     "metadata": {},
     "output_type": "execute_result"
    }
   ],
   "source": [
    "visualizer = FreqDistVisualizer(features=features, orient='v')\n",
    "visualizer.fit(vectorised_train_documents)\n",
    "visualizer.show()"
   ]
  },
  {
   "cell_type": "markdown",
   "metadata": {},
   "source": [
    "Visualize the entire corpus (using  T-SNE) <br>\n",
    "also shows how many documents are in the corpus"
   ]
  },
  {
   "cell_type": "code",
   "execution_count": 23,
   "metadata": {},
   "outputs": [
    {
     "name": "stderr",
     "output_type": "stream",
     "text": [
      "*c* argument looks like a single numeric RGB or RGBA sequence, which should be avoided as value-mapping will have precedence in case its length matches with *x* & *y*.  Please use the *color* keyword-argument or provide a 2-D array with a single row if you intend to specify the same RGB or RGBA value for all points.\n"
     ]
    },
    {
     "data": {
      "image/png": "[encoded data removed]",
      "text/plain": [
       "<Figure size 576x396 with 1 Axes>"
      ]
     },
     "metadata": {},
     "output_type": "display_data"
    },
    {
     "data": {
      "text/plain": [
       "<AxesSubplot:title={'center':'TSNE Projection of 687 Documents'}>"
      ]
     },
     "execution_count": 23,
     "metadata": {},
     "output_type": "execute_result"
    }
   ],
   "source": [
    "tsne = TSNEVisualizer()\n",
    "tsne.fit(vectorised_train_documents)\n",
    "tsne.show()"
   ]
  },
  {
   "cell_type": "markdown",
   "metadata": {},
   "source": [
    "\n",
    "Visualizaing corpus with Uniform Manifold Approximation and Projection"
   ]
  },
  {
   "cell_type": "code",
   "execution_count": 24,
   "metadata": {},
   "outputs": [
    {
     "name": "stderr",
     "output_type": "stream",
     "text": [
      "D:\\Users\\sync\\anaconda3\\envs\\pytorch\\lib\\site-packages\\umap\\umap_.py:125: UserWarning: A few of your vertices were disconnected from the manifold.  This shouldn't cause problems.\n",
      "Disconnection_distance = 1 has removed 224634 edges.\n",
      "It has only fully disconnected 1 vertices.\n",
      "Use umap.utils.disconnected_vertices() to identify them.\n",
      "  warn(\n",
      "*c* argument looks like a single numeric RGB or RGBA sequence, which should be avoided as value-mapping will have precedence in case its length matches with *x* & *y*.  Please use the *color* keyword-argument or provide a 2-D array with a single row if you intend to specify the same RGB or RGBA value for all points.\n"
     ]
    },
    {
     "data": {
      "image/png": "[encoded data removed]",
      "text/plain": [
       "<Figure size 576x396 with 1 Axes>"
      ]
     },
     "metadata": {},
     "output_type": "display_data"
    },
    {
     "data": {
      "text/plain": [
       "<AxesSubplot:title={'center':'UMAP Projection of 687 Documents'}>"
      ]
     },
     "execution_count": 24,
     "metadata": {},
     "output_type": "execute_result"
    }
   ],
   "source": [
    "\n",
    "from yellowbrick.text import UMAPVisualizer\n",
    "from sklearn.cluster import KMeans\n",
    "\n",
    "umap = UMAPVisualizer(metric=\"cosine\")\n",
    "umap.fit(vectorised_train_documents)\n",
    "umap.show()"
   ]
  },
  {
   "cell_type": "code",
   "execution_count": null,
   "metadata": {},
   "outputs": [],
   "source": []
  },
  {
   "cell_type": "markdown",
   "metadata": {},
   "source": [
    "Model Performance"
   ]
  },
  {
   "cell_type": "code",
   "execution_count": 25,
   "metadata": {},
   "outputs": [],
   "source": [
    "from sklearn.metrics import accuracy_score, precision_score, recall_score, f1_score, confusion_matrix, hamming_loss\n",
    "\n",
    "ModelsPerformance = {}\n",
    "\n",
    "def metricsReport(modelName, test_labels, predictions, labels):\n",
    "    accuracy = accuracy_score(test_labels, predictions)\n",
    "\n",
    "    macro_precision = precision_score(test_labels, predictions, average='macro', zero_division=1)\n",
    "    macro_recall = recall_score(test_labels, predictions, average='macro', zero_division=1)\n",
    "    macro_f1 = f1_score(test_labels, predictions, average='macro', zero_division=1)\n",
    "\n",
    "    micro_precision = precision_score(test_labels, predictions, average='micro', zero_division=1)\n",
    "    micro_recall = recall_score(test_labels, predictions, average='micro', zero_division=1)\n",
    "    micro_f1 = f1_score(test_labels, predictions, average='micro', zero_division=1)\n",
    "    hamLoss = hamming_loss(test_labels, predictions)\n",
    "    print(\"------\" + modelName + \" Model Metrics-----\")\n",
    "    print(\"Accuracy: {:.4f}\\nHamming Loss: {:.4f}\\nPrecision:\\n  - Macro: {:.4f}\\n  - Micro: {:.4f}\\nRecall:\\n  - Macro: {:.4f}\\n  - Micro: {:.4f}\\nF1-measure:\\n  - Macro: {:.4f}\\n  - Micro: {:.4f}\"\\\n",
    "          .format(accuracy, hamLoss, macro_precision, micro_precision, macro_recall, micro_recall, macro_f1, micro_f1))\n",
    "    ModelsPerformance[modelName] = micro_f1\n",
    "    print(metrics.classification_report(test_labels, predictions, zero_division=0, target_names = labels))"
   ]
  },
  {
   "cell_type": "code",
   "execution_count": 26,
   "metadata": {},
   "outputs": [
    {
     "name": "stdout",
     "output_type": "stream",
     "text": [
      "<class 'pandas.core.frame.DataFrame'>\n",
      "Int64Index: 547 entries, 0 to 406\n",
      "Data columns (total 24 columns):\n",
      " #   Column                                               Non-Null Count  Dtype           \n",
      "---  ------                                               --------------  -----           \n",
      " 0   id                                                   547 non-null    object          \n",
      " 1   Appeal to (Strong) Emotions                          547 non-null    Sparse[int32, 0]\n",
      " 2   Appeal to authority                                  547 non-null    Sparse[int32, 0]\n",
      " 3   Appeal to fear/prejudice                             547 non-null    Sparse[int32, 0]\n",
      " 4   Bandwagon                                            547 non-null    Sparse[int32, 0]\n",
      " 5   Black-and-white Fallacy/Dictatorship                 547 non-null    Sparse[int32, 0]\n",
      " 6   Causal Oversimplification                            547 non-null    Sparse[int32, 0]\n",
      " 7   Doubt                                                547 non-null    Sparse[int32, 0]\n",
      " 8   Exaggeration/Minimisation                            547 non-null    Sparse[int32, 0]\n",
      " 9   Flag-waving                                          547 non-null    Sparse[int32, 0]\n",
      " 10  Glittering generalities (Virtue)                     547 non-null    Sparse[int32, 0]\n",
      " 11  Loaded Language                                      547 non-null    Sparse[int32, 0]\n",
      " 12  Misrepresentation of Someone's Position (Straw Man)  547 non-null    Sparse[int32, 0]\n",
      " 13  Name calling/Labeling                                547 non-null    Sparse[int32, 0]\n",
      " 14  Obfuscation, Intentional vagueness, Confusion        547 non-null    Sparse[int32, 0]\n",
      " 15  Presenting Irrelevant Data (Red Herring)             547 non-null    Sparse[int32, 0]\n",
      " 16  Reductio ad hitlerum                                 547 non-null    Sparse[int32, 0]\n",
      " 17  Repetition                                           547 non-null    Sparse[int32, 0]\n",
      " 18  Slogans                                              547 non-null    Sparse[int32, 0]\n",
      " 19  Smears                                               547 non-null    Sparse[int32, 0]\n",
      " 20  Thought-terminating cliché                           547 non-null    Sparse[int32, 0]\n",
      " 21  Transfer                                             547 non-null    Sparse[int32, 0]\n",
      " 22  Whataboutism                                         547 non-null    Sparse[int32, 0]\n",
      " 23  no_class                                             547 non-null    Sparse[int32, 0]\n",
      "dtypes: Sparse[int32, 0](23), object(1)\n",
      "memory usage: 19.6+ KB\n"
     ]
    }
   ],
   "source": [
    "train_labels.info()"
   ]
  },
  {
   "cell_type": "code",
   "execution_count": 27,
   "metadata": {},
   "outputs": [
    {
     "name": "stdout",
     "output_type": "stream",
     "text": [
      "<class 'pandas.core.frame.DataFrame'>\n",
      "Int64Index: 140 entries, 407 to 546\n",
      "Data columns (total 24 columns):\n",
      " #   Column                                               Non-Null Count  Dtype           \n",
      "---  ------                                               --------------  -----           \n",
      " 0   id                                                   140 non-null    object          \n",
      " 1   Appeal to (Strong) Emotions                          140 non-null    Sparse[int32, 0]\n",
      " 2   Appeal to authority                                  140 non-null    Sparse[int32, 0]\n",
      " 3   Appeal to fear/prejudice                             140 non-null    Sparse[int32, 0]\n",
      " 4   Bandwagon                                            140 non-null    Sparse[int32, 0]\n",
      " 5   Black-and-white Fallacy/Dictatorship                 140 non-null    Sparse[int32, 0]\n",
      " 6   Causal Oversimplification                            140 non-null    Sparse[int32, 0]\n",
      " 7   Doubt                                                140 non-null    Sparse[int32, 0]\n",
      " 8   Exaggeration/Minimisation                            140 non-null    Sparse[int32, 0]\n",
      " 9   Flag-waving                                          140 non-null    Sparse[int32, 0]\n",
      " 10  Glittering generalities (Virtue)                     140 non-null    Sparse[int32, 0]\n",
      " 11  Loaded Language                                      140 non-null    Sparse[int32, 0]\n",
      " 12  Misrepresentation of Someone's Position (Straw Man)  140 non-null    Sparse[int32, 0]\n",
      " 13  Name calling/Labeling                                140 non-null    Sparse[int32, 0]\n",
      " 14  Obfuscation, Intentional vagueness, Confusion        140 non-null    Sparse[int32, 0]\n",
      " 15  Presenting Irrelevant Data (Red Herring)             140 non-null    Sparse[int32, 0]\n",
      " 16  Reductio ad hitlerum                                 140 non-null    Sparse[int32, 0]\n",
      " 17  Repetition                                           140 non-null    Sparse[int32, 0]\n",
      " 18  Slogans                                              140 non-null    Sparse[int32, 0]\n",
      " 19  Smears                                               140 non-null    Sparse[int32, 0]\n",
      " 20  Thought-terminating cliché                           140 non-null    Sparse[int32, 0]\n",
      " 21  Transfer                                             140 non-null    Sparse[int32, 0]\n",
      " 22  Whataboutism                                         140 non-null    Sparse[int32, 0]\n",
      " 23  no_class                                             140 non-null    Sparse[int32, 0]\n",
      "dtypes: Sparse[int32, 0](23), object(1)\n",
      "memory usage: 5.0+ KB\n"
     ]
    }
   ],
   "source": [
    "val_labels.info()"
   ]
  },
  {
   "cell_type": "code",
   "execution_count": 28,
   "metadata": {},
   "outputs": [
    {
     "data": {
      "text/plain": [
       "<140x3137 sparse matrix of type '<class 'numpy.float64'>'\n",
       "\twith 2129 stored elements in Compressed Sparse Row format>"
      ]
     },
     "execution_count": 28,
     "metadata": {},
     "output_type": "execute_result"
    }
   ],
   "source": [
    "vectorised_val_documents"
   ]
  },
  {
   "cell_type": "markdown",
   "metadata": {},
   "source": [
    "knn Model <br>\n",
    "k-nearest neighbors algorithm (kNN) is a non-parametric technique used for classification. <br>\n",
    "\n",
    "Given a test document x, the KNN algorithm finds the k nearest neighbors of x among all the documents in the training set, and scores the category <br> candidates based the class of k neighbors. The similarity of x and each neighbor’s document could be the score of the category of the neighbor documents. <br> Multiple KNN documents may belong to the same category; in this case, the summation of these scores would be the similarity score of class k with <br> respect to the test document x. After sorting the score values, the algorithm assigns the candidate to the class with the highest score from the test<br>document x"
   ]
  },
  {
   "cell_type": "code",
   "execution_count": null,
   "metadata": {},
   "outputs": [],
   "source": []
  },
  {
   "cell_type": "code",
   "execution_count": 29,
   "metadata": {},
   "outputs": [
    {
     "name": "stdout",
     "output_type": "stream",
     "text": [
      "------knn Model Metrics-----\n",
      "Accuracy: 0.0571\n",
      "Hamming Loss: 0.1121\n",
      "Precision:\n",
      "  - Macro: 0.7092\n",
      "  - Micro: 0.4879\n",
      "Recall:\n",
      "  - Macro: 0.1878\n",
      "  - Micro: 0.2837\n",
      "F1-measure:\n",
      "  - Macro: 0.1866\n",
      "  - Micro: 0.3588\n",
      "                                                     precision    recall  f1-score   support\n",
      "\n",
      "                        Appeal to (Strong) Emotions       0.00      0.00      0.00        14\n",
      "                                Appeal to authority       0.00      0.00      0.00         5\n",
      "                           Appeal to fear/prejudice       0.00      0.00      0.00        15\n",
      "                                          Bandwagon       0.00      0.00      0.00         0\n",
      "               Black-and-white Fallacy/Dictatorship       0.00      0.00      0.00         4\n",
      "                          Causal Oversimplification       0.00      0.00      0.00         7\n",
      "                                              Doubt       0.00      0.00      0.00        17\n",
      "                          Exaggeration/Minimisation       0.00      0.00      0.00         9\n",
      "                                        Flag-waving       0.00      0.00      0.00         7\n",
      "                   Glittering generalities (Virtue)       0.00      0.00      0.00        20\n",
      "                                    Loaded Language       0.42      0.41      0.42        66\n",
      "Misrepresentation of Someone's Position (Straw Man)       0.00      0.00      0.00         2\n",
      "                              Name calling/Labeling       0.27      0.15      0.19        47\n",
      "      Obfuscation, Intentional vagueness, Confusion       0.00      0.00      0.00         0\n",
      "           Presenting Irrelevant Data (Red Herring)       0.00      0.00      0.00         0\n",
      "                               Reductio ad hitlerum       0.00      0.00      0.00         2\n",
      "                                         Repetition       0.00      0.00      0.00         1\n",
      "                                            Slogans       0.00      0.00      0.00        12\n",
      "                                             Smears       0.62      0.76      0.68        88\n",
      "                         Thought-terminating cliché       0.00      0.00      0.00         6\n",
      "                                           Transfer       0.00      0.00      0.00        17\n",
      "                                       Whataboutism       0.00      0.00      0.00         9\n",
      "                                           no_class       0.00      0.00      0.00         8\n",
      "\n",
      "                                          micro avg       0.49      0.28      0.36       356\n",
      "                                          macro avg       0.06      0.06      0.06       356\n",
      "                                       weighted avg       0.27      0.28      0.27       356\n",
      "                                        samples avg       0.45      0.32      0.34       356\n",
      "\n"
     ]
    }
   ],
   "source": [
    "\n",
    "from sklearn.neighbors import KNeighborsClassifier\n",
    "from sklearn.multiclass import OneVsRestClassifier\n",
    "\n",
    "knnClf = KNeighborsClassifier()\n",
    "\n",
    "knnClf.fit(vectorised_train_documents[1:len(df_training[\"text\"])+1], train_labels.drop(['id'], axis=1).sparse.to_dense())\n",
    "knnPredictions = knnClf.predict(vectorised_val_documents)\n",
    "metricsReport(\"knn\", val_labels.drop(['id'],axis=1), knnPredictions,list(val_labels.drop(['id'], axis=1).columns))"
   ]
  },
  {
   "cell_type": "markdown",
   "metadata": {},
   "source": [
    "Analysis Notes:\n",
    "WIP\n"
   ]
  },
  {
   "cell_type": "code",
   "execution_count": null,
   "metadata": {},
   "outputs": [],
   "source": []
  },
  {
   "cell_type": "markdown",
   "metadata": {},
   "source": [
    "Decision Tree\n",
    "\n",
    "Tree-based methods are simple and useful for interpretation. A decision tree is a flowchart-like structure in which each internal node represents a \"test\" on an attribute (e.g. whether a coin flip comes up heads or tails), each branch represents the outcome of the test, and each leaf node represents a class label (decision taken after computing all attributes). The paths from root to leaf represent classification rules."
   ]
  },
  {
   "cell_type": "code",
   "execution_count": 30,
   "metadata": {},
   "outputs": [
    {
     "name": "stdout",
     "output_type": "stream",
     "text": [
      "------Decision Tree Model Metrics-----\n",
      "Accuracy: 0.0571\n",
      "Hamming Loss: 0.1332\n",
      "Precision:\n",
      "  - Macro: 0.2984\n",
      "  - Micro: 0.3904\n",
      "Recall:\n",
      "  - Macro: 0.2468\n",
      "  - Micro: 0.3652\n",
      "F1-measure:\n",
      "  - Macro: 0.2035\n",
      "  - Micro: 0.3774\n",
      "                                                     precision    recall  f1-score   support\n",
      "\n",
      "                        Appeal to (Strong) Emotions       0.15      0.14      0.15        14\n",
      "                                Appeal to authority       0.00      0.00      0.00         5\n",
      "                           Appeal to fear/prejudice       0.20      0.13      0.16        15\n",
      "                                          Bandwagon       0.00      0.00      0.00         0\n",
      "               Black-and-white Fallacy/Dictatorship       0.00      0.00      0.00         4\n",
      "                          Causal Oversimplification       0.20      0.29      0.24         7\n",
      "                                              Doubt       0.25      0.18      0.21        17\n",
      "                          Exaggeration/Minimisation       0.00      0.00      0.00         9\n",
      "                                        Flag-waving       0.00      0.00      0.00         7\n",
      "                   Glittering generalities (Virtue)       0.14      0.10      0.12        20\n",
      "                                    Loaded Language       0.49      0.55      0.52        66\n",
      "Misrepresentation of Someone's Position (Straw Man)       0.00      0.00      0.00         2\n",
      "                              Name calling/Labeling       0.31      0.40      0.35        47\n",
      "      Obfuscation, Intentional vagueness, Confusion       0.00      0.00      0.00         0\n",
      "           Presenting Irrelevant Data (Red Herring)       0.00      0.00      0.00         0\n",
      "                               Reductio ad hitlerum       0.00      0.00      0.00         2\n",
      "                                         Repetition       0.00      0.00      0.00         1\n",
      "                                            Slogans       0.00      0.00      0.00        12\n",
      "                                             Smears       0.67      0.70      0.69        88\n",
      "                         Thought-terminating cliché       0.00      0.00      0.00         6\n",
      "                                           Transfer       0.11      0.06      0.08        17\n",
      "                                       Whataboutism       0.00      0.00      0.00         9\n",
      "                                           no_class       0.33      0.12      0.18         8\n",
      "\n",
      "                                          micro avg       0.39      0.37      0.38       356\n",
      "                                          macro avg       0.12      0.12      0.12       356\n",
      "                                       weighted avg       0.35      0.37      0.35       356\n",
      "                                        samples avg       0.43      0.41      0.37       356\n",
      "\n"
     ]
    }
   ],
   "source": [
    "from sklearn.tree import DecisionTreeClassifier\n",
    "\n",
    "dtClassifier = DecisionTreeClassifier()\n",
    "dtClassifier.fit(vectorised_train_documents[1:len(df_training[\"text\"])+1], train_labels.drop(['id'], axis=1).sparse.to_dense())\n",
    "dtPreds = dtClassifier.predict(vectorised_val_documents)\n",
    "#metricsReport(\"Decision Tree\", dev_labels.drop(['id'],axis=1).sparse.to_dense(), dtPreds)\n",
    "metricsReport(\"Decision Tree\", val_labels.drop(['id'],axis=1), dtPreds, list(val_labels.drop(['id'], axis=1).columns))"
   ]
  },
  {
   "cell_type": "markdown",
   "metadata": {},
   "source": [
    "Analysis Notes:\n",
    "WIP\n"
   ]
  },
  {
   "cell_type": "markdown",
   "metadata": {},
   "source": []
  },
  {
   "cell_type": "markdown",
   "metadata": {},
   "source": [
    "Bagging Classifier <br>\n",
    "The decision trees suffer from high variance. <br>\n",
    "This means that if we split the training data into two parts at random, and fit a decision tree to both halves, the results that we get could be quite different. <br>\n",
    "Bootstrap aggregation, or bagging, is a general-purpose procedure for reducing the variance of a statistical learning method; we introduce it here because it is particularly useful and frequently used in the context of decision trees."
   ]
  },
  {
   "cell_type": "code",
   "execution_count": 31,
   "metadata": {},
   "outputs": [
    {
     "name": "stdout",
     "output_type": "stream",
     "text": [
      "------Bagging Model Metrics-----\n",
      "Accuracy: 0.0714\n",
      "Hamming Loss: 0.1090\n",
      "Precision:\n",
      "  - Macro: 0.8003\n",
      "  - Micro: 0.5118\n",
      "Recall:\n",
      "  - Macro: 0.1930\n",
      "  - Micro: 0.3034\n",
      "F1-measure:\n",
      "  - Macro: 0.1910\n",
      "  - Micro: 0.3810\n",
      "                                                     precision    recall  f1-score   support\n",
      "\n",
      "                        Appeal to (Strong) Emotions       0.00      0.00      0.00        14\n",
      "                                Appeal to authority       0.00      0.00      0.00         5\n",
      "                           Appeal to fear/prejudice       0.00      0.00      0.00        15\n",
      "                                          Bandwagon       0.00      0.00      0.00         0\n",
      "               Black-and-white Fallacy/Dictatorship       0.00      0.00      0.00         4\n",
      "                          Causal Oversimplification       0.00      0.00      0.00         7\n",
      "                                              Doubt       0.00      0.00      0.00        17\n",
      "                          Exaggeration/Minimisation       0.00      0.00      0.00         9\n",
      "                                        Flag-waving       0.00      0.00      0.00         7\n",
      "                   Glittering generalities (Virtue)       0.00      0.00      0.00        20\n",
      "                                    Loaded Language       0.44      0.53      0.48        66\n",
      "Misrepresentation of Someone's Position (Straw Man)       0.00      0.00      0.00         2\n",
      "                              Name calling/Labeling       0.32      0.17      0.22        47\n",
      "      Obfuscation, Intentional vagueness, Confusion       0.00      0.00      0.00         0\n",
      "           Presenting Irrelevant Data (Red Herring)       0.00      0.00      0.00         0\n",
      "                               Reductio ad hitlerum       0.00      0.00      0.00         2\n",
      "                                         Repetition       0.00      0.00      0.00         1\n",
      "                                            Slogans       0.00      0.00      0.00        12\n",
      "                                             Smears       0.64      0.74      0.69        88\n",
      "                         Thought-terminating cliché       0.00      0.00      0.00         6\n",
      "                                           Transfer       0.00      0.00      0.00        17\n",
      "                                       Whataboutism       0.00      0.00      0.00         9\n",
      "                                           no_class       0.00      0.00      0.00         8\n",
      "\n",
      "                                          micro avg       0.51      0.30      0.38       356\n",
      "                                          macro avg       0.06      0.06      0.06       356\n",
      "                                       weighted avg       0.28      0.30      0.29       356\n",
      "                                        samples avg       0.50      0.35      0.37       356\n",
      "\n"
     ]
    }
   ],
   "source": [
    "from sklearn.ensemble import BaggingClassifier\n",
    "\n",
    "bagClassifier = OneVsRestClassifier(BaggingClassifier(n_jobs=-1))\n",
    "bagClassifier.fit(vectorised_train_documents[1:len(df_training[\"text\"])+1], train_labels.drop(['id'], axis=1).sparse.to_dense())\n",
    "bagPreds = bagClassifier.predict(vectorised_val_documents)\n",
    "metricsReport(\"Bagging\", val_labels.drop(['id'],axis=1), bagPreds, list(val_labels.drop(['id'], axis=1).columns))"
   ]
  },
  {
   "cell_type": "markdown",
   "metadata": {},
   "source": [
    "Analysis Notes:\n",
    "WIP\n"
   ]
  },
  {
   "cell_type": "code",
   "execution_count": null,
   "metadata": {},
   "outputs": [],
   "source": []
  },
  {
   "cell_type": "markdown",
   "metadata": {},
   "source": [
    "Random Forest\n",
    "\n",
    "Random forests provide an improvement over bagged trees by way of a small tweak that decorrelates the trees. As in bagging, we build a number of decision trees on bootstrapped training samples. But when building these decision trees, each time a split in a tree is considered, a random sample of m predictors is chosen as split candidates from the full set of p predictors. The split is allowed to use only one of those m predictors. A fresh sample of √m predictors is taken at each split, and typically we choose m ≈ p—that is, the number of predictors considered at each split is approximately equal to the square root of the total number of predictors\n",
    "\n",
    "In other words, in building a random forest, at each split in the tree, the algorithm is not even allowed to consider a majority of the available predictors."
   ]
  },
  {
   "cell_type": "code",
   "execution_count": 32,
   "metadata": {},
   "outputs": [
    {
     "name": "stdout",
     "output_type": "stream",
     "text": [
      "------Random Forest Model Metrics-----\n",
      "Accuracy: 0.1214\n",
      "Hamming Loss: 0.1031\n",
      "Precision:\n",
      "  - Macro: 0.9304\n",
      "  - Micro: 0.5469\n",
      "Recall:\n",
      "  - Macro: 0.2098\n",
      "  - Micro: 0.3933\n",
      "F1-measure:\n",
      "  - Macro: 0.1965\n",
      "  - Micro: 0.4575\n",
      "                                                     precision    recall  f1-score   support\n",
      "\n",
      "                        Appeal to (Strong) Emotions       0.00      0.00      0.00        14\n",
      "                                Appeal to authority       0.00      0.00      0.00         5\n",
      "                           Appeal to fear/prejudice       0.00      0.00      0.00        15\n",
      "                                          Bandwagon       0.00      0.00      0.00         0\n",
      "               Black-and-white Fallacy/Dictatorship       0.00      0.00      0.00         4\n",
      "                          Causal Oversimplification       0.00      0.00      0.00         7\n",
      "                                              Doubt       0.00      0.00      0.00        17\n",
      "                          Exaggeration/Minimisation       0.00      0.00      0.00         9\n",
      "                                        Flag-waving       0.00      0.00      0.00         7\n",
      "                   Glittering generalities (Virtue)       0.00      0.00      0.00        20\n",
      "                                    Loaded Language       0.48      0.70      0.57        66\n",
      "Misrepresentation of Someone's Position (Straw Man)       0.00      0.00      0.00         2\n",
      "                              Name calling/Labeling       0.29      0.13      0.18        47\n",
      "      Obfuscation, Intentional vagueness, Confusion       0.00      0.00      0.00         0\n",
      "           Presenting Irrelevant Data (Red Herring)       0.00      0.00      0.00         0\n",
      "                               Reductio ad hitlerum       0.00      0.00      0.00         2\n",
      "                                         Repetition       0.00      0.00      0.00         1\n",
      "                                            Slogans       0.00      0.00      0.00        12\n",
      "                                             Smears       0.63      1.00      0.77        88\n",
      "                         Thought-terminating cliché       0.00      0.00      0.00         6\n",
      "                                           Transfer       0.00      0.00      0.00        17\n",
      "                                       Whataboutism       0.00      0.00      0.00         9\n",
      "                                           no_class       0.00      0.00      0.00         8\n",
      "\n",
      "                                          micro avg       0.55      0.39      0.46       356\n",
      "                                          macro avg       0.06      0.08      0.07       356\n",
      "                                       weighted avg       0.28      0.39      0.32       356\n",
      "                                        samples avg       0.57      0.44      0.46       356\n",
      "\n"
     ]
    }
   ],
   "source": [
    "from sklearn.ensemble import RandomForestClassifier\n",
    "rfClassifier = RandomForestClassifier(n_jobs=-1)\n",
    "rfClassifier.fit(vectorised_train_documents[1:len(df_training[\"text\"])+1], train_labels.drop(['id'], axis=1).sparse.to_dense())\n",
    "rfPreds = rfClassifier.predict(vectorised_val_documents)\n",
    "metricsReport(\"Random Forest\", val_labels.drop(['id'],axis=1), rfPreds, list(val_labels.drop(['id'], axis=1).columns))"
   ]
  },
  {
   "cell_type": "markdown",
   "metadata": {},
   "source": [
    "Analysis Notes:\n",
    "WIP\n"
   ]
  },
  {
   "cell_type": "code",
   "execution_count": null,
   "metadata": {},
   "outputs": [],
   "source": []
  },
  {
   "cell_type": "markdown",
   "metadata": {},
   "source": [
    "Boosting\n",
    "\n",
    "Recall that bagging involves creating multiple copies of the original train- ing data set using the bootstrap, fitting a separate decision tree to each copy, and then combining all of the trees in order to create a single predic- tive model. Notably, each tree is built on a bootstrap data set, independent of the other trees. Boosting works in a similar way, except that the trees are grown sequentially: each tree is grown using information from previously grown trees. Boosting does not involve bootstrap sampling; instead each tree is fit on a modified version of the original data set."
   ]
  },
  {
   "cell_type": "code",
   "execution_count": 33,
   "metadata": {},
   "outputs": [
    {
     "name": "stdout",
     "output_type": "stream",
     "text": [
      "------Boosting Model Metrics-----\n",
      "Accuracy: 0.0714\n",
      "Hamming Loss: 0.1127\n",
      "Precision:\n",
      "  - Macro: 0.4840\n",
      "  - Micro: 0.4859\n",
      "Recall:\n",
      "  - Macro: 0.2101\n",
      "  - Micro: 0.3399\n",
      "F1-measure:\n",
      "  - Macro: 0.1659\n",
      "  - Micro: 0.4000\n",
      "                                                     precision    recall  f1-score   support\n",
      "\n",
      "                        Appeal to (Strong) Emotions       0.00      0.00      0.00        14\n",
      "                                Appeal to authority       0.00      0.00      0.00         5\n",
      "                           Appeal to fear/prejudice       0.00      0.00      0.00        15\n",
      "                                          Bandwagon       0.00      0.00      0.00         0\n",
      "               Black-and-white Fallacy/Dictatorship       0.00      0.00      0.00         4\n",
      "                          Causal Oversimplification       0.00      0.00      0.00         7\n",
      "                                              Doubt       0.00      0.00      0.00        17\n",
      "                          Exaggeration/Minimisation       0.33      0.11      0.17         9\n",
      "                                        Flag-waving       0.00      0.00      0.00         7\n",
      "                   Glittering generalities (Virtue)       0.00      0.00      0.00        20\n",
      "                                    Loaded Language       0.46      0.62      0.53        66\n",
      "Misrepresentation of Someone's Position (Straw Man)       0.00      0.00      0.00         2\n",
      "                              Name calling/Labeling       0.41      0.19      0.26        47\n",
      "      Obfuscation, Intentional vagueness, Confusion       0.00      0.00      0.00         0\n",
      "           Presenting Irrelevant Data (Red Herring)       0.00      0.00      0.00         0\n",
      "                               Reductio ad hitlerum       0.00      0.00      0.00         2\n",
      "                                         Repetition       0.00      0.00      0.00         1\n",
      "                                            Slogans       0.00      0.00      0.00        12\n",
      "                                             Smears       0.59      0.78      0.68        88\n",
      "                         Thought-terminating cliché       0.00      0.00      0.00         6\n",
      "                                           Transfer       0.00      0.00      0.00        17\n",
      "                                       Whataboutism       0.00      0.00      0.00         9\n",
      "                                           no_class       0.33      0.12      0.18         8\n",
      "\n",
      "                                          micro avg       0.49      0.34      0.40       356\n",
      "                                          macro avg       0.09      0.08      0.08       356\n",
      "                                       weighted avg       0.30      0.34      0.31       356\n",
      "                                        samples avg       0.45      0.38      0.38       356\n",
      "\n"
     ]
    }
   ],
   "source": [
    "\n",
    "from sklearn.ensemble import GradientBoostingClassifier\n",
    "\n",
    "boostClassifier = OneVsRestClassifier(GradientBoostingClassifier())\n",
    "boostClassifier.fit(vectorised_train_documents[1:len(df_training[\"text\"])+1], train_labels.drop(['id'], axis=1).sparse.to_dense())\n",
    "boostPreds = boostClassifier.predict(vectorised_val_documents)\n",
    "metricsReport(\"Boosting\", val_labels.drop(['id'],axis=1), boostPreds, list(val_labels.drop(['id'], axis=1).columns) )"
   ]
  },
  {
   "cell_type": "markdown",
   "metadata": {},
   "source": [
    "Naive Bayes\n",
    "\n",
    "Naive Bayes Classifier (NBC) is generative model which is widely used in Information Retrieval. The multinomial Naive Bayes classifier is suitable for classification with discrete features (e.g., word counts for text classification). The multinomial distribution normally requires integer feature counts. However, in practice, fractional counts such as tf-idf may also work.\n",
    "\n"
   ]
  },
  {
   "cell_type": "code",
   "execution_count": 34,
   "metadata": {},
   "outputs": [
    {
     "name": "stdout",
     "output_type": "stream",
     "text": [
      "------Multinomial NB Model Metrics-----\n",
      "Accuracy: 0.0643\n",
      "Hamming Loss: 0.1053\n",
      "Precision:\n",
      "  - Macro: 0.9579\n",
      "  - Micro: 0.5356\n",
      "Recall:\n",
      "  - Macro: 0.2003\n",
      "  - Micro: 0.3596\n",
      "F1-measure:\n",
      "  - Macro: 0.1851\n",
      "  - Micro: 0.4303\n",
      "                                                     precision    recall  f1-score   support\n",
      "\n",
      "                        Appeal to (Strong) Emotions       0.00      0.00      0.00        14\n",
      "                                Appeal to authority       0.00      0.00      0.00         5\n",
      "                           Appeal to fear/prejudice       0.00      0.00      0.00        15\n",
      "                                          Bandwagon       0.00      0.00      0.00         0\n",
      "               Black-and-white Fallacy/Dictatorship       0.00      0.00      0.00         4\n",
      "                          Causal Oversimplification       0.00      0.00      0.00         7\n",
      "                                              Doubt       0.00      0.00      0.00        17\n",
      "                          Exaggeration/Minimisation       0.00      0.00      0.00         9\n",
      "                                        Flag-waving       0.00      0.00      0.00         7\n",
      "                   Glittering generalities (Virtue)       0.00      0.00      0.00        20\n",
      "                                    Loaded Language       0.40      0.61      0.48        66\n",
      "Misrepresentation of Someone's Position (Straw Man)       0.00      0.00      0.00         2\n",
      "                              Name calling/Labeling       0.00      0.00      0.00        47\n",
      "      Obfuscation, Intentional vagueness, Confusion       0.00      0.00      0.00         0\n",
      "           Presenting Irrelevant Data (Red Herring)       0.00      0.00      0.00         0\n",
      "                               Reductio ad hitlerum       0.00      0.00      0.00         2\n",
      "                                         Repetition       0.00      0.00      0.00         1\n",
      "                                            Slogans       0.00      0.00      0.00        12\n",
      "                                             Smears       0.63      1.00      0.77        88\n",
      "                         Thought-terminating cliché       0.00      0.00      0.00         6\n",
      "                                           Transfer       0.00      0.00      0.00        17\n",
      "                                       Whataboutism       0.00      0.00      0.00         9\n",
      "                                           no_class       0.00      0.00      0.00         8\n",
      "\n",
      "                                          micro avg       0.54      0.36      0.43       356\n",
      "                                          macro avg       0.04      0.07      0.05       356\n",
      "                                       weighted avg       0.23      0.36      0.28       356\n",
      "                                        samples avg       0.54      0.41      0.42       356\n",
      "\n"
     ]
    }
   ],
   "source": [
    "from sklearn.naive_bayes import MultinomialNB\n",
    "\n",
    "nbClassifier = OneVsRestClassifier(MultinomialNB())\n",
    "nbClassifier.fit(vectorised_train_documents[1:len(df_training[\"text\"])+1], train_labels.drop(['id'], axis=1).sparse.to_dense())\n",
    "\n",
    "nbPreds = nbClassifier.predict(vectorised_val_documents)\n",
    "metricsReport(\"Multinomial NB\", val_labels.drop(['id'],axis=1), nbPreds, list(val_labels.drop(['id'], axis=1).columns) )"
   ]
  },
  {
   "cell_type": "markdown",
   "metadata": {},
   "source": [
    "Analysis Notes:\n",
    "WIP\n"
   ]
  },
  {
   "cell_type": "code",
   "execution_count": null,
   "metadata": {},
   "outputs": [],
   "source": []
  },
  {
   "cell_type": "markdown",
   "metadata": {},
   "source": [
    "Support Vector Machine (Linear)\n",
    "\n",
    "Support Vector Machine (SVM), an approach for classification that was developed in the computer science community in the 1990s and that has grown in popularity since then.\n",
    "SVMs have been shown to perform well in a variety of settings, and are often considered one of the best “out of the box” classifiers.\n",
    "The support vector machine is a generalization of a simple and intuitive classifier called the maximal margin classifier\n"
   ]
  },
  {
   "cell_type": "code",
   "execution_count": 35,
   "metadata": {},
   "outputs": [
    {
     "name": "stdout",
     "output_type": "stream",
     "text": [
      "------SVC Sq. Hinge Loss Model Metrics-----\n",
      "Accuracy: 0.0643\n",
      "Hamming Loss: 0.1121\n",
      "Precision:\n",
      "  - Macro: 0.8819\n",
      "  - Micro: 0.4895\n",
      "Recall:\n",
      "  - Macro: 0.1971\n",
      "  - Micro: 0.3258\n",
      "F1-measure:\n",
      "  - Macro: 0.1906\n",
      "  - Micro: 0.3912\n",
      "                                                     precision    recall  f1-score   support\n",
      "\n",
      "                        Appeal to (Strong) Emotions       0.00      0.00      0.00        14\n",
      "                                Appeal to authority       0.00      0.00      0.00         5\n",
      "                           Appeal to fear/prejudice       0.00      0.00      0.00        15\n",
      "                                          Bandwagon       0.00      0.00      0.00         0\n",
      "               Black-and-white Fallacy/Dictatorship       0.00      0.00      0.00         4\n",
      "                          Causal Oversimplification       0.00      0.00      0.00         7\n",
      "                                              Doubt       0.00      0.00      0.00        17\n",
      "                          Exaggeration/Minimisation       0.00      0.00      0.00         9\n",
      "                                        Flag-waving       0.00      0.00      0.00         7\n",
      "                   Glittering generalities (Virtue)       0.00      0.00      0.00        20\n",
      "                                    Loaded Language       0.42      0.50      0.46        66\n",
      "Misrepresentation of Someone's Position (Straw Man)       0.00      0.00      0.00         2\n",
      "                              Name calling/Labeling       0.24      0.19      0.21        47\n",
      "      Obfuscation, Intentional vagueness, Confusion       0.00      0.00      0.00         0\n",
      "           Presenting Irrelevant Data (Red Herring)       0.00      0.00      0.00         0\n",
      "                               Reductio ad hitlerum       0.00      0.00      0.00         2\n",
      "                                         Repetition       0.00      0.00      0.00         1\n",
      "                                            Slogans       0.00      0.00      0.00        12\n",
      "                                             Smears       0.62      0.84      0.71        88\n",
      "                         Thought-terminating cliché       0.00      0.00      0.00         6\n",
      "                                           Transfer       0.00      0.00      0.00        17\n",
      "                                       Whataboutism       0.00      0.00      0.00         9\n",
      "                                           no_class       0.00      0.00      0.00         8\n",
      "\n",
      "                                          micro avg       0.49      0.33      0.39       356\n",
      "                                          macro avg       0.06      0.07      0.06       356\n",
      "                                       weighted avg       0.26      0.33      0.29       356\n",
      "                                        samples avg       0.47      0.36      0.37       356\n",
      "\n"
     ]
    }
   ],
   "source": [
    "\n",
    "from sklearn.svm import LinearSVC\n",
    "\n",
    "svmClassifier = OneVsRestClassifier(LinearSVC(), n_jobs=-1)\n",
    "svmClassifier.fit(vectorised_train_documents[1:len(df_training[\"text\"])+1], train_labels.drop(['id'], axis=1).sparse.to_dense())\n",
    "\n",
    "svmPreds = svmClassifier.predict(vectorised_val_documents)\n",
    "metricsReport(\"SVC Sq. Hinge Loss\",  val_labels.drop(['id'],axis=1), svmPreds, list(val_labels.drop(['id'], axis=1).columns)  )"
   ]
  },
  {
   "cell_type": "code",
   "execution_count": null,
   "metadata": {},
   "outputs": [],
   "source": []
  },
  {
   "cell_type": "markdown",
   "metadata": {},
   "source": [
    "Analysis Notes:\n",
    "WIP\n"
   ]
  },
  {
   "cell_type": "code",
   "execution_count": null,
   "metadata": {},
   "outputs": [],
   "source": []
  },
  {
   "cell_type": "markdown",
   "metadata": {},
   "source": [
    "Label Powerset \n",
    "\n",
    "Label Powerset is a problem transformation approach to multi-label classification that transforms a multi-label problem to a multi-class problem with 1 multi-class classifier trained on all unique label combinations found in the training data.\n",
    "\n",
    "The method maps each combination to a unique combination id number, and performs multi-class classification using the classifier as multi-class classifier and combination ids as classes.\n"
   ]
  },
  {
   "cell_type": "code",
   "execution_count": 36,
   "metadata": {},
   "outputs": [
    {
     "name": "stdout",
     "output_type": "stream",
     "text": [
      "------Power Set SVC Model Metrics-----\n",
      "Accuracy: 0.0357\n",
      "Hamming Loss: 0.1298\n",
      "Precision:\n",
      "  - Macro: 0.2990\n",
      "  - Micro: 0.3916\n",
      "Recall:\n",
      "  - Macro: 0.1993\n",
      "  - Micro: 0.3146\n",
      "F1-measure:\n",
      "  - Macro: 0.1962\n",
      "  - Micro: 0.3489\n",
      "                                                     precision    recall  f1-score   support\n",
      "\n",
      "                        Appeal to (Strong) Emotions       0.00      0.00      0.00        14\n",
      "                                Appeal to authority       0.00      0.00      0.00         5\n",
      "                           Appeal to fear/prejudice       0.00      0.00      0.00        15\n",
      "                                          Bandwagon       0.00      0.00      0.00         0\n",
      "               Black-and-white Fallacy/Dictatorship       0.00      0.00      0.00         4\n",
      "                          Causal Oversimplification       0.00      0.00      0.00         7\n",
      "                                              Doubt       0.50      0.06      0.11        17\n",
      "                          Exaggeration/Minimisation       0.00      0.00      0.00         9\n",
      "                                        Flag-waving       0.00      0.00      0.00         7\n",
      "                   Glittering generalities (Virtue)       0.00      0.00      0.00        20\n",
      "                                    Loaded Language       0.35      0.35      0.35        66\n",
      "Misrepresentation of Someone's Position (Straw Man)       0.00      0.00      0.00         2\n",
      "                              Name calling/Labeling       0.25      0.28      0.26        47\n",
      "      Obfuscation, Intentional vagueness, Confusion       0.00      0.00      0.00         0\n",
      "           Presenting Irrelevant Data (Red Herring)       0.00      0.00      0.00         0\n",
      "                               Reductio ad hitlerum       0.00      0.00      0.00         2\n",
      "                                         Repetition       0.00      0.00      0.00         1\n",
      "                                            Slogans       0.00      0.00      0.00        12\n",
      "                                             Smears       0.61      0.84      0.71        88\n",
      "                         Thought-terminating cliché       0.00      0.00      0.00         6\n",
      "                                           Transfer       0.17      0.06      0.09        17\n",
      "                                       Whataboutism       0.00      0.00      0.00         9\n",
      "                                           no_class       0.00      0.00      0.00         8\n",
      "\n",
      "                                          micro avg       0.39      0.31      0.35       356\n",
      "                                          macro avg       0.08      0.07      0.07       356\n",
      "                                       weighted avg       0.28      0.31      0.28       356\n",
      "                                        samples avg       0.45      0.35      0.34       356\n",
      "\n"
     ]
    }
   ],
   "source": [
    "from skmultilearn.problem_transform import LabelPowerset\n",
    "\n",
    "powerSetSVC = LabelPowerset(LinearSVC())\n",
    "powerSetSVC.fit(vectorised_train_documents[1:len(df_training[\"text\"])+1], train_labels.drop(['id'], axis=1).sparse.to_dense())\n",
    "\n",
    "\n",
    "powerSetSVCPreds = powerSetSVC.predict(vectorised_val_documents)\n",
    "metricsReport(\"Power Set SVC\", val_labels.drop(['id'],axis=1), powerSetSVCPreds,list(val_labels.drop(['id'], axis=1).columns))"
   ]
  },
  {
   "cell_type": "code",
   "execution_count": null,
   "metadata": {},
   "outputs": [],
   "source": []
  },
  {
   "cell_type": "markdown",
   "metadata": {},
   "source": [
    "Comparing Model Results"
   ]
  },
  {
   "cell_type": "code",
   "execution_count": null,
   "metadata": {},
   "outputs": [],
   "source": []
  },
  {
   "cell_type": "code",
   "execution_count": 37,
   "metadata": {},
   "outputs": [
    {
     "name": "stdout",
     "output_type": "stream",
     "text": [
      "  Model Name           | Micro-F1 Score\n",
      "-------------------------------------------\n",
      "  knn                  | 0.3587921847246892\n",
      "-------------------------------------------\n",
      "  Decision Tree        | 0.37735849056603776\n",
      "-------------------------------------------\n",
      "  Bagging              | 0.38095238095238093\n",
      "-------------------------------------------\n",
      "  Random Forest        | 0.45751633986928103\n",
      "-------------------------------------------\n",
      "  Boosting             | 0.39999999999999997\n",
      "-------------------------------------------\n",
      "  Multinomial NB       | 0.4302521008403361\n",
      "-------------------------------------------\n",
      "  SVC Sq. Hinge Loss   | 0.3912310286677909\n",
      "-------------------------------------------\n",
      "  Power Set SVC        | 0.3489096573208723\n",
      "-------------------------------------------\n"
     ]
    }
   ],
   "source": [
    "\n",
    "print(\"  Model Name \" + \" \"*10 + \"| Micro-F1 Score\")\n",
    "print(\"-------------------------------------------\")\n",
    "for key, value in ModelsPerformance.items():\n",
    "    print(\"  \" + key, \" \"*(20-len(key)) + \"|\", value)\n",
    "    print(\"-------------------------------------------\")"
   ]
  },
  {
   "cell_type": "markdown",
   "metadata": {},
   "source": [
    "Winner winner chicken dinner Best Model- >  Random Forest  and then create a confusion matrix on the best model"
   ]
  },
  {
   "cell_type": "markdown",
   "metadata": {},
   "source": [
    "Multi Label Confusion Matrix"
   ]
  },
  {
   "cell_type": "code",
   "execution_count": 38,
   "metadata": {},
   "outputs": [
    {
     "name": "stdout",
     "output_type": "stream",
     "text": [
      "[[[126   0]\n",
      "  [ 14   0]]\n",
      "\n",
      " [[135   0]\n",
      "  [  5   0]]\n",
      "\n",
      " [[125   0]\n",
      "  [ 15   0]]\n",
      "\n",
      " [[140   0]\n",
      "  [  0   0]]\n",
      "\n",
      " [[136   0]\n",
      "  [  4   0]]\n",
      "\n",
      " [[133   0]\n",
      "  [  7   0]]\n",
      "\n",
      " [[123   0]\n",
      "  [ 17   0]]\n",
      "\n",
      " [[131   0]\n",
      "  [  9   0]]\n",
      "\n",
      " [[133   0]\n",
      "  [  7   0]]\n",
      "\n",
      " [[120   0]\n",
      "  [ 20   0]]\n",
      "\n",
      " [[ 25  49]\n",
      "  [ 20  46]]\n",
      "\n",
      " [[138   0]\n",
      "  [  2   0]]\n",
      "\n",
      " [[ 78  15]\n",
      "  [ 41   6]]\n",
      "\n",
      " [[140   0]\n",
      "  [  0   0]]\n",
      "\n",
      " [[140   0]\n",
      "  [  0   0]]\n",
      "\n",
      " [[138   0]\n",
      "  [  2   0]]\n",
      "\n",
      " [[139   0]\n",
      "  [  1   0]]\n",
      "\n",
      " [[128   0]\n",
      "  [ 12   0]]\n",
      "\n",
      " [[  0  52]\n",
      "  [  0  88]]\n",
      "\n",
      " [[134   0]\n",
      "  [  6   0]]\n",
      "\n",
      " [[123   0]\n",
      "  [ 17   0]]\n",
      "\n",
      " [[131   0]\n",
      "  [  9   0]]\n",
      "\n",
      " [[132   0]\n",
      "  [  8   0]]]\n"
     ]
    }
   ],
   "source": [
    "from sklearn.metrics import multilabel_confusion_matrix\n",
    "from sklearn.metrics import plot_confusion_matrix\n",
    "\n",
    "#print(list(dev_labels.drop(['id'], axis=1).columns) )\n",
    "conf_mat = multilabel_confusion_matrix(val_labels.drop(['id'],axis=1), rfPreds)\n",
    "#fig, ax = plt.subplots(figsize=(8,6))\n",
    "print(conf_mat)\n",
    "\n",
    "#plot_confusion_matrix(conf_mat, dev_labels.drop(['id'],axis=1), svmPreds,\n",
    "#                                 display_labels= list(dev_labels.drop(['id'], axis=1).columns),\n",
    "#                                 cmap=plt.cm.Blues)\n",
    "\n",
    "#sns.heatmap(conf_mat, annot=True, fmt='d',\n",
    "#            xticklabels=list(dev_labels.drop(['id'], axis=1).columns), yticklabels=list(dev_labels.drop(['id'], axis=1).columns))\n",
    "#plt.ylabel('Actual')\n",
    "#plt.xlabel('Predicted')\n",
    "#plt.show()\n",
    "\n",
    "#count = 0\n",
    "#for item in conf_mat:\n",
    "#    sns.heatmap(conf_mat, annot=True, fmt='d',\n",
    "#            xticklabels=list(dev_labels.drop(['id'], axis=1).columns), yticklabels=list(dev_labels.drop(['id'], axis=1).columns)\n",
    "#    count"
   ]
  },
  {
   "cell_type": "code",
   "execution_count": null,
   "metadata": {},
   "outputs": [],
   "source": [
    "\n"
   ]
  },
  {
   "cell_type": "code",
   "execution_count": null,
   "metadata": {},
   "outputs": [],
   "source": []
  },
  {
   "cell_type": "code",
   "execution_count": null,
   "metadata": {},
   "outputs": [],
   "source": []
  },
  {
   "cell_type": "code",
   "execution_count": null,
   "metadata": {},
   "outputs": [],
   "source": []
  }
 ],
 "metadata": {
  "kernelspec": {
   "display_name": "Python 3",
   "language": "python",
   "name": "python3"
  },
  "language_info": {
   "codemirror_mode": {
    "name": "ipython",
    "version": 3
   },
   "file_extension": ".py",
   "mimetype": "text/x-python",
   "name": "python",
   "nbconvert_exporter": "python",
   "pygments_lexer": "ipython3",
   "version": "3.8.5"
  }
 },
 "nbformat": 4,
 "nbformat_minor": 4
}
