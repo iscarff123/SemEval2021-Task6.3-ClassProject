{
 "cells": [
  {
   "cell_type": "code",
   "execution_count": 1,
   "metadata": {},
   "outputs": [],
   "source": [
    "import pandas as pd\n",
    "import numpy as np\n",
    "import seaborn as sns\n",
    "import matplotlib.pyplot as plt\n",
    "\n",
    "from sklearn import metrics \n",
    "from sklearn.linear_model import LogisticRegression\n",
    "from sklearn.model_selection import train_test_split\n",
    "from hatesonar import Sonar # This is the hate speech detection library\n",
    "\n",
    "\n",
    "import warnings\n",
    "warnings.filterwarnings('ignore')"
   ]
  },
  {
   "cell_type": "code",
   "execution_count": 2,
   "metadata": {},
   "outputs": [],
   "source": [
    "df_training = pd.read_pickle('SA_VADER_Results.pkl')"
   ]
  },
  {
   "cell_type": "code",
   "execution_count": 3,
   "metadata": {},
   "outputs": [],
   "source": [
    "df_training.reset_index(drop=True, inplace=True)"
   ]
  },
  {
   "cell_type": "code",
   "execution_count": 4,
   "metadata": {},
   "outputs": [
    {
     "data": {
      "text/plain": [
       "(688, 10)"
      ]
     },
     "execution_count": 4,
     "metadata": {},
     "output_type": "execute_result"
    }
   ],
   "source": [
    "df_training.shape"
   ]
  },
  {
   "cell_type": "code",
   "execution_count": 5,
   "metadata": {},
   "outputs": [],
   "source": [
    "df_training.drop(['text_p', 'lemmatized'], axis=1, inplace=True)"
   ]
  },
  {
   "cell_type": "code",
   "execution_count": 6,
   "metadata": {},
   "outputs": [
    {
     "data": {
      "text/html": [
       "<div>\n",
       "<style scoped>\n",
       "    .dataframe tbody tr th:only-of-type {\n",
       "        vertical-align: middle;\n",
       "    }\n",
       "\n",
       "    .dataframe tbody tr th {\n",
       "        vertical-align: top;\n",
       "    }\n",
       "\n",
       "    .dataframe thead th {\n",
       "        text-align: right;\n",
       "    }\n",
       "</style>\n",
       "<table border=\"1\" class=\"dataframe\">\n",
       "  <thead>\n",
       "    <tr style=\"text-align: right;\">\n",
       "      <th></th>\n",
       "      <th>id</th>\n",
       "      <th>labels</th>\n",
       "      <th>text</th>\n",
       "      <th>negative</th>\n",
       "      <th>neutral</th>\n",
       "      <th>positive</th>\n",
       "      <th>compound</th>\n",
       "      <th>sentiment</th>\n",
       "    </tr>\n",
       "  </thead>\n",
       "  <tbody>\n",
       "    <tr>\n",
       "      <th>0</th>\n",
       "      <td>128</td>\n",
       "      <td>[Black-and-white Fallacy/Dictatorship]</td>\n",
       "      <td>THERE ARE ONLY TWO GENDERS\\n\\nFEMALE \\n\\nMALE\\n</td>\n",
       "      <td>0.000</td>\n",
       "      <td>1.000</td>\n",
       "      <td>0.000</td>\n",
       "      <td>0.0000</td>\n",
       "      <td>0</td>\n",
       "    </tr>\n",
       "    <tr>\n",
       "      <th>1</th>\n",
       "      <td>189</td>\n",
       "      <td>[]</td>\n",
       "      <td>This is not an accident!</td>\n",
       "      <td>0.000</td>\n",
       "      <td>0.584</td>\n",
       "      <td>0.416</td>\n",
       "      <td>0.4303</td>\n",
       "      <td>1</td>\n",
       "    </tr>\n",
       "    <tr>\n",
       "      <th>2</th>\n",
       "      <td>96</td>\n",
       "      <td>[Loaded Language, Name calling/Labeling, Sloga...</td>\n",
       "      <td>SO BERNIE BROS HAVEN'T COMMITTED VIOLENCE EH?\\...</td>\n",
       "      <td>0.135</td>\n",
       "      <td>0.768</td>\n",
       "      <td>0.097</td>\n",
       "      <td>0.1129</td>\n",
       "      <td>1</td>\n",
       "    </tr>\n",
       "    <tr>\n",
       "      <th>3</th>\n",
       "      <td>154</td>\n",
       "      <td>[Causal Oversimplification, Loaded Language, N...</td>\n",
       "      <td>PATHETIC\\n\\nThe Cowardly Asshole\\nWeak Failure...</td>\n",
       "      <td>0.462</td>\n",
       "      <td>0.468</td>\n",
       "      <td>0.070</td>\n",
       "      <td>-0.9546</td>\n",
       "      <td>-1</td>\n",
       "    </tr>\n",
       "    <tr>\n",
       "      <th>4</th>\n",
       "      <td>15</td>\n",
       "      <td>[]</td>\n",
       "      <td>WHO TRUMP REPRESENTS\\n\\nWHO DEMOCRATS REPRESENT\\n</td>\n",
       "      <td>0.000</td>\n",
       "      <td>1.000</td>\n",
       "      <td>0.000</td>\n",
       "      <td>0.0000</td>\n",
       "      <td>0</td>\n",
       "    </tr>\n",
       "  </tbody>\n",
       "</table>\n",
       "</div>"
      ],
      "text/plain": [
       "    id                                             labels  \\\n",
       "0  128             [Black-and-white Fallacy/Dictatorship]   \n",
       "1  189                                                 []   \n",
       "2   96  [Loaded Language, Name calling/Labeling, Sloga...   \n",
       "3  154  [Causal Oversimplification, Loaded Language, N...   \n",
       "4   15                                                 []   \n",
       "\n",
       "                                                text  negative  neutral  \\\n",
       "0    THERE ARE ONLY TWO GENDERS\\n\\nFEMALE \\n\\nMALE\\n     0.000    1.000   \n",
       "1                           This is not an accident!     0.000    0.584   \n",
       "2  SO BERNIE BROS HAVEN'T COMMITTED VIOLENCE EH?\\...     0.135    0.768   \n",
       "3  PATHETIC\\n\\nThe Cowardly Asshole\\nWeak Failure...     0.462    0.468   \n",
       "4  WHO TRUMP REPRESENTS\\n\\nWHO DEMOCRATS REPRESENT\\n     0.000    1.000   \n",
       "\n",
       "   positive  compound  sentiment  \n",
       "0     0.000    0.0000          0  \n",
       "1     0.416    0.4303          1  \n",
       "2     0.097    0.1129          1  \n",
       "3     0.070   -0.9546         -1  \n",
       "4     0.000    0.0000          0  "
      ]
     },
     "execution_count": 6,
     "metadata": {},
     "output_type": "execute_result"
    }
   ],
   "source": [
    "df_training.head()"
   ]
  },
  {
   "cell_type": "code",
   "execution_count": 7,
   "metadata": {},
   "outputs": [
    {
     "data": {
      "text/html": [
       "<div>\n",
       "<style scoped>\n",
       "    .dataframe tbody tr th:only-of-type {\n",
       "        vertical-align: middle;\n",
       "    }\n",
       "\n",
       "    .dataframe tbody tr th {\n",
       "        vertical-align: top;\n",
       "    }\n",
       "\n",
       "    .dataframe thead th {\n",
       "        text-align: right;\n",
       "    }\n",
       "</style>\n",
       "<table border=\"1\" class=\"dataframe\">\n",
       "  <thead>\n",
       "    <tr style=\"text-align: right;\">\n",
       "      <th></th>\n",
       "      <th>negative</th>\n",
       "      <th>neutral</th>\n",
       "      <th>positive</th>\n",
       "      <th>compound</th>\n",
       "      <th>sentiment</th>\n",
       "    </tr>\n",
       "  </thead>\n",
       "  <tbody>\n",
       "    <tr>\n",
       "      <th>count</th>\n",
       "      <td>688.000000</td>\n",
       "      <td>688.000000</td>\n",
       "      <td>688.000000</td>\n",
       "      <td>688.000000</td>\n",
       "      <td>688.000000</td>\n",
       "    </tr>\n",
       "    <tr>\n",
       "      <th>mean</th>\n",
       "      <td>0.124924</td>\n",
       "      <td>0.775198</td>\n",
       "      <td>0.099884</td>\n",
       "      <td>-0.080112</td>\n",
       "      <td>-0.111919</td>\n",
       "    </tr>\n",
       "    <tr>\n",
       "      <th>std</th>\n",
       "      <td>0.153855</td>\n",
       "      <td>0.184664</td>\n",
       "      <td>0.135639</td>\n",
       "      <td>0.468808</td>\n",
       "      <td>0.844868</td>\n",
       "    </tr>\n",
       "    <tr>\n",
       "      <th>min</th>\n",
       "      <td>0.000000</td>\n",
       "      <td>0.127000</td>\n",
       "      <td>0.000000</td>\n",
       "      <td>-0.987300</td>\n",
       "      <td>-1.000000</td>\n",
       "    </tr>\n",
       "    <tr>\n",
       "      <th>25%</th>\n",
       "      <td>0.000000</td>\n",
       "      <td>0.660500</td>\n",
       "      <td>0.000000</td>\n",
       "      <td>-0.476700</td>\n",
       "      <td>-1.000000</td>\n",
       "    </tr>\n",
       "    <tr>\n",
       "      <th>50%</th>\n",
       "      <td>0.072000</td>\n",
       "      <td>0.782500</td>\n",
       "      <td>0.028000</td>\n",
       "      <td>0.000000</td>\n",
       "      <td>0.000000</td>\n",
       "    </tr>\n",
       "    <tr>\n",
       "      <th>75%</th>\n",
       "      <td>0.218250</td>\n",
       "      <td>1.000000</td>\n",
       "      <td>0.164250</td>\n",
       "      <td>0.232225</td>\n",
       "      <td>1.000000</td>\n",
       "    </tr>\n",
       "    <tr>\n",
       "      <th>max</th>\n",
       "      <td>0.768000</td>\n",
       "      <td>1.000000</td>\n",
       "      <td>0.873000</td>\n",
       "      <td>0.960700</td>\n",
       "      <td>1.000000</td>\n",
       "    </tr>\n",
       "  </tbody>\n",
       "</table>\n",
       "</div>"
      ],
      "text/plain": [
       "         negative     neutral    positive    compound   sentiment\n",
       "count  688.000000  688.000000  688.000000  688.000000  688.000000\n",
       "mean     0.124924    0.775198    0.099884   -0.080112   -0.111919\n",
       "std      0.153855    0.184664    0.135639    0.468808    0.844868\n",
       "min      0.000000    0.127000    0.000000   -0.987300   -1.000000\n",
       "25%      0.000000    0.660500    0.000000   -0.476700   -1.000000\n",
       "50%      0.072000    0.782500    0.028000    0.000000    0.000000\n",
       "75%      0.218250    1.000000    0.164250    0.232225    1.000000\n",
       "max      0.768000    1.000000    0.873000    0.960700    1.000000"
      ]
     },
     "execution_count": 7,
     "metadata": {},
     "output_type": "execute_result"
    }
   ],
   "source": [
    "df_training.describe()"
   ]
  },
  {
   "cell_type": "code",
   "execution_count": 8,
   "metadata": {},
   "outputs": [
    {
     "data": {
      "text/plain": [
       "str"
      ]
     },
     "execution_count": 8,
     "metadata": {},
     "output_type": "execute_result"
    }
   ],
   "source": [
    "type(df_training['text'][1])"
   ]
  },
  {
   "cell_type": "code",
   "execution_count": null,
   "metadata": {},
   "outputs": [],
   "source": []
  },
  {
   "cell_type": "markdown",
   "metadata": {},
   "source": [
    "classify text"
   ]
  },
  {
   "cell_type": "code",
   "execution_count": 9,
   "metadata": {},
   "outputs": [],
   "source": [
    "# Create an object of Sonar Hate Speech Detection\n",
    "sonar = Sonar()"
   ]
  },
  {
   "cell_type": "code",
   "execution_count": 10,
   "metadata": {},
   "outputs": [],
   "source": [
    "Class = []\n",
    "hate = []\n",
    "offensive = []\n",
    "neither = []"
   ]
  },
  {
   "cell_type": "code",
   "execution_count": 12,
   "metadata": {},
   "outputs": [],
   "source": [
    "def hate_speech_classifier(df, Class, hate, offensive, neither):\n",
    "    for i in df['text']:\n",
    "        sonar_dict = sonar.ping(text=i)\n",
    "        Class.append(list(sonar_dict.values())[1])\n",
    "        hate.append(list(list(sonar_dict.values())[2][0].values())[1])\n",
    "        offensive.append(list(list(sonar_dict.values())[2][1].values())[1])\n",
    "        neither.append(list(list(sonar_dict.values())[2][2].values())[1])"
   ]
  },
  {
   "cell_type": "code",
   "execution_count": 14,
   "metadata": {},
   "outputs": [],
   "source": [
    "# Function calling \n",
    "hate_speech_classifier(df_training, Class, hate, offensive, neither)"
   ]
  },
  {
   "cell_type": "code",
   "execution_count": 15,
   "metadata": {},
   "outputs": [],
   "source": [
    "# Prepare columns to add the scores later\n",
    "df_training[\"Class\"] = Class\n",
    "df_training[\"hate\"] = hate\n",
    "df_training[\"offensive\"] = offensive\n",
    "df_training[\"neither\"] = neither"
   ]
  },
  {
   "cell_type": "code",
   "execution_count": 16,
   "metadata": {},
   "outputs": [
    {
     "data": {
      "text/plain": [
       "neither               615\n",
       "offensive_language     65\n",
       "hate_speech             8\n",
       "Name: Class, dtype: int64"
      ]
     },
     "execution_count": 16,
     "metadata": {},
     "output_type": "execute_result"
    }
   ],
   "source": [
    "df_training.Class.value_counts()"
   ]
  },
  {
   "cell_type": "code",
   "execution_count": 18,
   "metadata": {},
   "outputs": [
    {
     "data": {
      "text/plain": [
       "0.8904109589041096"
      ]
     },
     "execution_count": 18,
     "metadata": {},
     "output_type": "execute_result"
    }
   ],
   "source": [
    "65/(df_training.Class.value_counts()[-1] + df_training.Class.value_counts()[1])"
   ]
  },
  {
   "cell_type": "markdown",
   "metadata": {},
   "source": [
    "Number of Tweets by Hate Speech Classification"
   ]
  },
  {
   "cell_type": "code",
   "execution_count": 37,
   "metadata": {},
   "outputs": [
    {
     "data": {
      "image/png": "[encoded data removed]",
      "text/plain": [
       "<Figure size 800x480 with 1 Axes>"
      ]
     },
     "metadata": {},
     "output_type": "display_data"
    }
   ],
   "source": [
    "# Draw Plot\n",
    "fig, ax = plt.subplots(figsize=(10, 6), subplot_kw=dict(aspect=\"equal\"), dpi= 80)\n",
    "\n",
    "data = [df_training.Class.value_counts()[-1], df_training.Class.value_counts()[1], df_training.Class.value_counts()[0]]\n",
    "categories = ['Hate Speech', 'Offensive', 'Neither']\n",
    "explode = [0.05,0.05,0.05]\n",
    "\n",
    "def func(pct, allvals):\n",
    "    absolute = int(pct/100.*np.sum(allvals))\n",
    "    return \"{:.1f}% ({:d} )\".format(pct, absolute)\n",
    "\n",
    "wedges, texts, autotexts = ax.pie(data, \n",
    "                                  autopct=lambda pct: func(pct, data),\n",
    "                                  textprops=dict(color=\"w\"), \n",
    "                                  colors=['#e55039', '#3c6382', '#78e08f'],\n",
    "                                  startangle=140,\n",
    "                                  explode=explode)\n",
    "\n",
    "# Decoration\n",
    "ax.legend(wedges, categories, title=\"Text contains:\", loc=\"center left\", bbox_to_anchor=(1, 0.2, 0.5, 1))\n",
    "plt.setp(autotexts, size=10, weight=700)\n",
    "ax.set_title(\"Hate Speech Detection\", fontsize=12, fontweight=\"bold\")\n",
    "plt.show()"
   ]
  },
  {
   "cell_type": "markdown",
   "metadata": {},
   "source": [
    "Histogram"
   ]
  },
  {
   "cell_type": "code",
   "execution_count": 38,
   "metadata": {},
   "outputs": [
    {
     "data": {
      "image/png": "[encoded data removed]",
      "text/plain": [
       "<Figure size 288x360 with 1 Axes>"
      ]
     },
     "metadata": {
      "needs_background": "light"
     },
     "output_type": "display_data"
    }
   ],
   "source": [
    "labels = ['Hateful & Offensive', 'Neither']\n",
    "freq = [df_training.Class.value_counts()[-1] + df_training.Class.value_counts()[1], df_training.Class.value_counts()[0]]\n",
    "index = np.arange(len(freq))\n",
    "\n",
    "plt.figure(figsize=(4,5))\n",
    "plt.bar(index, freq, alpha=0.8, width=0.5, color=['red','#3c6382','black'])\n",
    "plt.xlabel('Contains', fontsize=13)\n",
    "plt.ylabel('Number of Tweets', fontsize=13)\n",
    "plt.xticks(index, labels, fontsize=11) \n",
    "plt.title(\"Distribution of the dataset\", fontsize=12, fontweight=\"bold\")\n",
    "plt.ylim(0, len(df_training['text']))\n",
    "plt.show()"
   ]
  },
  {
   "cell_type": "code",
   "execution_count": null,
   "metadata": {},
   "outputs": [],
   "source": []
  },
  {
   "cell_type": "code",
   "execution_count": 39,
   "metadata": {},
   "outputs": [],
   "source": [
    "labels = ['Hate Speech', 'Offensive Language']\n",
    "freq1 = [df_training.Class.value_counts()[-1], df_training.Class.value_counts()[1]]\n",
    "index1 = np.arange(len(freq1))"
   ]
  },
  {
   "cell_type": "code",
   "execution_count": 40,
   "metadata": {},
   "outputs": [
    {
     "data": {
      "image/png": "[encoded data removed]",
      "text/plain": [
       "<Figure size 288x360 with 1 Axes>"
      ]
     },
     "metadata": {
      "needs_background": "light"
     },
     "output_type": "display_data"
    }
   ],
   "source": [
    "plt.figure(figsize=(4,5))\n",
    "plt.bar(index1, freq1, alpha=0.8, width=0.5, color=['red','black'])\n",
    "plt.xlabel('Contains', fontsize=13)\n",
    "plt.ylabel('Number of text', fontsize=13)\n",
    "plt.xticks(index, labels, fontsize=11) \n",
    "plt.title(\"Problematic text\", fontsize=12, fontweight=\"bold\")\n",
    "plt.ylim(0, 100)\n",
    "plt.show()"
   ]
  },
  {
   "cell_type": "code",
   "execution_count": 41,
   "metadata": {},
   "outputs": [],
   "source": [
    "df_training_hate = df_training[df_training['Class']=='hate_speech']\n",
    "df_training_offensive = df_training[df_training['Class']=='offensive_language']\n",
    "df_training_neither = df_training[df_training['Class']=='neither']"
   ]
  },
  {
   "cell_type": "code",
   "execution_count": null,
   "metadata": {},
   "outputs": [],
   "source": []
  },
  {
   "cell_type": "code",
   "execution_count": null,
   "metadata": {},
   "outputs": [],
   "source": []
  },
  {
   "cell_type": "markdown",
   "metadata": {},
   "source": [
    "seperate dataset by classification"
   ]
  },
  {
   "cell_type": "code",
   "execution_count": 42,
   "metadata": {},
   "outputs": [
    {
     "data": {
      "text/plain": [
       "-1    241\n",
       " 1    201\n",
       " 0    173\n",
       "Name: sentiment, dtype: int64"
      ]
     },
     "execution_count": 42,
     "metadata": {},
     "output_type": "execute_result"
    }
   ],
   "source": [
    "df_training_neither.sentiment.value_counts()"
   ]
  },
  {
   "cell_type": "code",
   "execution_count": 43,
   "metadata": {},
   "outputs": [
    {
     "data": {
      "text/plain": [
       "-1    44\n",
       " 0    14\n",
       " 1     7\n",
       "Name: sentiment, dtype: int64"
      ]
     },
     "execution_count": 43,
     "metadata": {},
     "output_type": "execute_result"
    }
   ],
   "source": [
    "df_training_offensive.sentiment.value_counts()"
   ]
  },
  {
   "cell_type": "code",
   "execution_count": 44,
   "metadata": {},
   "outputs": [
    {
     "data": {
      "text/plain": [
       "0.2813008130081301"
      ]
     },
     "execution_count": 44,
     "metadata": {},
     "output_type": "execute_result"
    }
   ],
   "source": [
    "173/(173+201+241)"
   ]
  },
  {
   "cell_type": "code",
   "execution_count": null,
   "metadata": {},
   "outputs": [],
   "source": []
  },
  {
   "cell_type": "code",
   "execution_count": 45,
   "metadata": {},
   "outputs": [
    {
     "data": {
      "image/png": "[encoded data removed]",
      "text/plain": [
       "<Figure size 360x432 with 1 Axes>"
      ]
     },
     "metadata": {
      "needs_background": "light"
     },
     "output_type": "display_data"
    }
   ],
   "source": [
    "labels = ['Negative', 'Positive', 'Neutral']\n",
    "freq = [df_training_hate.sentiment.value_counts()[-1], df_training_hate.sentiment.value_counts()[1], df_training_hate.sentiment.value_counts()[0]]\n",
    "index = np.arange(len(freq))\n",
    "\n",
    "plt.figure(figsize=(5,6))\n",
    "\n",
    "# Chart 1: Sentiment of Tweets classified as Hateful\n",
    "plt.barh(index, freq, alpha=0.8, color=['#e74c3c','#3c6382','black'])\n",
    "plt.xlabel('Number of text', fontsize=13)\n",
    "plt.ylabel('Sentiment', fontsize=13)\n",
    "plt.yticks(index, labels, fontsize=11) \n",
    "plt.title(\"Hate Speech by Sentiment\", fontsize=12, fontweight=\"bold\")\n",
    "plt.show()"
   ]
  },
  {
   "cell_type": "code",
   "execution_count": null,
   "metadata": {},
   "outputs": [],
   "source": []
  },
  {
   "cell_type": "code",
   "execution_count": 47,
   "metadata": {},
   "outputs": [
    {
     "data": {
      "image/png": "[encoded data removed]",
      "text/plain": [
       "<Figure size 360x432 with 1 Axes>"
      ]
     },
     "metadata": {
      "needs_background": "light"
     },
     "output_type": "display_data"
    }
   ],
   "source": [
    "labels = ['Negative', 'Positive', 'Neutral']\n",
    "freq = [df_training_offensive.sentiment.value_counts()[-1], df_training_offensive.sentiment.value_counts()[1], df_training_offensive.sentiment.value_counts()[0]]\n",
    "index = np.arange(len(freq))\n",
    "\n",
    "plt.figure(figsize=(5,6))\n",
    "\n",
    "# Chart 2: Sentiment of Tweets classified as Offensive\n",
    "plt.barh(index, freq, alpha=0.8, color=['#e74c3c','#3c6382','black'])\n",
    "plt.xlabel('Number of text', fontsize=13)\n",
    "plt.ylabel('Sentiment', fontsize=13)\n",
    "plt.yticks(index, labels, fontsize=11) \n",
    "plt.title(\"Offensive Language by Sentiment\", fontsize=12, fontweight=\"bold\")\n",
    "plt.show()"
   ]
  },
  {
   "cell_type": "code",
   "execution_count": 50,
   "metadata": {},
   "outputs": [
    {
     "data": {
      "image/png": "[encoded data removed]",
      "text/plain": [
       "<Figure size 360x432 with 1 Axes>"
      ]
     },
     "metadata": {
      "needs_background": "light"
     },
     "output_type": "display_data"
    }
   ],
   "source": [
    "labels = ['Negative', 'Positive', 'Neutral']\n",
    "freq = [df_training_neither.sentiment.value_counts()[-1], df_training_neither.sentiment.value_counts()[1], df_training_neither.sentiment.value_counts()[0]]\n",
    "index = np.arange(len(freq))\n",
    "\n",
    "plt.figure(figsize=(5,6))\n",
    "\n",
    "# Chart 3: Sentiment of Tweets classified as Neither\n",
    "plt.barh(index, freq, alpha=0.8, color=['#e74c3c','#3c6382','black'])\n",
    "plt.xlabel('Number of tweets', fontsize=13)\n",
    "plt.ylabel('Sentiment', fontsize=13)\n",
    "plt.yticks(index, labels, fontsize=11) \n",
    "plt.title(\"Normal Text by Sentiment\", fontsize=12, fontweight=\"bold\")\n",
    "plt.show()"
   ]
  },
  {
   "cell_type": "code",
   "execution_count": null,
   "metadata": {},
   "outputs": [],
   "source": []
  },
  {
   "cell_type": "code",
   "execution_count": null,
   "metadata": {},
   "outputs": [],
   "source": []
  },
  {
   "cell_type": "code",
   "execution_count": null,
   "metadata": {},
   "outputs": [],
   "source": []
  },
  {
   "cell_type": "markdown",
   "metadata": {},
   "source": [
    "Scatter Plot of Hate Score"
   ]
  },
  {
   "cell_type": "code",
   "execution_count": 51,
   "metadata": {},
   "outputs": [
    {
     "data": {
      "text/plain": [
       "<Figure size 1440x360 with 0 Axes>"
      ]
     },
     "metadata": {},
     "output_type": "display_data"
    },
    {
     "data": {
      "image/png": "[encoded data removed]",
      "text/plain": [
       "<Figure size 360x360 with 1 Axes>"
      ]
     },
     "metadata": {
      "needs_background": "light"
     },
     "output_type": "display_data"
    }
   ],
   "source": [
    "# Provide a dictionary to the palette argument\n",
    "plt.figure(figsize=(20,5))\n",
    "sns.lmplot( x=\"compound\", y=\"hate\", data=df_training_hate, fit_reg=False, hue='Class', legend=False, palette=dict(neither=\"black\", offensive_language=\"#3c6382\", hate_speech=\"#e74c3c\"))\n",
    " \n",
    "# Move the legend to an empty part of the plot\n",
    "plt.legend(loc='lower right')\n",
    "plt.show()"
   ]
  },
  {
   "cell_type": "code",
   "execution_count": null,
   "metadata": {},
   "outputs": [],
   "source": []
  },
  {
   "cell_type": "code",
   "execution_count": null,
   "metadata": {},
   "outputs": [],
   "source": []
  },
  {
   "cell_type": "markdown",
   "metadata": {},
   "source": [
    "Top 10 Hate"
   ]
  },
  {
   "cell_type": "code",
   "execution_count": 53,
   "metadata": {},
   "outputs": [],
   "source": [
    "df_training_hate.sort_values('hate', inplace=True, ascending=False)"
   ]
  },
  {
   "cell_type": "code",
   "execution_count": 54,
   "metadata": {},
   "outputs": [],
   "source": [
    "df_training_hate.reset_index(drop=True, inplace=True)"
   ]
  },
  {
   "cell_type": "code",
   "execution_count": 55,
   "metadata": {},
   "outputs": [
    {
     "data": {
      "text/html": [
       "<div>\n",
       "<style scoped>\n",
       "    .dataframe tbody tr th:only-of-type {\n",
       "        vertical-align: middle;\n",
       "    }\n",
       "\n",
       "    .dataframe tbody tr th {\n",
       "        vertical-align: top;\n",
       "    }\n",
       "\n",
       "    .dataframe thead th {\n",
       "        text-align: right;\n",
       "    }\n",
       "</style>\n",
       "<table border=\"1\" class=\"dataframe\">\n",
       "  <thead>\n",
       "    <tr style=\"text-align: right;\">\n",
       "      <th></th>\n",
       "      <th>id</th>\n",
       "      <th>labels</th>\n",
       "      <th>text</th>\n",
       "      <th>negative</th>\n",
       "      <th>neutral</th>\n",
       "      <th>positive</th>\n",
       "      <th>compound</th>\n",
       "      <th>sentiment</th>\n",
       "      <th>Class</th>\n",
       "      <th>hate</th>\n",
       "      <th>offensive</th>\n",
       "      <th>neither</th>\n",
       "    </tr>\n",
       "  </thead>\n",
       "  <tbody>\n",
       "    <tr>\n",
       "      <th>0</th>\n",
       "      <td>322_batch_2</td>\n",
       "      <td>[Doubt]</td>\n",
       "      <td>HOW MUCH LESS DIVERSE IS THE 2020 DEM FIELD FR...</td>\n",
       "      <td>0.000</td>\n",
       "      <td>1.000</td>\n",
       "      <td>0.000</td>\n",
       "      <td>0.0000</td>\n",
       "      <td>0</td>\n",
       "      <td>hate_speech</td>\n",
       "      <td>0.735678</td>\n",
       "      <td>0.262561</td>\n",
       "      <td>0.001761</td>\n",
       "    </tr>\n",
       "    <tr>\n",
       "      <th>1</th>\n",
       "      <td>458_batch_2</td>\n",
       "      <td>[Causal Oversimplification, Loaded Language, N...</td>\n",
       "      <td>White lives Matter\\n\\nJustice for Cannon\\n\\nSh...</td>\n",
       "      <td>0.000</td>\n",
       "      <td>0.790</td>\n",
       "      <td>0.210</td>\n",
       "      <td>0.5848</td>\n",
       "      <td>1</td>\n",
       "      <td>hate_speech</td>\n",
       "      <td>0.518530</td>\n",
       "      <td>0.417945</td>\n",
       "      <td>0.063525</td>\n",
       "    </tr>\n",
       "    <tr>\n",
       "      <th>2</th>\n",
       "      <td>508_batch_2</td>\n",
       "      <td>[]</td>\n",
       "      <td>LOOK, WHEN I'M IN THE WAFFLE HOUSE, I'M GOING ...</td>\n",
       "      <td>0.000</td>\n",
       "      <td>1.000</td>\n",
       "      <td>0.000</td>\n",
       "      <td>0.0000</td>\n",
       "      <td>0</td>\n",
       "      <td>hate_speech</td>\n",
       "      <td>0.518014</td>\n",
       "      <td>0.425217</td>\n",
       "      <td>0.056768</td>\n",
       "    </tr>\n",
       "    <tr>\n",
       "      <th>3</th>\n",
       "      <td>108</td>\n",
       "      <td>[Loaded Language, Name calling/Labeling]</td>\n",
       "      <td>THE PARTY OF 'DIVERSITY'\\n\\nBLACK WOMAN\\nBLACK...</td>\n",
       "      <td>0.108</td>\n",
       "      <td>0.799</td>\n",
       "      <td>0.094</td>\n",
       "      <td>-0.1027</td>\n",
       "      <td>-1</td>\n",
       "      <td>hate_speech</td>\n",
       "      <td>0.505755</td>\n",
       "      <td>0.334427</td>\n",
       "      <td>0.159818</td>\n",
       "    </tr>\n",
       "    <tr>\n",
       "      <th>4</th>\n",
       "      <td>560_batch_2</td>\n",
       "      <td>[]</td>\n",
       "      <td>I can't breath but don't worry, I'm white.\\n</td>\n",
       "      <td>0.000</td>\n",
       "      <td>0.659</td>\n",
       "      <td>0.341</td>\n",
       "      <td>0.4782</td>\n",
       "      <td>1</td>\n",
       "      <td>hate_speech</td>\n",
       "      <td>0.502818</td>\n",
       "      <td>0.423016</td>\n",
       "      <td>0.074166</td>\n",
       "    </tr>\n",
       "    <tr>\n",
       "      <th>5</th>\n",
       "      <td>329_batch_2</td>\n",
       "      <td>[Loaded Language, Name calling/Labeling]</td>\n",
       "      <td>DOES THIS UPSET YOU?\\n\\nTHEN YOU'RE THE RACIST...</td>\n",
       "      <td>0.535</td>\n",
       "      <td>0.465</td>\n",
       "      <td>0.000</td>\n",
       "      <td>-0.7840</td>\n",
       "      <td>-1</td>\n",
       "      <td>hate_speech</td>\n",
       "      <td>0.500361</td>\n",
       "      <td>0.205188</td>\n",
       "      <td>0.294450</td>\n",
       "    </tr>\n",
       "    <tr>\n",
       "      <th>6</th>\n",
       "      <td>522_batch_2</td>\n",
       "      <td>[Loaded Language, Name calling/Labeling, Smears]</td>\n",
       "      <td>Colin Kaepernick and his evil White Oppressors...</td>\n",
       "      <td>0.281</td>\n",
       "      <td>0.719</td>\n",
       "      <td>0.000</td>\n",
       "      <td>-0.6900</td>\n",
       "      <td>-1</td>\n",
       "      <td>hate_speech</td>\n",
       "      <td>0.486848</td>\n",
       "      <td>0.260770</td>\n",
       "      <td>0.252382</td>\n",
       "    </tr>\n",
       "    <tr>\n",
       "      <th>7</th>\n",
       "      <td>884_batch_2</td>\n",
       "      <td>[Name calling/Labeling]</td>\n",
       "      <td>PRESIDENT'S DAY SPECIAL\\n\\nWHITE RUSSIAN + CHE...</td>\n",
       "      <td>0.000</td>\n",
       "      <td>0.649</td>\n",
       "      <td>0.351</td>\n",
       "      <td>0.4019</td>\n",
       "      <td>1</td>\n",
       "      <td>hate_speech</td>\n",
       "      <td>0.444910</td>\n",
       "      <td>0.388638</td>\n",
       "      <td>0.166452</td>\n",
       "    </tr>\n",
       "  </tbody>\n",
       "</table>\n",
       "</div>"
      ],
      "text/plain": [
       "            id                                             labels  \\\n",
       "0  322_batch_2                                            [Doubt]   \n",
       "1  458_batch_2  [Causal Oversimplification, Loaded Language, N...   \n",
       "2  508_batch_2                                                 []   \n",
       "3          108           [Loaded Language, Name calling/Labeling]   \n",
       "4  560_batch_2                                                 []   \n",
       "5  329_batch_2           [Loaded Language, Name calling/Labeling]   \n",
       "6  522_batch_2   [Loaded Language, Name calling/Labeling, Smears]   \n",
       "7  884_batch_2                            [Name calling/Labeling]   \n",
       "\n",
       "                                                text  negative  neutral  \\\n",
       "0  HOW MUCH LESS DIVERSE IS THE 2020 DEM FIELD FR...     0.000    1.000   \n",
       "1  White lives Matter\\n\\nJustice for Cannon\\n\\nSh...     0.000    0.790   \n",
       "2  LOOK, WHEN I'M IN THE WAFFLE HOUSE, I'M GOING ...     0.000    1.000   \n",
       "3  THE PARTY OF 'DIVERSITY'\\n\\nBLACK WOMAN\\nBLACK...     0.108    0.799   \n",
       "4       I can't breath but don't worry, I'm white.\\n     0.000    0.659   \n",
       "5  DOES THIS UPSET YOU?\\n\\nTHEN YOU'RE THE RACIST...     0.535    0.465   \n",
       "6  Colin Kaepernick and his evil White Oppressors...     0.281    0.719   \n",
       "7  PRESIDENT'S DAY SPECIAL\\n\\nWHITE RUSSIAN + CHE...     0.000    0.649   \n",
       "\n",
       "   positive  compound  sentiment        Class      hate  offensive   neither  \n",
       "0     0.000    0.0000          0  hate_speech  0.735678   0.262561  0.001761  \n",
       "1     0.210    0.5848          1  hate_speech  0.518530   0.417945  0.063525  \n",
       "2     0.000    0.0000          0  hate_speech  0.518014   0.425217  0.056768  \n",
       "3     0.094   -0.1027         -1  hate_speech  0.505755   0.334427  0.159818  \n",
       "4     0.341    0.4782          1  hate_speech  0.502818   0.423016  0.074166  \n",
       "5     0.000   -0.7840         -1  hate_speech  0.500361   0.205188  0.294450  \n",
       "6     0.000   -0.6900         -1  hate_speech  0.486848   0.260770  0.252382  \n",
       "7     0.351    0.4019          1  hate_speech  0.444910   0.388638  0.166452  "
      ]
     },
     "execution_count": 55,
     "metadata": {},
     "output_type": "execute_result"
    }
   ],
   "source": [
    "df_training_hate.head(10)"
   ]
  },
  {
   "cell_type": "markdown",
   "metadata": {},
   "source": [
    "Top 10 Offensive"
   ]
  },
  {
   "cell_type": "code",
   "execution_count": 57,
   "metadata": {},
   "outputs": [],
   "source": [
    "df_training_offensive.sort_values('offensive',inplace=True, ascending=False)"
   ]
  },
  {
   "cell_type": "code",
   "execution_count": 58,
   "metadata": {},
   "outputs": [],
   "source": [
    "df_training_offensive.reset_index(drop=True, inplace=True)"
   ]
  },
  {
   "cell_type": "code",
   "execution_count": 59,
   "metadata": {},
   "outputs": [
    {
     "data": {
      "text/html": [
       "<div>\n",
       "<style scoped>\n",
       "    .dataframe tbody tr th:only-of-type {\n",
       "        vertical-align: middle;\n",
       "    }\n",
       "\n",
       "    .dataframe tbody tr th {\n",
       "        vertical-align: top;\n",
       "    }\n",
       "\n",
       "    .dataframe thead th {\n",
       "        text-align: right;\n",
       "    }\n",
       "</style>\n",
       "<table border=\"1\" class=\"dataframe\">\n",
       "  <thead>\n",
       "    <tr style=\"text-align: right;\">\n",
       "      <th></th>\n",
       "      <th>id</th>\n",
       "      <th>labels</th>\n",
       "      <th>text</th>\n",
       "      <th>negative</th>\n",
       "      <th>neutral</th>\n",
       "      <th>positive</th>\n",
       "      <th>compound</th>\n",
       "      <th>sentiment</th>\n",
       "      <th>Class</th>\n",
       "      <th>hate</th>\n",
       "      <th>offensive</th>\n",
       "      <th>neither</th>\n",
       "    </tr>\n",
       "  </thead>\n",
       "  <tbody>\n",
       "    <tr>\n",
       "      <th>0</th>\n",
       "      <td>12</td>\n",
       "      <td>[Loaded Language, Name calling/Labeling]</td>\n",
       "      <td>TRAITORS\\n\\nMOSCOW MITCH\\n\\nMOSCOW'S BITCH\\n\\n</td>\n",
       "      <td>0.487</td>\n",
       "      <td>0.513</td>\n",
       "      <td>0.000</td>\n",
       "      <td>-0.5859</td>\n",
       "      <td>-1</td>\n",
       "      <td>offensive_language</td>\n",
       "      <td>0.005443</td>\n",
       "      <td>0.994555</td>\n",
       "      <td>0.000002</td>\n",
       "    </tr>\n",
       "    <tr>\n",
       "      <th>1</th>\n",
       "      <td>420_batch_2</td>\n",
       "      <td>[Loaded Language, Name calling/Labeling]</td>\n",
       "      <td>DANCE My Bitches Dance\\n</td>\n",
       "      <td>0.565</td>\n",
       "      <td>0.435</td>\n",
       "      <td>0.000</td>\n",
       "      <td>-0.5994</td>\n",
       "      <td>-1</td>\n",
       "      <td>offensive_language</td>\n",
       "      <td>0.008292</td>\n",
       "      <td>0.991511</td>\n",
       "      <td>0.000197</td>\n",
       "    </tr>\n",
       "    <tr>\n",
       "      <th>2</th>\n",
       "      <td>494_batch_2</td>\n",
       "      <td>[Loaded Language, Name calling/Labeling, Smears]</td>\n",
       "      <td>AOC after getting called a bitch:\\nThe attempt...</td>\n",
       "      <td>0.202</td>\n",
       "      <td>0.798</td>\n",
       "      <td>0.000</td>\n",
       "      <td>-0.5859</td>\n",
       "      <td>-1</td>\n",
       "      <td>offensive_language</td>\n",
       "      <td>0.012108</td>\n",
       "      <td>0.985068</td>\n",
       "      <td>0.002824</td>\n",
       "    </tr>\n",
       "    <tr>\n",
       "      <th>3</th>\n",
       "      <td>220_batch_2</td>\n",
       "      <td>[Loaded Language]</td>\n",
       "      <td>WHO SHIT MY PANTS?</td>\n",
       "      <td>0.545</td>\n",
       "      <td>0.455</td>\n",
       "      <td>0.000</td>\n",
       "      <td>-0.5574</td>\n",
       "      <td>-1</td>\n",
       "      <td>offensive_language</td>\n",
       "      <td>0.031562</td>\n",
       "      <td>0.968219</td>\n",
       "      <td>0.000219</td>\n",
       "    </tr>\n",
       "    <tr>\n",
       "      <th>4</th>\n",
       "      <td>377_batch_2</td>\n",
       "      <td>[Loaded Language, Smears]</td>\n",
       "      <td>DEMENTIA MY ASS !\\n\\nI'VE ALWAYS BEEN THIS DUM...</td>\n",
       "      <td>0.552</td>\n",
       "      <td>0.448</td>\n",
       "      <td>0.000</td>\n",
       "      <td>-0.8118</td>\n",
       "      <td>-1</td>\n",
       "      <td>offensive_language</td>\n",
       "      <td>0.036422</td>\n",
       "      <td>0.959513</td>\n",
       "      <td>0.004065</td>\n",
       "    </tr>\n",
       "    <tr>\n",
       "      <th>5</th>\n",
       "      <td>244_batch_2</td>\n",
       "      <td>[Loaded Language]</td>\n",
       "      <td>BREAKING NEWS... SHIT FLOATS!</td>\n",
       "      <td>0.565</td>\n",
       "      <td>0.435</td>\n",
       "      <td>0.000</td>\n",
       "      <td>-0.5983</td>\n",
       "      <td>-1</td>\n",
       "      <td>offensive_language</td>\n",
       "      <td>0.044542</td>\n",
       "      <td>0.954240</td>\n",
       "      <td>0.001218</td>\n",
       "    </tr>\n",
       "    <tr>\n",
       "      <th>6</th>\n",
       "      <td>811_batch_2</td>\n",
       "      <td>[Loaded Language, Name calling/Labeling]</td>\n",
       "      <td>\"AND I SAID, IF YOU DON'T FIND MORE VOTES, WE'...</td>\n",
       "      <td>0.246</td>\n",
       "      <td>0.679</td>\n",
       "      <td>0.075</td>\n",
       "      <td>-0.6977</td>\n",
       "      <td>-1</td>\n",
       "      <td>offensive_language</td>\n",
       "      <td>0.028362</td>\n",
       "      <td>0.944448</td>\n",
       "      <td>0.027190</td>\n",
       "    </tr>\n",
       "    <tr>\n",
       "      <th>7</th>\n",
       "      <td>233_batch_2</td>\n",
       "      <td>[Loaded Language]</td>\n",
       "      <td>Oh shit look at that we all get treated the sa...</td>\n",
       "      <td>0.243</td>\n",
       "      <td>0.757</td>\n",
       "      <td>0.000</td>\n",
       "      <td>-0.6351</td>\n",
       "      <td>-1</td>\n",
       "      <td>offensive_language</td>\n",
       "      <td>0.049266</td>\n",
       "      <td>0.938042</td>\n",
       "      <td>0.012692</td>\n",
       "    </tr>\n",
       "    <tr>\n",
       "      <th>8</th>\n",
       "      <td>9</td>\n",
       "      <td>[Appeal to fear/prejudice, Loaded Language, Na...</td>\n",
       "      <td>\"If that fuckin bastard wins, we're all going ...</td>\n",
       "      <td>0.098</td>\n",
       "      <td>0.701</td>\n",
       "      <td>0.201</td>\n",
       "      <td>0.5696</td>\n",
       "      <td>1</td>\n",
       "      <td>offensive_language</td>\n",
       "      <td>0.066964</td>\n",
       "      <td>0.914588</td>\n",
       "      <td>0.018448</td>\n",
       "    </tr>\n",
       "    <tr>\n",
       "      <th>9</th>\n",
       "      <td>690_batch_2</td>\n",
       "      <td>[Loaded Language]</td>\n",
       "      <td>I take a shit every morning at 8 AM.\\n\\nThat's...</td>\n",
       "      <td>0.292</td>\n",
       "      <td>0.579</td>\n",
       "      <td>0.129</td>\n",
       "      <td>-0.5667</td>\n",
       "      <td>-1</td>\n",
       "      <td>offensive_language</td>\n",
       "      <td>0.052471</td>\n",
       "      <td>0.909035</td>\n",
       "      <td>0.038494</td>\n",
       "    </tr>\n",
       "  </tbody>\n",
       "</table>\n",
       "</div>"
      ],
      "text/plain": [
       "            id                                             labels  \\\n",
       "0           12           [Loaded Language, Name calling/Labeling]   \n",
       "1  420_batch_2           [Loaded Language, Name calling/Labeling]   \n",
       "2  494_batch_2   [Loaded Language, Name calling/Labeling, Smears]   \n",
       "3  220_batch_2                                  [Loaded Language]   \n",
       "4  377_batch_2                          [Loaded Language, Smears]   \n",
       "5  244_batch_2                                  [Loaded Language]   \n",
       "6  811_batch_2           [Loaded Language, Name calling/Labeling]   \n",
       "7  233_batch_2                                  [Loaded Language]   \n",
       "8            9  [Appeal to fear/prejudice, Loaded Language, Na...   \n",
       "9  690_batch_2                                  [Loaded Language]   \n",
       "\n",
       "                                                text  negative  neutral  \\\n",
       "0     TRAITORS\\n\\nMOSCOW MITCH\\n\\nMOSCOW'S BITCH\\n\\n     0.487    0.513   \n",
       "1                           DANCE My Bitches Dance\\n     0.565    0.435   \n",
       "2  AOC after getting called a bitch:\\nThe attempt...     0.202    0.798   \n",
       "3                                 WHO SHIT MY PANTS?     0.545    0.455   \n",
       "4  DEMENTIA MY ASS !\\n\\nI'VE ALWAYS BEEN THIS DUM...     0.552    0.448   \n",
       "5                      BREAKING NEWS... SHIT FLOATS!     0.565    0.435   \n",
       "6  \"AND I SAID, IF YOU DON'T FIND MORE VOTES, WE'...     0.246    0.679   \n",
       "7  Oh shit look at that we all get treated the sa...     0.243    0.757   \n",
       "8  \"If that fuckin bastard wins, we're all going ...     0.098    0.701   \n",
       "9  I take a shit every morning at 8 AM.\\n\\nThat's...     0.292    0.579   \n",
       "\n",
       "   positive  compound  sentiment               Class      hate  offensive  \\\n",
       "0     0.000   -0.5859         -1  offensive_language  0.005443   0.994555   \n",
       "1     0.000   -0.5994         -1  offensive_language  0.008292   0.991511   \n",
       "2     0.000   -0.5859         -1  offensive_language  0.012108   0.985068   \n",
       "3     0.000   -0.5574         -1  offensive_language  0.031562   0.968219   \n",
       "4     0.000   -0.8118         -1  offensive_language  0.036422   0.959513   \n",
       "5     0.000   -0.5983         -1  offensive_language  0.044542   0.954240   \n",
       "6     0.075   -0.6977         -1  offensive_language  0.028362   0.944448   \n",
       "7     0.000   -0.6351         -1  offensive_language  0.049266   0.938042   \n",
       "8     0.201    0.5696          1  offensive_language  0.066964   0.914588   \n",
       "9     0.129   -0.5667         -1  offensive_language  0.052471   0.909035   \n",
       "\n",
       "    neither  \n",
       "0  0.000002  \n",
       "1  0.000197  \n",
       "2  0.002824  \n",
       "3  0.000219  \n",
       "4  0.004065  \n",
       "5  0.001218  \n",
       "6  0.027190  \n",
       "7  0.012692  \n",
       "8  0.018448  \n",
       "9  0.038494  "
      ]
     },
     "execution_count": 59,
     "metadata": {},
     "output_type": "execute_result"
    }
   ],
   "source": [
    "df_training_offensive.head(10)"
   ]
  },
  {
   "cell_type": "markdown",
   "metadata": {},
   "source": [
    "Specific text"
   ]
  },
  {
   "cell_type": "code",
   "execution_count": 80,
   "metadata": {},
   "outputs": [
    {
     "data": {
      "text/plain": [
       "[\"Finished 4th in lowa behind an Old Communist, a Gay guy and a Fake Indian!\\n\\nThere's nothing quite like getting your ass beat by the Village People!\",\n",
       " 'offensive_language',\n",
       " [{'class_name': 'hate_speech', 'confidence': 0.2837160308335386},\n",
       "  {'class_name': 'offensive_language', 'confidence': 0.5867345431946708},\n",
       "  {'class_name': 'neither', 'confidence': 0.1295494259717907}]]"
      ]
     },
     "execution_count": 80,
     "metadata": {},
     "output_type": "execute_result"
    }
   ],
   "source": [
    "list(sonar.ping(text=df_training.text.iloc[52]).values())"
   ]
  },
  {
   "cell_type": "code",
   "execution_count": null,
   "metadata": {},
   "outputs": [],
   "source": []
  },
  {
   "cell_type": "markdown",
   "metadata": {},
   "source": [
    "#validating hate detector, this is only a test to verify if the sonar library is working"
   ]
  },
  {
   "cell_type": "code",
   "execution_count": 112,
   "metadata": {},
   "outputs": [
    {
     "data": {
      "text/plain": [
       "{'text': \"It's all propaganda by the fake Maquis wing. Fuck those guys. Kill the Cardassian and the Bajoran people. Skin them alive.\",\n",
       " 'top_class': 'hate_speech',\n",
       " 'classes': [{'class_name': 'hate_speech', 'confidence': 0.548596209640167},\n",
       "  {'class_name': 'offensive_language', 'confidence': 0.4179482819525244},\n",
       "  {'class_name': 'neither', 'confidence': 0.033455508407308446}]}"
      ]
     },
     "execution_count": 112,
     "metadata": {},
     "output_type": "execute_result"
    }
   ],
   "source": [
    "sonar.ping(text=\"It's all propaganda by the fake Maquis wing. Fuck those guys. Kill the Cardassian and the Bajoran people. Skin them alive.\")"
   ]
  },
  {
   "cell_type": "code",
   "execution_count": null,
   "metadata": {},
   "outputs": [],
   "source": [
    "df_training.to_pickle('HS_results.pkl')"
   ]
  },
  {
   "cell_type": "code",
   "execution_count": null,
   "metadata": {},
   "outputs": [],
   "source": []
  },
  {
   "cell_type": "code",
   "execution_count": null,
   "metadata": {},
   "outputs": [],
   "source": []
  }
 ],
 "metadata": {
  "kernelspec": {
   "display_name": "Python 3",
   "language": "python",
   "name": "python3"
  },
  "language_info": {
   "codemirror_mode": {
    "name": "ipython",
    "version": 3
   },
   "file_extension": ".py",
   "mimetype": "text/x-python",
   "name": "python",
   "nbconvert_exporter": "python",
   "pygments_lexer": "ipython3",
   "version": "3.8.5"
  }
 },
 "nbformat": 4,
 "nbformat_minor": 4
}
