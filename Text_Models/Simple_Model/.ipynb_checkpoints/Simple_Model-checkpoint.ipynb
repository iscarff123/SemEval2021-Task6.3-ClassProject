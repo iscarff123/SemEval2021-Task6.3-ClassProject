{
 "cells": [
  {
   "cell_type": "code",
   "execution_count": 1,
   "metadata": {},
   "outputs": [],
   "source": [
    "\n",
    "import json \n",
    "import os\n",
    "import re\n",
    "import random\n",
    "\n",
    "import requests\n",
    "\n",
    "import pandas as pd\n",
    "import numpy as np\n",
    "import matplotlib.pyplot as plt\n",
    "\n",
    "import torch\n",
    "import torch.nn as nn\n",
    "import torch.nn.functional as F\n",
    "from torch.utils.data import DataLoader\n",
    "from torch.utils.data.dataset import random_split\n",
    "\n",
    "\n",
    "\n",
    "import torchtext\n",
    "from torchtext import data\n",
    "from torchtext import datasets\n",
    "from torchtext.datasets import text_classification\n",
    "\n",
    "from torchtext.data import Field, Example, TabularDataset\n",
    "from torchtext.data import BucketIterator\n",
    "from torchtext.data.utils import ngrams_iterator\n",
    "from torchtext.data.utils import get_tokenizer\n",
    "\n",
    "\n",
    "# Plotting\n",
    "import seaborn as sns\n",
    "import matplotlib.pyplot as plt\n",
    "\n",
    "# Gensim\n",
    "import gensim\n",
    "from gensim.utils import simple_preprocess\n",
    "\n",
    "# NLTK\n",
    "import nltk\n",
    "from nltk.corpus import stopwords\n",
    "from collections import Counter\n",
    "from wordcloud import WordCloud\n",
    "\n",
    "from sklearn.preprocessing import MultiLabelBinarizer\n",
    "\n",
    "from yellowbrick.text import TSNEVisualizer\n",
    "\n",
    "import warnings \n",
    "\n",
    "\n",
    "random.seed(128)"
   ]
  },
  {
   "cell_type": "markdown",
   "metadata": {},
   "source": [
    "sourced: \n",
    "    https://github.com/MageshDominator/Blog_References/tree/master/ML%20based%20Multi-label%20Text%20Classification\n",
    "        https://medium.com/technovators/machine-learning-based-multi-label-text-classification-9a0e17f88bb4"
   ]
  },
  {
   "cell_type": "markdown",
   "metadata": {},
   "source": [
    "Load Data"
   ]
  },
  {
   "cell_type": "code",
   "execution_count": 2,
   "metadata": {},
   "outputs": [],
   "source": [
    "def extract_json_object(filename):\n",
    "    with open(file, \"r\", encoding='utf-8') as read_file:\n",
    "        json_array = json.load(read_file)\n",
    "    json_data = []    \n",
    "    #parse the data\n",
    "    for item in json_array:\n",
    "        details = {\"id\":None, \"labels\":None, \"text\":None}\n",
    "        details['id'] = item['id']\n",
    "        try: \n",
    "            details['labels'] = item['labels']\n",
    "        except KeyError: \n",
    "            details['labels'] = []         \n",
    "        details['text'] = item['text']\n",
    "        json_data.append(details)\n",
    "\n",
    "    \n",
    "    return json_data\n"
   ]
  },
  {
   "cell_type": "code",
   "execution_count": 3,
   "metadata": {},
   "outputs": [],
   "source": [
    "# file paths\n",
    "lst_file_path=[]\n",
    "\n",
    "lst_file_path.append(\"../data/dev_set_task1.txt\")\n",
    "lst_file_path.append(\"../data/test_set_task1.txt\")\n",
    "lst_file_path.append(\"../data/training_set_task1.txt\")\n",
    "\n",
    "\n",
    "# List of keys \n",
    "dataset = [\"dev\", \"test\", \"training\"] \n",
    "# empty dictionary\n",
    "dic_datasets =  dict.fromkeys(dataset, pd.DataFrame()) \n",
    "\n",
    "  \n",
    "\n"
   ]
  },
  {
   "cell_type": "code",
   "execution_count": 4,
   "metadata": {},
   "outputs": [
    {
     "name": "stdout",
     "output_type": "stream",
     "text": [
      "loading../data/dev_set_task1.txt\n",
      "loading../data/test_set_task1.txt\n",
      "loading../data/training_set_task1.txt\n"
     ]
    }
   ],
   "source": [
    "for i, file in enumerate(lst_file_path):\n",
    "    print('loading'+ file)\n",
    "    dic_datasets[dataset[i]] = pd.DataFrame(extract_json_object(extract_json_object))"
   ]
  },
  {
   "cell_type": "markdown",
   "metadata": {},
   "source": [
    "Seperate data into each components\n",
    "<br>Training, Dev and Test\n",
    "<br>Also apply no class to empty []"
   ]
  },
  {
   "cell_type": "code",
   "execution_count": 5,
   "metadata": {},
   "outputs": [],
   "source": [
    "df_training = pd.DataFrame(dic_datasets['training'][['id','labels','text']])\n",
    "df_training.labels = df_training.labels.apply(lambda y: ['no_class'] if len(y)==0 else y)\n",
    "\n",
    "df_dev = pd.DataFrame(dic_datasets['dev'][['id','labels','text']])\n",
    "df_dev.labels = df_dev.labels.apply(lambda y: ['no_class'] if len(y)==0 else y)\n",
    "\n",
    "df_test = pd.DataFrame(dic_datasets['test'][['id','labels','text']])\n",
    "df_test.labels = df_test.labels.apply(lambda y: ['no_class'] if len(y)==0 else y)\n"
   ]
  },
  {
   "cell_type": "code",
   "execution_count": 6,
   "metadata": {},
   "outputs": [],
   "source": [
    "#df_training.fillna(value={'labels':'[no_class]'})"
   ]
  },
  {
   "cell_type": "markdown",
   "metadata": {},
   "source": [
    "Review Datasets"
   ]
  },
  {
   "cell_type": "code",
   "execution_count": 7,
   "metadata": {},
   "outputs": [
    {
     "name": "stdout",
     "output_type": "stream",
     "text": [
      "<class 'pandas.core.frame.DataFrame'>\n",
      "RangeIndex: 688 entries, 0 to 687\n",
      "Data columns (total 3 columns):\n",
      " #   Column  Non-Null Count  Dtype \n",
      "---  ------  --------------  ----- \n",
      " 0   id      688 non-null    object\n",
      " 1   labels  688 non-null    object\n",
      " 2   text    688 non-null    object\n",
      "dtypes: object(3)\n",
      "memory usage: 16.2+ KB\n"
     ]
    }
   ],
   "source": [
    "df_training.info()"
   ]
  },
  {
   "cell_type": "code",
   "execution_count": 8,
   "metadata": {},
   "outputs": [
    {
     "name": "stdout",
     "output_type": "stream",
     "text": [
      "<class 'pandas.core.frame.DataFrame'>\n",
      "RangeIndex: 63 entries, 0 to 62\n",
      "Data columns (total 3 columns):\n",
      " #   Column  Non-Null Count  Dtype \n",
      "---  ------  --------------  ----- \n",
      " 0   id      63 non-null     object\n",
      " 1   labels  63 non-null     object\n",
      " 2   text    63 non-null     object\n",
      "dtypes: object(3)\n",
      "memory usage: 1.6+ KB\n"
     ]
    }
   ],
   "source": [
    "df_dev.info()"
   ]
  },
  {
   "cell_type": "code",
   "execution_count": null,
   "metadata": {},
   "outputs": [],
   "source": []
  },
  {
   "cell_type": "markdown",
   "metadata": {},
   "source": [
    "In order to properly process, we need to combine all labels of the datasets"
   ]
  },
  {
   "cell_type": "code",
   "execution_count": 9,
   "metadata": {},
   "outputs": [],
   "source": [
    "df_concat_labels = pd.concat([df_training.pop('labels'), df_dev.pop('labels'), df_test.pop('labels')])"
   ]
  },
  {
   "cell_type": "markdown",
   "metadata": {},
   "source": [
    "Review labels"
   ]
  },
  {
   "cell_type": "raw",
   "metadata": {},
   "source": [
    "df_concat_labels"
   ]
  },
  {
   "cell_type": "markdown",
   "metadata": {},
   "source": [
    "use multilabel Binarizer <br>\n",
    "Use combined set and then resplit"
   ]
  },
  {
   "cell_type": "code",
   "execution_count": 10,
   "metadata": {},
   "outputs": [],
   "source": [
    "mlb = MultiLabelBinarizer(sparse_output=True)\n",
    "\n",
    "\n",
    "\n",
    "# train_labels = df_training.join(pd.DataFrame.sparse.from_spmatrix(\n",
    "#                mlb.fit_transform(df_training.pop('labels')),\n",
    "#                index=df_training.index,\n",
    "#                columns=mlb.classes_))\n",
    "\n",
    "\n",
    "concat_labels = df_training.join(pd.DataFrame.sparse.from_spmatrix(\n",
    "                    mlb.fit_transform(df_concat_labels),\n",
    "                    index=df_concat_labels.index,\n",
    "                    columns=mlb.classes_))\n",
    "\n",
    "\n",
    "train_labels = concat_labels[0:len(df_training)]\n",
    "\n",
    "#print(dt_temp)\n",
    "\n",
    "\n",
    "\n",
    "\n",
    "#train_labels = df_training.join(pd.DataFrame.sparse.from_spmatrix(\n",
    "#                    mlb.fit_transform(dt_temp),\n",
    "#                    index=dt_temp.index,\n",
    "#                    columns=mlb.classes_))\n",
    "\n",
    "# dev_labels = df_dev.join(pd.DataFrame.sparse.from_spmatrix(\n",
    "#                mlb.fit_transform(df_dev.pop('labels')),\n",
    "#                index=df_dev.index,\n",
    "#                columns=mlb.classes_))\n",
    "dev_labels = concat_labels[len(df_training): len(df_training) + len(df_dev) ]\n",
    "#print(dt_temp.shape)\n",
    "# dev_labels = df_dev.join(pd.DataFrame.sparse.from_spmatrix(\n",
    "#                mlb.fit_transform(dt_temp),\n",
    "#                index=dt_temp.index,\n",
    "#                columns=mlb.classes_))\n",
    "\n",
    "test_labels = concat_labels[len(df_training) + len(df_dev):]\n",
    "# test_labels = df_test.join(pd.DataFrame.sparse.from_spmatrix(\n",
    "#                mlb.fit_transform(dt_temp),\n",
    "#                index=dt_temp.index,\n",
    "#                columns=mlb.classes_))\n",
    "\n",
    "\n",
    "\n"
   ]
  },
  {
   "cell_type": "markdown",
   "metadata": {},
   "source": [
    "ensure split off occured correctly"
   ]
  },
  {
   "cell_type": "code",
   "execution_count": 11,
   "metadata": {},
   "outputs": [
    {
     "data": {
      "text/plain": [
       "688"
      ]
     },
     "execution_count": 11,
     "metadata": {},
     "output_type": "execute_result"
    }
   ],
   "source": [
    "len(df_training)"
   ]
  },
  {
   "cell_type": "code",
   "execution_count": 12,
   "metadata": {},
   "outputs": [
    {
     "data": {
      "text/plain": [
       "63"
      ]
     },
     "execution_count": 12,
     "metadata": {},
     "output_type": "execute_result"
    }
   ],
   "source": [
    "len(df_dev)"
   ]
  },
  {
   "cell_type": "code",
   "execution_count": 13,
   "metadata": {},
   "outputs": [
    {
     "data": {
      "text/plain": [
       "200"
      ]
     },
     "execution_count": 13,
     "metadata": {},
     "output_type": "execute_result"
    }
   ],
   "source": [
    "len(df_test)"
   ]
  },
  {
   "cell_type": "code",
   "execution_count": null,
   "metadata": {},
   "outputs": [],
   "source": []
  },
  {
   "cell_type": "markdown",
   "metadata": {},
   "source": [
    "remove the text field from the labels dataset"
   ]
  },
  {
   "cell_type": "code",
   "execution_count": 14,
   "metadata": {},
   "outputs": [
    {
     "name": "stdout",
     "output_type": "stream",
     "text": [
      "<class 'pandas.core.frame.DataFrame'>\n",
      "Int64Index: 688 entries, 0 to 424\n",
      "Data columns (total 22 columns):\n",
      " #   Column                                               Non-Null Count  Dtype           \n",
      "---  ------                                               --------------  -----           \n",
      " 0   id                                                   688 non-null    object          \n",
      " 1   Appeal to authority                                  688 non-null    Sparse[int32, 0]\n",
      " 2   Appeal to fear/prejudice                             688 non-null    Sparse[int32, 0]\n",
      " 3   Bandwagon                                            688 non-null    Sparse[int32, 0]\n",
      " 4   Black-and-white Fallacy/Dictatorship                 688 non-null    Sparse[int32, 0]\n",
      " 5   Causal Oversimplification                            688 non-null    Sparse[int32, 0]\n",
      " 6   Doubt                                                688 non-null    Sparse[int32, 0]\n",
      " 7   Exaggeration/Minimisation                            688 non-null    Sparse[int32, 0]\n",
      " 8   Flag-waving                                          688 non-null    Sparse[int32, 0]\n",
      " 9   Glittering generalities (Virtue)                     688 non-null    Sparse[int32, 0]\n",
      " 10  Loaded Language                                      688 non-null    Sparse[int32, 0]\n",
      " 11  Misrepresentation of Someone's Position (Straw Man)  688 non-null    Sparse[int32, 0]\n",
      " 12  Name calling/Labeling                                688 non-null    Sparse[int32, 0]\n",
      " 13  Obfuscation, Intentional vagueness, Confusion        688 non-null    Sparse[int32, 0]\n",
      " 14  Presenting Irrelevant Data (Red Herring)             688 non-null    Sparse[int32, 0]\n",
      " 15  Reductio ad hitlerum                                 688 non-null    Sparse[int32, 0]\n",
      " 16  Repetition                                           688 non-null    Sparse[int32, 0]\n",
      " 17  Slogans                                              688 non-null    Sparse[int32, 0]\n",
      " 18  Smears                                               688 non-null    Sparse[int32, 0]\n",
      " 19  Thought-terminating cliché                           688 non-null    Sparse[int32, 0]\n",
      " 20  Whataboutism                                         688 non-null    Sparse[int32, 0]\n",
      " 21  no_class                                             688 non-null    Sparse[int32, 0]\n",
      "dtypes: Sparse[int32, 0](21), object(1)\n",
      "memory usage: 20.1+ KB\n",
      "None\n"
     ]
    }
   ],
   "source": [
    "train_labels = train_labels.drop(['text'], axis=1)\n",
    "dev_labels = dev_labels.drop(['text'], axis=1)\n",
    "test_labels = test_labels.drop(['text'], axis=1)\n",
    "\n",
    "print(train_labels.info())"
   ]
  },
  {
   "cell_type": "markdown",
   "metadata": {},
   "source": [
    "Review labels"
   ]
  },
  {
   "cell_type": "code",
   "execution_count": 15,
   "metadata": {},
   "outputs": [
    {
     "name": "stdout",
     "output_type": "stream",
     "text": [
      "<class 'pandas.core.frame.DataFrame'>\n",
      "Int64Index: 63 entries, 425 to 487\n",
      "Data columns (total 22 columns):\n",
      " #   Column                                               Non-Null Count  Dtype           \n",
      "---  ------                                               --------------  -----           \n",
      " 0   id                                                   63 non-null     object          \n",
      " 1   Appeal to authority                                  63 non-null     Sparse[int32, 0]\n",
      " 2   Appeal to fear/prejudice                             63 non-null     Sparse[int32, 0]\n",
      " 3   Bandwagon                                            63 non-null     Sparse[int32, 0]\n",
      " 4   Black-and-white Fallacy/Dictatorship                 63 non-null     Sparse[int32, 0]\n",
      " 5   Causal Oversimplification                            63 non-null     Sparse[int32, 0]\n",
      " 6   Doubt                                                63 non-null     Sparse[int32, 0]\n",
      " 7   Exaggeration/Minimisation                            63 non-null     Sparse[int32, 0]\n",
      " 8   Flag-waving                                          63 non-null     Sparse[int32, 0]\n",
      " 9   Glittering generalities (Virtue)                     63 non-null     Sparse[int32, 0]\n",
      " 10  Loaded Language                                      63 non-null     Sparse[int32, 0]\n",
      " 11  Misrepresentation of Someone's Position (Straw Man)  63 non-null     Sparse[int32, 0]\n",
      " 12  Name calling/Labeling                                63 non-null     Sparse[int32, 0]\n",
      " 13  Obfuscation, Intentional vagueness, Confusion        63 non-null     Sparse[int32, 0]\n",
      " 14  Presenting Irrelevant Data (Red Herring)             63 non-null     Sparse[int32, 0]\n",
      " 15  Reductio ad hitlerum                                 63 non-null     Sparse[int32, 0]\n",
      " 16  Repetition                                           63 non-null     Sparse[int32, 0]\n",
      " 17  Slogans                                              63 non-null     Sparse[int32, 0]\n",
      " 18  Smears                                               63 non-null     Sparse[int32, 0]\n",
      " 19  Thought-terminating cliché                           63 non-null     Sparse[int32, 0]\n",
      " 20  Whataboutism                                         63 non-null     Sparse[int32, 0]\n",
      " 21  no_class                                             63 non-null     Sparse[int32, 0]\n",
      "dtypes: Sparse[int32, 0](21), object(1)\n",
      "memory usage: 1.8+ KB\n"
     ]
    }
   ],
   "source": [
    "dev_labels.info()"
   ]
  },
  {
   "cell_type": "code",
   "execution_count": 16,
   "metadata": {},
   "outputs": [
    {
     "name": "stdout",
     "output_type": "stream",
     "text": [
      "<class 'pandas.core.frame.DataFrame'>\n",
      "Int64Index: 200 entries, 488 to 687\n",
      "Data columns (total 22 columns):\n",
      " #   Column                                               Non-Null Count  Dtype           \n",
      "---  ------                                               --------------  -----           \n",
      " 0   id                                                   200 non-null    object          \n",
      " 1   Appeal to authority                                  200 non-null    Sparse[int32, 0]\n",
      " 2   Appeal to fear/prejudice                             200 non-null    Sparse[int32, 0]\n",
      " 3   Bandwagon                                            200 non-null    Sparse[int32, 0]\n",
      " 4   Black-and-white Fallacy/Dictatorship                 200 non-null    Sparse[int32, 0]\n",
      " 5   Causal Oversimplification                            200 non-null    Sparse[int32, 0]\n",
      " 6   Doubt                                                200 non-null    Sparse[int32, 0]\n",
      " 7   Exaggeration/Minimisation                            200 non-null    Sparse[int32, 0]\n",
      " 8   Flag-waving                                          200 non-null    Sparse[int32, 0]\n",
      " 9   Glittering generalities (Virtue)                     200 non-null    Sparse[int32, 0]\n",
      " 10  Loaded Language                                      200 non-null    Sparse[int32, 0]\n",
      " 11  Misrepresentation of Someone's Position (Straw Man)  200 non-null    Sparse[int32, 0]\n",
      " 12  Name calling/Labeling                                200 non-null    Sparse[int32, 0]\n",
      " 13  Obfuscation, Intentional vagueness, Confusion        200 non-null    Sparse[int32, 0]\n",
      " 14  Presenting Irrelevant Data (Red Herring)             200 non-null    Sparse[int32, 0]\n",
      " 15  Reductio ad hitlerum                                 200 non-null    Sparse[int32, 0]\n",
      " 16  Repetition                                           200 non-null    Sparse[int32, 0]\n",
      " 17  Slogans                                              200 non-null    Sparse[int32, 0]\n",
      " 18  Smears                                               200 non-null    Sparse[int32, 0]\n",
      " 19  Thought-terminating cliché                           200 non-null    Sparse[int32, 0]\n",
      " 20  Whataboutism                                         200 non-null    Sparse[int32, 0]\n",
      " 21  no_class                                             200 non-null    Sparse[int32, 0]\n",
      "dtypes: Sparse[int32, 0](21), object(1)\n",
      "memory usage: 6.0+ KB\n"
     ]
    }
   ],
   "source": [
    "test_labels.info()"
   ]
  },
  {
   "cell_type": "markdown",
   "metadata": {},
   "source": [
    "Combine all text and then vectorize to be able to model using TFIDVectorizer"
   ]
  },
  {
   "cell_type": "code",
   "execution_count": 17,
   "metadata": {},
   "outputs": [],
   "source": [
    "from sklearn.feature_extraction.text import TfidfVectorizer\n",
    "from sklearn import metrics\n",
    "\n",
    "df_concat = pd.concat([df_training[\"text\"] , df_dev[\"text\"], df_test[\"text\"]])\n",
    "\n",
    "\n",
    "vectorizer = TfidfVectorizer()\n",
    "vectorised_train_documents = vectorizer.fit_transform(df_concat)\n"
   ]
  },
  {
   "cell_type": "markdown",
   "metadata": {},
   "source": [
    "Vectorize the dev text "
   ]
  },
  {
   "cell_type": "code",
   "execution_count": 18,
   "metadata": {},
   "outputs": [],
   "source": [
    "vectorised_dev_documents = vectorizer.transform(df_dev[\"text\"])\n"
   ]
  },
  {
   "cell_type": "markdown",
   "metadata": {},
   "source": [
    "Get feature names and present the top 50 words, notice no data transforms or data clensing has occured (will do on another pass)"
   ]
  },
  {
   "cell_type": "code",
   "execution_count": 19,
   "metadata": {},
   "outputs": [],
   "source": [
    "\n",
    "from yellowbrick.text import FreqDistVisualizer\n",
    "features = vectorizer.get_feature_names()\n"
   ]
  },
  {
   "cell_type": "code",
   "execution_count": 20,
   "metadata": {},
   "outputs": [
    {
     "data": {
      "image/png": "[encoded data removed]",
      "text/plain": [
       "<Figure size 576x396 with 1 Axes>"
      ]
     },
     "metadata": {},
     "output_type": "display_data"
    },
    {
     "data": {
      "text/plain": [
       "<AxesSubplot:title={'center':'Frequency Distribution of Top 50 tokens'}>"
      ]
     },
     "execution_count": 20,
     "metadata": {},
     "output_type": "execute_result"
    }
   ],
   "source": [
    "visualizer = FreqDistVisualizer(features=features, orient='v')\n",
    "visualizer.fit(vectorised_train_documents)\n",
    "visualizer.show()"
   ]
  },
  {
   "cell_type": "markdown",
   "metadata": {},
   "source": [
    "Visualize the entire corpus (using  T-SNE) <br>\n",
    "also shows how many documents are in the corpus"
   ]
  },
  {
   "cell_type": "code",
   "execution_count": 21,
   "metadata": {},
   "outputs": [
    {
     "name": "stderr",
     "output_type": "stream",
     "text": [
      "*c* argument looks like a single numeric RGB or RGBA sequence, which should be avoided as value-mapping will have precedence in case its length matches with *x* & *y*.  Please use the *color* keyword-argument or provide a 2-D array with a single row if you intend to specify the same RGB or RGBA value for all points.\n"
     ]
    },
    {
     "data": {
      "image/png": "[encoded data removed]",
      "text/plain": [
       "<Figure size 576x396 with 1 Axes>"
      ]
     },
     "metadata": {},
     "output_type": "display_data"
    },
    {
     "data": {
      "text/plain": [
       "<AxesSubplot:title={'center':'TSNE Projection of 951 Documents'}>"
      ]
     },
     "execution_count": 21,
     "metadata": {},
     "output_type": "execute_result"
    }
   ],
   "source": [
    "tsne = TSNEVisualizer()\n",
    "tsne.fit(vectorised_train_documents)\n",
    "tsne.show()"
   ]
  },
  {
   "cell_type": "markdown",
   "metadata": {},
   "source": [
    "\n",
    "Visualizaing corpus with Uniform Manifold Approximation and Projection"
   ]
  },
  {
   "cell_type": "code",
   "execution_count": 22,
   "metadata": {},
   "outputs": [
    {
     "name": "stderr",
     "output_type": "stream",
     "text": [
      "D:\\Users\\sync\\anaconda3\\envs\\pytorch\\lib\\site-packages\\umap\\umap_.py:125: UserWarning: A few of your vertices were disconnected from the manifold.  This shouldn't cause problems.\n",
      "Disconnection_distance = 1 has removed 443986 edges.\n",
      "It has only fully disconnected 1 vertices.\n",
      "Use umap.utils.disconnected_vertices() to identify them.\n",
      "  warn(\n",
      "*c* argument looks like a single numeric RGB or RGBA sequence, which should be avoided as value-mapping will have precedence in case its length matches with *x* & *y*.  Please use the *color* keyword-argument or provide a 2-D array with a single row if you intend to specify the same RGB or RGBA value for all points.\n"
     ]
    },
    {
     "data": {
      "image/png": "[encoded data removed]",
      "text/plain": [
       "<Figure size 576x396 with 1 Axes>"
      ]
     },
     "metadata": {},
     "output_type": "display_data"
    },
    {
     "data": {
      "text/plain": [
       "<AxesSubplot:title={'center':'UMAP Projection of 951 Documents'}>"
      ]
     },
     "execution_count": 22,
     "metadata": {},
     "output_type": "execute_result"
    }
   ],
   "source": [
    "\n",
    "from yellowbrick.text import UMAPVisualizer\n",
    "from sklearn.cluster import KMeans\n",
    "\n",
    "umap = UMAPVisualizer(metric=\"cosine\")\n",
    "umap.fit(vectorised_train_documents)\n",
    "umap.show()"
   ]
  },
  {
   "cell_type": "code",
   "execution_count": null,
   "metadata": {},
   "outputs": [],
   "source": []
  },
  {
   "cell_type": "markdown",
   "metadata": {},
   "source": [
    "Model Performance"
   ]
  },
  {
   "cell_type": "code",
   "execution_count": 23,
   "metadata": {},
   "outputs": [],
   "source": [
    "from sklearn.metrics import accuracy_score, precision_score, recall_score, f1_score, confusion_matrix, hamming_loss\n",
    "\n",
    "ModelsPerformance = {}\n",
    "\n",
    "def metricsReport(modelName, test_labels, predictions, labels):\n",
    "    accuracy = accuracy_score(test_labels, predictions)\n",
    "\n",
    "    macro_precision = precision_score(test_labels, predictions, average='macro', zero_division=1)\n",
    "    macro_recall = recall_score(test_labels, predictions, average='macro', zero_division=1)\n",
    "    macro_f1 = f1_score(test_labels, predictions, average='macro', zero_division=1)\n",
    "\n",
    "    micro_precision = precision_score(test_labels, predictions, average='micro', zero_division=1)\n",
    "    micro_recall = recall_score(test_labels, predictions, average='micro', zero_division=1)\n",
    "    micro_f1 = f1_score(test_labels, predictions, average='micro', zero_division=1)\n",
    "    hamLoss = hamming_loss(test_labels, predictions)\n",
    "    print(\"------\" + modelName + \" Model Metrics-----\")\n",
    "    print(\"Accuracy: {:.4f}\\nHamming Loss: {:.4f}\\nPrecision:\\n  - Macro: {:.4f}\\n  - Micro: {:.4f}\\nRecall:\\n  - Macro: {:.4f}\\n  - Micro: {:.4f}\\nF1-measure:\\n  - Macro: {:.4f}\\n  - Micro: {:.4f}\"\\\n",
    "          .format(accuracy, hamLoss, macro_precision, micro_precision, macro_recall, micro_recall, macro_f1, micro_f1))\n",
    "    ModelsPerformance[modelName] = micro_f1\n",
    "    print(metrics.classification_report(test_labels, predictions, zero_division=0, target_names = labels))"
   ]
  },
  {
   "cell_type": "markdown",
   "metadata": {},
   "source": [
    "knn Model <br>\n",
    "k-nearest neighbors algorithm (kNN) is a non-parametric technique used for classification. <br>\n",
    "\n",
    "Given a test document x, the KNN algorithm finds the k nearest neighbors of x among all the documents in the training set, and scores the category <br> candidates based the class of k neighbors. The similarity of x and each neighbor’s document could be the score of the category of the neighbor documents. <br> Multiple KNN documents may belong to the same category; in this case, the summation of these scores would be the similarity score of class k with <br> respect to the test document x. After sorting the score values, the algorithm assigns the candidate to the class with the highest score from the test<br>document x"
   ]
  },
  {
   "cell_type": "code",
   "execution_count": 24,
   "metadata": {},
   "outputs": [
    {
     "name": "stdout",
     "output_type": "stream",
     "text": [
      "------knn Model Metrics-----\n",
      "Accuracy: 0.1111\n",
      "Hamming Loss: 0.0877\n",
      "Precision:\n",
      "  - Macro: 0.8940\n",
      "  - Micro: 0.3696\n",
      "Recall:\n",
      "  - Macro: 0.3663\n",
      "  - Micro: 0.1635\n",
      "F1-measure:\n",
      "  - Macro: 0.3703\n",
      "  - Micro: 0.2267\n",
      "                                                     precision    recall  f1-score   support\n",
      "\n",
      "                                Appeal to authority       0.00      0.00      0.00         1\n",
      "                           Appeal to fear/prejudice       0.00      0.00      0.00         1\n",
      "                                          Bandwagon       0.00      0.00      0.00         1\n",
      "               Black-and-white Fallacy/Dictatorship       0.00      0.00      0.00         0\n",
      "                          Causal Oversimplification       0.00      0.00      0.00         0\n",
      "                                              Doubt       0.00      0.00      0.00         2\n",
      "                          Exaggeration/Minimisation       0.00      0.00      0.00         1\n",
      "                                        Flag-waving       0.00      0.00      0.00         3\n",
      "                   Glittering generalities (Virtue)       0.00      0.00      0.00         0\n",
      "                                    Loaded Language       0.52      0.35      0.42        31\n",
      "Misrepresentation of Someone's Position (Straw Man)       0.00      0.00      0.00         1\n",
      "                              Name calling/Labeling       0.00      0.00      0.00        16\n",
      "      Obfuscation, Intentional vagueness, Confusion       0.00      0.00      0.00         0\n",
      "           Presenting Irrelevant Data (Red Herring)       0.00      0.00      0.00         0\n",
      "                               Reductio ad hitlerum       0.00      0.00      0.00         0\n",
      "                                         Repetition       0.00      0.00      0.00         2\n",
      "                                            Slogans       0.00      0.00      0.00         0\n",
      "                                             Smears       1.00      0.04      0.08        23\n",
      "                         Thought-terminating cliché       0.00      0.00      0.00         2\n",
      "                                       Whataboutism       0.00      0.00      0.00         3\n",
      "                                           no_class       0.25      0.29      0.27        17\n",
      "\n",
      "                                          micro avg       0.37      0.16      0.23       104\n",
      "                                          macro avg       0.08      0.03      0.04       104\n",
      "                                       weighted avg       0.42      0.16      0.19       104\n",
      "                                        samples avg       0.24      0.19      0.20       104\n",
      "\n"
     ]
    }
   ],
   "source": [
    "\n",
    "from sklearn.neighbors import KNeighborsClassifier\n",
    "from sklearn.multiclass import OneVsRestClassifier\n",
    "\n",
    "knnClf = KNeighborsClassifier()\n",
    "\n",
    "knnClf.fit(vectorised_train_documents[1:len(df_training[\"text\"])+1], train_labels.drop(['id'], axis=1).sparse.to_dense())\n",
    "knnPredictions = knnClf.predict(vectorised_dev_documents)\n",
    "metricsReport(\"knn\", dev_labels.drop(['id'],axis=1), knnPredictions,list(dev_labels.drop(['id'], axis=1).columns))"
   ]
  },
  {
   "cell_type": "markdown",
   "metadata": {},
   "source": [
    "Analysis Notes:\n",
    "WIP\n"
   ]
  },
  {
   "cell_type": "code",
   "execution_count": null,
   "metadata": {},
   "outputs": [],
   "source": []
  },
  {
   "cell_type": "markdown",
   "metadata": {},
   "source": [
    "Decision Tree\n",
    "\n",
    "Tree-based methods are simple and useful for interpretation. A decision tree is a flowchart-like structure in which each internal node represents a \"test\" on an attribute (e.g. whether a coin flip comes up heads or tails), each branch represents the outcome of the test, and each leaf node represents a class label (decision taken after computing all attributes). The paths from root to leaf represent classification rules."
   ]
  },
  {
   "cell_type": "code",
   "execution_count": 25,
   "metadata": {},
   "outputs": [
    {
     "name": "stdout",
     "output_type": "stream",
     "text": [
      "------Decision Tree Model Metrics-----\n",
      "Accuracy: 0.2063\n",
      "Hamming Loss: 0.1043\n",
      "Precision:\n",
      "  - Macro: 0.5000\n",
      "  - Micro: 0.2821\n",
      "Recall:\n",
      "  - Macro: 0.3848\n",
      "  - Micro: 0.2115\n",
      "F1-measure:\n",
      "  - Macro: 0.1877\n",
      "  - Micro: 0.2418\n",
      "                                                     precision    recall  f1-score   support\n",
      "\n",
      "                                Appeal to authority       0.00      0.00      0.00         1\n",
      "                           Appeal to fear/prejudice       0.00      0.00      0.00         1\n",
      "                                          Bandwagon       0.00      0.00      0.00         1\n",
      "               Black-and-white Fallacy/Dictatorship       0.00      0.00      0.00         0\n",
      "                          Causal Oversimplification       0.00      0.00      0.00         0\n",
      "                                              Doubt       0.00      0.00      0.00         2\n",
      "                          Exaggeration/Minimisation       0.00      0.00      0.00         1\n",
      "                                        Flag-waving       0.00      0.00      0.00         3\n",
      "                   Glittering generalities (Virtue)       0.00      0.00      0.00         0\n",
      "                                    Loaded Language       0.54      0.23      0.32        31\n",
      "Misrepresentation of Someone's Position (Straw Man)       0.00      0.00      0.00         1\n",
      "                              Name calling/Labeling       0.20      0.06      0.10        16\n",
      "      Obfuscation, Intentional vagueness, Confusion       0.00      0.00      0.00         0\n",
      "           Presenting Irrelevant Data (Red Herring)       0.00      0.00      0.00         0\n",
      "                               Reductio ad hitlerum       0.00      0.00      0.00         0\n",
      "                                         Repetition       0.00      0.00      0.00         2\n",
      "                                            Slogans       0.00      0.00      0.00         0\n",
      "                                             Smears       0.50      0.09      0.15        23\n",
      "                         Thought-terminating cliché       0.00      0.00      0.00         2\n",
      "                                       Whataboutism       0.00      0.00      0.00         3\n",
      "                                           no_class       0.26      0.71      0.38        17\n",
      "\n",
      "                                          micro avg       0.28      0.21      0.24       104\n",
      "                                          macro avg       0.07      0.05      0.04       104\n",
      "                                       weighted avg       0.34      0.21      0.20       104\n",
      "                                        samples avg       0.29      0.29      0.28       104\n",
      "\n"
     ]
    }
   ],
   "source": [
    "from sklearn.tree import DecisionTreeClassifier\n",
    "\n",
    "dtClassifier = DecisionTreeClassifier()\n",
    "dtClassifier.fit(vectorised_train_documents[1:len(df_training[\"text\"])+1], train_labels.drop(['id'], axis=1).sparse.to_dense())\n",
    "dtPreds = dtClassifier.predict(vectorised_dev_documents)\n",
    "#metricsReport(\"Decision Tree\", dev_labels.drop(['id'],axis=1).sparse.to_dense(), dtPreds)\n",
    "metricsReport(\"Decision Tree\", dev_labels.drop(['id'],axis=1), dtPreds, list(dev_labels.drop(['id'], axis=1).columns))"
   ]
  },
  {
   "cell_type": "markdown",
   "metadata": {},
   "source": [
    "Analysis Notes:\n",
    "WIP\n"
   ]
  },
  {
   "cell_type": "markdown",
   "metadata": {},
   "source": []
  },
  {
   "cell_type": "markdown",
   "metadata": {},
   "source": [
    "Bagging Classifier <br>\n",
    "The decision trees suffer from high variance. <br>\n",
    "This means that if we split the training data into two parts at random, and fit a decision tree to both halves, the results that we get could be quite different. <br>\n",
    "Bootstrap aggregation, or bagging, is a general-purpose procedure for reducing the variance of a statistical learning method; we introduce it here because it is particularly useful and frequently used in the context of decision trees."
   ]
  },
  {
   "cell_type": "code",
   "execution_count": 26,
   "metadata": {},
   "outputs": [
    {
     "name": "stdout",
     "output_type": "stream",
     "text": [
      "------Bagging Model Metrics-----\n",
      "Accuracy: 0.0317\n",
      "Hamming Loss: 0.0884\n",
      "Precision:\n",
      "  - Macro: 0.7465\n",
      "  - Micro: 0.3030\n",
      "Recall:\n",
      "  - Macro: 0.3530\n",
      "  - Micro: 0.0962\n",
      "F1-measure:\n",
      "  - Macro: 0.3119\n",
      "  - Micro: 0.1460\n",
      "                                                     precision    recall  f1-score   support\n",
      "\n",
      "                                Appeal to authority       0.00      0.00      0.00         1\n",
      "                           Appeal to fear/prejudice       0.00      0.00      0.00         1\n",
      "                                          Bandwagon       0.00      0.00      0.00         1\n",
      "               Black-and-white Fallacy/Dictatorship       0.00      0.00      0.00         0\n",
      "                          Causal Oversimplification       0.00      0.00      0.00         0\n",
      "                                              Doubt       0.00      0.00      0.00         2\n",
      "                          Exaggeration/Minimisation       0.00      0.00      0.00         1\n",
      "                                        Flag-waving       0.00      0.00      0.00         3\n",
      "                   Glittering generalities (Virtue)       0.00      0.00      0.00         0\n",
      "                                    Loaded Language       0.46      0.19      0.27        31\n",
      "Misrepresentation of Someone's Position (Straw Man)       0.00      0.00      0.00         1\n",
      "                              Name calling/Labeling       0.00      0.00      0.00        16\n",
      "      Obfuscation, Intentional vagueness, Confusion       0.00      0.00      0.00         0\n",
      "           Presenting Irrelevant Data (Red Herring)       0.00      0.00      0.00         0\n",
      "                               Reductio ad hitlerum       0.00      0.00      0.00         0\n",
      "                                         Repetition       0.00      0.00      0.00         2\n",
      "                                            Slogans       0.00      0.00      0.00         0\n",
      "                                             Smears       1.00      0.04      0.08        23\n",
      "                         Thought-terminating cliché       0.00      0.00      0.00         2\n",
      "                                       Whataboutism       0.00      0.00      0.00         3\n",
      "                                           no_class       0.21      0.18      0.19        17\n",
      "\n",
      "                                          micro avg       0.30      0.10      0.15       104\n",
      "                                          macro avg       0.08      0.02      0.03       104\n",
      "                                       weighted avg       0.39      0.10      0.13       104\n",
      "                                        samples avg       0.11      0.11      0.10       104\n",
      "\n"
     ]
    }
   ],
   "source": [
    "from sklearn.ensemble import BaggingClassifier\n",
    "\n",
    "bagClassifier = OneVsRestClassifier(BaggingClassifier(n_jobs=-1))\n",
    "bagClassifier.fit(vectorised_train_documents[1:len(df_training[\"text\"])+1], train_labels.drop(['id'], axis=1).sparse.to_dense())\n",
    "bagPreds = bagClassifier.predict(vectorised_dev_documents)\n",
    "metricsReport(\"Bagging\", dev_labels.drop(['id'],axis=1), bagPreds, list(dev_labels.drop(['id'], axis=1).columns))"
   ]
  },
  {
   "cell_type": "markdown",
   "metadata": {},
   "source": [
    "Analysis Notes:\n",
    "WIP\n"
   ]
  },
  {
   "cell_type": "code",
   "execution_count": null,
   "metadata": {},
   "outputs": [],
   "source": []
  },
  {
   "cell_type": "markdown",
   "metadata": {},
   "source": [
    "Random Forest\n",
    "\n",
    "Random forests provide an improvement over bagged trees by way of a small tweak that decorrelates the trees. As in bagging, we build a number of decision trees on bootstrapped training samples. But when building these decision trees, each time a split in a tree is considered, a random sample of m predictors is chosen as split candidates from the full set of p predictors. The split is allowed to use only one of those m predictors. A fresh sample of √m predictors is taken at each split, and typically we choose m ≈ p—that is, the number of predictors considered at each split is approximately equal to the square root of the total number of predictors\n",
    "\n",
    "In other words, in building a random forest, at each split in the tree, the algorithm is not even allowed to consider a majority of the available predictors."
   ]
  },
  {
   "cell_type": "code",
   "execution_count": 27,
   "metadata": {},
   "outputs": [
    {
     "name": "stdout",
     "output_type": "stream",
     "text": [
      "------Random Forest Model Metrics-----\n",
      "Accuracy: 0.1905\n",
      "Hamming Loss: 0.1036\n",
      "Precision:\n",
      "  - Macro: 0.8681\n",
      "  - Micro: 0.2105\n",
      "Recall:\n",
      "  - Macro: 0.3669\n",
      "  - Micro: 0.1154\n",
      "F1-measure:\n",
      "  - Macro: 0.3499\n",
      "  - Micro: 0.1491\n",
      "                                                     precision    recall  f1-score   support\n",
      "\n",
      "                                Appeal to authority       0.00      0.00      0.00         1\n",
      "                           Appeal to fear/prejudice       0.00      0.00      0.00         1\n",
      "                                          Bandwagon       0.00      0.00      0.00         1\n",
      "               Black-and-white Fallacy/Dictatorship       0.00      0.00      0.00         0\n",
      "                          Causal Oversimplification       0.00      0.00      0.00         0\n",
      "                                              Doubt       0.00      0.00      0.00         2\n",
      "                          Exaggeration/Minimisation       0.00      0.00      0.00         1\n",
      "                                        Flag-waving       0.00      0.00      0.00         3\n",
      "                   Glittering generalities (Virtue)       0.00      0.00      0.00         0\n",
      "                                    Loaded Language       0.00      0.00      0.00        31\n",
      "Misrepresentation of Someone's Position (Straw Man)       0.00      0.00      0.00         1\n",
      "                              Name calling/Labeling       0.00      0.00      0.00        16\n",
      "      Obfuscation, Intentional vagueness, Confusion       0.00      0.00      0.00         0\n",
      "           Presenting Irrelevant Data (Red Herring)       0.00      0.00      0.00         0\n",
      "                               Reductio ad hitlerum       0.00      0.00      0.00         0\n",
      "                                         Repetition       0.00      0.00      0.00         2\n",
      "                                            Slogans       0.00      0.00      0.00         0\n",
      "                                             Smears       0.00      0.00      0.00        23\n",
      "                         Thought-terminating cliché       0.00      0.00      0.00         2\n",
      "                                       Whataboutism       0.00      0.00      0.00         3\n",
      "                                           no_class       0.23      0.71      0.35        17\n",
      "\n",
      "                                          micro avg       0.21      0.12      0.15       104\n",
      "                                          macro avg       0.01      0.03      0.02       104\n",
      "                                       weighted avg       0.04      0.12      0.06       104\n",
      "                                        samples avg       0.19      0.19      0.19       104\n",
      "\n"
     ]
    }
   ],
   "source": [
    "from sklearn.ensemble import RandomForestClassifier\n",
    "rfClassifier = RandomForestClassifier(n_jobs=-1)\n",
    "rfClassifier.fit(vectorised_train_documents[1:len(df_training[\"text\"])+1], train_labels.drop(['id'], axis=1).sparse.to_dense())\n",
    "rfPreds = rfClassifier.predict(vectorised_dev_documents)\n",
    "metricsReport(\"Random Forest\", dev_labels.drop(['id'],axis=1), rfPreds, list(dev_labels.drop(['id'], axis=1).columns))"
   ]
  },
  {
   "cell_type": "markdown",
   "metadata": {},
   "source": [
    "Analysis Notes:\n",
    "WIP\n"
   ]
  },
  {
   "cell_type": "code",
   "execution_count": null,
   "metadata": {},
   "outputs": [],
   "source": []
  },
  {
   "cell_type": "markdown",
   "metadata": {},
   "source": [
    "Boosting\n",
    "\n",
    "Recall that bagging involves creating multiple copies of the original train- ing data set using the bootstrap, fitting a separate decision tree to each copy, and then combining all of the trees in order to create a single predic- tive model. Notably, each tree is built on a bootstrap data set, independent of the other trees. Boosting works in a similar way, except that the trees are grown sequentially: each tree is grown using information from previously grown trees. Boosting does not involve bootstrap sampling; instead each tree is fit on a modified version of the original data set."
   ]
  },
  {
   "cell_type": "code",
   "execution_count": 28,
   "metadata": {},
   "outputs": [
    {
     "name": "stdout",
     "output_type": "stream",
     "text": [
      "------Boosting Model Metrics-----\n",
      "Accuracy: 0.0476\n",
      "Hamming Loss: 0.0907\n",
      "Precision:\n",
      "  - Macro: 0.7058\n",
      "  - Micro: 0.2333\n",
      "Recall:\n",
      "  - Macro: 0.3497\n",
      "  - Micro: 0.0673\n",
      "F1-measure:\n",
      "  - Macro: 0.3065\n",
      "  - Micro: 0.1045\n",
      "                                                     precision    recall  f1-score   support\n",
      "\n",
      "                                Appeal to authority       0.00      0.00      0.00         1\n",
      "                           Appeal to fear/prejudice       0.00      0.00      0.00         1\n",
      "                                          Bandwagon       0.00      0.00      0.00         1\n",
      "               Black-and-white Fallacy/Dictatorship       0.00      0.00      0.00         0\n",
      "                          Causal Oversimplification       0.00      0.00      0.00         0\n",
      "                                              Doubt       0.00      0.00      0.00         2\n",
      "                          Exaggeration/Minimisation       0.00      0.00      0.00         1\n",
      "                                        Flag-waving       0.00      0.00      0.00         3\n",
      "                   Glittering generalities (Virtue)       0.00      0.00      0.00         0\n",
      "                                    Loaded Language       0.29      0.06      0.11        31\n",
      "Misrepresentation of Someone's Position (Straw Man)       0.00      0.00      0.00         1\n",
      "                              Name calling/Labeling       0.00      0.00      0.00        16\n",
      "      Obfuscation, Intentional vagueness, Confusion       0.00      0.00      0.00         0\n",
      "           Presenting Irrelevant Data (Red Herring)       0.00      0.00      0.00         0\n",
      "                               Reductio ad hitlerum       0.00      0.00      0.00         0\n",
      "                                         Repetition       0.00      0.00      0.00         2\n",
      "                                            Slogans       0.00      0.00      0.00         0\n",
      "                                             Smears       0.25      0.04      0.07        23\n",
      "                         Thought-terminating cliché       0.00      0.00      0.00         2\n",
      "                                       Whataboutism       0.00      0.00      0.00         3\n",
      "                                           no_class       0.29      0.24      0.26        17\n",
      "\n",
      "                                          micro avg       0.23      0.07      0.10       104\n",
      "                                          macro avg       0.04      0.02      0.02       104\n",
      "                                       weighted avg       0.19      0.07      0.09       104\n",
      "                                        samples avg       0.09      0.10      0.09       104\n",
      "\n"
     ]
    }
   ],
   "source": [
    "\n",
    "from sklearn.ensemble import GradientBoostingClassifier\n",
    "\n",
    "boostClassifier = OneVsRestClassifier(GradientBoostingClassifier())\n",
    "boostClassifier.fit(vectorised_train_documents[1:len(df_training[\"text\"])+1], train_labels.drop(['id'], axis=1).sparse.to_dense())\n",
    "boostPreds = boostClassifier.predict(vectorised_dev_documents)\n",
    "metricsReport(\"Boosting\", dev_labels.drop(['id'],axis=1), boostPreds, list(dev_labels.drop(['id'], axis=1).columns) )"
   ]
  },
  {
   "cell_type": "markdown",
   "metadata": {},
   "source": [
    "Naive Bayes\n",
    "\n",
    "Naive Bayes Classifier (NBC) is generative model which is widely used in Information Retrieval. The multinomial Naive Bayes classifier is suitable for classification with discrete features (e.g., word counts for text classification). The multinomial distribution normally requires integer feature counts. However, in practice, fractional counts such as tf-idf may also work.\n",
    "\n"
   ]
  },
  {
   "cell_type": "code",
   "execution_count": 29,
   "metadata": {},
   "outputs": [
    {
     "name": "stdout",
     "output_type": "stream",
     "text": [
      "------Multinomial NB Model Metrics-----\n",
      "Accuracy: 0.0159\n",
      "Hamming Loss: 0.0816\n",
      "Precision:\n",
      "  - Macro: 0.9603\n",
      "  - Micro: 0.1667\n",
      "Recall:\n",
      "  - Macro: 0.3361\n",
      "  - Micro: 0.0096\n",
      "F1-measure:\n",
      "  - Macro: 0.3375\n",
      "  - Micro: 0.0182\n",
      "                                                     precision    recall  f1-score   support\n",
      "\n",
      "                                Appeal to authority       0.00      0.00      0.00         1\n",
      "                           Appeal to fear/prejudice       0.00      0.00      0.00         1\n",
      "                                          Bandwagon       0.00      0.00      0.00         1\n",
      "               Black-and-white Fallacy/Dictatorship       0.00      0.00      0.00         0\n",
      "                          Causal Oversimplification       0.00      0.00      0.00         0\n",
      "                                              Doubt       0.00      0.00      0.00         2\n",
      "                          Exaggeration/Minimisation       0.00      0.00      0.00         1\n",
      "                                        Flag-waving       0.00      0.00      0.00         3\n",
      "                   Glittering generalities (Virtue)       0.00      0.00      0.00         0\n",
      "                                    Loaded Language       0.00      0.00      0.00        31\n",
      "Misrepresentation of Someone's Position (Straw Man)       0.00      0.00      0.00         1\n",
      "                              Name calling/Labeling       0.00      0.00      0.00        16\n",
      "      Obfuscation, Intentional vagueness, Confusion       0.00      0.00      0.00         0\n",
      "           Presenting Irrelevant Data (Red Herring)       0.00      0.00      0.00         0\n",
      "                               Reductio ad hitlerum       0.00      0.00      0.00         0\n",
      "                                         Repetition       0.00      0.00      0.00         2\n",
      "                                            Slogans       0.00      0.00      0.00         0\n",
      "                                             Smears       0.00      0.00      0.00        23\n",
      "                         Thought-terminating cliché       0.00      0.00      0.00         2\n",
      "                                       Whataboutism       0.00      0.00      0.00         3\n",
      "                                           no_class       0.17      0.06      0.09        17\n",
      "\n",
      "                                          micro avg       0.17      0.01      0.02       104\n",
      "                                          macro avg       0.01      0.00      0.00       104\n",
      "                                       weighted avg       0.03      0.01      0.01       104\n",
      "                                        samples avg       0.02      0.02      0.02       104\n",
      "\n"
     ]
    }
   ],
   "source": [
    "from sklearn.naive_bayes import MultinomialNB\n",
    "\n",
    "nbClassifier = OneVsRestClassifier(MultinomialNB())\n",
    "nbClassifier.fit(vectorised_train_documents[1:len(df_training[\"text\"])+1], train_labels.drop(['id'], axis=1).sparse.to_dense())\n",
    "\n",
    "nbPreds = nbClassifier.predict(vectorised_dev_documents)\n",
    "metricsReport(\"Multinomial NB\", dev_labels.drop(['id'],axis=1), nbPreds, list(dev_labels.drop(['id'], axis=1).columns) )"
   ]
  },
  {
   "cell_type": "markdown",
   "metadata": {},
   "source": [
    "Analysis Notes:\n",
    "WIP\n"
   ]
  },
  {
   "cell_type": "code",
   "execution_count": null,
   "metadata": {},
   "outputs": [],
   "source": []
  },
  {
   "cell_type": "markdown",
   "metadata": {},
   "source": [
    "Support Vector Machine (Linear)\n",
    "\n",
    "Support Vector Machine (SVM), an approach for classification that was developed in the computer science community in the 1990s and that has grown in popularity since then.\n",
    "SVMs have been shown to perform well in a variety of settings, and are often considered one of the best “out of the box” classifiers.\n",
    "The support vector machine is a generalization of a simple and intuitive classifier called the maximal margin classifier\n"
   ]
  },
  {
   "cell_type": "code",
   "execution_count": 30,
   "metadata": {},
   "outputs": [
    {
     "name": "stdout",
     "output_type": "stream",
     "text": [
      "------SVC Sq. Hinge Loss Model Metrics-----\n",
      "Accuracy: 0.0635\n",
      "Hamming Loss: 0.0892\n",
      "Precision:\n",
      "  - Macro: 0.8839\n",
      "  - Micro: 0.2667\n",
      "Recall:\n",
      "  - Macro: 0.3482\n",
      "  - Micro: 0.0769\n",
      "F1-measure:\n",
      "  - Macro: 0.3520\n",
      "  - Micro: 0.1194\n",
      "                                                     precision    recall  f1-score   support\n",
      "\n",
      "                                Appeal to authority       0.00      0.00      0.00         1\n",
      "                           Appeal to fear/prejudice       0.00      0.00      0.00         1\n",
      "                                          Bandwagon       0.00      0.00      0.00         1\n",
      "               Black-and-white Fallacy/Dictatorship       0.00      0.00      0.00         0\n",
      "                          Causal Oversimplification       0.00      0.00      0.00         0\n",
      "                                              Doubt       0.00      0.00      0.00         2\n",
      "                          Exaggeration/Minimisation       0.00      0.00      0.00         1\n",
      "                                        Flag-waving       0.00      0.00      0.00         3\n",
      "                   Glittering generalities (Virtue)       0.00      0.00      0.00         0\n",
      "                                    Loaded Language       0.43      0.19      0.27        31\n",
      "Misrepresentation of Someone's Position (Straw Man)       0.00      0.00      0.00         1\n",
      "                              Name calling/Labeling       0.00      0.00      0.00        16\n",
      "      Obfuscation, Intentional vagueness, Confusion       0.00      0.00      0.00         0\n",
      "           Presenting Irrelevant Data (Red Herring)       0.00      0.00      0.00         0\n",
      "                               Reductio ad hitlerum       0.00      0.00      0.00         0\n",
      "                                         Repetition       0.00      0.00      0.00         2\n",
      "                                            Slogans       0.00      0.00      0.00         0\n",
      "                                             Smears       0.00      0.00      0.00        23\n",
      "                         Thought-terminating cliché       0.00      0.00      0.00         2\n",
      "                                       Whataboutism       0.00      0.00      0.00         3\n",
      "                                           no_class       0.13      0.12      0.12        17\n",
      "\n",
      "                                          micro avg       0.27      0.08      0.12       104\n",
      "                                          macro avg       0.03      0.01      0.02       104\n",
      "                                       weighted avg       0.15      0.08      0.10       104\n",
      "                                        samples avg       0.13      0.09      0.10       104\n",
      "\n"
     ]
    }
   ],
   "source": [
    "\n",
    "from sklearn.svm import LinearSVC\n",
    "\n",
    "svmClassifier = OneVsRestClassifier(LinearSVC(), n_jobs=-1)\n",
    "svmClassifier.fit(vectorised_train_documents[1:len(df_training[\"text\"])+1], train_labels.drop(['id'], axis=1).sparse.to_dense())\n",
    "\n",
    "svmPreds = svmClassifier.predict(vectorised_dev_documents)\n",
    "metricsReport(\"SVC Sq. Hinge Loss\",  dev_labels.drop(['id'],axis=1), svmPreds, list(dev_labels.drop(['id'], axis=1).columns)  )"
   ]
  },
  {
   "cell_type": "markdown",
   "metadata": {},
   "source": [
    "Analysis Notes:\n",
    "WIP\n"
   ]
  },
  {
   "cell_type": "code",
   "execution_count": null,
   "metadata": {},
   "outputs": [],
   "source": []
  },
  {
   "cell_type": "markdown",
   "metadata": {},
   "source": [
    "Label Powerset \n",
    "\n",
    "Label Powerset is a problem transformation approach to multi-label classification that transforms a multi-label problem to a multi-class problem with 1 multi-class classifier trained on all unique label combinations found in the training data.\n",
    "\n",
    "The method maps each combination to a unique combination id number, and performs multi-class classification using the classifier as multi-class classifier and combination ids as classes.\n"
   ]
  },
  {
   "cell_type": "code",
   "execution_count": 31,
   "metadata": {},
   "outputs": [
    {
     "name": "stdout",
     "output_type": "stream",
     "text": [
      "------Power Set SVC Model Metrics-----\n",
      "Accuracy: 0.2063\n",
      "Hamming Loss: 0.1081\n",
      "Precision:\n",
      "  - Macro: 0.6892\n",
      "  - Micro: 0.2090\n",
      "Recall:\n",
      "  - Macro: 0.3713\n",
      "  - Micro: 0.1346\n",
      "F1-measure:\n",
      "  - Macro: 0.3049\n",
      "  - Micro: 0.1637\n",
      "                                                     precision    recall  f1-score   support\n",
      "\n",
      "                                Appeal to authority       0.00      0.00      0.00         1\n",
      "                           Appeal to fear/prejudice       0.00      0.00      0.00         1\n",
      "                                          Bandwagon       0.00      0.00      0.00         1\n",
      "               Black-and-white Fallacy/Dictatorship       0.00      0.00      0.00         0\n",
      "                          Causal Oversimplification       0.00      0.00      0.00         0\n",
      "                                              Doubt       0.00      0.00      0.00         2\n",
      "                          Exaggeration/Minimisation       0.00      0.00      0.00         1\n",
      "                                        Flag-waving       0.00      0.00      0.00         3\n",
      "                   Glittering generalities (Virtue)       0.00      0.00      0.00         0\n",
      "                                    Loaded Language       0.25      0.03      0.06        31\n",
      "Misrepresentation of Someone's Position (Straw Man)       0.00      0.00      0.00         1\n",
      "                              Name calling/Labeling       0.00      0.00      0.00        16\n",
      "      Obfuscation, Intentional vagueness, Confusion       0.00      0.00      0.00         0\n",
      "           Presenting Irrelevant Data (Red Herring)       0.00      0.00      0.00         0\n",
      "                               Reductio ad hitlerum       0.00      0.00      0.00         0\n",
      "                                         Repetition       0.00      0.00      0.00         2\n",
      "                                            Slogans       0.00      0.00      0.00         0\n",
      "                                             Smears       0.00      0.00      0.00        23\n",
      "                         Thought-terminating cliché       0.00      0.00      0.00         2\n",
      "                                       Whataboutism       0.00      0.00      0.00         3\n",
      "                                           no_class       0.22      0.76      0.35        17\n",
      "\n",
      "                                          micro avg       0.21      0.13      0.16       104\n",
      "                                          macro avg       0.02      0.04      0.02       104\n",
      "                                       weighted avg       0.11      0.13      0.07       104\n",
      "                                        samples avg       0.21      0.22      0.22       104\n",
      "\n"
     ]
    }
   ],
   "source": [
    "from skmultilearn.problem_transform import LabelPowerset\n",
    "\n",
    "powerSetSVC = LabelPowerset(LinearSVC())\n",
    "powerSetSVC.fit(vectorised_train_documents[1:len(df_training[\"text\"])+1], train_labels.drop(['id'], axis=1).sparse.to_dense())\n",
    "\n",
    "\n",
    "powerSetSVCPreds = powerSetSVC.predict(vectorised_dev_documents)\n",
    "metricsReport(\"Power Set SVC\", dev_labels.drop(['id'],axis=1), powerSetSVCPreds,list(dev_labels.drop(['id'], axis=1).columns))"
   ]
  },
  {
   "cell_type": "code",
   "execution_count": null,
   "metadata": {},
   "outputs": [],
   "source": []
  },
  {
   "cell_type": "markdown",
   "metadata": {},
   "source": [
    "Comparing Model Results"
   ]
  },
  {
   "cell_type": "code",
   "execution_count": null,
   "metadata": {},
   "outputs": [],
   "source": []
  },
  {
   "cell_type": "code",
   "execution_count": 32,
   "metadata": {},
   "outputs": [
    {
     "name": "stdout",
     "output_type": "stream",
     "text": [
      "  Model Name           | Micro-F1 Score\n",
      "-------------------------------------------\n",
      "  knn                  | 0.22666666666666666\n",
      "-------------------------------------------\n",
      "  Decision Tree        | 0.24175824175824173\n",
      "-------------------------------------------\n",
      "  Bagging              | 0.14598540145985403\n",
      "-------------------------------------------\n",
      "  Random Forest        | 0.14906832298136646\n",
      "-------------------------------------------\n",
      "  Boosting             | 0.1044776119402985\n",
      "-------------------------------------------\n",
      "  Multinomial NB       | 0.018181818181818184\n",
      "-------------------------------------------\n",
      "  SVC Sq. Hinge Loss   | 0.11940298507462686\n",
      "-------------------------------------------\n",
      "  Power Set SVC        | 0.16374269005847952\n",
      "-------------------------------------------\n"
     ]
    }
   ],
   "source": [
    "\n",
    "print(\"  Model Name \" + \" \"*10 + \"| Micro-F1 Score\")\n",
    "print(\"-------------------------------------------\")\n",
    "for key, value in ModelsPerformance.items():\n",
    "    print(\"  \" + key, \" \"*(20-len(key)) + \"|\", value)\n",
    "    print(\"-------------------------------------------\")"
   ]
  },
  {
   "cell_type": "markdown",
   "metadata": {},
   "source": [
    "Winner winner chicken dinner Best Model- >  Decision Tree  and then create a confusion matrix on the best model"
   ]
  },
  {
   "cell_type": "markdown",
   "metadata": {},
   "source": [
    "Multi Label Confusion Matrix"
   ]
  },
  {
   "cell_type": "code",
   "execution_count": 33,
   "metadata": {},
   "outputs": [
    {
     "name": "stdout",
     "output_type": "stream",
     "text": [
      "[[[62  0]\n",
      "  [ 1  0]]\n",
      "\n",
      " [[62  0]\n",
      "  [ 1  0]]\n",
      "\n",
      " [[62  0]\n",
      "  [ 1  0]]\n",
      "\n",
      " [[63  0]\n",
      "  [ 0  0]]\n",
      "\n",
      " [[63  0]\n",
      "  [ 0  0]]\n",
      "\n",
      " [[61  0]\n",
      "  [ 2  0]]\n",
      "\n",
      " [[62  0]\n",
      "  [ 1  0]]\n",
      "\n",
      " [[60  0]\n",
      "  [ 3  0]]\n",
      "\n",
      " [[63  0]\n",
      "  [ 0  0]]\n",
      "\n",
      " [[28  4]\n",
      "  [31  0]]\n",
      "\n",
      " [[62  0]\n",
      "  [ 1  0]]\n",
      "\n",
      " [[47  0]\n",
      "  [16  0]]\n",
      "\n",
      " [[63  0]\n",
      "  [ 0  0]]\n",
      "\n",
      " [[63  0]\n",
      "  [ 0  0]]\n",
      "\n",
      " [[63  0]\n",
      "  [ 0  0]]\n",
      "\n",
      " [[61  0]\n",
      "  [ 2  0]]\n",
      "\n",
      " [[63  0]\n",
      "  [ 0  0]]\n",
      "\n",
      " [[39  1]\n",
      "  [23  0]]\n",
      "\n",
      " [[61  0]\n",
      "  [ 2  0]]\n",
      "\n",
      " [[60  0]\n",
      "  [ 3  0]]\n",
      "\n",
      " [[ 6 40]\n",
      "  [ 5 12]]]\n"
     ]
    }
   ],
   "source": [
    "from sklearn.metrics import multilabel_confusion_matrix\n",
    "from sklearn.metrics import plot_confusion_matrix\n",
    "\n",
    "#print(list(dev_labels.drop(['id'], axis=1).columns) )\n",
    "conf_mat = multilabel_confusion_matrix(dev_labels.drop(['id'],axis=1), rfPreds)\n",
    "#fig, ax = plt.subplots(figsize=(8,6))\n",
    "print(conf_mat)\n",
    "\n",
    "#plot_confusion_matrix(conf_mat, dev_labels.drop(['id'],axis=1), svmPreds,\n",
    "#                                 display_labels= list(dev_labels.drop(['id'], axis=1).columns),\n",
    "#                                 cmap=plt.cm.Blues)\n",
    "\n",
    "#sns.heatmap(conf_mat, annot=True, fmt='d',\n",
    "#            xticklabels=list(dev_labels.drop(['id'], axis=1).columns), yticklabels=list(dev_labels.drop(['id'], axis=1).columns))\n",
    "#plt.ylabel('Actual')\n",
    "#plt.xlabel('Predicted')\n",
    "#plt.show()\n",
    "\n",
    "#count = 0\n",
    "#for item in conf_mat:\n",
    "#    sns.heatmap(conf_mat, annot=True, fmt='d',\n",
    "#            xticklabels=list(dev_labels.drop(['id'], axis=1).columns), yticklabels=list(dev_labels.drop(['id'], axis=1).columns)\n",
    "#    count"
   ]
  },
  {
   "cell_type": "code",
   "execution_count": null,
   "metadata": {},
   "outputs": [],
   "source": [
    "\n"
   ]
  },
  {
   "cell_type": "code",
   "execution_count": null,
   "metadata": {},
   "outputs": [],
   "source": []
  },
  {
   "cell_type": "code",
   "execution_count": null,
   "metadata": {},
   "outputs": [],
   "source": []
  },
  {
   "cell_type": "code",
   "execution_count": null,
   "metadata": {},
   "outputs": [],
   "source": []
  }
 ],
 "metadata": {
  "kernelspec": {
   "display_name": "Python 3",
   "language": "python",
   "name": "python3"
  },
  "language_info": {
   "codemirror_mode": {
    "name": "ipython",
    "version": 3
   },
   "file_extension": ".py",
   "mimetype": "text/x-python",
   "name": "python",
   "nbconvert_exporter": "python",
   "pygments_lexer": "ipython3",
   "version": "3.8.5"
  }
 },
 "nbformat": 4,
 "nbformat_minor": 4
}
