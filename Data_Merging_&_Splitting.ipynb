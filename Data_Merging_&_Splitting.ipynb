{
 "cells": [
  {
   "cell_type": "markdown",
   "metadata": {},
   "source": [
    "# Data Merging & Splitting"
   ]
  },
  {
   "cell_type": "code",
   "execution_count": 1,
   "metadata": {},
   "outputs": [],
   "source": [
    "import pandas as pd\n",
    "import numpy as np\n",
    "import json\n",
    "import os\n",
    "from sklearn.model_selection import train_test_split\n",
    "import random\n",
    "\n",
    "random.seed(210)"
   ]
  },
  {
   "cell_type": "markdown",
   "metadata": {},
   "source": [
    "## Load Reference Data"
   ]
  },
  {
   "cell_type": "code",
   "execution_count": 2,
   "metadata": {},
   "outputs": [],
   "source": [
    "### Training\n",
    "### Load Data\n",
    "with open('training_set_task3.txt') as f:\n",
    "    train = json.load(f)\n",
    "    \n",
    "### Dev\n",
    "with open('dev_set_task3_labeled.txt') as f:\n",
    "    dev = json.load(f)\n",
    "\n",
    "### Test\n",
    "with open('test_set_task3.txt') as f:\n",
    "    test = json.load(f)"
   ]
  },
  {
   "cell_type": "code",
   "execution_count": 3,
   "metadata": {},
   "outputs": [
    {
     "data": {
      "text/plain": [
       "[{'id': '128',\n",
       "  'labels': ['Black-and-white Fallacy/Dictatorship',\n",
       "   'Name calling/Labeling',\n",
       "   'Smears'],\n",
       "  'text': 'THERE ARE ONLY TWO GENDERS\\n\\nFEMALE \\n\\nMALE\\n',\n",
       "  'image': '128_image.png'},\n",
       " {'id': '189',\n",
       "  'labels': ['Reductio ad hitlerum', 'Smears', 'Transfer'],\n",
       "  'text': 'This is not an accident!',\n",
       "  'image': '189_image.png'},\n",
       " {'id': '96',\n",
       "  'labels': ['Appeal to fear/prejudice',\n",
       "   'Loaded Language',\n",
       "   'Name calling/Labeling',\n",
       "   'Slogans',\n",
       "   'Smears',\n",
       "   'Transfer'],\n",
       "  'text': \"SO BERNIE BROS HAVEN'T COMMITTED VIOLENCE EH?\\n\\nPOWER COMES FROM THE BARREL OF A GUN, COMRADES.\\n\\nWHAT ABOUT THE ONE WHO SHOT CONGRESSMAN SCALISE OR THE DAYTON OHIO MASS SHOOTER?\\n\",\n",
       "  'image': '96_image.png'}]"
      ]
     },
     "execution_count": 3,
     "metadata": {},
     "output_type": "execute_result"
    }
   ],
   "source": [
    "train[0:3]"
   ]
  },
  {
   "cell_type": "code",
   "execution_count": 4,
   "metadata": {},
   "outputs": [
    {
     "data": {
      "text/plain": [
       "687"
      ]
     },
     "execution_count": 4,
     "metadata": {},
     "output_type": "execute_result"
    }
   ],
   "source": [
    "len(train)"
   ]
  },
  {
   "cell_type": "code",
   "execution_count": 5,
   "metadata": {},
   "outputs": [
    {
     "data": {
      "text/plain": [
       "[{'id': '62_batch_2',\n",
       "  'labels': ['Smears', 'Doubt'],\n",
       "  'text': '*President* Biden?\\n\\nPlease, no.\\n',\n",
       "  'image': '62_image_batch_2.png'},\n",
       " {'id': '111_batch_2',\n",
       "  'labels': ['Smears', 'Loaded Language', 'Name calling/Labeling'],\n",
       "  'text': 'JOE  VERSUS THE VOLCANIC KREMLIN DON\\n\\n\"WILL YOU SHUT UP, MAN?\"\\n\\nLORD OF THE LIES',\n",
       "  'image': '111_image_batch_2.png'},\n",
       " {'id': '167_batch_2',\n",
       "  'labels': ['Smears', 'Transfer'],\n",
       "  'text': 'ANTI-VAXXERS BE LIKE... \\n\\nHANG ON A SEC - JUST COLLECTING MY FACTS',\n",
       "  'image': '167_image_batch_2.png'}]"
      ]
     },
     "execution_count": 5,
     "metadata": {},
     "output_type": "execute_result"
    }
   ],
   "source": [
    "dev[0:3]"
   ]
  },
  {
   "cell_type": "code",
   "execution_count": 6,
   "metadata": {},
   "outputs": [
    {
     "data": {
      "text/plain": [
       "63"
      ]
     },
     "execution_count": 6,
     "metadata": {},
     "output_type": "execute_result"
    }
   ],
   "source": [
    "len(dev)"
   ]
  },
  {
   "cell_type": "code",
   "execution_count": 7,
   "metadata": {},
   "outputs": [
    {
     "data": {
      "text/plain": [
       "[{'id': '705_batch_2',\n",
       "  'labels': ['Name calling/Labeling', 'Slogans', 'Smears', 'Transfer'],\n",
       "  'text': 'The Democrats New America\\n',\n",
       "  'image': '705_image_batch_2.png'},\n",
       " {'id': '706_batch_2',\n",
       "  'labels': ['Appeal to (Strong) Emotions',\n",
       "   'Appeal to fear/prejudice',\n",
       "   'Loaded Language',\n",
       "   'Name calling/Labeling'],\n",
       "  'text': 'WE ARE AT WAR!\\n\\nThere is a complex assault on our presidential election\\nwith all the multifaceted tentacles of a terrorist organization and operation\\n\\n2020\\nTERRORISM\\n',\n",
       "  'image': '706_image_batch_2.png'},\n",
       " {'id': '710_batch_2',\n",
       "  'labels': ['Doubt', 'Loaded Language', 'Name calling/Labeling'],\n",
       "  'text': 'KILLED HIMSELF IN PRISON\\n\\nWON AN HONEST ELECTION\\n',\n",
       "  'image': '710_image_batch_2.png'}]"
      ]
     },
     "execution_count": 7,
     "metadata": {},
     "output_type": "execute_result"
    }
   ],
   "source": [
    "test[0:3]"
   ]
  },
  {
   "cell_type": "code",
   "execution_count": 8,
   "metadata": {},
   "outputs": [
    {
     "data": {
      "text/plain": [
       "200"
      ]
     },
     "execution_count": 8,
     "metadata": {},
     "output_type": "execute_result"
    }
   ],
   "source": [
    "len(test)"
   ]
  },
  {
   "cell_type": "code",
   "execution_count": 9,
   "metadata": {},
   "outputs": [
    {
     "data": {
      "text/plain": [
       "950"
      ]
     },
     "execution_count": 9,
     "metadata": {},
     "output_type": "execute_result"
    }
   ],
   "source": [
    "len(train) + len(dev) + len(test)"
   ]
  },
  {
   "cell_type": "markdown",
   "metadata": {},
   "source": [
    "## Check for empty labels"
   ]
  },
  {
   "cell_type": "code",
   "execution_count": 10,
   "metadata": {},
   "outputs": [
    {
     "name": "stdout",
     "output_type": "stream",
     "text": [
      "125\n",
      "130\n",
      "136\n",
      "159\n",
      "241\n",
      "253\n",
      "260\n",
      "273\n",
      "295\n",
      "434\n",
      "455\n",
      "511\n",
      "512\n",
      "532\n",
      "559\n",
      "567\n",
      "573\n",
      "586\n",
      "611\n",
      "612\n",
      "613\n",
      "615\n",
      "617\n",
      "619\n",
      "662\n",
      "663\n",
      "664\n",
      "677\n",
      "678\n"
     ]
    }
   ],
   "source": [
    "l1 = 0\n",
    "for i in range(len(train)):\n",
    "    if len(train[i]['labels']) == 0:\n",
    "        l1 +=1\n",
    "        print(i)"
   ]
  },
  {
   "cell_type": "code",
   "execution_count": 11,
   "metadata": {},
   "outputs": [
    {
     "name": "stdout",
     "output_type": "stream",
     "text": [
      "3\n",
      "28\n",
      "45\n"
     ]
    }
   ],
   "source": [
    "l2 = 0\n",
    "for i in range(len(dev)):\n",
    "    if len(dev[i]['labels']) == 0:\n",
    "        l2 +=1\n",
    "        print(i)"
   ]
  },
  {
   "cell_type": "code",
   "execution_count": 12,
   "metadata": {},
   "outputs": [
    {
     "name": "stdout",
     "output_type": "stream",
     "text": [
      "172\n",
      "178\n",
      "189\n",
      "194\n"
     ]
    }
   ],
   "source": [
    "l3 = 0\n",
    "for i in range(len(test)):\n",
    "    if len(test[i]['labels']) == 0:\n",
    "        l3+=1\n",
    "        print(i)"
   ]
  },
  {
   "cell_type": "code",
   "execution_count": 13,
   "metadata": {},
   "outputs": [
    {
     "data": {
      "text/plain": [
       "36"
      ]
     },
     "execution_count": 13,
     "metadata": {},
     "output_type": "execute_result"
    }
   ],
   "source": [
    "l1+l2+l3"
   ]
  },
  {
   "cell_type": "markdown",
   "metadata": {},
   "source": [
    "## Remove Empty Labels"
   ]
  },
  {
   "cell_type": "code",
   "execution_count": 16,
   "metadata": {},
   "outputs": [],
   "source": [
    "newTrain = []\n",
    "for i in range(len(train)):\n",
    "    if (len(train[i]['labels']) != 0):\n",
    "        newTrain.append(train[i])\n",
    "        \n",
    "newDev = []\n",
    "for i in range(len(dev)):\n",
    "    if (len(dev[i]['labels']) != 0):\n",
    "        newDev.append(dev[i])\n",
    "        \n",
    "newTest = []\n",
    "for i in range(len(test)):\n",
    "    if (len(test[i]['labels']) != 0):\n",
    "        newTest.append(test[i])"
   ]
  },
  {
   "cell_type": "code",
   "execution_count": 17,
   "metadata": {},
   "outputs": [
    {
     "name": "stdout",
     "output_type": "stream",
     "text": [
      "687\n",
      "658\n"
     ]
    }
   ],
   "source": [
    "print(len(train))\n",
    "print(len(newTrain))"
   ]
  },
  {
   "cell_type": "code",
   "execution_count": 18,
   "metadata": {},
   "outputs": [
    {
     "name": "stdout",
     "output_type": "stream",
     "text": [
      "63\n",
      "60\n"
     ]
    }
   ],
   "source": [
    "print(len(dev))\n",
    "print(len(newDev))"
   ]
  },
  {
   "cell_type": "code",
   "execution_count": 19,
   "metadata": {},
   "outputs": [
    {
     "name": "stdout",
     "output_type": "stream",
     "text": [
      "200\n",
      "196\n"
     ]
    }
   ],
   "source": [
    "print(len(test))\n",
    "print(len(newTest))"
   ]
  },
  {
   "cell_type": "code",
   "execution_count": 21,
   "metadata": {},
   "outputs": [
    {
     "data": {
      "text/plain": [
       "36"
      ]
     },
     "execution_count": 21,
     "metadata": {},
     "output_type": "execute_result"
    }
   ],
   "source": [
    "(len(train) + len(dev) + len(test)) - (len(newTrain) + len(newDev) + len(newTest))"
   ]
  },
  {
   "cell_type": "markdown",
   "metadata": {},
   "source": [
    "## Merge Data"
   ]
  },
  {
   "cell_type": "code",
   "execution_count": 22,
   "metadata": {},
   "outputs": [
    {
     "data": {
      "text/plain": [
       "914"
      ]
     },
     "execution_count": 22,
     "metadata": {},
     "output_type": "execute_result"
    }
   ],
   "source": [
    "data = newTrain\n",
    "data.extend(newDev)\n",
    "data.extend(newTest)\n",
    "len(data)"
   ]
  },
  {
   "cell_type": "code",
   "execution_count": 23,
   "metadata": {},
   "outputs": [],
   "source": [
    "labels_indv = []\n",
    "for i in range(len(data)):\n",
    "    for j in data[i]['labels']:\n",
    "        labels_indv.append(j)"
   ]
  },
  {
   "cell_type": "code",
   "execution_count": 24,
   "metadata": {},
   "outputs": [],
   "source": [
    "def countFreq(mylist):\n",
    "    freq = {}\n",
    "    for item in mylist:\n",
    "        if (item in freq):\n",
    "            freq[item] += 1\n",
    "        else:\n",
    "            freq[item] = 1\n",
    "            \n",
    "    for key, value in freq.items():\n",
    "        print(\"% s : % d\"%(key, value))\n",
    "    return freq"
   ]
  },
  {
   "cell_type": "code",
   "execution_count": 25,
   "metadata": {},
   "outputs": [
    {
     "name": "stdout",
     "output_type": "stream",
     "text": [
      "Black-and-white Fallacy/Dictatorship :  26\n",
      "Name calling/Labeling :  347\n",
      "Smears :  602\n",
      "Reductio ad hitlerum :  23\n",
      "Transfer :  95\n",
      "Appeal to fear/prejudice :  91\n",
      "Loaded Language :  492\n",
      "Slogans :  70\n",
      "Causal Oversimplification :  36\n",
      "Glittering generalities (Virtue) :  112\n",
      "Flag-waving :  55\n",
      "Misrepresentation of Someone's Position (Straw Man) :  40\n",
      "Exaggeration/Minimisation :  99\n",
      "Repetition :  14\n",
      "Appeal to (Strong) Emotions :  90\n",
      "Doubt :  111\n",
      "Obfuscation, Intentional vagueness, Confusion :  7\n",
      "Whataboutism :  67\n",
      "Thought-terminating cliché :  27\n",
      "Presenting Irrelevant Data (Red Herring) :  7\n",
      "Appeal to authority :  35\n",
      "Bandwagon :  5\n"
     ]
    }
   ],
   "source": [
    "labels_indv_freq = countFreq(labels_indv)"
   ]
  },
  {
   "cell_type": "markdown",
   "metadata": {},
   "source": [
    "#### __The lowest frequency labels are Bandwagon, Presenting Irrelevant Data (Red Herring), and Obfuscation, Intentional vagueness, Confusion__"
   ]
  },
  {
   "cell_type": "code",
   "execution_count": 26,
   "metadata": {},
   "outputs": [],
   "source": [
    "### First, grab the indexes where those two labels occur\n",
    "idxs = []\n",
    "for idx in range(len(data)):\n",
    "    if (('Bandwagon' in data[idx]['labels']) or ('Presenting Irrelevant Data (Red Herring)' in data[idx]['labels']) or \n",
    "       ('Obfuscation, Intentional vagueness, Confusion' in data[idx]['labels'])):\n",
    "        idxs.append(idx)"
   ]
  },
  {
   "cell_type": "code",
   "execution_count": 27,
   "metadata": {},
   "outputs": [
    {
     "data": {
      "text/plain": [
       "[21,\n",
       " 51,\n",
       " 59,\n",
       " 105,\n",
       " 156,\n",
       " 293,\n",
       " 447,\n",
       " 481,\n",
       " 533,\n",
       " 676,\n",
       " 699,\n",
       " 727,\n",
       " 746,\n",
       " 763,\n",
       " 815,\n",
       " 842,\n",
       " 860,\n",
       " 873,\n",
       " 879]"
      ]
     },
     "execution_count": 27,
     "metadata": {},
     "output_type": "execute_result"
    }
   ],
   "source": [
    "idxs"
   ]
  },
  {
   "cell_type": "code",
   "execution_count": 28,
   "metadata": {},
   "outputs": [
    {
     "data": {
      "text/plain": [
       "19"
      ]
     },
     "execution_count": 28,
     "metadata": {},
     "output_type": "execute_result"
    }
   ],
   "source": [
    "len(idxs)"
   ]
  },
  {
   "cell_type": "code",
   "execution_count": 29,
   "metadata": {},
   "outputs": [
    {
     "name": "stdout",
     "output_type": "stream",
     "text": [
      "{'id': '127', 'labels': ['Loaded Language', \"Misrepresentation of Someone's Position (Straw Man)\", 'Name calling/Labeling', 'Obfuscation, Intentional vagueness, Confusion', 'Smears'], 'text': 'THE PEOPLE WHO ONCE CALLED OUR SOLDIERS BABY KILLERS\\n\\nNOW MARCH FOR THE RIGHT TO KILL BABIES\\n', 'image': '127_image.png'}\n",
      "{'id': '160', 'labels': ['Presenting Irrelevant Data (Red Herring)'], 'text': 'IF WE DIVIDE 125 GENDERS BY THREE BATHROOMS\\n\\nHOW MUCH CLIMATE CHANGE DO WE HAVE?', 'image': '160_image.png'}\n",
      "{'id': '14', 'labels': ['Appeal to (Strong) Emotions', 'Glittering generalities (Virtue)', 'Loaded Language', \"Misrepresentation of Someone's Position (Straw Man)\", 'Obfuscation, Intentional vagueness, Confusion', 'Smears'], 'text': '21 people running for President and only 1 stands against killing babies\\n', 'image': '14_image.png'}\n",
      "{'id': '107_batch_2', 'labels': ['Bandwagon', 'Exaggeration/Minimisation', 'Loaded Language', 'Smears'], 'text': \"If you support this man, I won't judge you for your choice of political parties. \\nI will judge you for your lack of morals, ethics and humanity.\\nSo will others.\\nSo will history.\\n\", 'image': '107_image_batch_2.png'}\n",
      "{'id': '57_batch_2', 'labels': ['Loaded Language', \"Misrepresentation of Someone's Position (Straw Man)\", 'Obfuscation, Intentional vagueness, Confusion', 'Smears'], 'text': 'IMAGINE IF 50 MILLION BABIES WERE ALLOWED DYING WISHES\\n', 'image': '57_image_batch_2.png'}\n",
      "{'id': '323_batch_2', 'labels': ['Glittering generalities (Virtue)', 'Presenting Irrelevant Data (Red Herring)'], 'text': \"We weren't notified before the attack on Soleimani.\\n\\nNeither was he.\\n\", 'image': '323_image_batch_2.png'}\n",
      "{'id': '541_batch_2', 'labels': ['Bandwagon', 'Loaded Language', 'Thought-terminating cliché'], 'text': \"SO I THINK WE CAN ALL AGREE THAT SWITCHING FROM ASS WHOOPINGS TO TIME OUTS DIDN'T HAVE THE OUTCOME WE HAD HOPED FOR.\\n\", 'image': '541_image_batch_2.png'}\n",
      "{'id': '577_batch_2', 'labels': ['Loaded Language', \"Misrepresentation of Someone's Position (Straw Man)\", 'Name calling/Labeling', 'Obfuscation, Intentional vagueness, Confusion', 'Whataboutism'], 'text': \"SORRY, BUT I DON'T LISTEN TO ANTI-GUN LECTURES FROM PEOPLE WHO THINK IT'S OK TO KILL A BABY.\", 'image': '577_image_batch_2.png'}\n",
      "{'id': '639_batch_2', 'labels': ['Obfuscation, Intentional vagueness, Confusion'], 'text': '\"Spreading the chemtrails is actually quite easy.\"\\n\\n\"Getting them right to the edge of the Earth without flying off into space is the difficult part.\"\\n\\n', 'image': '639_image_batch_2.png'}\n",
      "{'id': '81_batch_2', 'labels': ['Smears', 'Slogans', 'Appeal to fear/prejudice', 'Flag-waving', 'Bandwagon'], 'text': \"GET IN!\\n\\nWE'RE MAKING AMERICA GREAT!\\n\", 'image': '81_image_batch_2.png'}\n",
      "{'id': '18_batch_2', 'labels': ['Repetition', 'Smears', 'Loaded Language', 'Name calling/Labeling', 'Bandwagon'], 'text': \"Where i'm gQing the rest will follow\\n\\nTHE TRUD Convicted of MURDER\\n\\n**WANTED** for treason to CANADA\\n**WANTED** for crimes to Canadian citizens\\n\\n**WANTED** for child/human trafficking\\n**WANTED** for pedophilia\\n\\nGITMO\\n\", 'image': '18_image_batch_2.png'}\n",
      "{'id': '724_batch_2', 'labels': ['Exaggeration/Minimisation', 'Loaded Language', 'Name calling/Labeling', 'Obfuscation, Intentional vagueness, Confusion'], 'text': '\"We put together I think the most extensive and inclusive voter fraud organization in the history of American politics.\"\\n-Joe Biden', 'image': '724_image_batch_2.png'}\n",
      "{'id': '765_batch_2', 'labels': ['Doubt', 'Presenting Irrelevant Data (Red Herring)'], 'text': 'IF THEY ARE SO SURE THEY WON WHY HASNT KAMALA RESIGNED HER SENATE SEAT?\\n', 'image': '765_image_batch_2.png'}\n",
      "{'id': '798_batch_2', 'labels': ['Exaggeration/Minimisation', 'Loaded Language', 'Name calling/Labeling', 'Obfuscation, Intentional vagueness, Confusion', 'Smears'], 'text': '\"I\\'M COMPLETELY FED-UP TO HERE WITH FACEBOOK PUTTING WORDS INTO MY MOUTH\"\\n\\n\"WHEN I SAID, WE NOW HAVE THE GREATEST VOTER FRAUD ORGANIZATION IN HISTORY\\',,, I MEANT IT!\".\\n', 'image': '798_image_batch_2.png'}\n",
      "{'id': '904_batch_2', 'labels': ['Appeal to fear/prejudice', 'Loaded Language', 'Presenting Irrelevant Data (Red Herring)'], 'text': 'A child in America is 66,667 times more likely to be sold\\nto human traffickers than die of Covid-19. \\nIn addition, your masks assist in them being transported undetected and unidentified to anyone.', 'image': '904_image_batch_2.png'}\n",
      "{'id': '953_batch_2', 'labels': ['Appeal to authority', 'Bandwagon', 'Loaded Language', 'Name calling/Labeling'], 'text': 'What do AOC, Pelosi, McConnell, and Pence all have in common?\\nThey know the COVID vaccine is safe and effective.', 'image': '953_image_batch_2.png'}\n",
      "{'id': '479_batch_2', 'labels': ['Doubt', 'Presenting Irrelevant Data (Red Herring)'], 'text': \"I DID NOT HAVE SEXUAL RELATIONS WITH THAT WOMAN.\\n\\nI HAVE NEVER BEEN TO EPSTEIN'S ISLAND.\\n\\n\", 'image': '479_image_batch_2.png'}\n",
      "{'id': '495_batch_2', 'labels': ['Black-and-white Fallacy/Dictatorship', 'Doubt', 'Loaded Language', 'Presenting Irrelevant Data (Red Herring)'], 'text': 'YOU NEED TO TRUST SCIENCE ASSHOLE!\\n\\nOK. HOW MANY GENDERS ARE THERE?', 'image': '495_image_batch_2.png'}\n",
      "{'id': '503_batch_2', 'labels': ['Loaded Language', 'Presenting Irrelevant Data (Red Herring)'], 'text': \"YOU ARE NOT FOR WOMEN'S RIGHTS\\n\\nIF YOU WANT TO STRIP THEM OF THEIR RIGHT TO SELF DEFENSE\", 'image': '503_image_batch_2.png'}\n"
     ]
    }
   ],
   "source": [
    "for i in idxs:\n",
    "    print(data[i])"
   ]
  },
  {
   "cell_type": "code",
   "execution_count": 30,
   "metadata": {},
   "outputs": [],
   "source": [
    "### Now make two separate lists.\n",
    "### One of just the 19 observations\n",
    "### Another of the rest\n",
    "\n",
    "obs = []\n",
    "for i in idxs:\n",
    "    obs.append(data[i])\n",
    "\n",
    "### Remove observations\n",
    "newData = []\n",
    "for i in range(len(data)):\n",
    "    if (('Bandwagon' not in data[i]['labels']) and ('Presenting Irrelevant Data (Red Herring)' not in data[i]['labels'])\n",
    "       and ('Obfuscation, Intentional vagueness, Confusion' not in data[i]['labels'])):\n",
    "        newData.append(data[i])"
   ]
  },
  {
   "cell_type": "code",
   "execution_count": 31,
   "metadata": {},
   "outputs": [
    {
     "name": "stdout",
     "output_type": "stream",
     "text": [
      "914\n",
      "895\n"
     ]
    }
   ],
   "source": [
    "print(len(data))\n",
    "print(len(newData))"
   ]
  },
  {
   "cell_type": "code",
   "execution_count": 32,
   "metadata": {},
   "outputs": [
    {
     "name": "stdout",
     "output_type": "stream",
     "text": [
      "done\n"
     ]
    }
   ],
   "source": [
    "### Double check that the labels have been removed\n",
    "for i in range(len(newData)):\n",
    "     if (('Bandwagon' in newData[i]['labels']) or ('Presenting Irrelevant Data (Red Herring)' in newData[i]['labels']) or\n",
    "        ('Obfuscation, Intentional vagueness, Confusion' in newData[i]['labels'])):\n",
    "            print('Still here: ' + str(i))\n",
    "print('done')"
   ]
  },
  {
   "cell_type": "code",
   "execution_count": 33,
   "metadata": {},
   "outputs": [],
   "source": [
    "### Create a training and testing split\n",
    "data_split = train_test_split(newData, test_size=0.2, random_state=210)"
   ]
  },
  {
   "cell_type": "code",
   "execution_count": 34,
   "metadata": {},
   "outputs": [],
   "source": [
    "### Create training and testing sets\n",
    "training_data = data_split[0]\n",
    "testing_data = data_split[1]"
   ]
  },
  {
   "cell_type": "code",
   "execution_count": 35,
   "metadata": {},
   "outputs": [
    {
     "name": "stdout",
     "output_type": "stream",
     "text": [
      "716\n",
      "179\n"
     ]
    }
   ],
   "source": [
    "print(len(training_data))\n",
    "print(len(testing_data))"
   ]
  },
  {
   "cell_type": "code",
   "execution_count": 36,
   "metadata": {},
   "outputs": [
    {
     "name": "stdout",
     "output_type": "stream",
     "text": [
      "0: ['Loaded Language', \"Misrepresentation of Someone's Position (Straw Man)\", 'Name calling/Labeling', 'Obfuscation, Intentional vagueness, Confusion', 'Smears']\n",
      "1: ['Presenting Irrelevant Data (Red Herring)']\n",
      "2: ['Appeal to (Strong) Emotions', 'Glittering generalities (Virtue)', 'Loaded Language', \"Misrepresentation of Someone's Position (Straw Man)\", 'Obfuscation, Intentional vagueness, Confusion', 'Smears']\n",
      "3: ['Bandwagon', 'Exaggeration/Minimisation', 'Loaded Language', 'Smears']\n",
      "4: ['Loaded Language', \"Misrepresentation of Someone's Position (Straw Man)\", 'Obfuscation, Intentional vagueness, Confusion', 'Smears']\n",
      "5: ['Glittering generalities (Virtue)', 'Presenting Irrelevant Data (Red Herring)']\n",
      "6: ['Bandwagon', 'Loaded Language', 'Thought-terminating cliché']\n",
      "7: ['Loaded Language', \"Misrepresentation of Someone's Position (Straw Man)\", 'Name calling/Labeling', 'Obfuscation, Intentional vagueness, Confusion', 'Whataboutism']\n",
      "8: ['Obfuscation, Intentional vagueness, Confusion']\n",
      "9: ['Smears', 'Slogans', 'Appeal to fear/prejudice', 'Flag-waving', 'Bandwagon']\n",
      "10: ['Repetition', 'Smears', 'Loaded Language', 'Name calling/Labeling', 'Bandwagon']\n",
      "11: ['Exaggeration/Minimisation', 'Loaded Language', 'Name calling/Labeling', 'Obfuscation, Intentional vagueness, Confusion']\n",
      "12: ['Doubt', 'Presenting Irrelevant Data (Red Herring)']\n",
      "13: ['Exaggeration/Minimisation', 'Loaded Language', 'Name calling/Labeling', 'Obfuscation, Intentional vagueness, Confusion', 'Smears']\n",
      "14: ['Appeal to fear/prejudice', 'Loaded Language', 'Presenting Irrelevant Data (Red Herring)']\n",
      "15: ['Appeal to authority', 'Bandwagon', 'Loaded Language', 'Name calling/Labeling']\n",
      "16: ['Doubt', 'Presenting Irrelevant Data (Red Herring)']\n",
      "17: ['Black-and-white Fallacy/Dictatorship', 'Doubt', 'Loaded Language', 'Presenting Irrelevant Data (Red Herring)']\n",
      "18: ['Loaded Language', 'Presenting Irrelevant Data (Red Herring)']\n"
     ]
    }
   ],
   "source": [
    "for i in range(len(obs)):\n",
    "    print('{}: {}'.format(i,obs[i]['labels']))"
   ]
  },
  {
   "cell_type": "code",
   "execution_count": 37,
   "metadata": {},
   "outputs": [],
   "source": [
    "### Now add 3 observation of Bandwagon and  into the training and 2 into testing \n",
    "### Put 4 Obfuscation, Intentional vagueness, Confusion and Presenting Irrelevant Data (Red Herring) into training and 3 into testing\n",
    "\n",
    "### There are instances where Obfuscation, Intentional vagueness, Confusion and Presenting Irrelevant Data (Red Herring) are the only label. \n",
    "### Those should go into training data so model can learn those.\n",
    "\n",
    "### At random locations\n",
    "\n",
    "training_data.insert(random.randint(0, len(training_data)), obs[0])\n",
    "training_data.insert(random.randint(0, len(training_data)), obs[1])\n",
    "training_data.insert(random.randint(0, len(training_data)), obs[2])\n",
    "training_data.insert(random.randint(0, len(training_data)), obs[5])\n",
    "training_data.insert(random.randint(0, len(training_data)), obs[6])\n",
    "training_data.insert(random.randint(0, len(training_data)), obs[8])\n",
    "training_data.insert(random.randint(0, len(training_data)), obs[9])\n",
    "training_data.insert(random.randint(0, len(training_data)), obs[12])\n",
    "training_data.insert(random.randint(0, len(training_data)), obs[13])\n",
    "training_data.insert(random.randint(0, len(training_data)), obs[15])\n",
    "training_data.insert(random.randint(0, len(training_data)), obs[17])\n",
    "\n",
    "testing_data.insert(random.randint(0, len(testing_data)), obs[3])\n",
    "testing_data.insert(random.randint(0, len(testing_data)), obs[4])\n",
    "testing_data.insert(random.randint(0, len(testing_data)), obs[7])\n",
    "testing_data.insert(random.randint(0, len(testing_data)), obs[10])\n",
    "testing_data.insert(random.randint(0, len(testing_data)), obs[11])\n",
    "testing_data.insert(random.randint(0, len(testing_data)), obs[14])\n",
    "testing_data.insert(random.randint(0, len(testing_data)), obs[16])\n",
    "testing_data.insert(random.randint(0, len(testing_data)), obs[18])"
   ]
  },
  {
   "cell_type": "code",
   "execution_count": 38,
   "metadata": {},
   "outputs": [
    {
     "name": "stdout",
     "output_type": "stream",
     "text": [
      "727\n",
      "187\n"
     ]
    }
   ],
   "source": [
    "print(len(training_data))\n",
    "print(len(testing_data))"
   ]
  },
  {
   "cell_type": "code",
   "execution_count": 39,
   "metadata": {},
   "outputs": [
    {
     "name": "stdout",
     "output_type": "stream",
     "text": [
      "914\n",
      "914\n"
     ]
    }
   ],
   "source": [
    "print(len(data))\n",
    "print(len(training_data) + len(testing_data))"
   ]
  },
  {
   "cell_type": "code",
   "execution_count": 40,
   "metadata": {},
   "outputs": [],
   "source": [
    "training_labels_indv = []\n",
    "for i in range(len(training_data)):\n",
    "    for j in training_data[i]['labels']:\n",
    "        training_labels_indv.append(j)\n",
    "        \n",
    "testing_labels_indv = []\n",
    "for i in range(len(testing_data)):\n",
    "    for j in testing_data[i]['labels']:\n",
    "        testing_labels_indv.append(j)"
   ]
  },
  {
   "cell_type": "code",
   "execution_count": 41,
   "metadata": {},
   "outputs": [
    {
     "name": "stdout",
     "output_type": "stream",
     "text": [
      "Exaggeration/Minimisation :  69\n",
      "Name calling/Labeling :  280\n",
      "Smears :  485\n",
      "Transfer :  81\n",
      "Causal Oversimplification :  33\n",
      "Loaded Language :  394\n",
      "Repetition :  11\n",
      "Slogans :  50\n",
      "Black-and-white Fallacy/Dictatorship :  16\n",
      "Appeal to (Strong) Emotions :  72\n",
      "Whataboutism :  57\n",
      "Appeal to fear/prejudice :  77\n",
      "Presenting Irrelevant Data (Red Herring) :  4\n",
      "Doubt :  90\n",
      "Misrepresentation of Someone's Position (Straw Man) :  34\n",
      "Glittering generalities (Virtue) :  81\n",
      "Appeal to authority :  25\n",
      "Flag-waving :  41\n",
      "Bandwagon :  3\n",
      "Reductio ad hitlerum :  20\n",
      "Thought-terminating cliché :  20\n",
      "Obfuscation, Intentional vagueness, Confusion :  4\n"
     ]
    }
   ],
   "source": [
    "training_labels_indv_freq = countFreq(training_labels_indv)"
   ]
  },
  {
   "cell_type": "code",
   "execution_count": 42,
   "metadata": {},
   "outputs": [
    {
     "name": "stdout",
     "output_type": "stream",
     "text": [
      "Appeal to (Strong) Emotions :  18\n",
      "Smears :  117\n",
      "Black-and-white Fallacy/Dictatorship :  10\n",
      "Flag-waving :  14\n",
      "Loaded Language :  98\n",
      "Name calling/Labeling :  67\n",
      "Glittering generalities (Virtue) :  31\n",
      "Transfer :  14\n",
      "Appeal to fear/prejudice :  14\n",
      "Causal Oversimplification :  3\n",
      "Exaggeration/Minimisation :  30\n",
      "Slogans :  20\n",
      "Appeal to authority :  10\n",
      "Doubt :  21\n",
      "Whataboutism :  10\n",
      "Misrepresentation of Someone's Position (Straw Man) :  6\n",
      "Obfuscation, Intentional vagueness, Confusion :  3\n",
      "Presenting Irrelevant Data (Red Herring) :  3\n",
      "Thought-terminating cliché :  7\n",
      "Repetition :  3\n",
      "Reductio ad hitlerum :  3\n",
      "Bandwagon :  2\n"
     ]
    }
   ],
   "source": [
    "testing_labels_indv_freq = countFreq(testing_labels_indv)"
   ]
  },
  {
   "cell_type": "code",
   "execution_count": 43,
   "metadata": {},
   "outputs": [
    {
     "data": {
      "text/plain": [
       "22"
      ]
     },
     "execution_count": 43,
     "metadata": {},
     "output_type": "execute_result"
    }
   ],
   "source": [
    "len(training_labels_indv_freq)"
   ]
  },
  {
   "cell_type": "code",
   "execution_count": 44,
   "metadata": {},
   "outputs": [
    {
     "data": {
      "text/plain": [
       "22"
      ]
     },
     "execution_count": 44,
     "metadata": {},
     "output_type": "execute_result"
    }
   ],
   "source": [
    "len(testing_labels_indv_freq)"
   ]
  },
  {
   "cell_type": "code",
   "execution_count": 45,
   "metadata": {},
   "outputs": [],
   "source": [
    "### Now save these datasets\n",
    "with open('training_data_task3.txt', 'w') as f:\n",
    "    json.dump(training_data, f)\n",
    "f.close()\n",
    "\n",
    "with open('testing_data_task3.txt', 'w') as f:\n",
    "    json.dump(testing_data, f)\n",
    "f.close()"
   ]
  },
  {
   "cell_type": "code",
   "execution_count": null,
   "metadata": {},
   "outputs": [],
   "source": []
  }
 ],
 "metadata": {
  "kernelspec": {
   "display_name": "Python 3",
   "language": "python",
   "name": "python3"
  },
  "language_info": {
   "codemirror_mode": {
    "name": "ipython",
    "version": 3
   },
   "file_extension": ".py",
   "mimetype": "text/x-python",
   "name": "python",
   "nbconvert_exporter": "python",
   "pygments_lexer": "ipython3",
   "version": "3.6.9"
  }
 },
 "nbformat": 4,
 "nbformat_minor": 4
}
