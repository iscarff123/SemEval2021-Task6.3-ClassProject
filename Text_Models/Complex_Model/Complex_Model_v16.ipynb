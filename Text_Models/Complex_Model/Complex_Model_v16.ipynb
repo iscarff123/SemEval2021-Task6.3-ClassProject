{
 "cells": [
  {
   "cell_type": "code",
   "execution_count": 1,
   "metadata": {},
   "outputs": [],
   "source": [
    "import random\n",
    "import json \n",
    "import time\n",
    "import copy\n",
    "\n",
    "import numpy as np\n",
    "import pandas as pd\n",
    "\n",
    "from sklearn import metrics\n",
    "from sklearn.preprocessing import MultiLabelBinarizer\n",
    "from sklearn.model_selection import KFold\n",
    "\n",
    "import torch\n",
    "\n",
    "from torch.utils.data import Dataset, DataLoader, RandomSampler, SequentialSampler, ConcatDataset\n",
    "import torch.optim as optim\n",
    "from torch.optim import Optimizer\n",
    "from torch.optim.lr_scheduler import LambdaLR\n",
    "\n",
    "from torchvision import models\n",
    "from torchsummary import summary\n",
    "\n",
    "# !pip install transformers\n",
    "import transformers\n",
    "from transformers import BertTokenizer, BertModel, BertConfig, AdamW\n",
    "\n",
    "import matplotlib.pyplot as plt\n",
    "import seaborn as sns\n",
    "\n",
    "#from apex import amp\n",
    "\n",
    "# ensure reproducability\n",
    "#torch.seed(25)\n",
    "torch.manual_seed(25)\n",
    "torch.cuda.manual_seed_all(25)\n",
    "torch.backends.cudnn.deterministic = True\n",
    "torch.backends.cudnn.benchmark = False\n",
    "np.random.seed(25)\n",
    "random.seed(25)\n",
    "\n"
   ]
  },
  {
   "cell_type": "code",
   "execution_count": 2,
   "metadata": {},
   "outputs": [],
   "source": [
    "# Initialization\n",
    "#opt_level = 'O1'\n",
    "#apex.amp.initialize(model, optimizer, opt_level=opt_level)\n",
    "\n",
    "#torch.cuda.amp.GradScaler(\n",
    "#    init_scale=65536.0, growth_factor=2.0, backoff_factor=0.5,\n",
    "#    growth_interval=2000, enabled=True\n",
    "# )\n"
   ]
  },
  {
   "cell_type": "code",
   "execution_count": 3,
   "metadata": {},
   "outputs": [],
   "source": [
    "# # Setting up the device for GPU usage\n",
    "\n",
    "from torch import cuda\n",
    "device = 'cuda' if cuda.is_available() else 'cpu'\n",
    "#device = 'cuda'"
   ]
  },
  {
   "cell_type": "code",
   "execution_count": 4,
   "metadata": {},
   "outputs": [
    {
     "name": "stdout",
     "output_type": "stream",
     "text": [
      "Model will be trained on: cuda\n"
     ]
    }
   ],
   "source": [
    "print('Model will be trained on: ' + device)"
   ]
  },
  {
   "cell_type": "markdown",
   "metadata": {},
   "source": [
    "source\n",
    "https://colab.research.google.com/drive/1d8N-ZLDS4FcmBDDG19gxbt_lSKglnwKq#scrollTo=mgX-jLdjw3Hl <br>\n",
    "https://github.com/kaushaltrivedi/bert-toxic-comments-multilabel/blob/master/toxic-bert-multilabel-classification.ipynb\n",
    "\n",
    "<br>\n",
    "optimized with: <br>\n",
    "https://pytorch.org/docs/stable/notes/amp_examples.html\n",
    "\n",
    "<br>\n",
    "Additional info <br>\n",
    "https://medium.com/@aniruddha.choudhury94/part-2-bert-fine-tuning-tutorial-with-pytorch-for-text-classification-on-the-corpus-of-linguistic-18057ce330e1"
   ]
  },
  {
   "cell_type": "code",
   "execution_count": 5,
   "metadata": {},
   "outputs": [],
   "source": [
    "#df = pd.read_csv(\"./data/train.csv\")\n",
    "#df['list'] = df[df.columns[2:]].values.tolist()\n",
    "#new_df = df[['comment_text', 'list']].copy()\n",
    "#new_df.head()"
   ]
  },
  {
   "cell_type": "code",
   "execution_count": 6,
   "metadata": {},
   "outputs": [],
   "source": [
    "def extract_json_object(filename):\n",
    "    with open(file, \"r\", encoding='utf-8') as read_file:\n",
    "        json_array = json.load(read_file)\n",
    "    json_data = []    \n",
    "    #parse the data\n",
    "    for item in json_array:\n",
    "        details = {\"id\":None, \"labels\":None, \"text\":None}\n",
    "        details['id'] = item['id']\n",
    "        try: \n",
    "            details['labels'] = item['labels']\n",
    "        except KeyError: \n",
    "            details['labels'] = []         \n",
    "        details['text'] = item['text']\n",
    "        json_data.append(details)\n",
    "\n",
    "    \n",
    "    return json_data\n",
    "\n",
    "\n",
    "\n",
    "\n"
   ]
  },
  {
   "cell_type": "code",
   "execution_count": 7,
   "metadata": {},
   "outputs": [],
   "source": [
    "# file paths\n",
    "lst_file_path=[]\n",
    "\n",
    "lst_file_path.append(\"../data/training_data_task3.txt\")\n",
    "\n",
    "lst_file_path.append(\"../data/validation_data_task3.txt\")\n",
    "\n",
    "\n",
    "# List of keys \n",
    "dataset = [\"training\", \"validation\"] \n",
    "# empty dictionary\n",
    "dic_datasets =  dict.fromkeys(dataset, pd.DataFrame()) \n"
   ]
  },
  {
   "cell_type": "code",
   "execution_count": 8,
   "metadata": {},
   "outputs": [
    {
     "name": "stdout",
     "output_type": "stream",
     "text": [
      "loading../data/training_data_task3.txt\n",
      "loading../data/validation_data_task3.txt\n"
     ]
    }
   ],
   "source": [
    "for i, file in enumerate(lst_file_path):\n",
    "    print('loading'+ file)\n",
    "    dic_datasets[dataset[i]] = pd.DataFrame(extract_json_object(extract_json_object))"
   ]
  },
  {
   "cell_type": "code",
   "execution_count": 9,
   "metadata": {},
   "outputs": [],
   "source": [
    "df_training = pd.DataFrame(dic_datasets['training'][['id','labels','text']])\n",
    "df_training.labels = df_training.labels.apply(lambda y: ['no_class'] if len(y)==0 else y)\n",
    "\n",
    "df_val = pd.DataFrame(dic_datasets['validation'][['id','labels','text']])\n",
    "df_val.labels = df_val.labels.apply(lambda y: ['no_class'] if len(y)==0 else y)\n"
   ]
  },
  {
   "cell_type": "code",
   "execution_count": 10,
   "metadata": {},
   "outputs": [
    {
     "name": "stdout",
     "output_type": "stream",
     "text": [
      "average sentence length:  18.264099037138926\n",
      "stdev sentence length:  11.755503545808766\n"
     ]
    }
   ],
   "source": [
    "print('average sentence length: ', df_training.text.str.split().str.len().mean())\n",
    "print('stdev sentence length: ', df_training.text.str.split().str.len().std())"
   ]
  },
  {
   "cell_type": "code",
   "execution_count": null,
   "metadata": {},
   "outputs": [],
   "source": []
  },
  {
   "cell_type": "code",
   "execution_count": null,
   "metadata": {},
   "outputs": [],
   "source": []
  },
  {
   "cell_type": "code",
   "execution_count": 11,
   "metadata": {},
   "outputs": [],
   "source": [
    "# Sections of config\n",
    "\n",
    "# Defining some key variables that will be used later on in the training\n",
    "MAX_LEN = 128\n",
    "freeze_layer_count = 11\n",
    "TRAIN_BATCH_SIZE = 90\n",
    "VALID_BATCH_SIZE = 90\n",
    "\n",
    "\n",
    "EPOCHS = 10\n",
    "\n",
    "#LEARNING_RATE = 1e-05\n",
    "LEARNING_RATE = None\n",
    "tokenizer = BertTokenizer.from_pretrained('bert-base-uncased', do_lower_case=True)\n",
    "\n",
    "# kfold Configuration options\n",
    "k_folds = 10\n",
    "  \n",
    "# For fold results\n",
    "results = {}\n"
   ]
  },
  {
   "cell_type": "markdown",
   "metadata": {},
   "source": [
    "BERT input representation. The input embeddings are the sum of the token embeddings, the segmentation embeddings and the position embeddings. <br>\n",
    "The first token of every sequence is always a special clas- sification token ([CLS]). <br>\n",
    "The final hidden state corresponding to this token is used as the ag- gregate sequence representation for classification tasks. Sentence pairs are packed together into a single sequence. <br>\n",
    "We differentiate the sentences in two ways. First, we separate them with a special token ([SEP]). Second, we add a learned embed- ding to every token indicating whether it belongs to sentence A or sentence B. <br>\n",
    "A positional embedding is also added to each token to indicate its position in the sequence. <br>\n",
    "We are required to: <br>\n",
    "Add special tokens to the start and end of each sentence. <br>\n",
    "Pad & truncate all sentences to a single constant length. <br>\n",
    "Explicitly differentiate real tokens from padding tokens with the “attention mask”. <br>"
   ]
  },
  {
   "cell_type": "markdown",
   "metadata": {},
   "source": [
    "[SEP] <br>\n",
    "At the end of every sentence, we need to append the special [SEP] token. <br>\n",
    "This token is an artifact of two-sentence tasks, where BERT is given two separate sentences and asked to determine something (e.g., can the answer to the question in sentence A be found in sentence B?).<br>\n",
    "Here we are not certain yet why the token is still required when we have only single-sentence input, but it is! <br>\n",
    "[CLS]<br>\n",
    "For classification tasks, we must prepend the special [CLS] token to the beginning of every sentence.<br>"
   ]
  },
  {
   "cell_type": "markdown",
   "metadata": {},
   "source": [
    "For classification tasks, we must prepend the special [CLS] token to the beginning of every sentence.\n",
    "This token has special significance. BERT consists of 12 Transformer layers. Each transformer takes in a list of token embeddings, and produces the same number of embeddings on the output (but with the feature values changed, of course!).\n",
    "On the output of the final (12th) transformer, only the first embedding (corresponding to the [CLS] token) is used by the classifier.\n",
    "“The first token of every sequence is always a special classification token ([CLS]). The final hidden state corresponding to this token is used as the aggregate sequence representation for classification tasks.”\n",
    "Also, because BERT is trained to only use this [CLS] token for classification, we know that the model has been motivated to encode everything it needs for the classification step into that single 768-value embedding vector."
   ]
  },
  {
   "cell_type": "code",
   "execution_count": 12,
   "metadata": {},
   "outputs": [],
   "source": [
    "# note: a gelu hidden activation function is being used"
   ]
  },
  {
   "cell_type": "code",
   "execution_count": 13,
   "metadata": {},
   "outputs": [],
   "source": [
    "\n",
    "# Initializing a BERT bert-base-uncased style configuration\n",
    "configuration = BertConfig(vocab_size=30522, hidden_size=768, num_hidden_layers=12, num_attention_heads=12, \n",
    "                           intermediate_size=3072, hidden_act='gelu', \n",
    "                           hidden_dropout_prob=0.1, attention_probs_dropout_prob=0.1, \n",
    "                           max_position_embeddings=512, type_vocab_size=2, initializer_range=0.02, \n",
    "                           layer_norm_eps=1e-12, pad_token_id=0, \n",
    "                           gradient_checkpointing=False, position_embedding_type='absolute', use_cache=True)\n",
    "\n"
   ]
  },
  {
   "cell_type": "code",
   "execution_count": null,
   "metadata": {},
   "outputs": [],
   "source": []
  },
  {
   "cell_type": "code",
   "execution_count": 14,
   "metadata": {},
   "outputs": [],
   "source": [
    "class CustomDataset(Dataset):\n",
    "\n",
    "    def __init__(self, dataframe, tokenizer, max_len):\n",
    "        self.tokenizer = tokenizer\n",
    "        self.data = dataframe\n",
    "        self.comment_text = dataframe.text\n",
    "        self.targets = self.data[[\n",
    "                                    'Appeal to authority',\n",
    "                                    'Appeal to fear/prejudice',\n",
    "                                    'Black-and-white Fallacy/Dictatorship',\n",
    "                                    'Causal Oversimplification',\n",
    "                                    'Doubt',\n",
    "                                    'Exaggeration/Minimisation',\n",
    "                                    'Flag-waving',\n",
    "                                    'Glittering generalities (Virtue)',\n",
    "                                    'Loaded Language',\n",
    "                                    'Misrepresentation of Someone\\'s Position (Straw Man)',\n",
    "                                    'Name calling/Labeling',\n",
    "                                    'Obfuscation, Intentional vagueness, Confusion',\n",
    "                                    'Presenting Irrelevant Data (Red Herring)',\n",
    "                                    'Reductio ad hitlerum',\n",
    "                                    'Repetition',\n",
    "                                    'Slogans',\n",
    "                                    'Smears',\n",
    "                                    'Thought-terminating cliché',\n",
    "                                    'Whataboutism',\n",
    "                                    'Bandwagon',\n",
    "                                    'Transfer',\n",
    "                                    'Appeal to (Strong) Emotions'\n",
    "                                ]].to_numpy()\n",
    "        self.max_len = max_len\n",
    "\n",
    "    def __len__(self):\n",
    "        return len(self.comment_text)\n",
    "\n",
    "    def __getitem__(self, index):\n",
    "        #print(index)\n",
    "        #print(self.comment_text.index)\n",
    "        comment_text = str(self.comment_text[index])\n",
    "        comment_text = \" \".join(comment_text.split())\n",
    "\n",
    "        # inputs = self.tokenizer.encode_plus(\n",
    "        #    comment_text,\n",
    "        #    None,\n",
    "        #    add_special_tokens=True,\n",
    "        #    truncation=True,\n",
    "        #    max_length=self.max_len,\n",
    "        #    pad_to_max_length=True,\n",
    "        #    #padding=True,\n",
    "        #    #padding='longest',\n",
    "        #    return_token_type_ids=True\n",
    "        # )\n",
    "        inputs = tokenizer.encode_plus(\n",
    "                    comment_text, \n",
    "                    add_special_tokens = True,    \n",
    "                    truncation = True, \n",
    "                    max_length=self.max_len,\n",
    "                    padding = \"max_length\", \n",
    "                    return_attention_mask = True, \n",
    "                    #return_tensors = \"pt\"\n",
    "                    return_token_type_ids=True\n",
    "        )\n",
    "        \n",
    "        ids = inputs['input_ids']\n",
    "        mask = inputs['attention_mask']\n",
    "        token_type_ids = inputs[\"token_type_ids\"]\n",
    "\n",
    "\n",
    "        return {\n",
    "            'ids': torch.tensor(ids, dtype=torch.long),\n",
    "            'mask': torch.tensor(mask, dtype=torch.long),\n",
    "            'token_type_ids': torch.tensor(token_type_ids, dtype=torch.long),\n",
    "            'targets': torch.tensor(self.targets[index], dtype=torch.float)\n",
    "        }"
   ]
  },
  {
   "cell_type": "code",
   "execution_count": null,
   "metadata": {},
   "outputs": [],
   "source": []
  },
  {
   "cell_type": "markdown",
   "metadata": {},
   "source": [
    "Creating the customized model, by adding a drop out and a dense layer on top of distil bert to get the final output for the model. \n",
    "\n",
    "class BERTClass(torch.nn.Module):\n",
    "Initializing a model from the bert-base-uncased style configuration"
   ]
  },
  {
   "cell_type": "code",
   "execution_count": 15,
   "metadata": {
    "scrolled": true,
    "tags": []
   },
   "outputs": [],
   "source": [
    "class BertClass(transformers.PreTrainedModel):\n",
    "    def __init__(self, config):\n",
    "        super(BertClass, self).__init__(config)\n",
    "        self.l1 = transformers.BertModel.from_pretrained('bert-base-uncased')\n",
    "        self.l2 = torch.nn.Dropout(0.3) #.3\n",
    "        self.l3 = torch.nn.Linear(768, 22)\n",
    "    #768\n",
    "    def forward(self, ids, mask, token_type_ids):\n",
    "        #print(ids)\n",
    "        #print(mask)\n",
    "        #_,\n",
    "        #print(type(self.l1(input_ids =ids, attention_mask = mask, token_type_ids = token_type_ids)))\n",
    "        #print(self.l1(input_ids =ids, attention_mask = mask, token_type_ids = token_type_ids))\n",
    "        \n",
    "        # transformers.modeling_outputs.BaseModelOutputWithPoolingAndCrossAttentions -> out of self.l1, need the tensor poooler_output\n",
    "        output_1= self.l1(input_ids =ids, attention_mask = mask, token_type_ids = token_type_ids).pooler_output\n",
    "        \n",
    "        #print(output_1)\n",
    "        #print(type(output_1))\n",
    "        #print(_)\n",
    "        #print(type(_))\n",
    "        output_2 = self.l2(output_1)\n",
    "        output = self.l3(output_2)\n",
    "        return output\n",
    "\n",
    "\n"
   ]
  },
  {
   "cell_type": "code",
   "execution_count": null,
   "metadata": {},
   "outputs": [],
   "source": []
  },
  {
   "cell_type": "markdown",
   "metadata": {},
   "source": [
    "Text - Pre-Processing"
   ]
  },
  {
   "cell_type": "markdown",
   "metadata": {},
   "source": [
    "Use the multilabelbinarizaer to convert the 'words' for the dependent variable (y) to a numerical representation (dummy vars)"
   ]
  },
  {
   "cell_type": "code",
   "execution_count": 16,
   "metadata": {},
   "outputs": [],
   "source": [
    "mlb = MultiLabelBinarizer(sparse_output=True)\n",
    "\n",
    "df_concat_labels = pd.concat([df_training.pop('labels'), df_val.pop('labels')])\n",
    "concat_labels = df_training.join(pd.DataFrame.sparse.from_spmatrix(\n",
    "                    mlb.fit_transform(df_concat_labels),\n",
    "                    index=df_concat_labels.index,\n",
    "                    columns=mlb.classes_))\n",
    "\n",
    "\n",
    "df_training = concat_labels[0:len(df_training)]\n",
    "df_training.reset_index(inplace=True)\n",
    "\n",
    "df_val = concat_labels[len(df_training):]\n",
    "df_val.reset_index(inplace=True)"
   ]
  },
  {
   "cell_type": "code",
   "execution_count": 17,
   "metadata": {},
   "outputs": [],
   "source": [
    "#test = pd.DataFrame.reset_index(pd.concat([df_training, df_val]), drop=True)"
   ]
  },
  {
   "cell_type": "code",
   "execution_count": null,
   "metadata": {},
   "outputs": [],
   "source": []
  },
  {
   "cell_type": "code",
   "execution_count": null,
   "metadata": {},
   "outputs": [],
   "source": []
  },
  {
   "cell_type": "markdown",
   "metadata": {},
   "source": [
    "Kfold Cross Validation - instantiate"
   ]
  },
  {
   "cell_type": "code",
   "execution_count": 18,
   "metadata": {},
   "outputs": [],
   "source": [
    "#df_combined = pd.DataFrame.reset_index(pd.concat([df_training, df_val]), drop=True)\n",
    "\n",
    "\n",
    "#dataset = ConcatDataset([df_training, df_val])\n",
    "  \n",
    "# Define the K-fold Cross Validator\n",
    "kfold = KFold(n_splits=k_folds, shuffle=True)"
   ]
  },
  {
   "cell_type": "code",
   "execution_count": 19,
   "metadata": {},
   "outputs": [
    {
     "name": "stdout",
     "output_type": "stream",
     "text": [
      "KFold(n_splits=2, random_state=None, shuffle=True)\n"
     ]
    }
   ],
   "source": [
    "print(kfold)"
   ]
  },
  {
   "cell_type": "code",
   "execution_count": 20,
   "metadata": {},
   "outputs": [
    {
     "name": "stdout",
     "output_type": "stream",
     "text": [
      "Train Dataset: 727\n",
      "Val Dataset: 140\n"
     ]
    }
   ],
   "source": [
    "#print(\"Combined Dataset: {}\".format(len(df_combined)))\n",
    "\n",
    "print(\"Train Dataset: {}\".format(len(df_training)))\n",
    "print(\"Val Dataset: {}\".format(len(df_val)))"
   ]
  },
  {
   "cell_type": "code",
   "execution_count": null,
   "metadata": {},
   "outputs": [],
   "source": []
  },
  {
   "cell_type": "code",
   "execution_count": null,
   "metadata": {
    "tags": []
   },
   "outputs": [],
   "source": []
  },
  {
   "cell_type": "code",
   "execution_count": 21,
   "metadata": {},
   "outputs": [],
   "source": [
    "# Creating the dataset and dataloader for the neural network\n",
    "\n",
    "#train_size = 0.8\n",
    "\n",
    "#new_df2 = new_df[1:200]\n",
    "#train_dataset=df_training\n",
    "#test_dataset=df_val\n",
    "#train_dataset = train_dataset.reset_index(drop=True)\n",
    "\n",
    "\n",
    "#print(\"FULL Dataset: {}\".format(df_concat_labels.shape))\n",
    "#print(\"TRAIN Dataset: {}\".format(train_dataset.shape))\n",
    "#print(\"TEST Dataset: {}\".format(test_dataset.shape))\n",
    "\n",
    "#training_set = CustomDataset(train_dataset, tokenizer, MAX_LEN)\n",
    "#testing_set = CustomDataset(test_dataset, tokenizer, MAX_LEN)\n",
    "\n",
    "\n",
    "#dataset_size = len(train_dataset)"
   ]
  },
  {
   "cell_type": "code",
   "execution_count": null,
   "metadata": {},
   "outputs": [],
   "source": []
  },
  {
   "cell_type": "code",
   "execution_count": 22,
   "metadata": {},
   "outputs": [],
   "source": [
    "#train_params = {'batch_size': TRAIN_BATCH_SIZE,\n",
    "#                'shuffle': True,\n",
    "#                'num_workers': 0\n",
    "#                }\n",
    "\n",
    "#test_params = {'batch_size': VALID_BATCH_SIZE,\n",
    "#                'shuffle': True,\n",
    "#                'num_workers': 0\n",
    "#                }\n",
    "\n",
    "#training_loader = DataLoader(training_set, **train_params)\n",
    "#testing_loader = DataLoader(testing_set, **test_params)"
   ]
  },
  {
   "cell_type": "markdown",
   "metadata": {},
   "source": [
    "why this loss function was selected:\n",
    "nn.CrossEntropyLoss uses the target to index the logits in your model’s output.<br>\n",
    "Thus it is suitable for multi-class classification use cases (only one valid class in the target). <br>\n",
    "\n",
    "nn.BCEWithLogitsLoss on the other hand treats each output independently and is suitable for multi-label classification use cases.<br>"
   ]
  },
  {
   "cell_type": "code",
   "execution_count": 23,
   "metadata": {},
   "outputs": [],
   "source": [
    "#helper functions\n",
    "\n",
    "def create_data_loader_kfold(df_kf, df_val, trn_ids, tst_ids):\n",
    "    print('Original Train Dataset: ' + str(len(df_kf)))\n",
    "    \n",
    "    cust_Dataset_train = CustomDataset(df_kf, tokenizer, MAX_LEN)\n",
    "    cust_Dataset_val = CustomDataset(df_val, tokenizer, MAX_LEN)\n",
    "    \n",
    "\n",
    "    # Sample elements randomly from a given list of ids, no replacement.\n",
    "    kfold_train_subsampler = torch.utils.data.SubsetRandomSampler(trn_ids)\n",
    "    kfold_test_subsampler = torch.utils.data.SubsetRandomSampler(tst_ids)\n",
    "    \n",
    "    val_params = {'batch_size': VALID_BATCH_SIZE,\n",
    "                    'shuffle': True,\n",
    "                    'num_workers': 0\n",
    "                    }\n",
    "    \n",
    "    \n",
    "    # Define data loaders for training and testing data in this fold\n",
    "    kfold_trainloader = torch.utils.data.DataLoader(\n",
    "                      cust_Dataset_train, \n",
    "                      batch_size=VALID_BATCH_SIZE, sampler=kfold_train_subsampler)\n",
    "    kfold_testloader = torch.utils.data.DataLoader(\n",
    "                      cust_Dataset_train,\n",
    "                      batch_size=VALID_BATCH_SIZE, sampler=kfold_test_subsampler)\n",
    "    \n",
    "    valloader = DataLoader(cust_Dataset_val, **val_params)\n",
    "    \n",
    "\n",
    "    print(\"KFOLD CROSSVALIDATION TRAIN Dataset: {}\".format(len(kfold_trainloader) * kfold_trainloader.batch_size))\n",
    "    print(\"KFOLD CROSSVALIDATION TEST Dataset: {}\".format(len(kfold_testloader) * kfold_trainloader.batch_size))\n",
    "    print(\"VALIDATION Dataset: {}\".format(len(valloader) * valloader.batch_size))\n",
    "    \n",
    "    \n",
    "    return kfold_trainloader, kfold_testloader, valloader\n",
    "    \n",
    "    \n",
    "    \n",
    "\n",
    "def create_data_loader(train_dataset,test_dataset):\n",
    "    print(\"TRAIN Dataset: {}\".format(train_dataset.shape))\n",
    "    print(\"TEST Dataset: {}\".format(test_dataset.shape))\n",
    "    \n",
    "    training_set = CustomDataset(train_dataset, tokenizer, MAX_LEN)\n",
    "    testing_set = CustomDataset(test_dataset, tokenizer, MAX_LEN)\n",
    "    dataset_size = len(train_dataset)\n",
    "    \n",
    "    train_params = {'batch_size': TRAIN_BATCH_SIZE,\n",
    "                'shuffle': True,\n",
    "                'num_workers': 0\n",
    "                }\n",
    "\n",
    "    test_params = {'batch_size': VALID_BATCH_SIZE,\n",
    "                    'shuffle': True,\n",
    "                    'num_workers': 0\n",
    "                    }\n",
    "\n",
    "    training_loader = DataLoader(training_set, **train_params)\n",
    "    testing_loader = DataLoader(testing_set, **test_params)\n",
    "\n",
    "\n",
    "    return training_loader, testing_loader, dataset_size\n",
    "\n",
    "def instantiate_model(config, lock_layer_count):\n",
    "    model = BertClass(config)\n",
    "    # Accessing the model configuration\n",
    "    configuration = model.config\n",
    "\n",
    "    #freeze model\n",
    "    if lock_layer_count:\n",
    "    # We freeze here the embeddings of the model\n",
    "        for param in model.l1.embeddings.parameters():\n",
    "            param.requires_grad = False\n",
    "\n",
    "        if lock_layer_count != -1:\n",
    "            # if freeze_layer_count == -1, we only freeze the embedding layer\n",
    "            # otherwise we freeze the first `freeze_layer_count` encoder layers\n",
    "            for layer in model.l1.encoder.layer[:lock_layer_count]:\n",
    "                for param in layer.parameters():\n",
    "                    param.requires_grad = False\n",
    "\n",
    "    # view layers                \n",
    "    #for name, param in model.named_parameters():\n",
    "        #print(name)\n",
    "    #    if param.requires_grad:\n",
    "    #        print(name)\n",
    "\n",
    "    # learnable parameters\n",
    "    pytorch_total_params = sum(p.numel() for p in model.parameters() if p.requires_grad)\n",
    "    print(\"Total Learnable Parms: \" + str(pytorch_total_params))\n",
    "    \n",
    "    return model, configuration\n",
    "\n",
    "\n",
    "# contains a sigmoids activation function built in.\n",
    "# https://pytorch.org/docs/stable/generated/torch.nn.BCEWithLogitsLoss.html\n",
    "\n",
    "def loss_fn(outputs, targets):\n",
    "    return torch.nn.BCEWithLogitsLoss()(outputs, targets)\n",
    "\n"
   ]
  },
  {
   "cell_type": "code",
   "execution_count": null,
   "metadata": {},
   "outputs": [],
   "source": []
  },
  {
   "cell_type": "code",
   "execution_count": 24,
   "metadata": {},
   "outputs": [],
   "source": [
    "# count of leaarnable paramaters for model"
   ]
  },
  {
   "cell_type": "code",
   "execution_count": 25,
   "metadata": {},
   "outputs": [
    {
     "name": "stdout",
     "output_type": "stream",
     "text": [
      "Total Learnable Parms: 7695382\n"
     ]
    }
   ],
   "source": [
    "model, configuration = instantiate_model(configuration,freeze_layer_count)"
   ]
  },
  {
   "cell_type": "code",
   "execution_count": 26,
   "metadata": {},
   "outputs": [],
   "source": [
    "#send model to device"
   ]
  },
  {
   "cell_type": "code",
   "execution_count": 27,
   "metadata": {
    "scrolled": true,
    "tags": []
   },
   "outputs": [
    {
     "data": {
      "text/plain": [
       "BertClass(\n",
       "  (l1): BertModel(\n",
       "    (embeddings): BertEmbeddings(\n",
       "      (word_embeddings): Embedding(30522, 768, padding_idx=0)\n",
       "      (position_embeddings): Embedding(512, 768)\n",
       "      (token_type_embeddings): Embedding(2, 768)\n",
       "      (LayerNorm): LayerNorm((768,), eps=1e-12, elementwise_affine=True)\n",
       "      (dropout): Dropout(p=0.1, inplace=False)\n",
       "    )\n",
       "    (encoder): BertEncoder(\n",
       "      (layer): ModuleList(\n",
       "        (0): BertLayer(\n",
       "          (attention): BertAttention(\n",
       "            (self): BertSelfAttention(\n",
       "              (query): Linear(in_features=768, out_features=768, bias=True)\n",
       "              (key): Linear(in_features=768, out_features=768, bias=True)\n",
       "              (value): Linear(in_features=768, out_features=768, bias=True)\n",
       "              (dropout): Dropout(p=0.1, inplace=False)\n",
       "            )\n",
       "            (output): BertSelfOutput(\n",
       "              (dense): Linear(in_features=768, out_features=768, bias=True)\n",
       "              (LayerNorm): LayerNorm((768,), eps=1e-12, elementwise_affine=True)\n",
       "              (dropout): Dropout(p=0.1, inplace=False)\n",
       "            )\n",
       "          )\n",
       "          (intermediate): BertIntermediate(\n",
       "            (dense): Linear(in_features=768, out_features=3072, bias=True)\n",
       "          )\n",
       "          (output): BertOutput(\n",
       "            (dense): Linear(in_features=3072, out_features=768, bias=True)\n",
       "            (LayerNorm): LayerNorm((768,), eps=1e-12, elementwise_affine=True)\n",
       "            (dropout): Dropout(p=0.1, inplace=False)\n",
       "          )\n",
       "        )\n",
       "        (1): BertLayer(\n",
       "          (attention): BertAttention(\n",
       "            (self): BertSelfAttention(\n",
       "              (query): Linear(in_features=768, out_features=768, bias=True)\n",
       "              (key): Linear(in_features=768, out_features=768, bias=True)\n",
       "              (value): Linear(in_features=768, out_features=768, bias=True)\n",
       "              (dropout): Dropout(p=0.1, inplace=False)\n",
       "            )\n",
       "            (output): BertSelfOutput(\n",
       "              (dense): Linear(in_features=768, out_features=768, bias=True)\n",
       "              (LayerNorm): LayerNorm((768,), eps=1e-12, elementwise_affine=True)\n",
       "              (dropout): Dropout(p=0.1, inplace=False)\n",
       "            )\n",
       "          )\n",
       "          (intermediate): BertIntermediate(\n",
       "            (dense): Linear(in_features=768, out_features=3072, bias=True)\n",
       "          )\n",
       "          (output): BertOutput(\n",
       "            (dense): Linear(in_features=3072, out_features=768, bias=True)\n",
       "            (LayerNorm): LayerNorm((768,), eps=1e-12, elementwise_affine=True)\n",
       "            (dropout): Dropout(p=0.1, inplace=False)\n",
       "          )\n",
       "        )\n",
       "        (2): BertLayer(\n",
       "          (attention): BertAttention(\n",
       "            (self): BertSelfAttention(\n",
       "              (query): Linear(in_features=768, out_features=768, bias=True)\n",
       "              (key): Linear(in_features=768, out_features=768, bias=True)\n",
       "              (value): Linear(in_features=768, out_features=768, bias=True)\n",
       "              (dropout): Dropout(p=0.1, inplace=False)\n",
       "            )\n",
       "            (output): BertSelfOutput(\n",
       "              (dense): Linear(in_features=768, out_features=768, bias=True)\n",
       "              (LayerNorm): LayerNorm((768,), eps=1e-12, elementwise_affine=True)\n",
       "              (dropout): Dropout(p=0.1, inplace=False)\n",
       "            )\n",
       "          )\n",
       "          (intermediate): BertIntermediate(\n",
       "            (dense): Linear(in_features=768, out_features=3072, bias=True)\n",
       "          )\n",
       "          (output): BertOutput(\n",
       "            (dense): Linear(in_features=3072, out_features=768, bias=True)\n",
       "            (LayerNorm): LayerNorm((768,), eps=1e-12, elementwise_affine=True)\n",
       "            (dropout): Dropout(p=0.1, inplace=False)\n",
       "          )\n",
       "        )\n",
       "        (3): BertLayer(\n",
       "          (attention): BertAttention(\n",
       "            (self): BertSelfAttention(\n",
       "              (query): Linear(in_features=768, out_features=768, bias=True)\n",
       "              (key): Linear(in_features=768, out_features=768, bias=True)\n",
       "              (value): Linear(in_features=768, out_features=768, bias=True)\n",
       "              (dropout): Dropout(p=0.1, inplace=False)\n",
       "            )\n",
       "            (output): BertSelfOutput(\n",
       "              (dense): Linear(in_features=768, out_features=768, bias=True)\n",
       "              (LayerNorm): LayerNorm((768,), eps=1e-12, elementwise_affine=True)\n",
       "              (dropout): Dropout(p=0.1, inplace=False)\n",
       "            )\n",
       "          )\n",
       "          (intermediate): BertIntermediate(\n",
       "            (dense): Linear(in_features=768, out_features=3072, bias=True)\n",
       "          )\n",
       "          (output): BertOutput(\n",
       "            (dense): Linear(in_features=3072, out_features=768, bias=True)\n",
       "            (LayerNorm): LayerNorm((768,), eps=1e-12, elementwise_affine=True)\n",
       "            (dropout): Dropout(p=0.1, inplace=False)\n",
       "          )\n",
       "        )\n",
       "        (4): BertLayer(\n",
       "          (attention): BertAttention(\n",
       "            (self): BertSelfAttention(\n",
       "              (query): Linear(in_features=768, out_features=768, bias=True)\n",
       "              (key): Linear(in_features=768, out_features=768, bias=True)\n",
       "              (value): Linear(in_features=768, out_features=768, bias=True)\n",
       "              (dropout): Dropout(p=0.1, inplace=False)\n",
       "            )\n",
       "            (output): BertSelfOutput(\n",
       "              (dense): Linear(in_features=768, out_features=768, bias=True)\n",
       "              (LayerNorm): LayerNorm((768,), eps=1e-12, elementwise_affine=True)\n",
       "              (dropout): Dropout(p=0.1, inplace=False)\n",
       "            )\n",
       "          )\n",
       "          (intermediate): BertIntermediate(\n",
       "            (dense): Linear(in_features=768, out_features=3072, bias=True)\n",
       "          )\n",
       "          (output): BertOutput(\n",
       "            (dense): Linear(in_features=3072, out_features=768, bias=True)\n",
       "            (LayerNorm): LayerNorm((768,), eps=1e-12, elementwise_affine=True)\n",
       "            (dropout): Dropout(p=0.1, inplace=False)\n",
       "          )\n",
       "        )\n",
       "        (5): BertLayer(\n",
       "          (attention): BertAttention(\n",
       "            (self): BertSelfAttention(\n",
       "              (query): Linear(in_features=768, out_features=768, bias=True)\n",
       "              (key): Linear(in_features=768, out_features=768, bias=True)\n",
       "              (value): Linear(in_features=768, out_features=768, bias=True)\n",
       "              (dropout): Dropout(p=0.1, inplace=False)\n",
       "            )\n",
       "            (output): BertSelfOutput(\n",
       "              (dense): Linear(in_features=768, out_features=768, bias=True)\n",
       "              (LayerNorm): LayerNorm((768,), eps=1e-12, elementwise_affine=True)\n",
       "              (dropout): Dropout(p=0.1, inplace=False)\n",
       "            )\n",
       "          )\n",
       "          (intermediate): BertIntermediate(\n",
       "            (dense): Linear(in_features=768, out_features=3072, bias=True)\n",
       "          )\n",
       "          (output): BertOutput(\n",
       "            (dense): Linear(in_features=3072, out_features=768, bias=True)\n",
       "            (LayerNorm): LayerNorm((768,), eps=1e-12, elementwise_affine=True)\n",
       "            (dropout): Dropout(p=0.1, inplace=False)\n",
       "          )\n",
       "        )\n",
       "        (6): BertLayer(\n",
       "          (attention): BertAttention(\n",
       "            (self): BertSelfAttention(\n",
       "              (query): Linear(in_features=768, out_features=768, bias=True)\n",
       "              (key): Linear(in_features=768, out_features=768, bias=True)\n",
       "              (value): Linear(in_features=768, out_features=768, bias=True)\n",
       "              (dropout): Dropout(p=0.1, inplace=False)\n",
       "            )\n",
       "            (output): BertSelfOutput(\n",
       "              (dense): Linear(in_features=768, out_features=768, bias=True)\n",
       "              (LayerNorm): LayerNorm((768,), eps=1e-12, elementwise_affine=True)\n",
       "              (dropout): Dropout(p=0.1, inplace=False)\n",
       "            )\n",
       "          )\n",
       "          (intermediate): BertIntermediate(\n",
       "            (dense): Linear(in_features=768, out_features=3072, bias=True)\n",
       "          )\n",
       "          (output): BertOutput(\n",
       "            (dense): Linear(in_features=3072, out_features=768, bias=True)\n",
       "            (LayerNorm): LayerNorm((768,), eps=1e-12, elementwise_affine=True)\n",
       "            (dropout): Dropout(p=0.1, inplace=False)\n",
       "          )\n",
       "        )\n",
       "        (7): BertLayer(\n",
       "          (attention): BertAttention(\n",
       "            (self): BertSelfAttention(\n",
       "              (query): Linear(in_features=768, out_features=768, bias=True)\n",
       "              (key): Linear(in_features=768, out_features=768, bias=True)\n",
       "              (value): Linear(in_features=768, out_features=768, bias=True)\n",
       "              (dropout): Dropout(p=0.1, inplace=False)\n",
       "            )\n",
       "            (output): BertSelfOutput(\n",
       "              (dense): Linear(in_features=768, out_features=768, bias=True)\n",
       "              (LayerNorm): LayerNorm((768,), eps=1e-12, elementwise_affine=True)\n",
       "              (dropout): Dropout(p=0.1, inplace=False)\n",
       "            )\n",
       "          )\n",
       "          (intermediate): BertIntermediate(\n",
       "            (dense): Linear(in_features=768, out_features=3072, bias=True)\n",
       "          )\n",
       "          (output): BertOutput(\n",
       "            (dense): Linear(in_features=3072, out_features=768, bias=True)\n",
       "            (LayerNorm): LayerNorm((768,), eps=1e-12, elementwise_affine=True)\n",
       "            (dropout): Dropout(p=0.1, inplace=False)\n",
       "          )\n",
       "        )\n",
       "        (8): BertLayer(\n",
       "          (attention): BertAttention(\n",
       "            (self): BertSelfAttention(\n",
       "              (query): Linear(in_features=768, out_features=768, bias=True)\n",
       "              (key): Linear(in_features=768, out_features=768, bias=True)\n",
       "              (value): Linear(in_features=768, out_features=768, bias=True)\n",
       "              (dropout): Dropout(p=0.1, inplace=False)\n",
       "            )\n",
       "            (output): BertSelfOutput(\n",
       "              (dense): Linear(in_features=768, out_features=768, bias=True)\n",
       "              (LayerNorm): LayerNorm((768,), eps=1e-12, elementwise_affine=True)\n",
       "              (dropout): Dropout(p=0.1, inplace=False)\n",
       "            )\n",
       "          )\n",
       "          (intermediate): BertIntermediate(\n",
       "            (dense): Linear(in_features=768, out_features=3072, bias=True)\n",
       "          )\n",
       "          (output): BertOutput(\n",
       "            (dense): Linear(in_features=3072, out_features=768, bias=True)\n",
       "            (LayerNorm): LayerNorm((768,), eps=1e-12, elementwise_affine=True)\n",
       "            (dropout): Dropout(p=0.1, inplace=False)\n",
       "          )\n",
       "        )\n",
       "        (9): BertLayer(\n",
       "          (attention): BertAttention(\n",
       "            (self): BertSelfAttention(\n",
       "              (query): Linear(in_features=768, out_features=768, bias=True)\n",
       "              (key): Linear(in_features=768, out_features=768, bias=True)\n",
       "              (value): Linear(in_features=768, out_features=768, bias=True)\n",
       "              (dropout): Dropout(p=0.1, inplace=False)\n",
       "            )\n",
       "            (output): BertSelfOutput(\n",
       "              (dense): Linear(in_features=768, out_features=768, bias=True)\n",
       "              (LayerNorm): LayerNorm((768,), eps=1e-12, elementwise_affine=True)\n",
       "              (dropout): Dropout(p=0.1, inplace=False)\n",
       "            )\n",
       "          )\n",
       "          (intermediate): BertIntermediate(\n",
       "            (dense): Linear(in_features=768, out_features=3072, bias=True)\n",
       "          )\n",
       "          (output): BertOutput(\n",
       "            (dense): Linear(in_features=3072, out_features=768, bias=True)\n",
       "            (LayerNorm): LayerNorm((768,), eps=1e-12, elementwise_affine=True)\n",
       "            (dropout): Dropout(p=0.1, inplace=False)\n",
       "          )\n",
       "        )\n",
       "        (10): BertLayer(\n",
       "          (attention): BertAttention(\n",
       "            (self): BertSelfAttention(\n",
       "              (query): Linear(in_features=768, out_features=768, bias=True)\n",
       "              (key): Linear(in_features=768, out_features=768, bias=True)\n",
       "              (value): Linear(in_features=768, out_features=768, bias=True)\n",
       "              (dropout): Dropout(p=0.1, inplace=False)\n",
       "            )\n",
       "            (output): BertSelfOutput(\n",
       "              (dense): Linear(in_features=768, out_features=768, bias=True)\n",
       "              (LayerNorm): LayerNorm((768,), eps=1e-12, elementwise_affine=True)\n",
       "              (dropout): Dropout(p=0.1, inplace=False)\n",
       "            )\n",
       "          )\n",
       "          (intermediate): BertIntermediate(\n",
       "            (dense): Linear(in_features=768, out_features=3072, bias=True)\n",
       "          )\n",
       "          (output): BertOutput(\n",
       "            (dense): Linear(in_features=3072, out_features=768, bias=True)\n",
       "            (LayerNorm): LayerNorm((768,), eps=1e-12, elementwise_affine=True)\n",
       "            (dropout): Dropout(p=0.1, inplace=False)\n",
       "          )\n",
       "        )\n",
       "        (11): BertLayer(\n",
       "          (attention): BertAttention(\n",
       "            (self): BertSelfAttention(\n",
       "              (query): Linear(in_features=768, out_features=768, bias=True)\n",
       "              (key): Linear(in_features=768, out_features=768, bias=True)\n",
       "              (value): Linear(in_features=768, out_features=768, bias=True)\n",
       "              (dropout): Dropout(p=0.1, inplace=False)\n",
       "            )\n",
       "            (output): BertSelfOutput(\n",
       "              (dense): Linear(in_features=768, out_features=768, bias=True)\n",
       "              (LayerNorm): LayerNorm((768,), eps=1e-12, elementwise_affine=True)\n",
       "              (dropout): Dropout(p=0.1, inplace=False)\n",
       "            )\n",
       "          )\n",
       "          (intermediate): BertIntermediate(\n",
       "            (dense): Linear(in_features=768, out_features=3072, bias=True)\n",
       "          )\n",
       "          (output): BertOutput(\n",
       "            (dense): Linear(in_features=3072, out_features=768, bias=True)\n",
       "            (LayerNorm): LayerNorm((768,), eps=1e-12, elementwise_affine=True)\n",
       "            (dropout): Dropout(p=0.1, inplace=False)\n",
       "          )\n",
       "        )\n",
       "      )\n",
       "    )\n",
       "    (pooler): BertPooler(\n",
       "      (dense): Linear(in_features=768, out_features=768, bias=True)\n",
       "      (activation): Tanh()\n",
       "    )\n",
       "  )\n",
       "  (l2): Dropout(p=0.3, inplace=False)\n",
       "  (l3): Linear(in_features=768, out_features=22, bias=True)\n",
       ")"
      ]
     },
     "execution_count": 27,
     "metadata": {},
     "output_type": "execute_result"
    }
   ],
   "source": [
    "model.to(device)"
   ]
  },
  {
   "cell_type": "code",
   "execution_count": 28,
   "metadata": {},
   "outputs": [],
   "source": [
    "#model.l1.embeddings"
   ]
  },
  {
   "cell_type": "code",
   "execution_count": 29,
   "metadata": {
    "scrolled": true,
    "tags": []
   },
   "outputs": [],
   "source": [
    "#model.l1.encoder"
   ]
  },
  {
   "cell_type": "code",
   "execution_count": 30,
   "metadata": {},
   "outputs": [
    {
     "data": {
      "text/plain": [
       "BertConfig {\n",
       "  \"attention_probs_dropout_prob\": 0.1,\n",
       "  \"gradient_checkpointing\": false,\n",
       "  \"hidden_act\": \"gelu\",\n",
       "  \"hidden_dropout_prob\": 0.1,\n",
       "  \"hidden_size\": 768,\n",
       "  \"initializer_range\": 0.02,\n",
       "  \"intermediate_size\": 3072,\n",
       "  \"layer_norm_eps\": 1e-12,\n",
       "  \"max_position_embeddings\": 512,\n",
       "  \"model_type\": \"bert\",\n",
       "  \"num_attention_heads\": 12,\n",
       "  \"num_hidden_layers\": 12,\n",
       "  \"pad_token_id\": 0,\n",
       "  \"position_embedding_type\": \"absolute\",\n",
       "  \"transformers_version\": \"4.3.3\",\n",
       "  \"type_vocab_size\": 2,\n",
       "  \"use_cache\": true,\n",
       "  \"vocab_size\": 30522\n",
       "}"
      ]
     },
     "execution_count": 30,
     "metadata": {},
     "output_type": "execute_result"
    }
   ],
   "source": [
    "# view model convifurationprint\n",
    "\n",
    "(model.config)"
   ]
  },
  {
   "cell_type": "code",
   "execution_count": null,
   "metadata": {},
   "outputs": [],
   "source": []
  },
  {
   "cell_type": "code",
   "execution_count": 31,
   "metadata": {},
   "outputs": [],
   "source": [
    "# original optimizer"
   ]
  },
  {
   "cell_type": "code",
   "execution_count": 32,
   "metadata": {},
   "outputs": [],
   "source": [
    "#optimizer = torch.optim.Adam(params =  model.parameters(), lr=LEARNING_RATE)"
   ]
  },
  {
   "cell_type": "markdown",
   "metadata": {},
   "source": [
    "replaced adam optimizatizer with Adafactor -> better designed for BERT\n",
    "https://arxiv.org/pdf/1804.04235.pdf"
   ]
  },
  {
   "cell_type": "code",
   "execution_count": 33,
   "metadata": {},
   "outputs": [],
   "source": [
    "# replace AdamW with Adafactor\n",
    "\n",
    "optimizer = transformers.Adafactor(\n",
    "    model.parameters(),\n",
    "    lr=LEARNING_RATE,  # when using warm up and relative step, LR is auto determined\n",
    "    eps=(1e-30, 1e-3),\n",
    "    clip_threshold=1.0,\n",
    "    decay_rate=-0.8, #0.8\n",
    "    beta1=None, # <- used for L1 regularization\n",
    "    weight_decay=0.0002, # L2 regularization, to prevent overfitting  (beta2)\n",
    "    relative_step=True,\n",
    "    scale_parameter=False,\n",
    "    warmup_init=True\n",
    ")"
   ]
  },
  {
   "cell_type": "code",
   "execution_count": 34,
   "metadata": {},
   "outputs": [],
   "source": [
    "#for param_group in optimizer.param_groups:\n",
    "#    print(param_group['lr'])\n",
    "    \n",
    "#LambdaLR.get_last_lr(optimizer)\n",
    "\n"
   ]
  },
  {
   "cell_type": "code",
   "execution_count": 35,
   "metadata": {},
   "outputs": [],
   "source": [
    "def train_model(model, trn_loader, tst_loader, optimizer, num_epochs=5):\n",
    "    scaler = torch.cuda.amp.GradScaler() # used to minimize model footprint, strategy is called model quantitization.\n",
    "    #model.train()\n",
    "    torch.cuda.empty_cache()\n",
    "    since = time.time()\n",
    "\n",
    "    best_model_wts = copy.deepcopy(model.state_dict())\n",
    "    best_acc = 0.0\n",
    "    losses_train = []\n",
    "    losses_val = []\n",
    "    accuracy_train = []\n",
    "    accuracy_val= []\n",
    "    \n",
    "\n",
    "    for epoch in range(num_epochs):\n",
    "        print('Epoch {}/{}'.format(epoch, num_epochs - 1))\n",
    "        print('-' * 20)\n",
    "\n",
    "        # Each epoch has a training and validation phase\n",
    "        for phase in ['train', 'val']:\n",
    "            if phase == 'train':\n",
    "                model.train()  # Set model to training mode\n",
    "                loader = trn_loader\n",
    "            else:\n",
    "                model.eval()   # Set model to evaluate mode\n",
    "                loader = tst_loader\n",
    "\n",
    "            running_loss = 0.0\n",
    "            running_corrects = 0\n",
    "\n",
    "            # Iterate over data.\n",
    "            for _, data in enumerate(loader):\n",
    "                # zero the parameter gradients\n",
    "                optimizer.zero_grad()\n",
    "                \n",
    "                #input into model (takes 3 items: ids, mask and token)\n",
    "                ids = data['ids'].to(device, dtype = torch.long)\n",
    "                mask = data['mask'].to(device, dtype = torch.long)\n",
    "                token_type_ids = data['token_type_ids'].to(device, dtype = torch.long)\n",
    "            \n",
    "                # gold label\n",
    "                labels = data['targets'].to(device)\n",
    "\n",
    "                \n",
    "                # forward\n",
    "                # track history if only in train                \n",
    "                with torch.cuda.amp.autocast():  # used to minimize model footprint, strategy is called model quantitization.\n",
    "                    #print('id')\n",
    "                    #print(ids)\n",
    "                    #print('mask')\n",
    "                    #print(mask)\n",
    "                    #print('token')\n",
    "                    #print(token_type_ids)\n",
    "                    preds = model(ids, mask, token_type_ids)\n",
    "                    #print('pred')\n",
    "                    #print(preds)\n",
    "                    loss = loss_fn(preds, labels)\n",
    "                    #print('loss')\n",
    "                    #print(loss)\n",
    "                    #preds = preds.detach().cpu().numpy()\n",
    "                    \n",
    " \n",
    "                    \n",
    "                    # backward + optimize only if in training phase\n",
    "                if phase == 'train':\n",
    "                    scaler.scale(loss).backward() # used to minimize model footprint, strategy is called model quantitization.\n",
    "                    scaler.step(optimizer)\n",
    "                    scaler.update()\n",
    "\n",
    "                # statistics\n",
    "                running_loss += loss.detach().cpu().numpy() * ids.size(0)\n",
    "                #print(running_loss)\n",
    "                running_corrects += torch.sum(preds.data == labels.data).detach().cpu().numpy()\n",
    "                \n",
    "                \n",
    "\n",
    "                #print(running_corrects)\n",
    "               # print(preds.detach().cpu().numpy())\n",
    "                #print(labels.data)\n",
    "\n",
    "            epoch_loss = running_loss / (len(loader) * loader.batch_size)\n",
    "            epoch_acc = running_corrects/ (len(loader) * loader.batch_size)\n",
    "            \n",
    "            if phase == 'train':\n",
    "                losses_train.append(epoch_loss) \n",
    "                accuracy_train.append(epoch_acc)\n",
    "            else:\n",
    "                losses_val.append(epoch_loss)\n",
    "                accuracy_val.append(epoch_acc)\n",
    "\n",
    "            print('{} Loss: {:.4f} Acc: {:.4f}'.format(phase, epoch_loss, epoch_acc))\n",
    "\n",
    "            # deep copy the model\n",
    "            if phase == 'val' and epoch_acc > best_acc:\n",
    "                best_acc = epoch_acc\n",
    "                best_model_wts = copy.deepcopy(model.state_dict())\n",
    "    \n",
    "        \n",
    "        time_elapsed = time.time() - since\n",
    "        print('Training complete in {:.0f}m {:.0f}s'.format(time_elapsed // 60, time_elapsed % 60))\n",
    "        print('Best val Acc: {:4f}'.format(best_acc))\n",
    "        \n",
    "        # load best model weights\n",
    "        model.load_state_dict(best_model_wts)\n",
    "        torch.save({\n",
    "            'epoch': epoch,\n",
    "            'model_state_dict': model.state_dict(),\n",
    "            'optimizer_state_dict': optimizer.state_dict(),\n",
    "            'loss': epoch_loss,\n",
    "            }, \"./model.pkl\")\n",
    "    return model, losses_train, losses_val, accuracy_train, accuracy_val"
   ]
  },
  {
   "cell_type": "code",
   "execution_count": 36,
   "metadata": {},
   "outputs": [],
   "source": [
    "def validation(model, testing_loader):\n",
    "    # Put model in evaluation mode to evaluate loss on the validation set\n",
    "    model.eval()\n",
    "\n",
    "    #track variables\n",
    "    true_labels,pred_labels = [],[]\n",
    "\n",
    "    # Predict\n",
    "    for _, data in enumerate(testing_loader, 0):\n",
    "        #print(_)\n",
    "        \n",
    "        #prepare data to feed into model\n",
    "        ids = data['ids'].to(device, dtype = torch.long)\n",
    "        mask = data['mask'].to(device, dtype = torch.long)\n",
    "        token_type_ids = data['token_type_ids'].to(device, dtype = torch.long)\n",
    "        targets = data['targets'].to(device, dtype = torch.float)\n",
    "       \n",
    "        with torch.no_grad():\n",
    "            \n",
    "            # Forward pass\n",
    "            outputs = model(ids, mask, token_type_ids)\n",
    "            b_logit_pred = outputs\n",
    "            pred_label = b_logit_pred\n",
    "\n",
    "            b_logit_pred = b_logit_pred.detach().cpu().numpy()\n",
    "            pred_label = pred_label.to('cpu').numpy()\n",
    "            targets = targets.to('cpu').numpy()\n",
    "\n",
    "        #tokenized_texts.append(b_input_ids)\n",
    "        #logit_preds.append(b_logit_pred)\n",
    "        true_labels.append(targets)\n",
    "        pred_labels.append(pred_label)\n",
    "\n",
    "    # Flatten outputs\n",
    "    #tokenized_texts = [item for sublist in tokenized_texts for item in sublist]\n",
    "    # print(true_labels)\n",
    "    # print(pred_labels)\n",
    "    pred_labels = [item for sublist in pred_labels for item in sublist]\n",
    "    true_labels = [item for sublist in true_labels for item in sublist]\n",
    "    # Converting flattened binary values to boolean values\n",
    "    true_bools = [tl==1 for tl in targets]\n",
    "    \n",
    "    return true_labels, true_bools, pred_labels"
   ]
  },
  {
   "cell_type": "code",
   "execution_count": 37,
   "metadata": {},
   "outputs": [],
   "source": [
    "#train(10)"
   ]
  },
  {
   "cell_type": "code",
   "execution_count": 38,
   "metadata": {
    "scrolled": true
   },
   "outputs": [],
   "source": [
    "#train(epoch)\n",
    "#train(2)\n",
    "\n",
    "\n",
    "#model, loss_train, loss_val = train_model(model, optimizer, num_epochs=EPOCHS)"
   ]
  },
  {
   "cell_type": "code",
   "execution_count": null,
   "metadata": {},
   "outputs": [],
   "source": []
  },
  {
   "cell_type": "code",
   "execution_count": null,
   "metadata": {},
   "outputs": [],
   "source": []
  },
  {
   "cell_type": "code",
   "execution_count": 39,
   "metadata": {},
   "outputs": [],
   "source": [
    "#plt.figure()\n",
    "#plt.plot(loss_train)\n",
    "#plt.plot(loss_val)"
   ]
  },
  {
   "cell_type": "code",
   "execution_count": 40,
   "metadata": {},
   "outputs": [],
   "source": [
    " #torch.cuda.empty_cache()"
   ]
  },
  {
   "cell_type": "code",
   "execution_count": null,
   "metadata": {},
   "outputs": [],
   "source": []
  },
  {
   "cell_type": "code",
   "execution_count": null,
   "metadata": {},
   "outputs": [],
   "source": []
  },
  {
   "cell_type": "code",
   "execution_count": null,
   "metadata": {},
   "outputs": [],
   "source": []
  },
  {
   "cell_type": "code",
   "execution_count": 41,
   "metadata": {
    "scrolled": true,
    "tags": []
   },
   "outputs": [
    {
     "name": "stdout",
     "output_type": "stream",
     "text": [
      "FOLD 0\n",
      "--------------------------------\n",
      "Original Train Dataset: 727\n",
      "KFOLD CROSSVALIDATION TRAIN Dataset: 450\n",
      "KFOLD CROSSVALIDATION TEST Dataset: 450\n",
      "VALIDATION Dataset: 180\n",
      "Epoch 0/0\n",
      "--------------------\n"
     ]
    },
    {
     "name": "stderr",
     "output_type": "stream",
     "text": [
      "D:\\Users\\sync\\anaconda3\\envs\\pytorch\\lib\\site-packages\\transformers\\optimization.py:557: UserWarning: This overload of add_ is deprecated:\n",
      "\tadd_(Number alpha, Tensor other)\n",
      "Consider using one of the following signatures instead:\n",
      "\tadd_(Tensor other, *, Number alpha) (Triggered internally at  ..\\torch\\csrc\\utils\\python_arg_parser.cpp:882.)\n",
      "  exp_avg_sq_row.mul_(beta2t).add_(1.0 - beta2t, update.mean(dim=-1))\n"
     ]
    },
    {
     "name": "stdout",
     "output_type": "stream",
     "text": [
      "train Loss: 0.6001 Acc: 0.0000\n",
      "val Loss: 0.5979 Acc: 0.0000\n",
      "Training complete in 0m 12s\n",
      "Best val Acc: 0.000000\n",
      "Training process has finished. Saving trained model.\n",
      "Starting Validation\n",
      "Accuracy for fold 0: 59 %\n",
      "--------------------------------\n",
      "FOLD 1\n",
      "--------------------------------\n",
      "Original Train Dataset: 727\n",
      "KFOLD CROSSVALIDATION TRAIN Dataset: 450\n",
      "KFOLD CROSSVALIDATION TEST Dataset: 450\n",
      "VALIDATION Dataset: 180\n",
      "Epoch 0/0\n",
      "--------------------\n",
      "train Loss: 0.5993 Acc: 0.0000\n",
      "val Loss: 0.5883 Acc: 0.0000\n",
      "Training complete in 0m 12s\n",
      "Best val Acc: 0.000000\n",
      "Training process has finished. Saving trained model.\n",
      "Starting Validation\n",
      "Accuracy for fold 1: 58 %\n",
      "--------------------------------\n",
      "K-FOLD CROSS VALIDATION RESULTS FOR 2 FOLDS\n",
      "--------------------------------\n",
      "Fold 0: 59.79030402501424 %\n",
      "Fold 1: 58.82573330402374 %\n",
      "Average: 59.30801866451899 %\n"
     ]
    }
   ],
   "source": [
    "# K-fold Cross Validation model evaluation\n",
    "for fold, (kfold_cv_train_ids, kfold_cv_test_ids) in enumerate(kfold.split(df_training)):\n",
    "\n",
    "    # Print\n",
    "    print(f'FOLD {fold}')\n",
    "    print('--------------------------------')\n",
    "    \n",
    "    # Sample elements randomly from a given list of ids, no replacement.\n",
    "    #train_subsampler = torch.utils.data.SubsetRandomSampler(train_ids)\n",
    "    #test_subsampler = torch.utils.data.SubsetRandomSampler(test_ids)\n",
    "    \n",
    "    # Define data loaders for training and testing data in this fold\n",
    "    #trainloader = torch.utils.data.DataLoader(\n",
    "    #                  dataset, \n",
    "    #                  batch_size=10, sampler=train_subsampler)\n",
    "    #testloader = torch.utils.data.DataLoader(\n",
    "    #                  dataset,\n",
    "    #                  batch_size=10, sampler=test_subsampler)\n",
    "    torch.cuda.empty_cache()\n",
    "    \n",
    "    kfold_cv_train_loader, kfold_cv_test_loader, val_loader = create_data_loader_kfold(df_training, df_val, kfold_cv_train_ids, kfold_cv_test_ids)\n",
    "    # Init the neural network\n",
    "    #network = SimpleConvNet()\n",
    "    \n",
    "    # Initialize optimizer\n",
    "    #optimizer = torch.optim.Adam(network.parameters(), lr=1e-4)\n",
    "\n",
    "    \n",
    "    \n",
    "    model, loss_train, loss_val, accuracy_train,accuracy_val = train_model(model, kfold_cv_train_loader, kfold_cv_test_loader, optimizer, num_epochs=EPOCHS)\n",
    "  \n",
    "            \n",
    "    # Process is complete.\n",
    "    print('Training process has finished. Saving trained model.')\n",
    "\n",
    "    # Print about testing\n",
    "    print('Starting Validation')\n",
    "    \n",
    "    # Saving the model\n",
    "    save_path = f'./model-fold-{fold}.pth'\n",
    "    torch.save(model.state_dict(), save_path)\n",
    "\n",
    "    # Evaluationfor this fold\n",
    "    correct, total = 0, 0\n",
    "    #with torch.no_grad():\n",
    "\n",
    "      # Iterate over the test data and generate predictions\n",
    "      #for i, data in enumerate(testloader, 0):\n",
    "\n",
    "        # Get inputs\n",
    "       # inputs, targets = data\n",
    "\n",
    "        # Generate outputs\n",
    "        #outputs = network(inputs)\n",
    "\n",
    "        # Set total and correct\n",
    "       # _, predicted = torch.max(outputs.data, 1)\n",
    "       # total += targets.size(0)\n",
    "       # correct += (predicted == targets).sum().item()\n",
    "    \n",
    "    true_labels, true_bools, pred_labels = validation(model, val_loader)\n",
    "\n",
    "    correct = len(true_bools)\n",
    "    total = len(true_labels)\n",
    "    #print(loss_val)\n",
    "    # Print accuracy\n",
    "    ave = sum(loss_val) / len(loss_val)\n",
    "    print('Accuracy for fold %d: %d %%' % (fold, 100.0 * ave))\n",
    "    print('--------------------------------')\n",
    "    results[fold] = 100.0 * ave\n",
    "    \n",
    "# Print fold results\n",
    "print(f'K-FOLD CROSS VALIDATION RESULTS FOR {k_folds} FOLDS')\n",
    "print('--------------------------------')\n",
    "total = 0.0\n",
    "for key, value in results.items():\n",
    "    print(f'Fold {key}: {value} %')\n",
    "    total += value\n",
    "print(f'Average: {total/len(results.items())} %')\n",
    "\n",
    "    "
   ]
  },
  {
   "cell_type": "code",
   "execution_count": null,
   "metadata": {},
   "outputs": [],
   "source": []
  },
  {
   "cell_type": "code",
   "execution_count": null,
   "metadata": {},
   "outputs": [],
   "source": []
  },
  {
   "cell_type": "code",
   "execution_count": null,
   "metadata": {},
   "outputs": [],
   "source": []
  },
  {
   "cell_type": "code",
   "execution_count": null,
   "metadata": {},
   "outputs": [],
   "source": []
  },
  {
   "cell_type": "code",
   "execution_count": null,
   "metadata": {},
   "outputs": [],
   "source": []
  },
  {
   "cell_type": "code",
   "execution_count": null,
   "metadata": {},
   "outputs": [],
   "source": []
  },
  {
   "cell_type": "code",
   "execution_count": null,
   "metadata": {},
   "outputs": [],
   "source": []
  },
  {
   "cell_type": "code",
   "execution_count": null,
   "metadata": {},
   "outputs": [],
   "source": []
  },
  {
   "cell_type": "code",
   "execution_count": null,
   "metadata": {},
   "outputs": [],
   "source": []
  },
  {
   "cell_type": "code",
   "execution_count": null,
   "metadata": {},
   "outputs": [],
   "source": []
  },
  {
   "cell_type": "code",
   "execution_count": 47,
   "metadata": {},
   "outputs": [],
   "source": [
    "col =  ['Appeal to authority',\n",
    "                                    'Appeal to fear/prejudice',\n",
    "                                    'Black-and-white Fallacy/Dictatorship',\n",
    "                                    'Causal Oversimplification',\n",
    "                                    'Doubt',\n",
    "                                    'Exaggeration/Minimisation',\n",
    "                                    'Flag-waving',\n",
    "                                    'Glittering generalities (Virtue)',\n",
    "                                    'Loaded Language',\n",
    "                                    'Misrepresentation of Someone\\'s Position (Straw Man)',\n",
    "                                    'Name calling/Labeling',\n",
    "                                    'Obfuscation, Intentional vagueness, Confusion',\n",
    "                                    'Presenting Irrelevant Data (Red Herring)',\n",
    "                                    'Reductio ad hitlerum',\n",
    "                                    'Repetition',\n",
    "                                    'Slogans',\n",
    "                                    'Smears',\n",
    "                                    'Thought-terminating cliché',\n",
    "                                    'Whataboutism',\n",
    "                                    'Bandwagon',\n",
    "                                    'Transfer',\n",
    "                                    'Appeal to (Strong) Emotions']\n",
    "col2 = [0,1,2,3,4,5,6,7,8,9,10,11,12,13,14,15,16,17,18,19,20,21,21]"
   ]
  },
  {
   "cell_type": "code",
   "execution_count": 48,
   "metadata": {},
   "outputs": [
    {
     "name": "stdout",
     "output_type": "stream",
     "text": [
      "Accuracy Score = 0.0\n",
      "F1 Score (Micro) = 0.07692307692307693\n",
      "F1 Score (Macro) = 0.025987990504119537\n"
     ]
    }
   ],
   "source": [
    "#for epoch in range(EPOCHS):\n",
    "#targets, target_labels, outputs = validation(model, dataset_val)\n",
    "#targets, outputs = validation()\n",
    "\n",
    "targets = true_labels\n",
    "target_labels = true_bools\n",
    "outputs = pred_labels \n",
    "\n",
    "outputs = [pl>0.50 for pl in outputs] #boolean output after thresholding\n",
    "\n",
    "#print(outputs)\n",
    "#print(target_labels)\n",
    "#print(targets)\n",
    "\n",
    "#outputs = np.array(outputs) >= 0.5\n",
    "#targets = np.array(targets) >= 0.5\n",
    "#outputs = np.argmax(outputs, axis=1)\n",
    "#targets = np.argmax(targets, axis=1)\n",
    "\n",
    "accuracy = metrics.accuracy_score(targets, outputs)\n",
    "f1_score_micro = metrics.f1_score(targets, outputs, average='micro',zero_division=1)\n",
    "f1_score_macro = metrics.f1_score(targets, outputs, average='macro', zero_division=1)\n",
    "#print(f\"epoch = {epoch}\")\n",
    "print(f\"Accuracy Score = {accuracy}\")\n",
    "print(f\"F1 Score (Micro) = {f1_score_micro}\")\n",
    "print(f\"F1 Score (Macro) = {f1_score_macro}\")\n",
    "    \n",
    "ml_cm = metrics.multilabel_confusion_matrix(targets,outputs, labels=col2)\n"
   ]
  },
  {
   "cell_type": "code",
   "execution_count": 49,
   "metadata": {},
   "outputs": [
    {
     "name": "stdout",
     "output_type": "stream",
     "text": [
      "                                                     precision    recall  f1-score   support\n",
      "\n",
      "                                Appeal to authority       0.04      1.00      0.09         6\n",
      "                           Appeal to fear/prejudice       0.00      0.00      0.00        17\n",
      "               Black-and-white Fallacy/Dictatorship       1.00      0.00      0.00         2\n",
      "                          Causal Oversimplification       1.00      0.00      0.00         7\n",
      "                                              Doubt       1.00      0.00      0.00        17\n",
      "                          Exaggeration/Minimisation       1.00      0.00      0.00        13\n",
      "                                        Flag-waving       1.00      0.00      0.00        13\n",
      "                   Glittering generalities (Virtue)       1.00      0.00      0.00        11\n",
      "                                    Loaded Language       1.00      0.00      0.00        74\n",
      "Misrepresentation of Someone's Position (Straw Man)       1.00      0.00      0.00         6\n",
      "                              Name calling/Labeling       1.00      0.00      0.00        59\n",
      "      Obfuscation, Intentional vagueness, Confusion       1.00      0.00      0.00         2\n",
      "           Presenting Irrelevant Data (Red Herring)       1.00      0.00      0.00         1\n",
      "                               Reductio ad hitlerum       1.00      0.00      0.00         5\n",
      "                                         Repetition       0.00      0.00      0.00         2\n",
      "                                            Slogans       1.00      0.00      0.00        11\n",
      "                                             Smears       1.00      0.00      0.00        92\n",
      "                         Thought-terminating cliché       0.00      0.00      0.00         3\n",
      "                                       Whataboutism       1.00      0.00      0.00         7\n",
      "                                          Bandwagon       0.00      1.00      0.00         0\n",
      "                                           Transfer       0.24      0.30      0.27        20\n",
      "                        Appeal to (Strong) Emotions       0.12      0.94      0.22        18\n",
      "\n",
      "                                          micro avg       0.08      0.08      0.08       386\n",
      "                                          macro avg       0.70      0.15      0.03       386\n",
      "                                       weighted avg       0.85      0.08      0.03       386\n",
      "                                        samples avg       0.08      0.06      0.06       386\n",
      "\n"
     ]
    }
   ],
   "source": [
    "print(metrics.classification_report(targets, outputs, target_names = col,\n",
    "                                    digits=2, output_dict=False,zero_division=1))"
   ]
  },
  {
   "cell_type": "code",
   "execution_count": 45,
   "metadata": {
    "scrolled": true
   },
   "outputs": [
    {
     "name": "stdout",
     "output_type": "stream",
     "text": [
      "[[[  6 128]\n",
      "  [  0   6]]\n",
      "\n",
      " [[122   1]\n",
      "  [ 17   0]]\n",
      "\n",
      " [[138   0]\n",
      "  [  2   0]]\n",
      "\n",
      " [[133   0]\n",
      "  [  7   0]]\n",
      "\n",
      " [[123   0]\n",
      "  [ 17   0]]\n",
      "\n",
      " [[127   0]\n",
      "  [ 13   0]]\n",
      "\n",
      " [[127   0]\n",
      "  [ 13   0]]\n",
      "\n",
      " [[129   0]\n",
      "  [ 11   0]]\n",
      "\n",
      " [[ 66   0]\n",
      "  [ 74   0]]\n",
      "\n",
      " [[134   0]\n",
      "  [  6   0]]\n",
      "\n",
      " [[ 81   0]\n",
      "  [ 59   0]]\n",
      "\n",
      " [[138   0]\n",
      "  [  2   0]]\n",
      "\n",
      " [[139   0]\n",
      "  [  1   0]]\n",
      "\n",
      " [[135   0]\n",
      "  [  5   0]]\n",
      "\n",
      " [[130   8]\n",
      "  [  2   0]]\n",
      "\n",
      " [[129   0]\n",
      "  [ 11   0]]\n",
      "\n",
      " [[ 48   0]\n",
      "  [ 92   0]]\n",
      "\n",
      " [[136   1]\n",
      "  [  3   0]]\n",
      "\n",
      " [[133   0]\n",
      "  [  7   0]]\n",
      "\n",
      " [[ 78  62]\n",
      "  [  0   0]]\n",
      "\n",
      " [[101  19]\n",
      "  [ 14   6]]\n",
      "\n",
      " [[  2 120]\n",
      "  [  1  17]]\n",
      "\n",
      " [[  2 120]\n",
      "  [  1  17]]]\n"
     ]
    }
   ],
   "source": [
    "type(ml_cm)\n",
    "print(ml_cm)"
   ]
  },
  {
   "cell_type": "code",
   "execution_count": 46,
   "metadata": {},
   "outputs": [
    {
     "name": "stdout",
     "output_type": "stream",
     "text": [
      "0\n"
     ]
    },
    {
     "data": {
      "image/png": "[encoded data removed]",
      "text/plain": [
       "<Figure size 576x576 with 2 Axes>"
      ]
     },
     "metadata": {
      "needs_background": "light"
     },
     "output_type": "display_data"
    },
    {
     "name": "stdout",
     "output_type": "stream",
     "text": [
      "1\n"
     ]
    },
    {
     "data": {
      "image/png": "[encoded data removed]",
      "text/plain": [
       "<Figure size 576x576 with 2 Axes>"
      ]
     },
     "metadata": {
      "needs_background": "light"
     },
     "output_type": "display_data"
    },
    {
     "name": "stdout",
     "output_type": "stream",
     "text": [
      "2\n"
     ]
    },
    {
     "data": {
      "image/png": "[encoded data removed]",
      "text/plain": [
       "<Figure size 576x576 with 2 Axes>"
      ]
     },
     "metadata": {
      "needs_background": "light"
     },
     "output_type": "display_data"
    },
    {
     "name": "stdout",
     "output_type": "stream",
     "text": [
      "3\n"
     ]
    },
    {
     "data": {
      "image/png": "[encoded data removed]",
      "text/plain": [
       "<Figure size 576x576 with 2 Axes>"
      ]
     },
     "metadata": {
      "needs_background": "light"
     },
     "output_type": "display_data"
    },
    {
     "name": "stdout",
     "output_type": "stream",
     "text": [
      "4\n"
     ]
    },
    {
     "data": {
      "image/png": "[encoded data removed]",
      "text/plain": [
       "<Figure size 576x576 with 2 Axes>"
      ]
     },
     "metadata": {
      "needs_background": "light"
     },
     "output_type": "display_data"
    },
    {
     "name": "stdout",
     "output_type": "stream",
     "text": [
      "5\n"
     ]
    },
    {
     "data": {
      "image/png": "[encoded data removed]",
      "text/plain": [
       "<Figure size 576x576 with 2 Axes>"
      ]
     },
     "metadata": {
      "needs_background": "light"
     },
     "output_type": "display_data"
    },
    {
     "name": "stdout",
     "output_type": "stream",
     "text": [
      "6\n"
     ]
    },
    {
     "data": {
      "image/png": "[encoded data removed]",
      "text/plain": [
       "<Figure size 576x576 with 2 Axes>"
      ]
     },
     "metadata": {
      "needs_background": "light"
     },
     "output_type": "display_data"
    },
    {
     "name": "stdout",
     "output_type": "stream",
     "text": [
      "7\n"
     ]
    },
    {
     "data": {
      "image/png": "[encoded data removed]",
      "text/plain": [
       "<Figure size 576x576 with 2 Axes>"
      ]
     },
     "metadata": {
      "needs_background": "light"
     },
     "output_type": "display_data"
    },
    {
     "name": "stdout",
     "output_type": "stream",
     "text": [
      "8\n"
     ]
    },
    {
     "data": {
      "image/png": "[encoded data removed]",
      "text/plain": [
       "<Figure size 576x576 with 2 Axes>"
      ]
     },
     "metadata": {
      "needs_background": "light"
     },
     "output_type": "display_data"
    },
    {
     "name": "stdout",
     "output_type": "stream",
     "text": [
      "9\n"
     ]
    },
    {
     "data": {
      "image/png": "[encoded data removed]",
      "text/plain": [
       "<Figure size 576x576 with 2 Axes>"
      ]
     },
     "metadata": {
      "needs_background": "light"
     },
     "output_type": "display_data"
    },
    {
     "name": "stdout",
     "output_type": "stream",
     "text": [
      "10\n"
     ]
    },
    {
     "data": {
      "image/png": "[encoded data removed]",
      "text/plain": [
       "<Figure size 576x576 with 2 Axes>"
      ]
     },
     "metadata": {
      "needs_background": "light"
     },
     "output_type": "display_data"
    },
    {
     "name": "stdout",
     "output_type": "stream",
     "text": [
      "11\n"
     ]
    },
    {
     "data": {
      "image/png": "[encoded data removed]",
      "text/plain": [
       "<Figure size 576x576 with 2 Axes>"
      ]
     },
     "metadata": {
      "needs_background": "light"
     },
     "output_type": "display_data"
    },
    {
     "name": "stdout",
     "output_type": "stream",
     "text": [
      "12\n"
     ]
    },
    {
     "data": {
      "image/png": "[encoded data removed]",
      "text/plain": [
       "<Figure size 576x576 with 2 Axes>"
      ]
     },
     "metadata": {
      "needs_background": "light"
     },
     "output_type": "display_data"
    },
    {
     "name": "stdout",
     "output_type": "stream",
     "text": [
      "13\n"
     ]
    },
    {
     "data": {
      "image/png": "[encoded data removed]",
      "text/plain": [
       "<Figure size 576x576 with 2 Axes>"
      ]
     },
     "metadata": {
      "needs_background": "light"
     },
     "output_type": "display_data"
    },
    {
     "name": "stdout",
     "output_type": "stream",
     "text": [
      "14\n"
     ]
    },
    {
     "data": {
      "image/png": "[encoded data removed]",
      "text/plain": [
       "<Figure size 576x576 with 2 Axes>"
      ]
     },
     "metadata": {
      "needs_background": "light"
     },
     "output_type": "display_data"
    },
    {
     "name": "stdout",
     "output_type": "stream",
     "text": [
      "15\n"
     ]
    },
    {
     "data": {
      "image/png": "[encoded data removed]",
      "text/plain": [
       "<Figure size 576x576 with 2 Axes>"
      ]
     },
     "metadata": {
      "needs_background": "light"
     },
     "output_type": "display_data"
    },
    {
     "name": "stdout",
     "output_type": "stream",
     "text": [
      "16\n"
     ]
    },
    {
     "data": {
      "image/png": "[encoded data removed]",
      "text/plain": [
       "<Figure size 576x576 with 2 Axes>"
      ]
     },
     "metadata": {
      "needs_background": "light"
     },
     "output_type": "display_data"
    },
    {
     "name": "stdout",
     "output_type": "stream",
     "text": [
      "17\n"
     ]
    },
    {
     "data": {
      "image/png": "[encoded data removed]",
      "text/plain": [
       "<Figure size 576x576 with 2 Axes>"
      ]
     },
     "metadata": {
      "needs_background": "light"
     },
     "output_type": "display_data"
    },
    {
     "name": "stdout",
     "output_type": "stream",
     "text": [
      "18\n"
     ]
    },
    {
     "data": {
      "image/png": "[encoded data removed]",
      "text/plain": [
       "<Figure size 576x576 with 2 Axes>"
      ]
     },
     "metadata": {
      "needs_background": "light"
     },
     "output_type": "display_data"
    },
    {
     "name": "stdout",
     "output_type": "stream",
     "text": [
      "19\n"
     ]
    },
    {
     "data": {
      "image/png": "[encoded data removed]",
      "text/plain": [
       "<Figure size 576x576 with 2 Axes>"
      ]
     },
     "metadata": {
      "needs_background": "light"
     },
     "output_type": "display_data"
    },
    {
     "name": "stdout",
     "output_type": "stream",
     "text": [
      "20\n"
     ]
    },
    {
     "data": {
      "image/png": "[encoded data removed]",
      "text/plain": [
       "<Figure size 576x576 with 2 Axes>"
      ]
     },
     "metadata": {
      "needs_background": "light"
     },
     "output_type": "display_data"
    },
    {
     "name": "stdout",
     "output_type": "stream",
     "text": [
      "21\n"
     ]
    },
    {
     "data": {
      "image/png": "[encoded data removed]",
      "text/plain": [
       "<Figure size 576x576 with 2 Axes>"
      ]
     },
     "metadata": {
      "needs_background": "light"
     },
     "output_type": "display_data"
    }
   ],
   "source": [
    "for i, class_cm in enumerate(ml_cm):\n",
    "    if (i < 22):\n",
    "        print(i)\n",
    "        txt_title = \"Confusion Matrix for Class: \" + col[i] \n",
    "        # Transform to df for easier plotting\n",
    "        plt.figure(figsize=(8,8))\n",
    "        sns.heatmap(class_cm, annot=True, fmt='d')\n",
    "        plt.title(txt_title)\n",
    "        plt.ylabel('True label')\n",
    "        plt.xlabel('Predicted label')\n",
    "        plt.show()\n"
   ]
  },
  {
   "cell_type": "code",
   "execution_count": null,
   "metadata": {},
   "outputs": [],
   "source": []
  },
  {
   "cell_type": "code",
   "execution_count": null,
   "metadata": {
    "scrolled": true
   },
   "outputs": [],
   "source": []
  },
  {
   "cell_type": "code",
   "execution_count": null,
   "metadata": {},
   "outputs": [],
   "source": []
  }
 ],
 "metadata": {
  "kernelspec": {
   "display_name": "Python 3",
   "language": "python",
   "name": "python3"
  },
  "language_info": {
   "codemirror_mode": {
    "name": "ipython",
    "version": 3
   },
   "file_extension": ".py",
   "mimetype": "text/x-python",
   "name": "python",
   "nbconvert_exporter": "python",
   "pygments_lexer": "ipython3",
   "version": "3.8.8"
  }
 },
 "nbformat": 4,
 "nbformat_minor": 4
}
