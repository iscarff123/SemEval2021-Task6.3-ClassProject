{
 "cells": [
  {
   "cell_type": "code",
   "execution_count": 1,
   "metadata": {},
   "outputs": [
    {
     "name": "stderr",
     "output_type": "stream",
     "text": [
      "[nltk_data] Downloading package vader_lexicon to\n",
      "[nltk_data]     C:\\Users\\sync\\AppData\\Roaming\\nltk_data...\n",
      "[nltk_data]   Package vader_lexicon is already up-to-date!\n",
      "[nltk_data] Downloading package wordnet to\n",
      "[nltk_data]     C:\\Users\\sync\\AppData\\Roaming\\nltk_data...\n",
      "[nltk_data]   Package wordnet is already up-to-date!\n"
     ]
    }
   ],
   "source": [
    "import json \n",
    "import os\n",
    "import re\n",
    "import random\n",
    "\n",
    "import requests\n",
    "\n",
    "import pandas as pd\n",
    "import numpy as np\n",
    "import matplotlib.pyplot as plt\n",
    "\n",
    "import torch\n",
    "import torch.nn as nn\n",
    "import torch.nn.functional as F\n",
    "from torch.utils.data import DataLoader\n",
    "from torch.utils.data.dataset import random_split\n",
    "\n",
    "\n",
    "import torchtext\n",
    "from torchtext import data\n",
    "from torchtext import datasets\n",
    "from torchtext.datasets import text_classification\n",
    "\n",
    "from torchtext.data import Field, Example, TabularDataset\n",
    "from torchtext.data import BucketIterator\n",
    "from torchtext.data.utils import ngrams_iterator\n",
    "from torchtext.data.utils import get_tokenizer\n",
    "\n",
    "\n",
    "# Plotting\n",
    "import seaborn as sns\n",
    "import matplotlib.pyplot as plt\n",
    "\n",
    "# Gensim\n",
    "import gensim\n",
    "from gensim.utils import simple_preprocess\n",
    "\n",
    "# NLTK\n",
    "import nltk\n",
    "from nltk.corpus import stopwords\n",
    "from nltk.sentiment.vader import SentimentIntensityAnalyzer\n",
    "from nltk.corpus import stopwords\n",
    "from nltk.stem import WordNetLemmatizer\n",
    "from nltk.stem.porter import PorterStemmer\n",
    "\n",
    "from collections import Counter\n",
    "from wordcloud import WordCloud\n",
    "from hatesonar import Sonar # This is the hate speech detection library\n",
    "\n",
    "from sklearn.linear_model import LogisticRegression\n",
    "from sklearn.preprocessing import MultiLabelBinarizer\n",
    "\n",
    "from yellowbrick.text import TSNEVisualizer\n",
    "\n",
    "import warnings \n",
    "\n",
    "\n",
    "nltk.download('vader_lexicon')\n",
    "nltk.download('wordnet')\n",
    "\n",
    "random.seed(128)\n",
    "\n"
   ]
  },
  {
   "cell_type": "markdown",
   "metadata": {},
   "source": [
    "sourced: \n",
    "    https://github.com/MageshDominator/Blog_References/tree/master/ML%20based%20Multi-label%20Text%20Classification <br>\n",
    "        https://medium.com/technovators/machine-learning-based-multi-label-text-classification-9a0e17f88bb4"
   ]
  },
  {
   "cell_type": "markdown",
   "metadata": {},
   "source": [
    "Load Data"
   ]
  },
  {
   "cell_type": "code",
   "execution_count": 2,
   "metadata": {},
   "outputs": [],
   "source": [
    "def extract_json_object(filename):\n",
    "    with open(file, \"r\", encoding='utf-8') as read_file:\n",
    "        json_array = json.load(read_file)\n",
    "    json_data = []    \n",
    "    #parse the data\n",
    "    for item in json_array:\n",
    "        details = {\"id\":None, \"labels\":None, \"text\":None}\n",
    "        details['id'] = item['id']\n",
    "        try: \n",
    "            details['labels'] = item['labels']\n",
    "        except KeyError: \n",
    "            details['labels'] = []         \n",
    "        details['text'] = item['text']\n",
    "        json_data.append(details)\n",
    "\n",
    "    \n",
    "    return json_data\n"
   ]
  },
  {
   "cell_type": "code",
   "execution_count": 3,
   "metadata": {},
   "outputs": [],
   "source": [
    "# file paths\n",
    "lst_file_path=[]\n",
    "\n",
    "lst_file_path.append(\"../data/training_data_task3.txt\")\n",
    "\n",
    "lst_file_path.append(\"../data/validation_data_task3.txt\")\n",
    "\n",
    "\n",
    "# List of keys \n",
    "dataset = [\"training\", \"validation\"] \n",
    "# empty dictionary\n",
    "dic_datasets =  dict.fromkeys(dataset, pd.DataFrame()) \n",
    "\n",
    "  \n",
    "\n"
   ]
  },
  {
   "cell_type": "code",
   "execution_count": 4,
   "metadata": {},
   "outputs": [
    {
     "name": "stdout",
     "output_type": "stream",
     "text": [
      "loading../data/training_data_task3.txt\n",
      "loading../data/validation_data_task3.txt\n"
     ]
    }
   ],
   "source": [
    "for i, file in enumerate(lst_file_path):\n",
    "    print('loading'+ file)\n",
    "    dic_datasets[dataset[i]] = pd.DataFrame(extract_json_object(extract_json_object))"
   ]
  },
  {
   "cell_type": "markdown",
   "metadata": {},
   "source": [
    "Seperate data into each components\n",
    "<br>Training, Dev and Test\n",
    "<br>Also apply no class to empty []"
   ]
  },
  {
   "cell_type": "code",
   "execution_count": 5,
   "metadata": {},
   "outputs": [],
   "source": [
    "df_training = pd.DataFrame(dic_datasets['training'][['id','labels','text']])\n",
    "df_training.labels = df_training.labels.apply(lambda y: ['no_class'] if len(y)==0 else y)\n",
    "\n",
    "df_val = pd.DataFrame(dic_datasets['validation'][['id','labels','text']])\n",
    "df_val.labels = df_val.labels.apply(lambda y: ['no_class'] if len(y)==0 else y)\n",
    "\n"
   ]
  },
  {
   "cell_type": "code",
   "execution_count": 6,
   "metadata": {},
   "outputs": [],
   "source": [
    "wordnet_lemmatizer = WordNetLemmatizer()\n",
    "stemmer = PorterStemmer()\n",
    "stopword = set(stopwords.words('english'))\n",
    "\n",
    "\n",
    "def tokenize_lemma_stopwords(text):\n",
    "    text = text.replace(\"\\n\", \" \")\n",
    "\n",
    "    tokens = nltk.tokenize.word_tokenize(text.lower()) # split string into words (tokens)\n",
    "    tokens = [t for t in tokens if t.isalpha()] # keep strings with only alphabets\n",
    "    tokens = [wordnet_lemmatizer.lemmatize(t) for t in tokens] # put words into base form\n",
    "    tokens = [stemmer.stem(t) for t in tokens]\n",
    "    tokens = [t for t in tokens if len(t) > 4] # remove short words, they're probably not useful\n",
    "    tokens = [t for t in tokens if t not in stopword] # remove stopwords\n",
    "    cleanedText = \" \".join(tokens)\n",
    "    return cleanedText\n",
    "\n",
    "def dataCleaning(df):\n",
    "    data = df.copy()\n",
    "    data[\"text\"] = data[\"text\"].apply(tokenize_lemma_stopwords)\n",
    "    return data"
   ]
  },
  {
   "cell_type": "code",
   "execution_count": 7,
   "metadata": {},
   "outputs": [],
   "source": [
    "df_training = dataCleaning(df_training)\n",
    "df_val = dataCleaning(df_val)"
   ]
  },
  {
   "cell_type": "markdown",
   "metadata": {},
   "source": [
    "Create additional Features / Variables"
   ]
  },
  {
   "cell_type": "markdown",
   "metadata": {},
   "source": [
    "Start with Sentiment Feature"
   ]
  },
  {
   "cell_type": "code",
   "execution_count": null,
   "metadata": {},
   "outputs": [],
   "source": []
  },
  {
   "cell_type": "code",
   "execution_count": null,
   "metadata": {},
   "outputs": [],
   "source": []
  },
  {
   "cell_type": "code",
   "execution_count": 8,
   "metadata": {},
   "outputs": [],
   "source": [
    "def sentiment_scores(df):\n",
    "    vader_analyzer = SentimentIntensityAnalyzer()\n",
    "    negative = []\n",
    "    neutral = []\n",
    "    positive = []\n",
    "    compound = []\n",
    "    for i in df['text']:\n",
    "        sentiment_dict = vader_analyzer.polarity_scores(i)\n",
    "        negative.append(sentiment_dict['neg'])\n",
    "        neutral.append(sentiment_dict['neu'])\n",
    "        positive.append(sentiment_dict['pos'])\n",
    "        compound.append(sentiment_dict['compound'])\n",
    "    # Prepare columns to add the scores later\n",
    "    df[\"negative\"] = negative\n",
    "    df[\"neutral\"] = neutral\n",
    "    df[\"positive\"] = positive\n",
    "    df[\"compound\"] = compound\n",
    "    \n",
    "    # Fill the overall sentiment with encoding:\n",
    "    # (-1)Negative, (0)Neutral, (1)Positive\n",
    "    sentiment = []\n",
    "    sentiment_txt = []\n",
    "    for i in df['compound']:\n",
    "        if i >= 0.05 : \n",
    "            sentiment.append(1)\n",
    "            sentiment_txt.append(\"positive\")\n",
    "  \n",
    "        elif i <= - 0.05 : \n",
    "            sentiment.append(-1) \n",
    "            sentiment_txt.append(\"negative\")\n",
    "        \n",
    "        else : \n",
    "            sentiment.append(0)\n",
    "            sentiment_txt.append(\"neutral\")\n",
    "    df['sentiment'] = sentiment\n",
    "    df['sentiment_txt'] = sentiment_txt\n",
    "    df = df.drop(['negative', 'neutral', 'positive', 'compound', 'sentiment'], axis=1)\n",
    "    return df"
   ]
  },
  {
   "cell_type": "markdown",
   "metadata": {},
   "source": [
    "update for training "
   ]
  },
  {
   "cell_type": "code",
   "execution_count": 9,
   "metadata": {},
   "outputs": [],
   "source": [
    "df_training = sentiment_scores(df_training)"
   ]
  },
  {
   "cell_type": "code",
   "execution_count": 10,
   "metadata": {},
   "outputs": [
    {
     "data": {
      "text/html": [
       "<div>\n",
       "<style scoped>\n",
       "    .dataframe tbody tr th:only-of-type {\n",
       "        vertical-align: middle;\n",
       "    }\n",
       "\n",
       "    .dataframe tbody tr th {\n",
       "        vertical-align: top;\n",
       "    }\n",
       "\n",
       "    .dataframe thead th {\n",
       "        text-align: right;\n",
       "    }\n",
       "</style>\n",
       "<table border=\"1\" class=\"dataframe\">\n",
       "  <thead>\n",
       "    <tr style=\"text-align: right;\">\n",
       "      <th></th>\n",
       "      <th>id</th>\n",
       "      <th>labels</th>\n",
       "      <th>text</th>\n",
       "      <th>sentiment_txt</th>\n",
       "    </tr>\n",
       "  </thead>\n",
       "  <tbody>\n",
       "    <tr>\n",
       "      <th>0</th>\n",
       "      <td>346_batch_2</td>\n",
       "      <td>[Appeal to fear/prejudice, Causal Oversimplifi...</td>\n",
       "      <td>reason govern would disarm becaus intend somet...</td>\n",
       "      <td>negative</td>\n",
       "    </tr>\n",
       "    <tr>\n",
       "      <th>1</th>\n",
       "      <td>398_batch_2</td>\n",
       "      <td>[Loaded Language]</td>\n",
       "      <td>trump second</td>\n",
       "      <td>neutral</td>\n",
       "    </tr>\n",
       "    <tr>\n",
       "      <th>2</th>\n",
       "      <td>114</td>\n",
       "      <td>[Appeal to (Strong) Emotions, Reductio ad hitl...</td>\n",
       "      <td>histori shown first thing totalitarian govern</td>\n",
       "      <td>negative</td>\n",
       "    </tr>\n",
       "    <tr>\n",
       "      <th>3</th>\n",
       "      <td>464_batch_2</td>\n",
       "      <td>[Smears]</td>\n",
       "      <td>biden forgot messag</td>\n",
       "      <td>neutral</td>\n",
       "    </tr>\n",
       "    <tr>\n",
       "      <th>4</th>\n",
       "      <td>184_batch_2</td>\n",
       "      <td>[Appeal to (Strong) Emotions, Name calling/Lab...</td>\n",
       "      <td>protest think realli</td>\n",
       "      <td>negative</td>\n",
       "    </tr>\n",
       "    <tr>\n",
       "      <th>...</th>\n",
       "      <td>...</td>\n",
       "      <td>...</td>\n",
       "      <td>...</td>\n",
       "      <td>...</td>\n",
       "    </tr>\n",
       "    <tr>\n",
       "      <th>542</th>\n",
       "      <td>652_batch_2</td>\n",
       "      <td>[Appeal to fear/prejudice, Loaded Language, Na...</td>\n",
       "      <td>glyphos mistaken belief carcinogen drink carci...</td>\n",
       "      <td>negative</td>\n",
       "    </tr>\n",
       "    <tr>\n",
       "      <th>543</th>\n",
       "      <td>696_batch_2</td>\n",
       "      <td>[no_class]</td>\n",
       "      <td>stroll memori shall</td>\n",
       "      <td>neutral</td>\n",
       "    </tr>\n",
       "    <tr>\n",
       "      <th>544</th>\n",
       "      <td>13_batch_2</td>\n",
       "      <td>[Doubt, Loaded Language]</td>\n",
       "      <td>moral compass peopl frank break peopl follow</td>\n",
       "      <td>neutral</td>\n",
       "    </tr>\n",
       "    <tr>\n",
       "      <th>545</th>\n",
       "      <td>86_batch_2</td>\n",
       "      <td>[Loaded Language, Name calling/Labeling, Smear...</td>\n",
       "      <td>think whore pussi</td>\n",
       "      <td>negative</td>\n",
       "    </tr>\n",
       "    <tr>\n",
       "      <th>546</th>\n",
       "      <td>621_batch_2</td>\n",
       "      <td>[Loaded Language]</td>\n",
       "      <td>radiat energet signal neither health except in...</td>\n",
       "      <td>neutral</td>\n",
       "    </tr>\n",
       "  </tbody>\n",
       "</table>\n",
       "<p>547 rows × 4 columns</p>\n",
       "</div>"
      ],
      "text/plain": [
       "              id                                             labels  \\\n",
       "0    346_batch_2  [Appeal to fear/prejudice, Causal Oversimplifi...   \n",
       "1    398_batch_2                                  [Loaded Language]   \n",
       "2            114  [Appeal to (Strong) Emotions, Reductio ad hitl...   \n",
       "3    464_batch_2                                           [Smears]   \n",
       "4    184_batch_2  [Appeal to (Strong) Emotions, Name calling/Lab...   \n",
       "..           ...                                                ...   \n",
       "542  652_batch_2  [Appeal to fear/prejudice, Loaded Language, Na...   \n",
       "543  696_batch_2                                         [no_class]   \n",
       "544   13_batch_2                           [Doubt, Loaded Language]   \n",
       "545   86_batch_2  [Loaded Language, Name calling/Labeling, Smear...   \n",
       "546  621_batch_2                                  [Loaded Language]   \n",
       "\n",
       "                                                  text sentiment_txt  \n",
       "0    reason govern would disarm becaus intend somet...      negative  \n",
       "1                                         trump second       neutral  \n",
       "2        histori shown first thing totalitarian govern      negative  \n",
       "3                                  biden forgot messag       neutral  \n",
       "4                                 protest think realli      negative  \n",
       "..                                                 ...           ...  \n",
       "542  glyphos mistaken belief carcinogen drink carci...      negative  \n",
       "543                                stroll memori shall       neutral  \n",
       "544       moral compass peopl frank break peopl follow       neutral  \n",
       "545                                  think whore pussi      negative  \n",
       "546  radiat energet signal neither health except in...       neutral  \n",
       "\n",
       "[547 rows x 4 columns]"
      ]
     },
     "execution_count": 10,
     "metadata": {},
     "output_type": "execute_result"
    }
   ],
   "source": [
    "df_training"
   ]
  },
  {
   "cell_type": "markdown",
   "metadata": {},
   "source": [
    "update for validation"
   ]
  },
  {
   "cell_type": "code",
   "execution_count": 11,
   "metadata": {},
   "outputs": [],
   "source": [
    "df_val = sentiment_scores(df_val)"
   ]
  },
  {
   "cell_type": "code",
   "execution_count": 12,
   "metadata": {},
   "outputs": [
    {
     "data": {
      "text/html": [
       "<div>\n",
       "<style scoped>\n",
       "    .dataframe tbody tr th:only-of-type {\n",
       "        vertical-align: middle;\n",
       "    }\n",
       "\n",
       "    .dataframe tbody tr th {\n",
       "        vertical-align: top;\n",
       "    }\n",
       "\n",
       "    .dataframe thead th {\n",
       "        text-align: right;\n",
       "    }\n",
       "</style>\n",
       "<table border=\"1\" class=\"dataframe\">\n",
       "  <thead>\n",
       "    <tr style=\"text-align: right;\">\n",
       "      <th></th>\n",
       "      <th>id</th>\n",
       "      <th>labels</th>\n",
       "      <th>text</th>\n",
       "      <th>sentiment_txt</th>\n",
       "    </tr>\n",
       "  </thead>\n",
       "  <tbody>\n",
       "    <tr>\n",
       "      <th>0</th>\n",
       "      <td>560_batch_2</td>\n",
       "      <td>[Appeal to (Strong) Emotions, Whataboutism]</td>\n",
       "      <td>breath worri white</td>\n",
       "      <td>neutral</td>\n",
       "    </tr>\n",
       "    <tr>\n",
       "      <th>1</th>\n",
       "      <td>577_batch_2</td>\n",
       "      <td>[Loaded Language, Misrepresentation of Someone...</td>\n",
       "      <td>sorri listen lectur peopl think</td>\n",
       "      <td>neutral</td>\n",
       "    </tr>\n",
       "    <tr>\n",
       "      <th>2</th>\n",
       "      <td>580_batch_2</td>\n",
       "      <td>[Glittering generalities (Virtue)]</td>\n",
       "      <td>white trump america</td>\n",
       "      <td>neutral</td>\n",
       "    </tr>\n",
       "    <tr>\n",
       "      <th>3</th>\n",
       "      <td>668_batch_2</td>\n",
       "      <td>[Smears]</td>\n",
       "      <td>reiki session result</td>\n",
       "      <td>neutral</td>\n",
       "    </tr>\n",
       "    <tr>\n",
       "      <th>4</th>\n",
       "      <td>365_batch_2</td>\n",
       "      <td>[Loaded Language]</td>\n",
       "      <td>patriot enough</td>\n",
       "      <td>neutral</td>\n",
       "    </tr>\n",
       "    <tr>\n",
       "      <th>...</th>\n",
       "      <td>...</td>\n",
       "      <td>...</td>\n",
       "      <td>...</td>\n",
       "      <td>...</td>\n",
       "    </tr>\n",
       "    <tr>\n",
       "      <th>135</th>\n",
       "      <td>460_batch_2</td>\n",
       "      <td>[Smears]</td>\n",
       "      <td>black</td>\n",
       "      <td>neutral</td>\n",
       "    </tr>\n",
       "    <tr>\n",
       "      <th>136</th>\n",
       "      <td>382_batch_2</td>\n",
       "      <td>[Loaded Language, Name calling/Labeling, Reduc...</td>\n",
       "      <td>loser watch sweati support rapist stick watch ...</td>\n",
       "      <td>negative</td>\n",
       "    </tr>\n",
       "    <tr>\n",
       "      <th>137</th>\n",
       "      <td>115</td>\n",
       "      <td>[Appeal to (Strong) Emotions, Appeal to fear/p...</td>\n",
       "      <td>peopl america america world without</td>\n",
       "      <td>neutral</td>\n",
       "    </tr>\n",
       "    <tr>\n",
       "      <th>138</th>\n",
       "      <td>987_batch_2</td>\n",
       "      <td>[Loaded Language]</td>\n",
       "      <td>trump america racist racist comfort enough public</td>\n",
       "      <td>negative</td>\n",
       "    </tr>\n",
       "    <tr>\n",
       "      <th>139</th>\n",
       "      <td>685_batch_2</td>\n",
       "      <td>[Glittering generalities (Virtue), Loaded Lang...</td>\n",
       "      <td>presid trump ralli featur mirror behind medium...</td>\n",
       "      <td>positive</td>\n",
       "    </tr>\n",
       "  </tbody>\n",
       "</table>\n",
       "<p>140 rows × 4 columns</p>\n",
       "</div>"
      ],
      "text/plain": [
       "              id                                             labels  \\\n",
       "0    560_batch_2        [Appeal to (Strong) Emotions, Whataboutism]   \n",
       "1    577_batch_2  [Loaded Language, Misrepresentation of Someone...   \n",
       "2    580_batch_2                 [Glittering generalities (Virtue)]   \n",
       "3    668_batch_2                                           [Smears]   \n",
       "4    365_batch_2                                  [Loaded Language]   \n",
       "..           ...                                                ...   \n",
       "135  460_batch_2                                           [Smears]   \n",
       "136  382_batch_2  [Loaded Language, Name calling/Labeling, Reduc...   \n",
       "137          115  [Appeal to (Strong) Emotions, Appeal to fear/p...   \n",
       "138  987_batch_2                                  [Loaded Language]   \n",
       "139  685_batch_2  [Glittering generalities (Virtue), Loaded Lang...   \n",
       "\n",
       "                                                  text sentiment_txt  \n",
       "0                                   breath worri white       neutral  \n",
       "1                      sorri listen lectur peopl think       neutral  \n",
       "2                                  white trump america       neutral  \n",
       "3                                 reiki session result       neutral  \n",
       "4                                       patriot enough       neutral  \n",
       "..                                                 ...           ...  \n",
       "135                                              black       neutral  \n",
       "136  loser watch sweati support rapist stick watch ...      negative  \n",
       "137                peopl america america world without       neutral  \n",
       "138  trump america racist racist comfort enough public      negative  \n",
       "139  presid trump ralli featur mirror behind medium...      positive  \n",
       "\n",
       "[140 rows x 4 columns]"
      ]
     },
     "execution_count": 12,
     "metadata": {},
     "output_type": "execute_result"
    }
   ],
   "source": [
    "df_val"
   ]
  },
  {
   "cell_type": "markdown",
   "metadata": {},
   "source": [
    "Hate Speech Feature / Variable"
   ]
  },
  {
   "cell_type": "code",
   "execution_count": null,
   "metadata": {},
   "outputs": [],
   "source": []
  },
  {
   "cell_type": "code",
   "execution_count": null,
   "metadata": {},
   "outputs": [],
   "source": []
  },
  {
   "cell_type": "code",
   "execution_count": null,
   "metadata": {},
   "outputs": [],
   "source": []
  },
  {
   "cell_type": "code",
   "execution_count": 13,
   "metadata": {},
   "outputs": [],
   "source": [
    "def hate_speech_classifier(df):\n",
    "    # Create an object of Sonar Hate Speech Detection\n",
    "    warnings.filterwarnings('ignore')\n",
    "    sonar = Sonar()\n",
    "    Class = []\n",
    "    hate = []\n",
    "    offensive = []\n",
    "    neither = []\n",
    "    for i in df['text']:\n",
    "        sonar_dict = sonar.ping(text=i)\n",
    "        Class.append(list(sonar_dict.values())[1])\n",
    "        hate.append(list(list(sonar_dict.values())[2][0].values())[1])\n",
    "        offensive.append(list(list(sonar_dict.values())[2][1].values())[1])\n",
    "        neither.append(list(list(sonar_dict.values())[2][2].values())[1])\n",
    "    # Prepare columns to add the scores later\n",
    "    df[\"hate_speach_txt\"] = Class\n",
    "    # will use these in neural network but not for linear model\n",
    "    # df[\"hate\"] = hate\n",
    "    # df[\"offensive\"] = offensive\n",
    "    # df[\"neither\"] = neither\n",
    "    return df"
   ]
  },
  {
   "cell_type": "code",
   "execution_count": 14,
   "metadata": {},
   "outputs": [],
   "source": [
    "# Function calling \n",
    "df_training = hate_speech_classifier(df_training)"
   ]
  },
  {
   "cell_type": "code",
   "execution_count": 15,
   "metadata": {},
   "outputs": [
    {
     "data": {
      "text/html": [
       "<div>\n",
       "<style scoped>\n",
       "    .dataframe tbody tr th:only-of-type {\n",
       "        vertical-align: middle;\n",
       "    }\n",
       "\n",
       "    .dataframe tbody tr th {\n",
       "        vertical-align: top;\n",
       "    }\n",
       "\n",
       "    .dataframe thead th {\n",
       "        text-align: right;\n",
       "    }\n",
       "</style>\n",
       "<table border=\"1\" class=\"dataframe\">\n",
       "  <thead>\n",
       "    <tr style=\"text-align: right;\">\n",
       "      <th></th>\n",
       "      <th>id</th>\n",
       "      <th>labels</th>\n",
       "      <th>text</th>\n",
       "      <th>sentiment_txt</th>\n",
       "      <th>hate_speach_txt</th>\n",
       "    </tr>\n",
       "  </thead>\n",
       "  <tbody>\n",
       "    <tr>\n",
       "      <th>0</th>\n",
       "      <td>346_batch_2</td>\n",
       "      <td>[Appeal to fear/prejudice, Causal Oversimplifi...</td>\n",
       "      <td>reason govern would disarm becaus intend somet...</td>\n",
       "      <td>negative</td>\n",
       "      <td>neither</td>\n",
       "    </tr>\n",
       "    <tr>\n",
       "      <th>1</th>\n",
       "      <td>398_batch_2</td>\n",
       "      <td>[Loaded Language]</td>\n",
       "      <td>trump second</td>\n",
       "      <td>neutral</td>\n",
       "      <td>neither</td>\n",
       "    </tr>\n",
       "    <tr>\n",
       "      <th>2</th>\n",
       "      <td>114</td>\n",
       "      <td>[Appeal to (Strong) Emotions, Reductio ad hitl...</td>\n",
       "      <td>histori shown first thing totalitarian govern</td>\n",
       "      <td>negative</td>\n",
       "      <td>neither</td>\n",
       "    </tr>\n",
       "    <tr>\n",
       "      <th>3</th>\n",
       "      <td>464_batch_2</td>\n",
       "      <td>[Smears]</td>\n",
       "      <td>biden forgot messag</td>\n",
       "      <td>neutral</td>\n",
       "      <td>neither</td>\n",
       "    </tr>\n",
       "    <tr>\n",
       "      <th>4</th>\n",
       "      <td>184_batch_2</td>\n",
       "      <td>[Appeal to (Strong) Emotions, Name calling/Lab...</td>\n",
       "      <td>protest think realli</td>\n",
       "      <td>negative</td>\n",
       "      <td>neither</td>\n",
       "    </tr>\n",
       "    <tr>\n",
       "      <th>...</th>\n",
       "      <td>...</td>\n",
       "      <td>...</td>\n",
       "      <td>...</td>\n",
       "      <td>...</td>\n",
       "      <td>...</td>\n",
       "    </tr>\n",
       "    <tr>\n",
       "      <th>542</th>\n",
       "      <td>652_batch_2</td>\n",
       "      <td>[Appeal to fear/prejudice, Loaded Language, Na...</td>\n",
       "      <td>glyphos mistaken belief carcinogen drink carci...</td>\n",
       "      <td>negative</td>\n",
       "      <td>neither</td>\n",
       "    </tr>\n",
       "    <tr>\n",
       "      <th>543</th>\n",
       "      <td>696_batch_2</td>\n",
       "      <td>[no_class]</td>\n",
       "      <td>stroll memori shall</td>\n",
       "      <td>neutral</td>\n",
       "      <td>neither</td>\n",
       "    </tr>\n",
       "    <tr>\n",
       "      <th>544</th>\n",
       "      <td>13_batch_2</td>\n",
       "      <td>[Doubt, Loaded Language]</td>\n",
       "      <td>moral compass peopl frank break peopl follow</td>\n",
       "      <td>neutral</td>\n",
       "      <td>neither</td>\n",
       "    </tr>\n",
       "    <tr>\n",
       "      <th>545</th>\n",
       "      <td>86_batch_2</td>\n",
       "      <td>[Loaded Language, Name calling/Labeling, Smear...</td>\n",
       "      <td>think whore pussi</td>\n",
       "      <td>negative</td>\n",
       "      <td>neither</td>\n",
       "    </tr>\n",
       "    <tr>\n",
       "      <th>546</th>\n",
       "      <td>621_batch_2</td>\n",
       "      <td>[Loaded Language]</td>\n",
       "      <td>radiat energet signal neither health except in...</td>\n",
       "      <td>neutral</td>\n",
       "      <td>neither</td>\n",
       "    </tr>\n",
       "  </tbody>\n",
       "</table>\n",
       "<p>547 rows × 5 columns</p>\n",
       "</div>"
      ],
      "text/plain": [
       "              id                                             labels  \\\n",
       "0    346_batch_2  [Appeal to fear/prejudice, Causal Oversimplifi...   \n",
       "1    398_batch_2                                  [Loaded Language]   \n",
       "2            114  [Appeal to (Strong) Emotions, Reductio ad hitl...   \n",
       "3    464_batch_2                                           [Smears]   \n",
       "4    184_batch_2  [Appeal to (Strong) Emotions, Name calling/Lab...   \n",
       "..           ...                                                ...   \n",
       "542  652_batch_2  [Appeal to fear/prejudice, Loaded Language, Na...   \n",
       "543  696_batch_2                                         [no_class]   \n",
       "544   13_batch_2                           [Doubt, Loaded Language]   \n",
       "545   86_batch_2  [Loaded Language, Name calling/Labeling, Smear...   \n",
       "546  621_batch_2                                  [Loaded Language]   \n",
       "\n",
       "                                                  text sentiment_txt  \\\n",
       "0    reason govern would disarm becaus intend somet...      negative   \n",
       "1                                         trump second       neutral   \n",
       "2        histori shown first thing totalitarian govern      negative   \n",
       "3                                  biden forgot messag       neutral   \n",
       "4                                 protest think realli      negative   \n",
       "..                                                 ...           ...   \n",
       "542  glyphos mistaken belief carcinogen drink carci...      negative   \n",
       "543                                stroll memori shall       neutral   \n",
       "544       moral compass peopl frank break peopl follow       neutral   \n",
       "545                                  think whore pussi      negative   \n",
       "546  radiat energet signal neither health except in...       neutral   \n",
       "\n",
       "    hate_speach_txt  \n",
       "0           neither  \n",
       "1           neither  \n",
       "2           neither  \n",
       "3           neither  \n",
       "4           neither  \n",
       "..              ...  \n",
       "542         neither  \n",
       "543         neither  \n",
       "544         neither  \n",
       "545         neither  \n",
       "546         neither  \n",
       "\n",
       "[547 rows x 5 columns]"
      ]
     },
     "execution_count": 15,
     "metadata": {},
     "output_type": "execute_result"
    }
   ],
   "source": [
    "df_training"
   ]
  },
  {
   "cell_type": "code",
   "execution_count": 16,
   "metadata": {},
   "outputs": [],
   "source": [
    "df_val = hate_speech_classifier(df_val)"
   ]
  },
  {
   "cell_type": "code",
   "execution_count": 17,
   "metadata": {},
   "outputs": [
    {
     "data": {
      "text/html": [
       "<div>\n",
       "<style scoped>\n",
       "    .dataframe tbody tr th:only-of-type {\n",
       "        vertical-align: middle;\n",
       "    }\n",
       "\n",
       "    .dataframe tbody tr th {\n",
       "        vertical-align: top;\n",
       "    }\n",
       "\n",
       "    .dataframe thead th {\n",
       "        text-align: right;\n",
       "    }\n",
       "</style>\n",
       "<table border=\"1\" class=\"dataframe\">\n",
       "  <thead>\n",
       "    <tr style=\"text-align: right;\">\n",
       "      <th></th>\n",
       "      <th>id</th>\n",
       "      <th>labels</th>\n",
       "      <th>text</th>\n",
       "      <th>sentiment_txt</th>\n",
       "      <th>hate_speach_txt</th>\n",
       "    </tr>\n",
       "  </thead>\n",
       "  <tbody>\n",
       "    <tr>\n",
       "      <th>0</th>\n",
       "      <td>560_batch_2</td>\n",
       "      <td>[Appeal to (Strong) Emotions, Whataboutism]</td>\n",
       "      <td>breath worri white</td>\n",
       "      <td>neutral</td>\n",
       "      <td>hate_speech</td>\n",
       "    </tr>\n",
       "    <tr>\n",
       "      <th>1</th>\n",
       "      <td>577_batch_2</td>\n",
       "      <td>[Loaded Language, Misrepresentation of Someone...</td>\n",
       "      <td>sorri listen lectur peopl think</td>\n",
       "      <td>neutral</td>\n",
       "      <td>neither</td>\n",
       "    </tr>\n",
       "    <tr>\n",
       "      <th>2</th>\n",
       "      <td>580_batch_2</td>\n",
       "      <td>[Glittering generalities (Virtue)]</td>\n",
       "      <td>white trump america</td>\n",
       "      <td>neutral</td>\n",
       "      <td>hate_speech</td>\n",
       "    </tr>\n",
       "    <tr>\n",
       "      <th>3</th>\n",
       "      <td>668_batch_2</td>\n",
       "      <td>[Smears]</td>\n",
       "      <td>reiki session result</td>\n",
       "      <td>neutral</td>\n",
       "      <td>neither</td>\n",
       "    </tr>\n",
       "    <tr>\n",
       "      <th>4</th>\n",
       "      <td>365_batch_2</td>\n",
       "      <td>[Loaded Language]</td>\n",
       "      <td>patriot enough</td>\n",
       "      <td>neutral</td>\n",
       "      <td>neither</td>\n",
       "    </tr>\n",
       "    <tr>\n",
       "      <th>...</th>\n",
       "      <td>...</td>\n",
       "      <td>...</td>\n",
       "      <td>...</td>\n",
       "      <td>...</td>\n",
       "      <td>...</td>\n",
       "    </tr>\n",
       "    <tr>\n",
       "      <th>135</th>\n",
       "      <td>460_batch_2</td>\n",
       "      <td>[Smears]</td>\n",
       "      <td>black</td>\n",
       "      <td>neutral</td>\n",
       "      <td>neither</td>\n",
       "    </tr>\n",
       "    <tr>\n",
       "      <th>136</th>\n",
       "      <td>382_batch_2</td>\n",
       "      <td>[Loaded Language, Name calling/Labeling, Reduc...</td>\n",
       "      <td>loser watch sweati support rapist stick watch ...</td>\n",
       "      <td>negative</td>\n",
       "      <td>neither</td>\n",
       "    </tr>\n",
       "    <tr>\n",
       "      <th>137</th>\n",
       "      <td>115</td>\n",
       "      <td>[Appeal to (Strong) Emotions, Appeal to fear/p...</td>\n",
       "      <td>peopl america america world without</td>\n",
       "      <td>neutral</td>\n",
       "      <td>neither</td>\n",
       "    </tr>\n",
       "    <tr>\n",
       "      <th>138</th>\n",
       "      <td>987_batch_2</td>\n",
       "      <td>[Loaded Language]</td>\n",
       "      <td>trump america racist racist comfort enough public</td>\n",
       "      <td>negative</td>\n",
       "      <td>hate_speech</td>\n",
       "    </tr>\n",
       "    <tr>\n",
       "      <th>139</th>\n",
       "      <td>685_batch_2</td>\n",
       "      <td>[Glittering generalities (Virtue), Loaded Lang...</td>\n",
       "      <td>presid trump ralli featur mirror behind medium...</td>\n",
       "      <td>positive</td>\n",
       "      <td>neither</td>\n",
       "    </tr>\n",
       "  </tbody>\n",
       "</table>\n",
       "<p>140 rows × 5 columns</p>\n",
       "</div>"
      ],
      "text/plain": [
       "              id                                             labels  \\\n",
       "0    560_batch_2        [Appeal to (Strong) Emotions, Whataboutism]   \n",
       "1    577_batch_2  [Loaded Language, Misrepresentation of Someone...   \n",
       "2    580_batch_2                 [Glittering generalities (Virtue)]   \n",
       "3    668_batch_2                                           [Smears]   \n",
       "4    365_batch_2                                  [Loaded Language]   \n",
       "..           ...                                                ...   \n",
       "135  460_batch_2                                           [Smears]   \n",
       "136  382_batch_2  [Loaded Language, Name calling/Labeling, Reduc...   \n",
       "137          115  [Appeal to (Strong) Emotions, Appeal to fear/p...   \n",
       "138  987_batch_2                                  [Loaded Language]   \n",
       "139  685_batch_2  [Glittering generalities (Virtue), Loaded Lang...   \n",
       "\n",
       "                                                  text sentiment_txt  \\\n",
       "0                                   breath worri white       neutral   \n",
       "1                      sorri listen lectur peopl think       neutral   \n",
       "2                                  white trump america       neutral   \n",
       "3                                 reiki session result       neutral   \n",
       "4                                       patriot enough       neutral   \n",
       "..                                                 ...           ...   \n",
       "135                                              black       neutral   \n",
       "136  loser watch sweati support rapist stick watch ...      negative   \n",
       "137                peopl america america world without       neutral   \n",
       "138  trump america racist racist comfort enough public      negative   \n",
       "139  presid trump ralli featur mirror behind medium...      positive   \n",
       "\n",
       "    hate_speach_txt  \n",
       "0       hate_speech  \n",
       "1           neither  \n",
       "2       hate_speech  \n",
       "3           neither  \n",
       "4           neither  \n",
       "..              ...  \n",
       "135         neither  \n",
       "136         neither  \n",
       "137         neither  \n",
       "138     hate_speech  \n",
       "139         neither  \n",
       "\n",
       "[140 rows x 5 columns]"
      ]
     },
     "execution_count": 17,
     "metadata": {},
     "output_type": "execute_result"
    }
   ],
   "source": [
    "df_val"
   ]
  },
  {
   "cell_type": "code",
   "execution_count": null,
   "metadata": {},
   "outputs": [],
   "source": []
  },
  {
   "cell_type": "code",
   "execution_count": null,
   "metadata": {},
   "outputs": [],
   "source": []
  },
  {
   "cell_type": "code",
   "execution_count": null,
   "metadata": {},
   "outputs": [],
   "source": []
  },
  {
   "cell_type": "code",
   "execution_count": null,
   "metadata": {},
   "outputs": [],
   "source": []
  },
  {
   "cell_type": "code",
   "execution_count": null,
   "metadata": {},
   "outputs": [],
   "source": []
  },
  {
   "cell_type": "code",
   "execution_count": null,
   "metadata": {},
   "outputs": [],
   "source": []
  },
  {
   "cell_type": "markdown",
   "metadata": {},
   "source": [
    "Review Datasets"
   ]
  },
  {
   "cell_type": "code",
   "execution_count": 18,
   "metadata": {},
   "outputs": [
    {
     "name": "stdout",
     "output_type": "stream",
     "text": [
      "<class 'pandas.core.frame.DataFrame'>\n",
      "RangeIndex: 547 entries, 0 to 546\n",
      "Data columns (total 5 columns):\n",
      " #   Column           Non-Null Count  Dtype \n",
      "---  ------           --------------  ----- \n",
      " 0   id               547 non-null    object\n",
      " 1   labels           547 non-null    object\n",
      " 2   text             547 non-null    object\n",
      " 3   sentiment_txt    547 non-null    object\n",
      " 4   hate_speach_txt  547 non-null    object\n",
      "dtypes: object(5)\n",
      "memory usage: 21.5+ KB\n"
     ]
    }
   ],
   "source": [
    "df_training.info()"
   ]
  },
  {
   "cell_type": "code",
   "execution_count": 19,
   "metadata": {},
   "outputs": [
    {
     "name": "stdout",
     "output_type": "stream",
     "text": [
      "<class 'pandas.core.frame.DataFrame'>\n",
      "RangeIndex: 140 entries, 0 to 139\n",
      "Data columns (total 5 columns):\n",
      " #   Column           Non-Null Count  Dtype \n",
      "---  ------           --------------  ----- \n",
      " 0   id               140 non-null    object\n",
      " 1   labels           140 non-null    object\n",
      " 2   text             140 non-null    object\n",
      " 3   sentiment_txt    140 non-null    object\n",
      " 4   hate_speach_txt  140 non-null    object\n",
      "dtypes: object(5)\n",
      "memory usage: 5.6+ KB\n"
     ]
    }
   ],
   "source": [
    "df_val.info()"
   ]
  },
  {
   "cell_type": "code",
   "execution_count": null,
   "metadata": {},
   "outputs": [],
   "source": []
  },
  {
   "cell_type": "markdown",
   "metadata": {},
   "source": [
    "In order to properly process, we need to combine all labels of the datasets"
   ]
  },
  {
   "cell_type": "code",
   "execution_count": 20,
   "metadata": {},
   "outputs": [],
   "source": [
    "df_concat_labels = pd.concat([df_training.pop('labels'), df_val.pop('labels')])"
   ]
  },
  {
   "cell_type": "markdown",
   "metadata": {},
   "source": [
    "Review labels"
   ]
  },
  {
   "cell_type": "code",
   "execution_count": 21,
   "metadata": {},
   "outputs": [
    {
     "data": {
      "text/plain": [
       "0      [Appeal to fear/prejudice, Causal Oversimplifi...\n",
       "1                                      [Loaded Language]\n",
       "2      [Appeal to (Strong) Emotions, Reductio ad hitl...\n",
       "3                                               [Smears]\n",
       "4      [Appeal to (Strong) Emotions, Name calling/Lab...\n",
       "                             ...                        \n",
       "135                                             [Smears]\n",
       "136    [Loaded Language, Name calling/Labeling, Reduc...\n",
       "137    [Appeal to (Strong) Emotions, Appeal to fear/p...\n",
       "138                                    [Loaded Language]\n",
       "139    [Glittering generalities (Virtue), Loaded Lang...\n",
       "Name: labels, Length: 687, dtype: object"
      ]
     },
     "execution_count": 21,
     "metadata": {},
     "output_type": "execute_result"
    }
   ],
   "source": [
    "df_concat_labels"
   ]
  },
  {
   "cell_type": "markdown",
   "metadata": {},
   "source": [
    "len(df_training)use multilabel Binarizer <br>\n",
    "Use combined set and then resplit"
   ]
  },
  {
   "cell_type": "code",
   "execution_count": 22,
   "metadata": {},
   "outputs": [
    {
     "data": {
      "text/plain": [
       "547"
      ]
     },
     "execution_count": 22,
     "metadata": {},
     "output_type": "execute_result"
    }
   ],
   "source": [
    "len(df_training)"
   ]
  },
  {
   "cell_type": "code",
   "execution_count": 23,
   "metadata": {},
   "outputs": [
    {
     "data": {
      "text/plain": [
       "687"
      ]
     },
     "execution_count": 23,
     "metadata": {},
     "output_type": "execute_result"
    }
   ],
   "source": [
    "len(df_training) + len(df_val)"
   ]
  },
  {
   "cell_type": "code",
   "execution_count": null,
   "metadata": {},
   "outputs": [],
   "source": []
  },
  {
   "cell_type": "code",
   "execution_count": null,
   "metadata": {},
   "outputs": [],
   "source": []
  },
  {
   "cell_type": "code",
   "execution_count": 24,
   "metadata": {},
   "outputs": [],
   "source": [
    "mlb = MultiLabelBinarizer(sparse_output=True)\n",
    "\n",
    "\n",
    "concat_labels = df_training.join(pd.DataFrame.sparse.from_spmatrix(\n",
    "                    mlb.fit_transform(df_concat_labels),\n",
    "                    index=df_concat_labels.index,\n",
    "                    columns=mlb.classes_))\n",
    "\n",
    "\n",
    "train_labels = concat_labels[0:len(df_training)]\n",
    "\n",
    "\n",
    "val_labels = concat_labels[len(df_training):]\n",
    "\n",
    "\n"
   ]
  },
  {
   "cell_type": "code",
   "execution_count": 25,
   "metadata": {},
   "outputs": [
    {
     "data": {
      "text/html": [
       "<div>\n",
       "<style scoped>\n",
       "    .dataframe tbody tr th:only-of-type {\n",
       "        vertical-align: middle;\n",
       "    }\n",
       "\n",
       "    .dataframe tbody tr th {\n",
       "        vertical-align: top;\n",
       "    }\n",
       "\n",
       "    .dataframe thead th {\n",
       "        text-align: right;\n",
       "    }\n",
       "</style>\n",
       "<table border=\"1\" class=\"dataframe\">\n",
       "  <thead>\n",
       "    <tr style=\"text-align: right;\">\n",
       "      <th></th>\n",
       "      <th>id</th>\n",
       "      <th>text</th>\n",
       "      <th>sentiment_txt</th>\n",
       "      <th>hate_speach_txt</th>\n",
       "      <th>Appeal to (Strong) Emotions</th>\n",
       "      <th>Appeal to authority</th>\n",
       "      <th>Appeal to fear/prejudice</th>\n",
       "      <th>Bandwagon</th>\n",
       "      <th>Black-and-white Fallacy/Dictatorship</th>\n",
       "      <th>Causal Oversimplification</th>\n",
       "      <th>...</th>\n",
       "      <th>Obfuscation, Intentional vagueness, Confusion</th>\n",
       "      <th>Presenting Irrelevant Data (Red Herring)</th>\n",
       "      <th>Reductio ad hitlerum</th>\n",
       "      <th>Repetition</th>\n",
       "      <th>Slogans</th>\n",
       "      <th>Smears</th>\n",
       "      <th>Thought-terminating cliché</th>\n",
       "      <th>Transfer</th>\n",
       "      <th>Whataboutism</th>\n",
       "      <th>no_class</th>\n",
       "    </tr>\n",
       "  </thead>\n",
       "  <tbody>\n",
       "    <tr>\n",
       "      <th>0</th>\n",
       "      <td>346_batch_2</td>\n",
       "      <td>reason govern would disarm becaus intend somet...</td>\n",
       "      <td>negative</td>\n",
       "      <td>neither</td>\n",
       "      <td>0</td>\n",
       "      <td>0</td>\n",
       "      <td>1</td>\n",
       "      <td>0</td>\n",
       "      <td>0</td>\n",
       "      <td>1</td>\n",
       "      <td>...</td>\n",
       "      <td>0</td>\n",
       "      <td>0</td>\n",
       "      <td>0</td>\n",
       "      <td>0</td>\n",
       "      <td>0</td>\n",
       "      <td>0</td>\n",
       "      <td>0</td>\n",
       "      <td>0</td>\n",
       "      <td>0</td>\n",
       "      <td>0</td>\n",
       "    </tr>\n",
       "    <tr>\n",
       "      <th>0</th>\n",
       "      <td>346_batch_2</td>\n",
       "      <td>reason govern would disarm becaus intend somet...</td>\n",
       "      <td>negative</td>\n",
       "      <td>neither</td>\n",
       "      <td>1</td>\n",
       "      <td>0</td>\n",
       "      <td>0</td>\n",
       "      <td>0</td>\n",
       "      <td>0</td>\n",
       "      <td>0</td>\n",
       "      <td>...</td>\n",
       "      <td>0</td>\n",
       "      <td>0</td>\n",
       "      <td>0</td>\n",
       "      <td>0</td>\n",
       "      <td>0</td>\n",
       "      <td>0</td>\n",
       "      <td>0</td>\n",
       "      <td>0</td>\n",
       "      <td>1</td>\n",
       "      <td>0</td>\n",
       "    </tr>\n",
       "    <tr>\n",
       "      <th>1</th>\n",
       "      <td>398_batch_2</td>\n",
       "      <td>trump second</td>\n",
       "      <td>neutral</td>\n",
       "      <td>neither</td>\n",
       "      <td>0</td>\n",
       "      <td>0</td>\n",
       "      <td>0</td>\n",
       "      <td>0</td>\n",
       "      <td>0</td>\n",
       "      <td>0</td>\n",
       "      <td>...</td>\n",
       "      <td>0</td>\n",
       "      <td>0</td>\n",
       "      <td>0</td>\n",
       "      <td>0</td>\n",
       "      <td>0</td>\n",
       "      <td>0</td>\n",
       "      <td>0</td>\n",
       "      <td>0</td>\n",
       "      <td>0</td>\n",
       "      <td>0</td>\n",
       "    </tr>\n",
       "    <tr>\n",
       "      <th>1</th>\n",
       "      <td>398_batch_2</td>\n",
       "      <td>trump second</td>\n",
       "      <td>neutral</td>\n",
       "      <td>neither</td>\n",
       "      <td>0</td>\n",
       "      <td>0</td>\n",
       "      <td>0</td>\n",
       "      <td>0</td>\n",
       "      <td>0</td>\n",
       "      <td>0</td>\n",
       "      <td>...</td>\n",
       "      <td>1</td>\n",
       "      <td>0</td>\n",
       "      <td>0</td>\n",
       "      <td>0</td>\n",
       "      <td>0</td>\n",
       "      <td>0</td>\n",
       "      <td>0</td>\n",
       "      <td>0</td>\n",
       "      <td>1</td>\n",
       "      <td>0</td>\n",
       "    </tr>\n",
       "    <tr>\n",
       "      <th>2</th>\n",
       "      <td>114</td>\n",
       "      <td>histori shown first thing totalitarian govern</td>\n",
       "      <td>negative</td>\n",
       "      <td>neither</td>\n",
       "      <td>1</td>\n",
       "      <td>0</td>\n",
       "      <td>0</td>\n",
       "      <td>0</td>\n",
       "      <td>0</td>\n",
       "      <td>0</td>\n",
       "      <td>...</td>\n",
       "      <td>0</td>\n",
       "      <td>0</td>\n",
       "      <td>1</td>\n",
       "      <td>0</td>\n",
       "      <td>0</td>\n",
       "      <td>0</td>\n",
       "      <td>0</td>\n",
       "      <td>0</td>\n",
       "      <td>0</td>\n",
       "      <td>0</td>\n",
       "    </tr>\n",
       "    <tr>\n",
       "      <th>...</th>\n",
       "      <td>...</td>\n",
       "      <td>...</td>\n",
       "      <td>...</td>\n",
       "      <td>...</td>\n",
       "      <td>...</td>\n",
       "      <td>...</td>\n",
       "      <td>...</td>\n",
       "      <td>...</td>\n",
       "      <td>...</td>\n",
       "      <td>...</td>\n",
       "      <td>...</td>\n",
       "      <td>...</td>\n",
       "      <td>...</td>\n",
       "      <td>...</td>\n",
       "      <td>...</td>\n",
       "      <td>...</td>\n",
       "      <td>...</td>\n",
       "      <td>...</td>\n",
       "      <td>...</td>\n",
       "      <td>...</td>\n",
       "      <td>...</td>\n",
       "    </tr>\n",
       "    <tr>\n",
       "      <th>402</th>\n",
       "      <td>44_batch_2</td>\n",
       "      <td>ideolog million centuri prais univers today so...</td>\n",
       "      <td>neutral</td>\n",
       "      <td>neither</td>\n",
       "      <td>0</td>\n",
       "      <td>0</td>\n",
       "      <td>1</td>\n",
       "      <td>0</td>\n",
       "      <td>0</td>\n",
       "      <td>0</td>\n",
       "      <td>...</td>\n",
       "      <td>0</td>\n",
       "      <td>0</td>\n",
       "      <td>0</td>\n",
       "      <td>0</td>\n",
       "      <td>0</td>\n",
       "      <td>1</td>\n",
       "      <td>0</td>\n",
       "      <td>1</td>\n",
       "      <td>0</td>\n",
       "      <td>0</td>\n",
       "    </tr>\n",
       "    <tr>\n",
       "      <th>403</th>\n",
       "      <td>143</td>\n",
       "      <td>conserv liber</td>\n",
       "      <td>neutral</td>\n",
       "      <td>neither</td>\n",
       "      <td>0</td>\n",
       "      <td>0</td>\n",
       "      <td>0</td>\n",
       "      <td>0</td>\n",
       "      <td>0</td>\n",
       "      <td>0</td>\n",
       "      <td>...</td>\n",
       "      <td>0</td>\n",
       "      <td>0</td>\n",
       "      <td>0</td>\n",
       "      <td>0</td>\n",
       "      <td>0</td>\n",
       "      <td>1</td>\n",
       "      <td>0</td>\n",
       "      <td>0</td>\n",
       "      <td>0</td>\n",
       "      <td>0</td>\n",
       "    </tr>\n",
       "    <tr>\n",
       "      <th>404</th>\n",
       "      <td>26_batch_2</td>\n",
       "      <td>reason attent childrenslivesmatt endchildtraff...</td>\n",
       "      <td>neutral</td>\n",
       "      <td>neither</td>\n",
       "      <td>0</td>\n",
       "      <td>0</td>\n",
       "      <td>0</td>\n",
       "      <td>0</td>\n",
       "      <td>0</td>\n",
       "      <td>1</td>\n",
       "      <td>...</td>\n",
       "      <td>0</td>\n",
       "      <td>0</td>\n",
       "      <td>0</td>\n",
       "      <td>0</td>\n",
       "      <td>0</td>\n",
       "      <td>1</td>\n",
       "      <td>0</td>\n",
       "      <td>0</td>\n",
       "      <td>0</td>\n",
       "      <td>0</td>\n",
       "    </tr>\n",
       "    <tr>\n",
       "      <th>405</th>\n",
       "      <td>667_batch_2</td>\n",
       "      <td>explain exactli break blood vessel bruis enhan...</td>\n",
       "      <td>neutral</td>\n",
       "      <td>neither</td>\n",
       "      <td>0</td>\n",
       "      <td>0</td>\n",
       "      <td>0</td>\n",
       "      <td>0</td>\n",
       "      <td>0</td>\n",
       "      <td>0</td>\n",
       "      <td>...</td>\n",
       "      <td>0</td>\n",
       "      <td>0</td>\n",
       "      <td>0</td>\n",
       "      <td>0</td>\n",
       "      <td>0</td>\n",
       "      <td>0</td>\n",
       "      <td>0</td>\n",
       "      <td>0</td>\n",
       "      <td>0</td>\n",
       "      <td>0</td>\n",
       "    </tr>\n",
       "    <tr>\n",
       "      <th>406</th>\n",
       "      <td>334_batch_2</td>\n",
       "      <td>smoke signal chanc presid</td>\n",
       "      <td>neutral</td>\n",
       "      <td>neither</td>\n",
       "      <td>0</td>\n",
       "      <td>0</td>\n",
       "      <td>0</td>\n",
       "      <td>0</td>\n",
       "      <td>0</td>\n",
       "      <td>0</td>\n",
       "      <td>...</td>\n",
       "      <td>0</td>\n",
       "      <td>0</td>\n",
       "      <td>0</td>\n",
       "      <td>0</td>\n",
       "      <td>0</td>\n",
       "      <td>1</td>\n",
       "      <td>0</td>\n",
       "      <td>0</td>\n",
       "      <td>0</td>\n",
       "      <td>0</td>\n",
       "    </tr>\n",
       "  </tbody>\n",
       "</table>\n",
       "<p>547 rows × 27 columns</p>\n",
       "</div>"
      ],
      "text/plain": [
       "              id                                               text  \\\n",
       "0    346_batch_2  reason govern would disarm becaus intend somet...   \n",
       "0    346_batch_2  reason govern would disarm becaus intend somet...   \n",
       "1    398_batch_2                                       trump second   \n",
       "1    398_batch_2                                       trump second   \n",
       "2            114      histori shown first thing totalitarian govern   \n",
       "..           ...                                                ...   \n",
       "402   44_batch_2  ideolog million centuri prais univers today so...   \n",
       "403          143                                      conserv liber   \n",
       "404   26_batch_2  reason attent childrenslivesmatt endchildtraff...   \n",
       "405  667_batch_2  explain exactli break blood vessel bruis enhan...   \n",
       "406  334_batch_2                          smoke signal chanc presid   \n",
       "\n",
       "    sentiment_txt hate_speach_txt  Appeal to (Strong) Emotions  \\\n",
       "0        negative         neither                            0   \n",
       "0        negative         neither                            1   \n",
       "1         neutral         neither                            0   \n",
       "1         neutral         neither                            0   \n",
       "2        negative         neither                            1   \n",
       "..            ...             ...                          ...   \n",
       "402       neutral         neither                            0   \n",
       "403       neutral         neither                            0   \n",
       "404       neutral         neither                            0   \n",
       "405       neutral         neither                            0   \n",
       "406       neutral         neither                            0   \n",
       "\n",
       "     Appeal to authority  Appeal to fear/prejudice  Bandwagon  \\\n",
       "0                      0                         1          0   \n",
       "0                      0                         0          0   \n",
       "1                      0                         0          0   \n",
       "1                      0                         0          0   \n",
       "2                      0                         0          0   \n",
       "..                   ...                       ...        ...   \n",
       "402                    0                         1          0   \n",
       "403                    0                         0          0   \n",
       "404                    0                         0          0   \n",
       "405                    0                         0          0   \n",
       "406                    0                         0          0   \n",
       "\n",
       "     Black-and-white Fallacy/Dictatorship  Causal Oversimplification  ...  \\\n",
       "0                                       0                          1  ...   \n",
       "0                                       0                          0  ...   \n",
       "1                                       0                          0  ...   \n",
       "1                                       0                          0  ...   \n",
       "2                                       0                          0  ...   \n",
       "..                                    ...                        ...  ...   \n",
       "402                                     0                          0  ...   \n",
       "403                                     0                          0  ...   \n",
       "404                                     0                          1  ...   \n",
       "405                                     0                          0  ...   \n",
       "406                                     0                          0  ...   \n",
       "\n",
       "     Obfuscation, Intentional vagueness, Confusion  \\\n",
       "0                                                0   \n",
       "0                                                0   \n",
       "1                                                0   \n",
       "1                                                1   \n",
       "2                                                0   \n",
       "..                                             ...   \n",
       "402                                              0   \n",
       "403                                              0   \n",
       "404                                              0   \n",
       "405                                              0   \n",
       "406                                              0   \n",
       "\n",
       "     Presenting Irrelevant Data (Red Herring)  Reductio ad hitlerum  \\\n",
       "0                                           0                     0   \n",
       "0                                           0                     0   \n",
       "1                                           0                     0   \n",
       "1                                           0                     0   \n",
       "2                                           0                     1   \n",
       "..                                        ...                   ...   \n",
       "402                                         0                     0   \n",
       "403                                         0                     0   \n",
       "404                                         0                     0   \n",
       "405                                         0                     0   \n",
       "406                                         0                     0   \n",
       "\n",
       "     Repetition  Slogans  Smears  Thought-terminating cliché  Transfer  \\\n",
       "0             0        0       0                           0         0   \n",
       "0             0        0       0                           0         0   \n",
       "1             0        0       0                           0         0   \n",
       "1             0        0       0                           0         0   \n",
       "2             0        0       0                           0         0   \n",
       "..          ...      ...     ...                         ...       ...   \n",
       "402           0        0       1                           0         1   \n",
       "403           0        0       1                           0         0   \n",
       "404           0        0       1                           0         0   \n",
       "405           0        0       0                           0         0   \n",
       "406           0        0       1                           0         0   \n",
       "\n",
       "     Whataboutism  no_class  \n",
       "0               0         0  \n",
       "0               1         0  \n",
       "1               0         0  \n",
       "1               1         0  \n",
       "2               0         0  \n",
       "..            ...       ...  \n",
       "402             0         0  \n",
       "403             0         0  \n",
       "404             0         0  \n",
       "405             0         0  \n",
       "406             0         0  \n",
       "\n",
       "[547 rows x 27 columns]"
      ]
     },
     "execution_count": 25,
     "metadata": {},
     "output_type": "execute_result"
    }
   ],
   "source": [
    "train_labels"
   ]
  },
  {
   "cell_type": "markdown",
   "metadata": {},
   "source": [
    "ensure split off occured correctly"
   ]
  },
  {
   "cell_type": "code",
   "execution_count": 26,
   "metadata": {},
   "outputs": [
    {
     "data": {
      "text/plain": [
       "547"
      ]
     },
     "execution_count": 26,
     "metadata": {},
     "output_type": "execute_result"
    }
   ],
   "source": [
    "len(df_training)"
   ]
  },
  {
   "cell_type": "code",
   "execution_count": 27,
   "metadata": {},
   "outputs": [
    {
     "data": {
      "text/plain": [
       "140"
      ]
     },
     "execution_count": 27,
     "metadata": {},
     "output_type": "execute_result"
    }
   ],
   "source": [
    "len(df_val)"
   ]
  },
  {
   "cell_type": "code",
   "execution_count": 28,
   "metadata": {},
   "outputs": [
    {
     "data": {
      "text/plain": [
       "547"
      ]
     },
     "execution_count": 28,
     "metadata": {},
     "output_type": "execute_result"
    }
   ],
   "source": [
    "len(train_labels)"
   ]
  },
  {
   "cell_type": "code",
   "execution_count": 29,
   "metadata": {},
   "outputs": [
    {
     "data": {
      "text/plain": [
       "140"
      ]
     },
     "execution_count": 29,
     "metadata": {},
     "output_type": "execute_result"
    }
   ],
   "source": [
    "len(val_labels)"
   ]
  },
  {
   "cell_type": "markdown",
   "metadata": {},
   "source": [
    "remove the text field from the labels dataset"
   ]
  },
  {
   "cell_type": "code",
   "execution_count": 30,
   "metadata": {},
   "outputs": [
    {
     "name": "stdout",
     "output_type": "stream",
     "text": [
      "<class 'pandas.core.frame.DataFrame'>\n",
      "Int64Index: 547 entries, 0 to 406\n",
      "Data columns (total 24 columns):\n",
      " #   Column                                               Non-Null Count  Dtype           \n",
      "---  ------                                               --------------  -----           \n",
      " 0   id                                                   547 non-null    object          \n",
      " 1   Appeal to (Strong) Emotions                          547 non-null    Sparse[int32, 0]\n",
      " 2   Appeal to authority                                  547 non-null    Sparse[int32, 0]\n",
      " 3   Appeal to fear/prejudice                             547 non-null    Sparse[int32, 0]\n",
      " 4   Bandwagon                                            547 non-null    Sparse[int32, 0]\n",
      " 5   Black-and-white Fallacy/Dictatorship                 547 non-null    Sparse[int32, 0]\n",
      " 6   Causal Oversimplification                            547 non-null    Sparse[int32, 0]\n",
      " 7   Doubt                                                547 non-null    Sparse[int32, 0]\n",
      " 8   Exaggeration/Minimisation                            547 non-null    Sparse[int32, 0]\n",
      " 9   Flag-waving                                          547 non-null    Sparse[int32, 0]\n",
      " 10  Glittering generalities (Virtue)                     547 non-null    Sparse[int32, 0]\n",
      " 11  Loaded Language                                      547 non-null    Sparse[int32, 0]\n",
      " 12  Misrepresentation of Someone's Position (Straw Man)  547 non-null    Sparse[int32, 0]\n",
      " 13  Name calling/Labeling                                547 non-null    Sparse[int32, 0]\n",
      " 14  Obfuscation, Intentional vagueness, Confusion        547 non-null    Sparse[int32, 0]\n",
      " 15  Presenting Irrelevant Data (Red Herring)             547 non-null    Sparse[int32, 0]\n",
      " 16  Reductio ad hitlerum                                 547 non-null    Sparse[int32, 0]\n",
      " 17  Repetition                                           547 non-null    Sparse[int32, 0]\n",
      " 18  Slogans                                              547 non-null    Sparse[int32, 0]\n",
      " 19  Smears                                               547 non-null    Sparse[int32, 0]\n",
      " 20  Thought-terminating cliché                           547 non-null    Sparse[int32, 0]\n",
      " 21  Transfer                                             547 non-null    Sparse[int32, 0]\n",
      " 22  Whataboutism                                         547 non-null    Sparse[int32, 0]\n",
      " 23  no_class                                             547 non-null    Sparse[int32, 0]\n",
      "dtypes: Sparse[int32, 0](23), object(1)\n",
      "memory usage: 19.6+ KB\n",
      "None\n"
     ]
    }
   ],
   "source": [
    "train_labels = train_labels.drop(['text', 'sentiment_txt','hate_speach_txt'], axis=1)\n",
    "val_labels = val_labels.drop(['text','sentiment_txt','hate_speach_txt'], axis=1)\n",
    "\n",
    "\n",
    "print(train_labels.info())"
   ]
  },
  {
   "cell_type": "markdown",
   "metadata": {},
   "source": [
    "Review labels"
   ]
  },
  {
   "cell_type": "code",
   "execution_count": 31,
   "metadata": {},
   "outputs": [
    {
     "name": "stdout",
     "output_type": "stream",
     "text": [
      "<class 'pandas.core.frame.DataFrame'>\n",
      "Int64Index: 140 entries, 407 to 546\n",
      "Data columns (total 24 columns):\n",
      " #   Column                                               Non-Null Count  Dtype           \n",
      "---  ------                                               --------------  -----           \n",
      " 0   id                                                   140 non-null    object          \n",
      " 1   Appeal to (Strong) Emotions                          140 non-null    Sparse[int32, 0]\n",
      " 2   Appeal to authority                                  140 non-null    Sparse[int32, 0]\n",
      " 3   Appeal to fear/prejudice                             140 non-null    Sparse[int32, 0]\n",
      " 4   Bandwagon                                            140 non-null    Sparse[int32, 0]\n",
      " 5   Black-and-white Fallacy/Dictatorship                 140 non-null    Sparse[int32, 0]\n",
      " 6   Causal Oversimplification                            140 non-null    Sparse[int32, 0]\n",
      " 7   Doubt                                                140 non-null    Sparse[int32, 0]\n",
      " 8   Exaggeration/Minimisation                            140 non-null    Sparse[int32, 0]\n",
      " 9   Flag-waving                                          140 non-null    Sparse[int32, 0]\n",
      " 10  Glittering generalities (Virtue)                     140 non-null    Sparse[int32, 0]\n",
      " 11  Loaded Language                                      140 non-null    Sparse[int32, 0]\n",
      " 12  Misrepresentation of Someone's Position (Straw Man)  140 non-null    Sparse[int32, 0]\n",
      " 13  Name calling/Labeling                                140 non-null    Sparse[int32, 0]\n",
      " 14  Obfuscation, Intentional vagueness, Confusion        140 non-null    Sparse[int32, 0]\n",
      " 15  Presenting Irrelevant Data (Red Herring)             140 non-null    Sparse[int32, 0]\n",
      " 16  Reductio ad hitlerum                                 140 non-null    Sparse[int32, 0]\n",
      " 17  Repetition                                           140 non-null    Sparse[int32, 0]\n",
      " 18  Slogans                                              140 non-null    Sparse[int32, 0]\n",
      " 19  Smears                                               140 non-null    Sparse[int32, 0]\n",
      " 20  Thought-terminating cliché                           140 non-null    Sparse[int32, 0]\n",
      " 21  Transfer                                             140 non-null    Sparse[int32, 0]\n",
      " 22  Whataboutism                                         140 non-null    Sparse[int32, 0]\n",
      " 23  no_class                                             140 non-null    Sparse[int32, 0]\n",
      "dtypes: Sparse[int32, 0](23), object(1)\n",
      "memory usage: 5.0+ KB\n"
     ]
    }
   ],
   "source": [
    "val_labels.info()"
   ]
  },
  {
   "cell_type": "code",
   "execution_count": null,
   "metadata": {},
   "outputs": [],
   "source": []
  },
  {
   "cell_type": "markdown",
   "metadata": {},
   "source": [
    "Combine all text and then vectorize to be able to model using TFIDVectorizer"
   ]
  },
  {
   "cell_type": "code",
   "execution_count": 32,
   "metadata": {},
   "outputs": [],
   "source": [
    "from sklearn.feature_extraction.text import TfidfVectorizer\n",
    "from sklearn import metrics\n",
    "\n",
    "df_concat = pd.concat([df_training[\"text\"] + ' ' + df_training[\"sentiment_txt\"] + ' ' + df_training[\"hate_speach_txt\"], \n",
    "                       df_val[\"text\"] + ' ' + df_val[\"sentiment_txt\"] + ' ' + df_val[\"hate_speach_txt\"]])\n",
    "\n",
    "\n",
    "vectorizer = TfidfVectorizer() \n",
    "vectorised_train_documents = vectorizer.fit_transform(df_concat)\n",
    " "
   ]
  },
  {
   "cell_type": "code",
   "execution_count": null,
   "metadata": {},
   "outputs": [],
   "source": []
  },
  {
   "cell_type": "markdown",
   "metadata": {},
   "source": [
    "Vectorize the dev text "
   ]
  },
  {
   "cell_type": "code",
   "execution_count": 33,
   "metadata": {},
   "outputs": [],
   "source": [
    "vectorised_val_documents = vectorizer.transform(df_val[\"text\"] + ' ' + df_val[\"sentiment_txt\"] + ' ' + df_val[\"hate_speach_txt\"])\n",
    "#df_val[\"text\"]"
   ]
  },
  {
   "cell_type": "markdown",
   "metadata": {},
   "source": [
    "Get feature names and present the top 50 words, notice no data transforms or data clensing has occured (will do on another pass)"
   ]
  },
  {
   "cell_type": "code",
   "execution_count": 34,
   "metadata": {},
   "outputs": [],
   "source": [
    "\n",
    "from yellowbrick.text import FreqDistVisualizer\n",
    "features = vectorizer.get_feature_names()\n"
   ]
  },
  {
   "cell_type": "code",
   "execution_count": 35,
   "metadata": {},
   "outputs": [
    {
     "data": {
      "image/png": "[encoded data removed]",
      "text/plain": [
       "<Figure size 576x396 with 1 Axes>"
      ]
     },
     "metadata": {},
     "output_type": "display_data"
    },
    {
     "data": {
      "text/plain": [
       "<AxesSubplot:title={'center':'Frequency Distribution of Top 50 tokens'}>"
      ]
     },
     "execution_count": 35,
     "metadata": {},
     "output_type": "execute_result"
    }
   ],
   "source": [
    "visualizer = FreqDistVisualizer(features=features, orient='v')\n",
    "visualizer.fit(vectorised_train_documents)\n",
    "visualizer.show()"
   ]
  },
  {
   "cell_type": "markdown",
   "metadata": {},
   "source": [
    "Visualize the entire corpus (using  T-SNE) <br>\n",
    "also shows how many documents are in the corpus"
   ]
  },
  {
   "cell_type": "code",
   "execution_count": 36,
   "metadata": {},
   "outputs": [
    {
     "name": "stderr",
     "output_type": "stream",
     "text": [
      "*c* argument looks like a single numeric RGB or RGBA sequence, which should be avoided as value-mapping will have precedence in case its length matches with *x* & *y*.  Please use the *color* keyword-argument or provide a 2-D array with a single row if you intend to specify the same RGB or RGBA value for all points.\n"
     ]
    },
    {
     "data": {
      "image/png": "[encoded data removed]",
      "text/plain": [
       "<Figure size 576x396 with 1 Axes>"
      ]
     },
     "metadata": {},
     "output_type": "display_data"
    },
    {
     "data": {
      "text/plain": [
       "<AxesSubplot:title={'center':'TSNE Projection of 687 Documents'}>"
      ]
     },
     "execution_count": 36,
     "metadata": {},
     "output_type": "execute_result"
    }
   ],
   "source": [
    "tsne = TSNEVisualizer()\n",
    "tsne.fit(vectorised_train_documents)\n",
    "tsne.show()"
   ]
  },
  {
   "cell_type": "markdown",
   "metadata": {},
   "source": [
    "\n",
    "Visualizaing corpus with Uniform Manifold Approximation and Projection"
   ]
  },
  {
   "cell_type": "code",
   "execution_count": 37,
   "metadata": {},
   "outputs": [
    {
     "name": "stderr",
     "output_type": "stream",
     "text": [
      "*c* argument looks like a single numeric RGB or RGBA sequence, which should be avoided as value-mapping will have precedence in case its length matches with *x* & *y*.  Please use the *color* keyword-argument or provide a 2-D array with a single row if you intend to specify the same RGB or RGBA value for all points.\n"
     ]
    },
    {
     "data": {
      "image/png": "[encoded data removed]",
      "text/plain": [
       "<Figure size 576x396 with 1 Axes>"
      ]
     },
     "metadata": {},
     "output_type": "display_data"
    },
    {
     "data": {
      "text/plain": [
       "<AxesSubplot:title={'center':'UMAP Projection of 687 Documents'}>"
      ]
     },
     "execution_count": 37,
     "metadata": {},
     "output_type": "execute_result"
    }
   ],
   "source": [
    "\n",
    "from yellowbrick.text import UMAPVisualizer\n",
    "from sklearn.cluster import KMeans\n",
    "\n",
    "umap = UMAPVisualizer(metric=\"cosine\")\n",
    "umap.fit(vectorised_train_documents)\n",
    "umap.show()"
   ]
  },
  {
   "cell_type": "code",
   "execution_count": null,
   "metadata": {},
   "outputs": [],
   "source": []
  },
  {
   "cell_type": "markdown",
   "metadata": {},
   "source": [
    "Model Performance"
   ]
  },
  {
   "cell_type": "code",
   "execution_count": 38,
   "metadata": {},
   "outputs": [],
   "source": [
    "from sklearn.metrics import accuracy_score, precision_score, recall_score, f1_score, confusion_matrix, hamming_loss\n",
    "\n",
    "ModelsPerformance = {}\n",
    "\n",
    "def metricsReport(modelName, test_labels, predictions, labels):\n",
    "    accuracy = accuracy_score(test_labels, predictions)\n",
    "\n",
    "    macro_precision = precision_score(test_labels, predictions, average='macro', zero_division=1)\n",
    "    macro_recall = recall_score(test_labels, predictions, average='macro', zero_division=1)\n",
    "    macro_f1 = f1_score(test_labels, predictions, average='macro', zero_division=1)\n",
    "\n",
    "    micro_precision = precision_score(test_labels, predictions, average='micro', zero_division=1)\n",
    "    micro_recall = recall_score(test_labels, predictions, average='micro', zero_division=1)\n",
    "    micro_f1 = f1_score(test_labels, predictions, average='micro', zero_division=1)\n",
    "    hamLoss = hamming_loss(test_labels, predictions)\n",
    "    print(\"------\" + modelName + \" Model Metrics-----\")\n",
    "    print(\"Accuracy: {:.4f}\\nHamming Loss: {:.4f}\\nPrecision:\\n  - Macro: {:.4f}\\n  - Micro: {:.4f}\\nRecall:\\n  - Macro: {:.4f}\\n  - Micro: {:.4f}\\nF1-measure:\\n  - Macro: {:.4f}\\n  - Micro: {:.4f}\"\\\n",
    "          .format(accuracy, hamLoss, macro_precision, micro_precision, macro_recall, micro_recall, macro_f1, micro_f1))\n",
    "    ModelsPerformance[modelName] = micro_f1\n",
    "    print(metrics.classification_report(test_labels, predictions, zero_division=0, target_names = labels))"
   ]
  },
  {
   "cell_type": "code",
   "execution_count": 39,
   "metadata": {},
   "outputs": [
    {
     "name": "stdout",
     "output_type": "stream",
     "text": [
      "<class 'pandas.core.frame.DataFrame'>\n",
      "Int64Index: 547 entries, 0 to 406\n",
      "Data columns (total 24 columns):\n",
      " #   Column                                               Non-Null Count  Dtype           \n",
      "---  ------                                               --------------  -----           \n",
      " 0   id                                                   547 non-null    object          \n",
      " 1   Appeal to (Strong) Emotions                          547 non-null    Sparse[int32, 0]\n",
      " 2   Appeal to authority                                  547 non-null    Sparse[int32, 0]\n",
      " 3   Appeal to fear/prejudice                             547 non-null    Sparse[int32, 0]\n",
      " 4   Bandwagon                                            547 non-null    Sparse[int32, 0]\n",
      " 5   Black-and-white Fallacy/Dictatorship                 547 non-null    Sparse[int32, 0]\n",
      " 6   Causal Oversimplification                            547 non-null    Sparse[int32, 0]\n",
      " 7   Doubt                                                547 non-null    Sparse[int32, 0]\n",
      " 8   Exaggeration/Minimisation                            547 non-null    Sparse[int32, 0]\n",
      " 9   Flag-waving                                          547 non-null    Sparse[int32, 0]\n",
      " 10  Glittering generalities (Virtue)                     547 non-null    Sparse[int32, 0]\n",
      " 11  Loaded Language                                      547 non-null    Sparse[int32, 0]\n",
      " 12  Misrepresentation of Someone's Position (Straw Man)  547 non-null    Sparse[int32, 0]\n",
      " 13  Name calling/Labeling                                547 non-null    Sparse[int32, 0]\n",
      " 14  Obfuscation, Intentional vagueness, Confusion        547 non-null    Sparse[int32, 0]\n",
      " 15  Presenting Irrelevant Data (Red Herring)             547 non-null    Sparse[int32, 0]\n",
      " 16  Reductio ad hitlerum                                 547 non-null    Sparse[int32, 0]\n",
      " 17  Repetition                                           547 non-null    Sparse[int32, 0]\n",
      " 18  Slogans                                              547 non-null    Sparse[int32, 0]\n",
      " 19  Smears                                               547 non-null    Sparse[int32, 0]\n",
      " 20  Thought-terminating cliché                           547 non-null    Sparse[int32, 0]\n",
      " 21  Transfer                                             547 non-null    Sparse[int32, 0]\n",
      " 22  Whataboutism                                         547 non-null    Sparse[int32, 0]\n",
      " 23  no_class                                             547 non-null    Sparse[int32, 0]\n",
      "dtypes: Sparse[int32, 0](23), object(1)\n",
      "memory usage: 19.6+ KB\n"
     ]
    }
   ],
   "source": [
    "train_labels.info()"
   ]
  },
  {
   "cell_type": "code",
   "execution_count": 40,
   "metadata": {},
   "outputs": [
    {
     "name": "stdout",
     "output_type": "stream",
     "text": [
      "<class 'pandas.core.frame.DataFrame'>\n",
      "Int64Index: 140 entries, 407 to 546\n",
      "Data columns (total 24 columns):\n",
      " #   Column                                               Non-Null Count  Dtype           \n",
      "---  ------                                               --------------  -----           \n",
      " 0   id                                                   140 non-null    object          \n",
      " 1   Appeal to (Strong) Emotions                          140 non-null    Sparse[int32, 0]\n",
      " 2   Appeal to authority                                  140 non-null    Sparse[int32, 0]\n",
      " 3   Appeal to fear/prejudice                             140 non-null    Sparse[int32, 0]\n",
      " 4   Bandwagon                                            140 non-null    Sparse[int32, 0]\n",
      " 5   Black-and-white Fallacy/Dictatorship                 140 non-null    Sparse[int32, 0]\n",
      " 6   Causal Oversimplification                            140 non-null    Sparse[int32, 0]\n",
      " 7   Doubt                                                140 non-null    Sparse[int32, 0]\n",
      " 8   Exaggeration/Minimisation                            140 non-null    Sparse[int32, 0]\n",
      " 9   Flag-waving                                          140 non-null    Sparse[int32, 0]\n",
      " 10  Glittering generalities (Virtue)                     140 non-null    Sparse[int32, 0]\n",
      " 11  Loaded Language                                      140 non-null    Sparse[int32, 0]\n",
      " 12  Misrepresentation of Someone's Position (Straw Man)  140 non-null    Sparse[int32, 0]\n",
      " 13  Name calling/Labeling                                140 non-null    Sparse[int32, 0]\n",
      " 14  Obfuscation, Intentional vagueness, Confusion        140 non-null    Sparse[int32, 0]\n",
      " 15  Presenting Irrelevant Data (Red Herring)             140 non-null    Sparse[int32, 0]\n",
      " 16  Reductio ad hitlerum                                 140 non-null    Sparse[int32, 0]\n",
      " 17  Repetition                                           140 non-null    Sparse[int32, 0]\n",
      " 18  Slogans                                              140 non-null    Sparse[int32, 0]\n",
      " 19  Smears                                               140 non-null    Sparse[int32, 0]\n",
      " 20  Thought-terminating cliché                           140 non-null    Sparse[int32, 0]\n",
      " 21  Transfer                                             140 non-null    Sparse[int32, 0]\n",
      " 22  Whataboutism                                         140 non-null    Sparse[int32, 0]\n",
      " 23  no_class                                             140 non-null    Sparse[int32, 0]\n",
      "dtypes: Sparse[int32, 0](23), object(1)\n",
      "memory usage: 5.0+ KB\n"
     ]
    }
   ],
   "source": [
    "val_labels.info()"
   ]
  },
  {
   "cell_type": "code",
   "execution_count": null,
   "metadata": {},
   "outputs": [],
   "source": []
  },
  {
   "cell_type": "markdown",
   "metadata": {},
   "source": [
    "knn Model <br>\n",
    "k-nearest neighbors algorithm (kNN) is a non-parametric technique used for classification. <br>\n",
    "\n",
    "Given a test document x, the KNN algorithm finds the k nearest neighbors of x among all the documents in the training set, and scores the category <br> candidates based the class of k neighbors. The similarity of x and each neighbor’s document could be the score of the category of the neighbor documents. <br> Multiple KNN documents may belong to the same category; in this case, the summation of these scores would be the similarity score of class k with <br> respect to the test document x. After sorting the score values, the algorithm assigns the candidate to the class with the highest score from the test<br>document x"
   ]
  },
  {
   "cell_type": "code",
   "execution_count": null,
   "metadata": {},
   "outputs": [],
   "source": []
  },
  {
   "cell_type": "code",
   "execution_count": 41,
   "metadata": {},
   "outputs": [
    {
     "name": "stdout",
     "output_type": "stream",
     "text": [
      "------knn Model Metrics-----\n",
      "Accuracy: 0.0786\n",
      "Hamming Loss: 0.1084\n",
      "Precision:\n",
      "  - Macro: 0.7180\n",
      "  - Micro: 0.5164\n",
      "Recall:\n",
      "  - Macro: 0.1946\n",
      "  - Micro: 0.3090\n",
      "F1-measure:\n",
      "  - Macro: 0.1942\n",
      "  - Micro: 0.3866\n",
      "                                                     precision    recall  f1-score   support\n",
      "\n",
      "                        Appeal to (Strong) Emotions       0.00      0.00      0.00        14\n",
      "                                Appeal to authority       0.00      0.00      0.00         5\n",
      "                           Appeal to fear/prejudice       0.00      0.00      0.00        15\n",
      "                                          Bandwagon       0.00      0.00      0.00         0\n",
      "               Black-and-white Fallacy/Dictatorship       0.00      0.00      0.00         4\n",
      "                          Causal Oversimplification       0.00      0.00      0.00         7\n",
      "                                              Doubt       0.00      0.00      0.00        17\n",
      "                          Exaggeration/Minimisation       0.00      0.00      0.00         9\n",
      "                                        Flag-waving       0.00      0.00      0.00         7\n",
      "                   Glittering generalities (Virtue)       0.00      0.00      0.00        20\n",
      "                                    Loaded Language       0.42      0.42      0.42        66\n",
      "Misrepresentation of Someone's Position (Straw Man)       0.00      0.00      0.00         2\n",
      "                              Name calling/Labeling       0.43      0.26      0.32        47\n",
      "      Obfuscation, Intentional vagueness, Confusion       0.00      0.00      0.00         0\n",
      "           Presenting Irrelevant Data (Red Herring)       0.00      0.00      0.00         0\n",
      "                               Reductio ad hitlerum       0.00      0.00      0.00         2\n",
      "                                         Repetition       0.00      0.00      0.00         1\n",
      "                                            Slogans       0.00      0.00      0.00        12\n",
      "                                             Smears       0.67      0.80      0.73        88\n",
      "                         Thought-terminating cliché       0.00      0.00      0.00         6\n",
      "                                           Transfer       0.00      0.00      0.00        17\n",
      "                                       Whataboutism       0.00      0.00      0.00         9\n",
      "                                           no_class       0.00      0.00      0.00         8\n",
      "\n",
      "                                          micro avg       0.52      0.31      0.39       356\n",
      "                                          macro avg       0.07      0.06      0.06       356\n",
      "                                       weighted avg       0.30      0.31      0.30       356\n",
      "                                        samples avg       0.47      0.36      0.37       356\n",
      "\n"
     ]
    }
   ],
   "source": [
    "\n",
    "from sklearn.neighbors import KNeighborsClassifier\n",
    "from sklearn.multiclass import OneVsRestClassifier\n",
    "\n",
    "knnClf = KNeighborsClassifier()\n",
    "\n",
    "knnClf.fit(vectorised_train_documents[1:len(df_training[\"text\"])+1], train_labels.drop(['id'], axis=1).sparse.to_dense())\n",
    "knnPredictions = knnClf.predict(vectorised_val_documents)\n",
    "metricsReport(\"knn\", val_labels.drop(['id'],axis=1), knnPredictions,list(val_labels.drop(['id'], axis=1).columns))"
   ]
  },
  {
   "cell_type": "markdown",
   "metadata": {},
   "source": [
    "Analysis Notes:\n",
    "WIP\n"
   ]
  },
  {
   "cell_type": "code",
   "execution_count": null,
   "metadata": {},
   "outputs": [],
   "source": []
  },
  {
   "cell_type": "markdown",
   "metadata": {},
   "source": [
    "Decision Tree\n",
    "\n",
    "Tree-based methods are simple and useful for interpretation. A decision tree is a flowchart-like structure in which each internal node represents a \"test\" on an attribute (e.g. whether a coin flip comes up heads or tails), each branch represents the outcome of the test, and each leaf node represents a class label (decision taken after computing all attributes). The paths from root to leaf represent classification rules."
   ]
  },
  {
   "cell_type": "code",
   "execution_count": 42,
   "metadata": {},
   "outputs": [
    {
     "name": "stdout",
     "output_type": "stream",
     "text": [
      "------Decision Tree Model Metrics-----\n",
      "Accuracy: 0.0571\n",
      "Hamming Loss: 0.1295\n",
      "Precision:\n",
      "  - Macro: 0.3003\n",
      "  - Micro: 0.4050\n",
      "Recall:\n",
      "  - Macro: 0.2350\n",
      "  - Micro: 0.3652\n",
      "F1-measure:\n",
      "  - Macro: 0.2372\n",
      "  - Micro: 0.3840\n",
      "                                                     precision    recall  f1-score   support\n",
      "\n",
      "                        Appeal to (Strong) Emotions       0.12      0.07      0.09        14\n",
      "                                Appeal to authority       0.00      0.00      0.00         5\n",
      "                           Appeal to fear/prejudice       0.33      0.07      0.11        15\n",
      "                                          Bandwagon       0.00      0.00      0.00         0\n",
      "               Black-and-white Fallacy/Dictatorship       0.00      0.00      0.00         4\n",
      "                          Causal Oversimplification       0.00      0.00      0.00         7\n",
      "                                              Doubt       0.00      0.00      0.00        17\n",
      "                          Exaggeration/Minimisation       0.12      0.11      0.12         9\n",
      "                                        Flag-waving       0.00      0.00      0.00         7\n",
      "                   Glittering generalities (Virtue)       0.12      0.05      0.07        20\n",
      "                                    Loaded Language       0.44      0.52      0.48        66\n",
      "Misrepresentation of Someone's Position (Straw Man)       0.00      0.00      0.00         2\n",
      "                              Name calling/Labeling       0.34      0.40      0.37        47\n",
      "      Obfuscation, Intentional vagueness, Confusion       0.00      0.00      0.00         0\n",
      "           Presenting Irrelevant Data (Red Herring)       0.00      0.00      0.00         0\n",
      "                               Reductio ad hitlerum       0.00      0.00      0.00         2\n",
      "                                         Repetition       0.00      0.00      0.00         1\n",
      "                                            Slogans       0.33      0.17      0.22        12\n",
      "                                             Smears       0.65      0.78      0.71        88\n",
      "                         Thought-terminating cliché       0.00      0.00      0.00         6\n",
      "                                           Transfer       0.00      0.00      0.00        17\n",
      "                                       Whataboutism       0.10      0.11      0.11         9\n",
      "                                           no_class       0.33      0.12      0.18         8\n",
      "\n",
      "                                          micro avg       0.40      0.37      0.38       356\n",
      "                                          macro avg       0.13      0.10      0.11       356\n",
      "                                       weighted avg       0.34      0.37      0.34       356\n",
      "                                        samples avg       0.44      0.38      0.36       356\n",
      "\n"
     ]
    }
   ],
   "source": [
    "from sklearn.tree import DecisionTreeClassifier\n",
    "\n",
    "dtClassifier = DecisionTreeClassifier()\n",
    "dtClassifier.fit(vectorised_train_documents[1:len(df_training[\"text\"])+1], train_labels.drop(['id'], axis=1).sparse.to_dense())\n",
    "dtPreds = dtClassifier.predict(vectorised_val_documents)\n",
    "#metricsReport(\"Decision Tree\", dev_labels.drop(['id'],axis=1).sparse.to_dense(), dtPreds)\n",
    "metricsReport(\"Decision Tree\", val_labels.drop(['id'],axis=1), dtPreds, list(val_labels.drop(['id'], axis=1).columns))"
   ]
  },
  {
   "cell_type": "markdown",
   "metadata": {},
   "source": [
    "Analysis Notes:\n",
    "WIP\n"
   ]
  },
  {
   "cell_type": "markdown",
   "metadata": {},
   "source": []
  },
  {
   "cell_type": "markdown",
   "metadata": {},
   "source": [
    "Bagging Classifier <br>\n",
    "The decision trees suffer from high variance. <br>\n",
    "This means that if we split the training data into two parts at random, and fit a decision tree to both halves, the results that we get could be quite different. <br>\n",
    "Bootstrap aggregation, or bagging, is a general-purpose procedure for reducing the variance of a statistical learning method; we introduce it here because it is particularly useful and frequently used in the context of decision trees."
   ]
  },
  {
   "cell_type": "code",
   "execution_count": 43,
   "metadata": {},
   "outputs": [
    {
     "name": "stdout",
     "output_type": "stream",
     "text": [
      "------Bagging Model Metrics-----\n",
      "Accuracy: 0.0786\n",
      "Hamming Loss: 0.1090\n",
      "Precision:\n",
      "  - Macro: 0.5190\n",
      "  - Micro: 0.5104\n",
      "Recall:\n",
      "  - Macro: 0.2037\n",
      "  - Micro: 0.3455\n",
      "F1-measure:\n",
      "  - Macro: 0.2003\n",
      "  - Micro: 0.4121\n",
      "                                                     precision    recall  f1-score   support\n",
      "\n",
      "                        Appeal to (Strong) Emotions       0.00      0.00      0.00        14\n",
      "                                Appeal to authority       0.00      0.00      0.00         5\n",
      "                           Appeal to fear/prejudice       1.00      0.07      0.12        15\n",
      "                                          Bandwagon       0.00      0.00      0.00         0\n",
      "               Black-and-white Fallacy/Dictatorship       0.00      0.00      0.00         4\n",
      "                          Causal Oversimplification       0.00      0.00      0.00         7\n",
      "                                              Doubt       0.50      0.06      0.11        17\n",
      "                          Exaggeration/Minimisation       0.00      0.00      0.00         9\n",
      "                                        Flag-waving       0.00      0.00      0.00         7\n",
      "                   Glittering generalities (Virtue)       0.00      0.00      0.00        20\n",
      "                                    Loaded Language       0.45      0.62      0.52        66\n",
      "Misrepresentation of Someone's Position (Straw Man)       0.00      0.00      0.00         2\n",
      "                              Name calling/Labeling       0.33      0.06      0.11        47\n",
      "      Obfuscation, Intentional vagueness, Confusion       0.00      0.00      0.00         0\n",
      "           Presenting Irrelevant Data (Red Herring)       0.00      0.00      0.00         0\n",
      "                               Reductio ad hitlerum       0.00      0.00      0.00         2\n",
      "                                         Repetition       0.00      0.00      0.00         1\n",
      "                                            Slogans       0.00      0.00      0.00        12\n",
      "                                             Smears       0.65      0.88      0.75        88\n",
      "                         Thought-terminating cliché       0.00      0.00      0.00         6\n",
      "                                           Transfer       0.00      0.00      0.00        17\n",
      "                                       Whataboutism       0.00      0.00      0.00         9\n",
      "                                           no_class       0.00      0.00      0.00         8\n",
      "\n",
      "                                          micro avg       0.51      0.35      0.41       356\n",
      "                                          macro avg       0.13      0.07      0.07       356\n",
      "                                       weighted avg       0.35      0.35      0.31       356\n",
      "                                        samples avg       0.51      0.40      0.40       356\n",
      "\n"
     ]
    }
   ],
   "source": [
    "from sklearn.ensemble import BaggingClassifier\n",
    "\n",
    "bagClassifier = OneVsRestClassifier(BaggingClassifier(n_jobs=-1))\n",
    "bagClassifier.fit(vectorised_train_documents[1:len(df_training[\"text\"])+1], train_labels.drop(['id'], axis=1).sparse.to_dense())\n",
    "bagPreds = bagClassifier.predict(vectorised_val_documents)\n",
    "metricsReport(\"Bagging\", val_labels.drop(['id'],axis=1), bagPreds, list(val_labels.drop(['id'], axis=1).columns))"
   ]
  },
  {
   "cell_type": "markdown",
   "metadata": {},
   "source": [
    "Analysis Notes:\n",
    "WIP\n"
   ]
  },
  {
   "cell_type": "code",
   "execution_count": null,
   "metadata": {},
   "outputs": [],
   "source": []
  },
  {
   "cell_type": "markdown",
   "metadata": {},
   "source": [
    "Random Forest\n",
    "\n",
    "Random forests provide an improvement over bagged trees by way of a small tweak that decorrelates the trees. As in bagging, we build a number of decision trees on bootstrapped training samples. But when building these decision trees, each time a split in a tree is considered, a random sample of m predictors is chosen as split candidates from the full set of p predictors. The split is allowed to use only one of those m predictors. A fresh sample of √m predictors is taken at each split, and typically we choose m ≈ p—that is, the number of predictors considered at each split is approximately equal to the square root of the total number of predictors\n",
    "\n",
    "In other words, in building a random forest, at each split in the tree, the algorithm is not even allowed to consider a majority of the available predictors."
   ]
  },
  {
   "cell_type": "code",
   "execution_count": 44,
   "metadata": {},
   "outputs": [
    {
     "name": "stdout",
     "output_type": "stream",
     "text": [
      "------Random Forest Model Metrics-----\n",
      "Accuracy: 0.0714\n",
      "Hamming Loss: 0.1059\n",
      "Precision:\n",
      "  - Macro: 0.8434\n",
      "  - Micro: 0.5292\n",
      "Recall:\n",
      "  - Macro: 0.2109\n",
      "  - Micro: 0.3820\n",
      "F1-measure:\n",
      "  - Macro: 0.2028\n",
      "  - Micro: 0.4437\n",
      "                                                     precision    recall  f1-score   support\n",
      "\n",
      "                        Appeal to (Strong) Emotions       0.00      0.00      0.00        14\n",
      "                                Appeal to authority       0.00      0.00      0.00         5\n",
      "                           Appeal to fear/prejudice       1.00      0.07      0.12        15\n",
      "                                          Bandwagon       0.00      0.00      0.00         0\n",
      "               Black-and-white Fallacy/Dictatorship       0.00      0.00      0.00         4\n",
      "                          Causal Oversimplification       0.00      0.00      0.00         7\n",
      "                                              Doubt       0.00      0.00      0.00        17\n",
      "                          Exaggeration/Minimisation       0.00      0.00      0.00         9\n",
      "                                        Flag-waving       0.00      0.00      0.00         7\n",
      "                   Glittering generalities (Virtue)       0.00      0.00      0.00        20\n",
      "                                    Loaded Language       0.43      0.61      0.50        66\n",
      "Misrepresentation of Someone's Position (Straw Man)       0.00      0.00      0.00         2\n",
      "                              Name calling/Labeling       0.30      0.21      0.25        47\n",
      "      Obfuscation, Intentional vagueness, Confusion       0.00      0.00      0.00         0\n",
      "           Presenting Irrelevant Data (Red Herring)       0.00      0.00      0.00         0\n",
      "                               Reductio ad hitlerum       0.00      0.00      0.00         2\n",
      "                                         Repetition       0.00      0.00      0.00         1\n",
      "                                            Slogans       0.00      0.00      0.00        12\n",
      "                                             Smears       0.66      0.97      0.79        88\n",
      "                         Thought-terminating cliché       0.00      0.00      0.00         6\n",
      "                                           Transfer       0.00      0.00      0.00        17\n",
      "                                       Whataboutism       0.00      0.00      0.00         9\n",
      "                                           no_class       0.00      0.00      0.00         8\n",
      "\n",
      "                                          micro avg       0.53      0.38      0.44       356\n",
      "                                          macro avg       0.10      0.08      0.07       356\n",
      "                                       weighted avg       0.33      0.38      0.33       356\n",
      "                                        samples avg       0.53      0.44      0.43       356\n",
      "\n"
     ]
    }
   ],
   "source": [
    "from sklearn.ensemble import RandomForestClassifier\n",
    "rfClassifier = RandomForestClassifier(n_jobs=-1)\n",
    "rfClassifier.fit(vectorised_train_documents[1:len(df_training[\"text\"])+1], train_labels.drop(['id'], axis=1).sparse.to_dense())\n",
    "rfPreds = rfClassifier.predict(vectorised_val_documents)\n",
    "metricsReport(\"Random Forest\", val_labels.drop(['id'],axis=1), rfPreds, list(val_labels.drop(['id'], axis=1).columns))"
   ]
  },
  {
   "cell_type": "markdown",
   "metadata": {},
   "source": [
    "Analysis Notes:\n",
    "WIP\n"
   ]
  },
  {
   "cell_type": "code",
   "execution_count": null,
   "metadata": {},
   "outputs": [],
   "source": []
  },
  {
   "cell_type": "markdown",
   "metadata": {},
   "source": [
    "Boosting\n",
    "\n",
    "Recall that bagging involves creating multiple copies of the original train- ing data set using the bootstrap, fitting a separate decision tree to each copy, and then combining all of the trees in order to create a single predic- tive model. Notably, each tree is built on a bootstrap data set, independent of the other trees. Boosting works in a similar way, except that the trees are grown sequentially: each tree is grown using information from previously grown trees. Boosting does not involve bootstrap sampling; instead each tree is fit on a modified version of the original data set."
   ]
  },
  {
   "cell_type": "code",
   "execution_count": 45,
   "metadata": {},
   "outputs": [
    {
     "name": "stdout",
     "output_type": "stream",
     "text": [
      "------Boosting Model Metrics-----\n",
      "Accuracy: 0.0429\n",
      "Hamming Loss: 0.1196\n",
      "Precision:\n",
      "  - Macro: 0.2311\n",
      "  - Micro: 0.4498\n",
      "Recall:\n",
      "  - Macro: 0.2115\n",
      "  - Micro: 0.3652\n",
      "F1-measure:\n",
      "  - Macro: 0.1624\n",
      "  - Micro: 0.4031\n",
      "                                                     precision    recall  f1-score   support\n",
      "\n",
      "                        Appeal to (Strong) Emotions       0.25      0.07      0.11        14\n",
      "                                Appeal to authority       0.00      0.00      0.00         5\n",
      "                           Appeal to fear/prejudice       0.33      0.07      0.11        15\n",
      "                                          Bandwagon       0.00      0.00      0.00         0\n",
      "               Black-and-white Fallacy/Dictatorship       0.00      0.00      0.00         4\n",
      "                          Causal Oversimplification       0.00      0.00      0.00         7\n",
      "                                              Doubt       0.33      0.06      0.10        17\n",
      "                          Exaggeration/Minimisation       0.00      0.00      0.00         9\n",
      "                                        Flag-waving       0.00      0.00      0.00         7\n",
      "                   Glittering generalities (Virtue)       0.00      0.00      0.00        20\n",
      "                                    Loaded Language       0.43      0.70      0.53        66\n",
      "Misrepresentation of Someone's Position (Straw Man)       0.00      0.00      0.00         2\n",
      "                              Name calling/Labeling       0.36      0.11      0.16        47\n",
      "      Obfuscation, Intentional vagueness, Confusion       0.00      0.00      0.00         0\n",
      "           Presenting Irrelevant Data (Red Herring)       0.00      0.00      0.00         0\n",
      "                               Reductio ad hitlerum       0.00      0.00      0.00         2\n",
      "                                         Repetition       0.00      0.00      0.00         1\n",
      "                                            Slogans       0.00      0.00      0.00        12\n",
      "                                             Smears       0.61      0.86      0.71        88\n",
      "                         Thought-terminating cliché       0.00      0.00      0.00         6\n",
      "                                           Transfer       0.00      0.00      0.00        17\n",
      "                                       Whataboutism       0.00      0.00      0.00         9\n",
      "                                           no_class       0.00      0.00      0.00         8\n",
      "\n",
      "                                          micro avg       0.45      0.37      0.40       356\n",
      "                                          macro avg       0.10      0.08      0.08       356\n",
      "                                       weighted avg       0.32      0.37      0.31       356\n",
      "                                        samples avg       0.48      0.43      0.41       356\n",
      "\n"
     ]
    }
   ],
   "source": [
    "\n",
    "from sklearn.ensemble import GradientBoostingClassifier\n",
    "\n",
    "boostClassifier = OneVsRestClassifier(GradientBoostingClassifier())\n",
    "boostClassifier.fit(vectorised_train_documents[1:len(df_training[\"text\"])+1], train_labels.drop(['id'], axis=1).sparse.to_dense())\n",
    "boostPreds = boostClassifier.predict(vectorised_val_documents)\n",
    "metricsReport(\"Boosting\", val_labels.drop(['id'],axis=1), boostPreds, list(val_labels.drop(['id'], axis=1).columns) )"
   ]
  },
  {
   "cell_type": "markdown",
   "metadata": {},
   "source": [
    "Naive Bayes\n",
    "\n",
    "Naive Bayes Classifier (NBC) is generative model which is widely used in Information Retrieval. The multinomial Naive Bayes classifier is suitable for classification with discrete features (e.g., word counts for text classification). The multinomial distribution normally requires integer feature counts. However, in practice, fractional counts such as tf-idf may also work.\n",
    "\n"
   ]
  },
  {
   "cell_type": "code",
   "execution_count": 46,
   "metadata": {},
   "outputs": [
    {
     "name": "stdout",
     "output_type": "stream",
     "text": [
      "------Multinomial NB Model Metrics-----\n",
      "Accuracy: 0.0643\n",
      "Hamming Loss: 0.1040\n",
      "Precision:\n",
      "  - Macro: 0.9155\n",
      "  - Micro: 0.5451\n",
      "Recall:\n",
      "  - Macro: 0.1998\n",
      "  - Micro: 0.3567\n",
      "F1-measure:\n",
      "  - Macro: 0.1856\n",
      "  - Micro: 0.4312\n",
      "                                                     precision    recall  f1-score   support\n",
      "\n",
      "                        Appeal to (Strong) Emotions       0.00      0.00      0.00        14\n",
      "                                Appeal to authority       0.00      0.00      0.00         5\n",
      "                           Appeal to fear/prejudice       0.00      0.00      0.00        15\n",
      "                                          Bandwagon       0.00      0.00      0.00         0\n",
      "               Black-and-white Fallacy/Dictatorship       0.00      0.00      0.00         4\n",
      "                          Causal Oversimplification       0.00      0.00      0.00         7\n",
      "                                              Doubt       0.00      0.00      0.00        17\n",
      "                          Exaggeration/Minimisation       0.00      0.00      0.00         9\n",
      "                                        Flag-waving       0.00      0.00      0.00         7\n",
      "                   Glittering generalities (Virtue)       0.00      0.00      0.00        20\n",
      "                                    Loaded Language       0.43      0.61      0.50        66\n",
      "Misrepresentation of Someone's Position (Straw Man)       0.00      0.00      0.00         2\n",
      "                              Name calling/Labeling       0.00      0.00      0.00        47\n",
      "      Obfuscation, Intentional vagueness, Confusion       0.00      0.00      0.00         0\n",
      "           Presenting Irrelevant Data (Red Herring)       0.00      0.00      0.00         0\n",
      "                               Reductio ad hitlerum       0.00      0.00      0.00         2\n",
      "                                         Repetition       0.00      0.00      0.00         1\n",
      "                                            Slogans       0.00      0.00      0.00        12\n",
      "                                             Smears       0.63      0.99      0.77        88\n",
      "                         Thought-terminating cliché       0.00      0.00      0.00         6\n",
      "                                           Transfer       0.00      0.00      0.00        17\n",
      "                                       Whataboutism       0.00      0.00      0.00         9\n",
      "                                           no_class       0.00      0.00      0.00         8\n",
      "\n",
      "                                          micro avg       0.55      0.36      0.43       356\n",
      "                                          macro avg       0.05      0.07      0.06       356\n",
      "                                       weighted avg       0.23      0.36      0.28       356\n",
      "                                        samples avg       0.56      0.41      0.43       356\n",
      "\n"
     ]
    }
   ],
   "source": [
    "from sklearn.naive_bayes import MultinomialNB\n",
    "\n",
    "nbClassifier = OneVsRestClassifier(MultinomialNB())\n",
    "nbClassifier.fit(vectorised_train_documents[1:len(df_training[\"text\"])+1], train_labels.drop(['id'], axis=1).sparse.to_dense())\n",
    "\n",
    "nbPreds = nbClassifier.predict(vectorised_val_documents)\n",
    "metricsReport(\"Multinomial NB\", val_labels.drop(['id'],axis=1), nbPreds, list(val_labels.drop(['id'], axis=1).columns) )"
   ]
  },
  {
   "cell_type": "markdown",
   "metadata": {},
   "source": [
    "Analysis Notes:\n",
    "WIP\n"
   ]
  },
  {
   "cell_type": "code",
   "execution_count": null,
   "metadata": {},
   "outputs": [],
   "source": []
  },
  {
   "cell_type": "markdown",
   "metadata": {},
   "source": [
    "Support Vector Machine (Linear)\n",
    "\n",
    "Support Vector Machine (SVM), an approach for classification that was developed in the computer science community in the 1990s and that has grown in popularity since then.\n",
    "SVMs have been shown to perform well in a variety of settings, and are often considered one of the best “out of the box” classifiers.\n",
    "The support vector machine is a generalization of a simple and intuitive classifier called the maximal margin classifier\n"
   ]
  },
  {
   "cell_type": "code",
   "execution_count": 47,
   "metadata": {},
   "outputs": [
    {
     "name": "stdout",
     "output_type": "stream",
     "text": [
      "------SVC Sq. Hinge Loss Model Metrics-----\n",
      "Accuracy: 0.0714\n",
      "Hamming Loss: 0.1099\n",
      "Precision:\n",
      "  - Macro: 0.6273\n",
      "  - Micro: 0.5044\n",
      "Recall:\n",
      "  - Macro: 0.1979\n",
      "  - Micro: 0.3202\n",
      "F1-measure:\n",
      "  - Macro: 0.1971\n",
      "  - Micro: 0.3918\n",
      "                                                     precision    recall  f1-score   support\n",
      "\n",
      "                        Appeal to (Strong) Emotions       0.00      0.00      0.00        14\n",
      "                                Appeal to authority       0.00      0.00      0.00         5\n",
      "                           Appeal to fear/prejudice       1.00      0.07      0.12        15\n",
      "                                          Bandwagon       0.00      0.00      0.00         0\n",
      "               Black-and-white Fallacy/Dictatorship       0.00      0.00      0.00         4\n",
      "                          Causal Oversimplification       0.00      0.00      0.00         7\n",
      "                                              Doubt       0.00      0.00      0.00        17\n",
      "                          Exaggeration/Minimisation       0.00      0.00      0.00         9\n",
      "                                        Flag-waving       0.00      0.00      0.00         7\n",
      "                   Glittering generalities (Virtue)       0.00      0.00      0.00        20\n",
      "                                    Loaded Language       0.40      0.48      0.44        66\n",
      "Misrepresentation of Someone's Position (Straw Man)       0.00      0.00      0.00         2\n",
      "                              Name calling/Labeling       0.36      0.17      0.23        47\n",
      "      Obfuscation, Intentional vagueness, Confusion       0.00      0.00      0.00         0\n",
      "           Presenting Irrelevant Data (Red Herring)       0.00      0.00      0.00         0\n",
      "                               Reductio ad hitlerum       0.00      0.00      0.00         2\n",
      "                                         Repetition       0.00      0.00      0.00         1\n",
      "                                            Slogans       0.00      0.00      0.00        12\n",
      "                                             Smears       0.66      0.83      0.74        88\n",
      "                         Thought-terminating cliché       0.00      0.00      0.00         6\n",
      "                                           Transfer       0.00      0.00      0.00        17\n",
      "                                       Whataboutism       0.00      0.00      0.00         9\n",
      "                                           no_class       0.00      0.00      0.00         8\n",
      "\n",
      "                                          micro avg       0.50      0.32      0.39       356\n",
      "                                          macro avg       0.11      0.07      0.07       356\n",
      "                                       weighted avg       0.33      0.32      0.30       356\n",
      "                                        samples avg       0.48      0.38      0.38       356\n",
      "\n"
     ]
    }
   ],
   "source": [
    "\n",
    "from sklearn.svm import LinearSVC\n",
    "\n",
    "svmClassifier = OneVsRestClassifier(LinearSVC(), n_jobs=-1)\n",
    "svmClassifier.fit(vectorised_train_documents[1:len(df_training[\"text\"])+1], train_labels.drop(['id'], axis=1).sparse.to_dense())\n",
    "\n",
    "svmPreds = svmClassifier.predict(vectorised_val_documents)\n",
    "metricsReport(\"SVC Sq. Hinge Loss\",  val_labels.drop(['id'],axis=1), svmPreds, list(val_labels.drop(['id'], axis=1).columns)  )"
   ]
  },
  {
   "cell_type": "code",
   "execution_count": null,
   "metadata": {},
   "outputs": [],
   "source": []
  },
  {
   "cell_type": "markdown",
   "metadata": {},
   "source": [
    "Analysis Notes:\n",
    "WIP\n"
   ]
  },
  {
   "cell_type": "code",
   "execution_count": null,
   "metadata": {},
   "outputs": [],
   "source": []
  },
  {
   "cell_type": "markdown",
   "metadata": {},
   "source": [
    "Label Powerset \n",
    "\n",
    "Label Powerset is a problem transformation approach to multi-label classification that transforms a multi-label problem to a multi-class problem with 1 multi-class classifier trained on all unique label combinations found in the training data.\n",
    "\n",
    "The method maps each combination to a unique combination id number, and performs multi-class classification using the classifier as multi-class classifier and combination ids as classes.\n"
   ]
  },
  {
   "cell_type": "code",
   "execution_count": 48,
   "metadata": {},
   "outputs": [
    {
     "name": "stdout",
     "output_type": "stream",
     "text": [
      "------Power Set SVC Model Metrics-----\n",
      "Accuracy: 0.0571\n",
      "Hamming Loss: 0.1307\n",
      "Precision:\n",
      "  - Macro: 0.2361\n",
      "  - Micro: 0.4012\n",
      "Recall:\n",
      "  - Macro: 0.2270\n",
      "  - Micro: 0.3708\n",
      "F1-measure:\n",
      "  - Macro: 0.2264\n",
      "  - Micro: 0.3854\n",
      "                                                     precision    recall  f1-score   support\n",
      "\n",
      "                        Appeal to (Strong) Emotions       0.00      0.00      0.00        14\n",
      "                                Appeal to authority       0.00      0.00      0.00         5\n",
      "                           Appeal to fear/prejudice       0.60      0.20      0.30        15\n",
      "                                          Bandwagon       0.00      0.00      0.00         0\n",
      "               Black-and-white Fallacy/Dictatorship       0.00      0.00      0.00         4\n",
      "                          Causal Oversimplification       0.00      0.00      0.00         7\n",
      "                                              Doubt       0.00      0.00      0.00        17\n",
      "                          Exaggeration/Minimisation       0.12      0.11      0.12         9\n",
      "                                        Flag-waving       0.00      0.00      0.00         7\n",
      "                   Glittering generalities (Virtue)       0.08      0.05      0.06        20\n",
      "                                    Loaded Language       0.45      0.50      0.47        66\n",
      "Misrepresentation of Someone's Position (Straw Man)       0.00      0.00      0.00         2\n",
      "                              Name calling/Labeling       0.33      0.38      0.36        47\n",
      "      Obfuscation, Intentional vagueness, Confusion       0.00      0.00      0.00         0\n",
      "           Presenting Irrelevant Data (Red Herring)       0.00      0.00      0.00         0\n",
      "                               Reductio ad hitlerum       0.00      0.00      0.00         2\n",
      "                                         Repetition       0.00      0.00      0.00         1\n",
      "                                            Slogans       0.00      0.00      0.00        12\n",
      "                                             Smears       0.68      0.85      0.76        88\n",
      "                         Thought-terminating cliché       0.00      0.00      0.00         6\n",
      "                                           Transfer       0.00      0.00      0.00        17\n",
      "                                       Whataboutism       0.00      0.00      0.00         9\n",
      "                                           no_class       0.17      0.12      0.14         8\n",
      "\n",
      "                                          micro avg       0.40      0.37      0.39       356\n",
      "                                          macro avg       0.11      0.10      0.10       356\n",
      "                                       weighted avg       0.33      0.37      0.34       356\n",
      "                                        samples avg       0.47      0.41      0.39       356\n",
      "\n"
     ]
    }
   ],
   "source": [
    "from skmultilearn.problem_transform import LabelPowerset\n",
    "\n",
    "powerSetSVC = LabelPowerset(LinearSVC())\n",
    "powerSetSVC.fit(vectorised_train_documents[1:len(df_training[\"text\"])+1], train_labels.drop(['id'], axis=1).sparse.to_dense())\n",
    "\n",
    "\n",
    "powerSetSVCPreds = powerSetSVC.predict(vectorised_val_documents)\n",
    "metricsReport(\"Power Set SVC\", val_labels.drop(['id'],axis=1), powerSetSVCPreds,list(val_labels.drop(['id'], axis=1).columns))"
   ]
  },
  {
   "cell_type": "code",
   "execution_count": 49,
   "metadata": {},
   "outputs": [
    {
     "data": {
      "text/plain": [
       "<140x23 sparse matrix of type '<class 'numpy.int64'>'\n",
       "\twith 329 stored elements in List of Lists format>"
      ]
     },
     "execution_count": 49,
     "metadata": {},
     "output_type": "execute_result"
    }
   ],
   "source": [
    "powerSetSVCPreds"
   ]
  },
  {
   "cell_type": "code",
   "execution_count": null,
   "metadata": {},
   "outputs": [],
   "source": []
  },
  {
   "cell_type": "markdown",
   "metadata": {},
   "source": [
    "Comparing Model Results"
   ]
  },
  {
   "cell_type": "code",
   "execution_count": null,
   "metadata": {},
   "outputs": [],
   "source": []
  },
  {
   "cell_type": "code",
   "execution_count": 50,
   "metadata": {},
   "outputs": [
    {
     "name": "stdout",
     "output_type": "stream",
     "text": [
      "  Model Name           | Micro-F1 Score\n",
      "-------------------------------------------\n",
      "  knn                  | 0.3866432337434095\n",
      "-------------------------------------------\n",
      "  Decision Tree        | 0.38404726735598227\n",
      "-------------------------------------------\n",
      "  Bagging              | 0.4120603015075377\n",
      "-------------------------------------------\n",
      "  Random Forest        | 0.4437194127243067\n",
      "-------------------------------------------\n",
      "  Boosting             | 0.4031007751937985\n",
      "-------------------------------------------\n",
      "  Multinomial NB       | 0.431239388794567\n",
      "-------------------------------------------\n",
      "  SVC Sq. Hinge Loss   | 0.3917525773195876\n",
      "-------------------------------------------\n",
      "  Power Set SVC        | 0.38540145985401464\n",
      "-------------------------------------------\n"
     ]
    }
   ],
   "source": [
    "\n",
    "print(\"  Model Name \" + \" \"*10 + \"| Micro-F1 Score\")\n",
    "print(\"-------------------------------------------\")\n",
    "for key, value in ModelsPerformance.items():\n",
    "    print(\"  \" + key, \" \"*(20-len(key)) + \"|\", value)\n",
    "    print(\"-------------------------------------------\")"
   ]
  },
  {
   "cell_type": "markdown",
   "metadata": {},
   "source": [
    "Winner winner chicken dinner Best Model- > Multinomial NB  and then create a confusion matrix on the best model"
   ]
  },
  {
   "cell_type": "markdown",
   "metadata": {},
   "source": [
    "Multi Label Confusion Matrix"
   ]
  },
  {
   "cell_type": "code",
   "execution_count": 51,
   "metadata": {},
   "outputs": [
    {
     "name": "stdout",
     "output_type": "stream",
     "text": [
      "[[[126   0]\n",
      "  [ 14   0]]\n",
      "\n",
      " [[135   0]\n",
      "  [  5   0]]\n",
      "\n",
      " [[125   0]\n",
      "  [ 15   0]]\n",
      "\n",
      " [[140   0]\n",
      "  [  0   0]]\n",
      "\n",
      " [[136   0]\n",
      "  [  4   0]]\n",
      "\n",
      " [[133   0]\n",
      "  [  7   0]]\n",
      "\n",
      " [[123   0]\n",
      "  [ 17   0]]\n",
      "\n",
      " [[131   0]\n",
      "  [  9   0]]\n",
      "\n",
      " [[133   0]\n",
      "  [  7   0]]\n",
      "\n",
      " [[120   0]\n",
      "  [ 20   0]]\n",
      "\n",
      " [[ 21  53]\n",
      "  [ 26  40]]\n",
      "\n",
      " [[138   0]\n",
      "  [  2   0]]\n",
      "\n",
      " [[ 92   1]\n",
      "  [ 47   0]]\n",
      "\n",
      " [[140   0]\n",
      "  [  0   0]]\n",
      "\n",
      " [[140   0]\n",
      "  [  0   0]]\n",
      "\n",
      " [[138   0]\n",
      "  [  2   0]]\n",
      "\n",
      " [[139   0]\n",
      "  [  1   0]]\n",
      "\n",
      " [[128   0]\n",
      "  [ 12   0]]\n",
      "\n",
      " [[  0  52]\n",
      "  [  1  87]]\n",
      "\n",
      " [[134   0]\n",
      "  [  6   0]]\n",
      "\n",
      " [[123   0]\n",
      "  [ 17   0]]\n",
      "\n",
      " [[131   0]\n",
      "  [  9   0]]\n",
      "\n",
      " [[132   0]\n",
      "  [  8   0]]]\n"
     ]
    }
   ],
   "source": [
    "from sklearn.metrics import multilabel_confusion_matrix\n",
    "from sklearn.metrics import plot_confusion_matrix\n",
    "\n",
    "#print(list(dev_labels.drop(['id'], axis=1).columns) )\n",
    "conf_mat = multilabel_confusion_matrix(val_labels.drop(['id'],axis=1), nbPreds)\n",
    "#fig, ax = plt.subplots(figsize=(8,6))\n",
    "print(conf_mat)\n",
    "\n",
    "#plot_confusion_matrix(conf_mat, dev_labels.drop(['id'],axis=1), svmPreds,\n",
    "#                                 display_labels= list(dev_labels.drop(['id'], axis=1).columns),\n",
    "#                                 cmap=plt.cm.Blues)\n",
    "\n",
    "#sns.heatmap(conf_mat, annot=True, fmt='d',\n",
    "#            xticklabels=list(dev_labels.drop(['id'], axis=1).columns), yticklabels=list(dev_labels.drop(['id'], axis=1).columns))\n",
    "#plt.ylabel('Actual')\n",
    "#plt.xlabel('Predicted')\n",
    "#plt.show()\n",
    "\n",
    "#count = 0\n",
    "#for item in conf_mat:\n",
    "#    sns.heatmap(conf_mat, annot=True, fmt='d',\n",
    "#            xticklabels=list(dev_labels.drop(['id'], axis=1).columns), yticklabels=list(dev_labels.drop(['id'], axis=1).columns)\n",
    "#    count"
   ]
  },
  {
   "cell_type": "code",
   "execution_count": null,
   "metadata": {},
   "outputs": [],
   "source": [
    "\n"
   ]
  },
  {
   "cell_type": "code",
   "execution_count": null,
   "metadata": {},
   "outputs": [],
   "source": []
  },
  {
   "cell_type": "code",
   "execution_count": null,
   "metadata": {},
   "outputs": [],
   "source": []
  },
  {
   "cell_type": "code",
   "execution_count": null,
   "metadata": {},
   "outputs": [],
   "source": []
  }
 ],
 "metadata": {
  "kernelspec": {
   "display_name": "Python 3",
   "language": "python",
   "name": "python3"
  },
  "language_info": {
   "codemirror_mode": {
    "name": "ipython",
    "version": 3
   },
   "file_extension": ".py",
   "mimetype": "text/x-python",
   "name": "python",
   "nbconvert_exporter": "python",
   "pygments_lexer": "ipython3",
   "version": "3.8.5"
  }
 },
 "nbformat": 4,
 "nbformat_minor": 4
}
