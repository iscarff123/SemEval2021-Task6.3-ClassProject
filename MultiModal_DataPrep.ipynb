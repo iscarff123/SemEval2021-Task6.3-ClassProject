{
 "cells": [
  {
   "cell_type": "markdown",
   "metadata": {},
   "source": [
    "# Data Prep for MultiModal Modeling"
   ]
  },
  {
   "cell_type": "markdown",
   "metadata": {},
   "source": [
    "## Author: Ian Scarff (iscarff123)"
   ]
  },
  {
   "cell_type": "code",
   "execution_count": 1,
   "metadata": {},
   "outputs": [],
   "source": [
    "import pandas as pd\n",
    "import numpy as np\n",
    "import json\n",
    "import os\n",
    "import imageio\n",
    "import random\n",
    "import sklearn\n",
    "from sklearn.preprocessing import MultiLabelBinarizer\n",
    "import time\n",
    "import datetime\n",
    "from hatesonar import Sonar # This is the hate speech detection library; it is based on bert\n",
    "from transformers import pipeline"
   ]
  },
  {
   "cell_type": "markdown",
   "metadata": {},
   "source": [
    "## Load in reference data."
   ]
  },
  {
   "cell_type": "code",
   "execution_count": 2,
   "metadata": {},
   "outputs": [
    {
     "data": {
      "text/plain": [
       "MultiLabelBinarizer()"
      ]
     },
     "execution_count": 2,
     "metadata": {},
     "output_type": "execute_result"
    }
   ],
   "source": [
    "### Load in reference data\n",
    "\n",
    "with open('training_data_task3.txt') as f: ### Training data\n",
    "    training = json.load(f)\n",
    "    \n",
    "with open('testing_data_task3.txt') as f: ### Testing data\n",
    "    testing = json.load(f)\n",
    "    \n",
    "classes = ['Smears', 'Loaded Language', 'Name calling/Labeling', 'Glittering generalities (Virtue)',\n",
    "               'Appeal to (Strong) Emotions', 'Appeal to fear/prejudice', 'Transfer', 'Doubt',\n",
    "               'Exaggeration/Minimisation', 'Whataboutism', 'Slogans', 'Flag-waving',\n",
    "               \"Misrepresentation of Someone's Position (Straw Man)\", 'Causal Oversimplification',\n",
    "               'Thought-terminating cliché', 'Black-and-white Fallacy/Dictatorship', 'Appeal to authority',\n",
    "               'Reductio ad hitlerum', 'Repetition', 'Obfuscation, Intentional vagueness, Confusion',\n",
    "               'Presenting Irrelevant Data (Red Herring)', 'Bandwagon']\n",
    "\n",
    "### Create Class Binarizer\n",
    "one_hot = MultiLabelBinarizer()\n",
    "one_hot.fit([classes])"
   ]
  },
  {
   "cell_type": "code",
   "execution_count": 3,
   "metadata": {},
   "outputs": [
    {
     "data": {
      "text/plain": [
       "array(['Appeal to (Strong) Emotions', 'Appeal to authority',\n",
       "       'Appeal to fear/prejudice', 'Bandwagon',\n",
       "       'Black-and-white Fallacy/Dictatorship',\n",
       "       'Causal Oversimplification', 'Doubt', 'Exaggeration/Minimisation',\n",
       "       'Flag-waving', 'Glittering generalities (Virtue)',\n",
       "       'Loaded Language',\n",
       "       \"Misrepresentation of Someone's Position (Straw Man)\",\n",
       "       'Name calling/Labeling',\n",
       "       'Obfuscation, Intentional vagueness, Confusion',\n",
       "       'Presenting Irrelevant Data (Red Herring)', 'Reductio ad hitlerum',\n",
       "       'Repetition', 'Slogans', 'Smears', 'Thought-terminating cliché',\n",
       "       'Transfer', 'Whataboutism'], dtype=object)"
      ]
     },
     "execution_count": 3,
     "metadata": {},
     "output_type": "execute_result"
    }
   ],
   "source": [
    "one_hot.classes_"
   ]
  },
  {
   "cell_type": "code",
   "execution_count": 4,
   "metadata": {},
   "outputs": [
    {
     "data": {
      "text/plain": [
       "[{'id': '182',\n",
       "  'labels': ['Exaggeration/Minimisation',\n",
       "   'Name calling/Labeling',\n",
       "   'Smears',\n",
       "   'Transfer'],\n",
       "  'text': 'The most costly errors in all of history\\n\\nWorld Health Organization (WHO)\\nPreliminary investigations conducted by the Chinese authorities have found no clear evidence of human-to-human transmission of the novel #coronavirus (2019-nCoV) identified in #Wuhan, #China\\n14 Jan 2020\\n\\nWORLD NEWS FEBRUARY 3, 2020 / 10:33 PM / 2 MONTHS AGO\\nWHO chief says widespread travel bans not needed to beat China virus\\n',\n",
       "  'image': '182_image.png'},\n",
       " {'id': '366_batch_2',\n",
       "  'labels': ['Causal Oversimplification',\n",
       "   'Loaded Language',\n",
       "   'Name calling/Labeling'],\n",
       "  'text': 'MY PARENTS WERE KILLED AS A RESULT OF A GUN FREE ZONE.\\n\\nI CARRIED A GUN AT ALL TIMES TILL IT WAS MADE A FELONY TO CARRY IN CERTAIN AREAS. \\nA MAN WITH A GUN STARTED SHOOTING PEOPLE...\\nI HAD THE PERFECT SHOT BUT WAS DISARMED BY LAWS.\\n\\n',\n",
       "  'image': '366_image_batch_2.png'},\n",
       " {'id': '148',\n",
       "  'labels': ['Loaded Language', 'Repetition', 'Slogans', 'Smears'],\n",
       "  'text': \"VOTE IT OUT\\nVOTE IT OUT\\n\\nHE SAID IT WASN'T REAL.\\nHE SAID IT'S CONTAINED.\\nHE SAID IT WOULD DISAPPEAR.\\nHE BLAMED DEMOCRATS.\\nHE SHARED HIS HUNCHES.\\nHE OVERRULED HIS SCIENTISTS.\\nHE HAS FAILED.\\nHE HAS ENDANGERED\\nEVERY ONE OF US.\\n\\nVOTE IT OUT\\nVOTE IT OUT\\n\",\n",
       "  'image': '148_image.png'}]"
      ]
     },
     "execution_count": 4,
     "metadata": {},
     "output_type": "execute_result"
    }
   ],
   "source": [
    "training[0:3]"
   ]
  },
  {
   "cell_type": "code",
   "execution_count": 5,
   "metadata": {},
   "outputs": [
    {
     "data": {
      "text/plain": [
       "727"
      ]
     },
     "execution_count": 5,
     "metadata": {},
     "output_type": "execute_result"
    }
   ],
   "source": [
    "len(training)"
   ]
  },
  {
   "cell_type": "code",
   "execution_count": 6,
   "metadata": {},
   "outputs": [
    {
     "data": {
      "text/plain": [
       "[{'id': '566_batch_2',\n",
       "  'labels': ['Appeal to (Strong) Emotions', 'Smears'],\n",
       "  'text': \"A FRIENDLY REMINDER...\\n\\nFERGUSON\\n\\nBALTIMORE\\n\\nMILWAUKEE\\n\\nCHARLOTTE\\n\\nIN CASE Y'ALL FORGOT !\\n\",\n",
       "  'image': '566_image_batch_2.png'},\n",
       " {'id': '738_batch_2',\n",
       "  'labels': ['Black-and-white Fallacy/Dictatorship',\n",
       "   'Flag-waving',\n",
       "   'Loaded Language',\n",
       "   'Name calling/Labeling'],\n",
       "  'text': \"We're fed up.\\nWe're not asking for our country back.\\nWe're TAKING IT BACK\\nWE THE PEOPLE ARE COMING\\nAmerica was founded by pissed off people.\\nAnd they're pissed again!\",\n",
       "  'image': '738_image_batch_2.png'},\n",
       " {'id': '885_batch_2',\n",
       "  'labels': ['Smears'],\n",
       "  'text': \"PRESIDENTS' DAY SALE\\n\\nEVERYONE MUST GO\",\n",
       "  'image': '885_image_batch_2.png'}]"
      ]
     },
     "execution_count": 6,
     "metadata": {},
     "output_type": "execute_result"
    }
   ],
   "source": [
    "testing[0:3]"
   ]
  },
  {
   "cell_type": "code",
   "execution_count": 7,
   "metadata": {},
   "outputs": [
    {
     "data": {
      "text/plain": [
       "187"
      ]
     },
     "execution_count": 7,
     "metadata": {},
     "output_type": "execute_result"
    }
   ],
   "source": [
    "len(testing)"
   ]
  },
  {
   "cell_type": "code",
   "execution_count": 8,
   "metadata": {},
   "outputs": [
    {
     "data": {
      "text/plain": [
       "914"
      ]
     },
     "execution_count": 8,
     "metadata": {},
     "output_type": "execute_result"
    }
   ],
   "source": [
    "len(training) + len(testing)"
   ]
  },
  {
   "cell_type": "markdown",
   "metadata": {},
   "source": [
    "## Extract Image Names, Text, & Labels"
   ]
  },
  {
   "cell_type": "markdown",
   "metadata": {},
   "source": [
    "### Training data"
   ]
  },
  {
   "cell_type": "code",
   "execution_count": 9,
   "metadata": {},
   "outputs": [],
   "source": [
    "image_name_train = []\n",
    "text_train = []\n",
    "one_hot_labels_train = [] ### List to hold one hot labels\n",
    "\n",
    "for obsv in training: ### Go through the training data\n",
    "\n",
    "    ### Images ###\n",
    "    image_name_train.append(obsv['image'])\n",
    "    \n",
    "    text_train.append(obsv['text'])\n",
    "    \n",
    "    ### Labels\n",
    "    one_hot_labels_train.append(one_hot.transform([obsv['labels']])[0])\n"
   ]
  },
  {
   "cell_type": "code",
   "execution_count": 10,
   "metadata": {},
   "outputs": [
    {
     "data": {
      "text/plain": [
       "['182_image.png', '366_image_batch_2.png', '148_image.png']"
      ]
     },
     "execution_count": 10,
     "metadata": {},
     "output_type": "execute_result"
    }
   ],
   "source": [
    "image_name_train[0:3]"
   ]
  },
  {
   "cell_type": "code",
   "execution_count": 11,
   "metadata": {},
   "outputs": [
    {
     "data": {
      "text/plain": [
       "['The most costly errors in all of history\\n\\nWorld Health Organization (WHO)\\nPreliminary investigations conducted by the Chinese authorities have found no clear evidence of human-to-human transmission of the novel #coronavirus (2019-nCoV) identified in #Wuhan, #China\\n14 Jan 2020\\n\\nWORLD NEWS FEBRUARY 3, 2020 / 10:33 PM / 2 MONTHS AGO\\nWHO chief says widespread travel bans not needed to beat China virus\\n',\n",
       " 'MY PARENTS WERE KILLED AS A RESULT OF A GUN FREE ZONE.\\n\\nI CARRIED A GUN AT ALL TIMES TILL IT WAS MADE A FELONY TO CARRY IN CERTAIN AREAS. \\nA MAN WITH A GUN STARTED SHOOTING PEOPLE...\\nI HAD THE PERFECT SHOT BUT WAS DISARMED BY LAWS.\\n\\n',\n",
       " \"VOTE IT OUT\\nVOTE IT OUT\\n\\nHE SAID IT WASN'T REAL.\\nHE SAID IT'S CONTAINED.\\nHE SAID IT WOULD DISAPPEAR.\\nHE BLAMED DEMOCRATS.\\nHE SHARED HIS HUNCHES.\\nHE OVERRULED HIS SCIENTISTS.\\nHE HAS FAILED.\\nHE HAS ENDANGERED\\nEVERY ONE OF US.\\n\\nVOTE IT OUT\\nVOTE IT OUT\\n\"]"
      ]
     },
     "execution_count": 11,
     "metadata": {},
     "output_type": "execute_result"
    }
   ],
   "source": [
    "text_train[0:3]"
   ]
  },
  {
   "cell_type": "code",
   "execution_count": 12,
   "metadata": {},
   "outputs": [
    {
     "data": {
      "text/plain": [
       "[array([0, 0, 0, 0, 0, 0, 0, 1, 0, 0, 0, 0, 1, 0, 0, 0, 0, 0, 1, 0, 1, 0]),\n",
       " array([0, 0, 0, 0, 0, 1, 0, 0, 0, 0, 1, 0, 1, 0, 0, 0, 0, 0, 0, 0, 0, 0]),\n",
       " array([0, 0, 0, 0, 0, 0, 0, 0, 0, 0, 1, 0, 0, 0, 0, 0, 1, 1, 1, 0, 0, 0])]"
      ]
     },
     "execution_count": 12,
     "metadata": {},
     "output_type": "execute_result"
    }
   ],
   "source": [
    "one_hot_labels_train[0:3]"
   ]
  },
  {
   "cell_type": "markdown",
   "metadata": {},
   "source": [
    "### Testing data"
   ]
  },
  {
   "cell_type": "code",
   "execution_count": 13,
   "metadata": {},
   "outputs": [],
   "source": [
    "image_name_test = []\n",
    "text_test = []\n",
    "one_hot_labels_test = [] ### List to hold one hot labels\n",
    "\n",
    "for obsv in testing: ### Go through the test data\n",
    "\n",
    "    ### Images ###\n",
    "    image_name_test.append(obsv['image'])\n",
    "    \n",
    "    text_test.append(obsv['text'])\n",
    "    \n",
    "    ### Labels\n",
    "    one_hot_labels_test.append(one_hot.transform([obsv['labels']])[0])"
   ]
  },
  {
   "cell_type": "code",
   "execution_count": 14,
   "metadata": {},
   "outputs": [
    {
     "data": {
      "text/plain": [
       "['566_image_batch_2.png', '738_image_batch_2.png', '885_image_batch_2.png']"
      ]
     },
     "execution_count": 14,
     "metadata": {},
     "output_type": "execute_result"
    }
   ],
   "source": [
    "image_name_test[0:3]"
   ]
  },
  {
   "cell_type": "code",
   "execution_count": 15,
   "metadata": {},
   "outputs": [
    {
     "data": {
      "text/plain": [
       "[\"A FRIENDLY REMINDER...\\n\\nFERGUSON\\n\\nBALTIMORE\\n\\nMILWAUKEE\\n\\nCHARLOTTE\\n\\nIN CASE Y'ALL FORGOT !\\n\",\n",
       " \"We're fed up.\\nWe're not asking for our country back.\\nWe're TAKING IT BACK\\nWE THE PEOPLE ARE COMING\\nAmerica was founded by pissed off people.\\nAnd they're pissed again!\",\n",
       " \"PRESIDENTS' DAY SALE\\n\\nEVERYONE MUST GO\"]"
      ]
     },
     "execution_count": 15,
     "metadata": {},
     "output_type": "execute_result"
    }
   ],
   "source": [
    "text_test[0:3]"
   ]
  },
  {
   "cell_type": "code",
   "execution_count": 16,
   "metadata": {},
   "outputs": [
    {
     "data": {
      "text/plain": [
       "[array([1, 0, 0, 0, 0, 0, 0, 0, 0, 0, 0, 0, 0, 0, 0, 0, 0, 0, 1, 0, 0, 0]),\n",
       " array([0, 0, 0, 0, 1, 0, 0, 0, 1, 0, 1, 0, 1, 0, 0, 0, 0, 0, 0, 0, 0, 0]),\n",
       " array([0, 0, 0, 0, 0, 0, 0, 0, 0, 0, 0, 0, 0, 0, 0, 0, 0, 0, 1, 0, 0, 0])]"
      ]
     },
     "execution_count": 16,
     "metadata": {},
     "output_type": "execute_result"
    }
   ],
   "source": [
    "one_hot_labels_test[0:3]"
   ]
  },
  {
   "cell_type": "markdown",
   "metadata": {},
   "source": [
    "## Text Preprocessing"
   ]
  },
  {
   "cell_type": "code",
   "execution_count": 17,
   "metadata": {},
   "outputs": [
    {
     "name": "stderr",
     "output_type": "stream",
     "text": [
      "/home/ian/.local/lib/python3.6/site-packages/sklearn/utils/deprecation.py:143: FutureWarning: The sklearn.linear_model.logistic module is  deprecated in version 0.22 and will be removed in version 0.24. The corresponding classes / functions should instead be imported from sklearn.linear_model. Anything that cannot be imported from sklearn.linear_model is now part of the private API.\n",
      "  warnings.warn(message, FutureWarning)\n",
      "/home/ian/.local/lib/python3.6/site-packages/sklearn/base.py:334: UserWarning: Trying to unpickle estimator LogisticRegression from version 0.19.1 when using version 0.23.2. This might lead to breaking code or invalid results. Use at your own risk.\n",
      "  UserWarning)\n",
      "/home/ian/.local/lib/python3.6/site-packages/sklearn/base.py:334: UserWarning: Trying to unpickle estimator TfidfTransformer from version 0.19.1 when using version 0.23.2. This might lead to breaking code or invalid results. Use at your own risk.\n",
      "  UserWarning)\n",
      "/home/ian/.local/lib/python3.6/site-packages/sklearn/base.py:334: UserWarning: Trying to unpickle estimator TfidfVectorizer from version 0.19.1 when using version 0.23.2. This might lead to breaking code or invalid results. Use at your own risk.\n",
      "  UserWarning)\n"
     ]
    }
   ],
   "source": [
    "# Create an object of Sonar Hate Speech Detection\n",
    "sonar = Sonar()"
   ]
  },
  {
   "cell_type": "code",
   "execution_count": 18,
   "metadata": {},
   "outputs": [],
   "source": [
    "def hate_speech_classifier(text, Class):\n",
    "    for i in text:\n",
    "        sonar_dict = sonar.ping(text=i)\n",
    "        Class.append(list(sonar_dict.values())[1])\n",
    "        \n",
    "def sentiment_classifier(text):\n",
    "    sent = []\n",
    "    for i in text:\n",
    "        result = sentimentanalyzer(i)[0]\n",
    "        sent.append(result['label'])\n",
    "    return sent"
   ]
  },
  {
   "cell_type": "code",
   "execution_count": 19,
   "metadata": {},
   "outputs": [],
   "source": [
    "sentimentanalyzer = pipeline(\"sentiment-analysis\", device = 1)"
   ]
  },
  {
   "cell_type": "markdown",
   "metadata": {},
   "source": [
    "### Training Data"
   ]
  },
  {
   "cell_type": "markdown",
   "metadata": {},
   "source": [
    "#### Hate Speech"
   ]
  },
  {
   "cell_type": "code",
   "execution_count": 20,
   "metadata": {},
   "outputs": [],
   "source": [
    "### Training data\n",
    "hate_speech_class_train = []\n",
    "hate_speech_classifier(text_train, hate_speech_class_train)"
   ]
  },
  {
   "cell_type": "code",
   "execution_count": 21,
   "metadata": {},
   "outputs": [
    {
     "data": {
      "text/plain": [
       "['neither',\n",
       " 'neither',\n",
       " 'neither',\n",
       " 'offensive_language',\n",
       " 'neither',\n",
       " 'hate_speech',\n",
       " 'neither',\n",
       " 'neither',\n",
       " 'neither',\n",
       " 'neither']"
      ]
     },
     "execution_count": 21,
     "metadata": {},
     "output_type": "execute_result"
    }
   ],
   "source": [
    "hate_speech_class_train[0:10]"
   ]
  },
  {
   "cell_type": "code",
   "execution_count": 22,
   "metadata": {},
   "outputs": [],
   "source": [
    "# 0 = neither, 1 = hate_speech, 2 = offensive_language\n",
    "\n",
    "hate_speech_label_train = []\n",
    "\n",
    "for i in hate_speech_class_train:\n",
    "    if i == 'neither':\n",
    "        hate_speech_label_train.append(0)\n",
    "        \n",
    "    elif i == 'hate_speech':\n",
    "        hate_speech_label_train.append(1)\n",
    "        \n",
    "    elif i == 'offensive_language':\n",
    "        hate_speech_label_train.append(2)"
   ]
  },
  {
   "cell_type": "code",
   "execution_count": 23,
   "metadata": {},
   "outputs": [
    {
     "data": {
      "text/plain": [
       "[0, 0, 0, 2, 0, 1, 0, 0, 0, 0]"
      ]
     },
     "execution_count": 23,
     "metadata": {},
     "output_type": "execute_result"
    }
   ],
   "source": [
    "hate_speech_label_train[0:10]"
   ]
  },
  {
   "cell_type": "markdown",
   "metadata": {},
   "source": [
    "#### Sentiment"
   ]
  },
  {
   "cell_type": "code",
   "execution_count": 24,
   "metadata": {
    "scrolled": true
   },
   "outputs": [],
   "source": [
    "sentiment_train = sentiment_classifier(text_train)"
   ]
  },
  {
   "cell_type": "code",
   "execution_count": 25,
   "metadata": {},
   "outputs": [
    {
     "data": {
      "text/plain": [
       "{'NEGATIVE', 'POSITIVE'}"
      ]
     },
     "execution_count": 25,
     "metadata": {},
     "output_type": "execute_result"
    }
   ],
   "source": [
    "set(sentiment_train)"
   ]
  },
  {
   "cell_type": "code",
   "execution_count": 26,
   "metadata": {},
   "outputs": [],
   "source": [
    "# 0 = Positive, 1 = Negative\n",
    "sentiment_label_train = []\n",
    "for i in sentiment_train:\n",
    "    if i == 'NEGATIVE':\n",
    "        sentiment_label_train.append(0)\n",
    "    elif i == 'POSITIVE':\n",
    "        sentiment_label_train.append(1)"
   ]
  },
  {
   "cell_type": "code",
   "execution_count": 27,
   "metadata": {},
   "outputs": [
    {
     "data": {
      "text/plain": [
       "[0, 0, 0, 1, 0, 1, 1, 0, 0, 0]"
      ]
     },
     "execution_count": 27,
     "metadata": {},
     "output_type": "execute_result"
    }
   ],
   "source": [
    "sentiment_label_train[0:10]"
   ]
  },
  {
   "cell_type": "markdown",
   "metadata": {},
   "source": [
    "### Test Data"
   ]
  },
  {
   "cell_type": "markdown",
   "metadata": {},
   "source": [
    "#### Hate Speech"
   ]
  },
  {
   "cell_type": "code",
   "execution_count": 28,
   "metadata": {},
   "outputs": [],
   "source": [
    "### Training data\n",
    "hate_speech_class_test = []\n",
    "hate_speech_classifier(text_test, hate_speech_class_test)"
   ]
  },
  {
   "cell_type": "code",
   "execution_count": 29,
   "metadata": {},
   "outputs": [
    {
     "data": {
      "text/plain": [
       "['neither',\n",
       " 'neither',\n",
       " 'neither',\n",
       " 'neither',\n",
       " 'neither',\n",
       " 'neither',\n",
       " 'neither',\n",
       " 'neither',\n",
       " 'neither',\n",
       " 'offensive_language']"
      ]
     },
     "execution_count": 29,
     "metadata": {},
     "output_type": "execute_result"
    }
   ],
   "source": [
    "hate_speech_class_test[0:10]"
   ]
  },
  {
   "cell_type": "code",
   "execution_count": 30,
   "metadata": {},
   "outputs": [],
   "source": [
    "# 0 = neither, 1 = hate_speech, 2 = offensive_language\n",
    "\n",
    "hate_speech_label_test = []\n",
    "\n",
    "for i in hate_speech_class_test:\n",
    "    if i == 'neither':\n",
    "        hate_speech_label_test.append(0)\n",
    "        \n",
    "    elif i == 'hate_speech':\n",
    "        hate_speech_label_test.append(1)\n",
    "        \n",
    "    elif i == 'offensive_language':\n",
    "        hate_speech_label_test.append(2)"
   ]
  },
  {
   "cell_type": "code",
   "execution_count": 31,
   "metadata": {},
   "outputs": [
    {
     "data": {
      "text/plain": [
       "[0, 0, 0, 0, 0, 0, 0, 0, 0, 2]"
      ]
     },
     "execution_count": 31,
     "metadata": {},
     "output_type": "execute_result"
    }
   ],
   "source": [
    "hate_speech_label_test[0:10]"
   ]
  },
  {
   "cell_type": "markdown",
   "metadata": {},
   "source": [
    "#### Sentiment"
   ]
  },
  {
   "cell_type": "code",
   "execution_count": 32,
   "metadata": {
    "scrolled": true
   },
   "outputs": [],
   "source": [
    "sentiment_test = sentiment_classifier(text_test)"
   ]
  },
  {
   "cell_type": "code",
   "execution_count": 33,
   "metadata": {},
   "outputs": [
    {
     "data": {
      "text/plain": [
       "{'NEGATIVE', 'POSITIVE'}"
      ]
     },
     "execution_count": 33,
     "metadata": {},
     "output_type": "execute_result"
    }
   ],
   "source": [
    "set(sentiment_test)"
   ]
  },
  {
   "cell_type": "code",
   "execution_count": 34,
   "metadata": {},
   "outputs": [],
   "source": [
    "# 0 = Positive, 1 = Negative\n",
    "sentiment_label_test = []\n",
    "for i in sentiment_test:\n",
    "    if i == 'NEGATIVE':\n",
    "        sentiment_label_test.append(0)\n",
    "    elif i == 'POSITIVE':\n",
    "        sentiment_label_test.append(1)"
   ]
  },
  {
   "cell_type": "code",
   "execution_count": 35,
   "metadata": {},
   "outputs": [
    {
     "data": {
      "text/plain": [
       "[1, 0, 1, 1, 1, 0, 0, 0, 0, 1]"
      ]
     },
     "execution_count": 35,
     "metadata": {},
     "output_type": "execute_result"
    }
   ],
   "source": [
    "sentiment_label_test[0:10]"
   ]
  },
  {
   "cell_type": "markdown",
   "metadata": {},
   "source": [
    "## Assemble DataFrames"
   ]
  },
  {
   "cell_type": "markdown",
   "metadata": {},
   "source": [
    "### Training"
   ]
  },
  {
   "cell_type": "code",
   "execution_count": 36,
   "metadata": {},
   "outputs": [],
   "source": [
    "training_df = pd.DataFrame({'Image' : image_name_train,\n",
    "                            'Text' : text_train,\n",
    "                            'Hate' : hate_speech_label_train,\n",
    "                            'Sentiment' : sentiment_label_train,\n",
    "                            'Labels' : one_hot_labels_train})"
   ]
  },
  {
   "cell_type": "code",
   "execution_count": 37,
   "metadata": {},
   "outputs": [
    {
     "data": {
      "text/html": [
       "<div>\n",
       "<style scoped>\n",
       "    .dataframe tbody tr th:only-of-type {\n",
       "        vertical-align: middle;\n",
       "    }\n",
       "\n",
       "    .dataframe tbody tr th {\n",
       "        vertical-align: top;\n",
       "    }\n",
       "\n",
       "    .dataframe thead th {\n",
       "        text-align: right;\n",
       "    }\n",
       "</style>\n",
       "<table border=\"1\" class=\"dataframe\">\n",
       "  <thead>\n",
       "    <tr style=\"text-align: right;\">\n",
       "      <th></th>\n",
       "      <th>Image</th>\n",
       "      <th>Text</th>\n",
       "      <th>Hate</th>\n",
       "      <th>Sentiment</th>\n",
       "      <th>Labels</th>\n",
       "    </tr>\n",
       "  </thead>\n",
       "  <tbody>\n",
       "    <tr>\n",
       "      <th>0</th>\n",
       "      <td>182_image.png</td>\n",
       "      <td>The most costly errors in all of history\\n\\nWo...</td>\n",
       "      <td>0</td>\n",
       "      <td>0</td>\n",
       "      <td>[0, 0, 0, 0, 0, 0, 0, 1, 0, 0, 0, 0, 1, 0, 0, ...</td>\n",
       "    </tr>\n",
       "    <tr>\n",
       "      <th>1</th>\n",
       "      <td>366_image_batch_2.png</td>\n",
       "      <td>MY PARENTS WERE KILLED AS A RESULT OF A GUN FR...</td>\n",
       "      <td>0</td>\n",
       "      <td>0</td>\n",
       "      <td>[0, 0, 0, 0, 0, 1, 0, 0, 0, 0, 1, 0, 1, 0, 0, ...</td>\n",
       "    </tr>\n",
       "    <tr>\n",
       "      <th>2</th>\n",
       "      <td>148_image.png</td>\n",
       "      <td>VOTE IT OUT\\nVOTE IT OUT\\n\\nHE SAID IT WASN'T ...</td>\n",
       "      <td>0</td>\n",
       "      <td>0</td>\n",
       "      <td>[0, 0, 0, 0, 0, 0, 0, 0, 0, 0, 1, 0, 0, 0, 0, ...</td>\n",
       "    </tr>\n",
       "    <tr>\n",
       "      <th>3</th>\n",
       "      <td>58_image_batch_2.png</td>\n",
       "      <td>IF YOU DONT LISTEN TO DESPACITO YOU AIN'T LATI...</td>\n",
       "      <td>2</td>\n",
       "      <td>1</td>\n",
       "      <td>[0, 0, 0, 0, 1, 0, 0, 1, 0, 0, 0, 0, 0, 0, 0, ...</td>\n",
       "    </tr>\n",
       "    <tr>\n",
       "      <th>4</th>\n",
       "      <td>816_image_batch_2.png</td>\n",
       "      <td>FAIR AND BALANCED\\n\\nFAUX NEWS\\n\\nWE DISTORT Y...</td>\n",
       "      <td>0</td>\n",
       "      <td>0</td>\n",
       "      <td>[0, 0, 0, 0, 0, 0, 0, 0, 0, 0, 0, 0, 1, 0, 0, ...</td>\n",
       "    </tr>\n",
       "    <tr>\n",
       "      <th>...</th>\n",
       "      <td>...</td>\n",
       "      <td>...</td>\n",
       "      <td>...</td>\n",
       "      <td>...</td>\n",
       "      <td>...</td>\n",
       "    </tr>\n",
       "    <tr>\n",
       "      <th>722</th>\n",
       "      <td>687_image_batch_2.png</td>\n",
       "      <td>Asked what the \"D.C.\" stands for in \"Washingto...</td>\n",
       "      <td>0</td>\n",
       "      <td>1</td>\n",
       "      <td>[0, 0, 0, 0, 0, 0, 0, 0, 0, 0, 0, 0, 0, 0, 0, ...</td>\n",
       "    </tr>\n",
       "    <tr>\n",
       "      <th>723</th>\n",
       "      <td>516_image_batch_2.png</td>\n",
       "      <td>BREAKING NEWS: The Chicago Police Dept has rep...</td>\n",
       "      <td>0</td>\n",
       "      <td>0</td>\n",
       "      <td>[0, 0, 1, 0, 0, 0, 0, 0, 0, 0, 0, 0, 0, 0, 0, ...</td>\n",
       "    </tr>\n",
       "    <tr>\n",
       "      <th>724</th>\n",
       "      <td>45_image_batch_2.png</td>\n",
       "      <td>IF WE GIVE UP EVERYTHING THAT OFFENDS SOMEONE ...</td>\n",
       "      <td>0</td>\n",
       "      <td>0</td>\n",
       "      <td>[0, 0, 0, 0, 0, 0, 0, 1, 0, 0, 0, 0, 0, 0, 0, ...</td>\n",
       "    </tr>\n",
       "    <tr>\n",
       "      <th>725</th>\n",
       "      <td>86_image_batch_2.png</td>\n",
       "      <td>YOU'D THINK YOU WERE IN A WHORE HOUSE, SEEING ...</td>\n",
       "      <td>2</td>\n",
       "      <td>0</td>\n",
       "      <td>[0, 0, 0, 0, 0, 0, 0, 0, 0, 0, 1, 0, 1, 0, 0, ...</td>\n",
       "    </tr>\n",
       "    <tr>\n",
       "      <th>726</th>\n",
       "      <td>636_image_batch_2.png</td>\n",
       "      <td>Naturopathy,\\nFor those who want to look like ...</td>\n",
       "      <td>0</td>\n",
       "      <td>0</td>\n",
       "      <td>[0, 0, 0, 0, 0, 0, 0, 0, 0, 0, 1, 0, 1, 0, 0, ...</td>\n",
       "    </tr>\n",
       "  </tbody>\n",
       "</table>\n",
       "<p>727 rows × 5 columns</p>\n",
       "</div>"
      ],
      "text/plain": [
       "                     Image                                               Text  \\\n",
       "0            182_image.png  The most costly errors in all of history\\n\\nWo...   \n",
       "1    366_image_batch_2.png  MY PARENTS WERE KILLED AS A RESULT OF A GUN FR...   \n",
       "2            148_image.png  VOTE IT OUT\\nVOTE IT OUT\\n\\nHE SAID IT WASN'T ...   \n",
       "3     58_image_batch_2.png  IF YOU DONT LISTEN TO DESPACITO YOU AIN'T LATI...   \n",
       "4    816_image_batch_2.png  FAIR AND BALANCED\\n\\nFAUX NEWS\\n\\nWE DISTORT Y...   \n",
       "..                     ...                                                ...   \n",
       "722  687_image_batch_2.png  Asked what the \"D.C.\" stands for in \"Washingto...   \n",
       "723  516_image_batch_2.png  BREAKING NEWS: The Chicago Police Dept has rep...   \n",
       "724   45_image_batch_2.png  IF WE GIVE UP EVERYTHING THAT OFFENDS SOMEONE ...   \n",
       "725   86_image_batch_2.png  YOU'D THINK YOU WERE IN A WHORE HOUSE, SEEING ...   \n",
       "726  636_image_batch_2.png  Naturopathy,\\nFor those who want to look like ...   \n",
       "\n",
       "     Hate  Sentiment                                             Labels  \n",
       "0       0          0  [0, 0, 0, 0, 0, 0, 0, 1, 0, 0, 0, 0, 1, 0, 0, ...  \n",
       "1       0          0  [0, 0, 0, 0, 0, 1, 0, 0, 0, 0, 1, 0, 1, 0, 0, ...  \n",
       "2       0          0  [0, 0, 0, 0, 0, 0, 0, 0, 0, 0, 1, 0, 0, 0, 0, ...  \n",
       "3       2          1  [0, 0, 0, 0, 1, 0, 0, 1, 0, 0, 0, 0, 0, 0, 0, ...  \n",
       "4       0          0  [0, 0, 0, 0, 0, 0, 0, 0, 0, 0, 0, 0, 1, 0, 0, ...  \n",
       "..    ...        ...                                                ...  \n",
       "722     0          1  [0, 0, 0, 0, 0, 0, 0, 0, 0, 0, 0, 0, 0, 0, 0, ...  \n",
       "723     0          0  [0, 0, 1, 0, 0, 0, 0, 0, 0, 0, 0, 0, 0, 0, 0, ...  \n",
       "724     0          0  [0, 0, 0, 0, 0, 0, 0, 1, 0, 0, 0, 0, 0, 0, 0, ...  \n",
       "725     2          0  [0, 0, 0, 0, 0, 0, 0, 0, 0, 0, 1, 0, 1, 0, 0, ...  \n",
       "726     0          0  [0, 0, 0, 0, 0, 0, 0, 0, 0, 0, 1, 0, 1, 0, 0, ...  \n",
       "\n",
       "[727 rows x 5 columns]"
      ]
     },
     "execution_count": 37,
     "metadata": {},
     "output_type": "execute_result"
    }
   ],
   "source": [
    "training_df"
   ]
  },
  {
   "cell_type": "markdown",
   "metadata": {},
   "source": [
    "### Testing"
   ]
  },
  {
   "cell_type": "code",
   "execution_count": 38,
   "metadata": {},
   "outputs": [],
   "source": [
    "test_df = pd.DataFrame({'Image' : image_name_test,\n",
    "                            'Text' : text_test,\n",
    "                            'Hate' : hate_speech_label_test,\n",
    "                            'Sentiment' : sentiment_label_test,\n",
    "                            'Labels' : one_hot_labels_test})"
   ]
  },
  {
   "cell_type": "code",
   "execution_count": 39,
   "metadata": {},
   "outputs": [
    {
     "data": {
      "text/html": [
       "<div>\n",
       "<style scoped>\n",
       "    .dataframe tbody tr th:only-of-type {\n",
       "        vertical-align: middle;\n",
       "    }\n",
       "\n",
       "    .dataframe tbody tr th {\n",
       "        vertical-align: top;\n",
       "    }\n",
       "\n",
       "    .dataframe thead th {\n",
       "        text-align: right;\n",
       "    }\n",
       "</style>\n",
       "<table border=\"1\" class=\"dataframe\">\n",
       "  <thead>\n",
       "    <tr style=\"text-align: right;\">\n",
       "      <th></th>\n",
       "      <th>Image</th>\n",
       "      <th>Text</th>\n",
       "      <th>Hate</th>\n",
       "      <th>Sentiment</th>\n",
       "      <th>Labels</th>\n",
       "    </tr>\n",
       "  </thead>\n",
       "  <tbody>\n",
       "    <tr>\n",
       "      <th>0</th>\n",
       "      <td>566_image_batch_2.png</td>\n",
       "      <td>A FRIENDLY REMINDER...\\n\\nFERGUSON\\n\\nBALTIMOR...</td>\n",
       "      <td>0</td>\n",
       "      <td>1</td>\n",
       "      <td>[1, 0, 0, 0, 0, 0, 0, 0, 0, 0, 0, 0, 0, 0, 0, ...</td>\n",
       "    </tr>\n",
       "    <tr>\n",
       "      <th>1</th>\n",
       "      <td>738_image_batch_2.png</td>\n",
       "      <td>We're fed up.\\nWe're not asking for our countr...</td>\n",
       "      <td>0</td>\n",
       "      <td>0</td>\n",
       "      <td>[0, 0, 0, 0, 1, 0, 0, 0, 1, 0, 1, 0, 1, 0, 0, ...</td>\n",
       "    </tr>\n",
       "    <tr>\n",
       "      <th>2</th>\n",
       "      <td>885_image_batch_2.png</td>\n",
       "      <td>PRESIDENTS' DAY SALE\\n\\nEVERYONE MUST GO</td>\n",
       "      <td>0</td>\n",
       "      <td>1</td>\n",
       "      <td>[0, 0, 0, 0, 0, 0, 0, 0, 0, 0, 0, 0, 0, 0, 0, ...</td>\n",
       "    </tr>\n",
       "    <tr>\n",
       "      <th>3</th>\n",
       "      <td>41_image_batch_2.png</td>\n",
       "      <td>TRUDEAU'S PRIORITIES\\n1.ENRICHING HIS FRIENDS ...</td>\n",
       "      <td>0</td>\n",
       "      <td>1</td>\n",
       "      <td>[0, 0, 0, 0, 0, 0, 0, 0, 1, 1, 1, 0, 1, 0, 0, ...</td>\n",
       "    </tr>\n",
       "    <tr>\n",
       "      <th>4</th>\n",
       "      <td>169_image.png</td>\n",
       "      <td>Our elders were called to war to save lives.\\n...</td>\n",
       "      <td>0</td>\n",
       "      <td>1</td>\n",
       "      <td>[0, 0, 1, 0, 0, 1, 0, 1, 0, 0, 0, 0, 0, 0, 0, ...</td>\n",
       "    </tr>\n",
       "    <tr>\n",
       "      <th>...</th>\n",
       "      <td>...</td>\n",
       "      <td>...</td>\n",
       "      <td>...</td>\n",
       "      <td>...</td>\n",
       "      <td>...</td>\n",
       "    </tr>\n",
       "    <tr>\n",
       "      <th>182</th>\n",
       "      <td>867_image_batch_2.png</td>\n",
       "      <td>AT THIS POINT, SHOULDN'T HIS RALLIES BE CONSID...</td>\n",
       "      <td>0</td>\n",
       "      <td>0</td>\n",
       "      <td>[0, 0, 0, 0, 0, 0, 0, 0, 0, 0, 0, 0, 1, 0, 0, ...</td>\n",
       "    </tr>\n",
       "    <tr>\n",
       "      <th>183</th>\n",
       "      <td>901_image_batch_2.png</td>\n",
       "      <td>HEY YOU GUYSSSS!\\n\\nI CAN TRAVEL NOW\\nTHE VACC...</td>\n",
       "      <td>0</td>\n",
       "      <td>1</td>\n",
       "      <td>[0, 0, 1, 0, 0, 0, 0, 1, 0, 0, 0, 0, 0, 0, 0, ...</td>\n",
       "    </tr>\n",
       "    <tr>\n",
       "      <th>184</th>\n",
       "      <td>932_image_batch_2.png</td>\n",
       "      <td>President Trump, infected with COVID-19, retur...</td>\n",
       "      <td>0</td>\n",
       "      <td>0</td>\n",
       "      <td>[0, 0, 0, 0, 0, 0, 0, 0, 0, 1, 1, 0, 0, 0, 0, ...</td>\n",
       "    </tr>\n",
       "    <tr>\n",
       "      <th>185</th>\n",
       "      <td>967_image_batch_2.png</td>\n",
       "      <td>Your parades are cute!\\n\\nWait till you see ou...</td>\n",
       "      <td>0</td>\n",
       "      <td>1</td>\n",
       "      <td>[0, 0, 0, 0, 0, 0, 0, 1, 0, 0, 1, 0, 0, 0, 0, ...</td>\n",
       "    </tr>\n",
       "    <tr>\n",
       "      <th>186</th>\n",
       "      <td>171_image_batch_2.png</td>\n",
       "      <td>Americans when Newton discovered gravity :\\n\\n...</td>\n",
       "      <td>0</td>\n",
       "      <td>1</td>\n",
       "      <td>[0, 0, 0, 0, 0, 0, 0, 0, 0, 0, 1, 1, 1, 0, 0, ...</td>\n",
       "    </tr>\n",
       "  </tbody>\n",
       "</table>\n",
       "<p>187 rows × 5 columns</p>\n",
       "</div>"
      ],
      "text/plain": [
       "                     Image                                               Text  \\\n",
       "0    566_image_batch_2.png  A FRIENDLY REMINDER...\\n\\nFERGUSON\\n\\nBALTIMOR...   \n",
       "1    738_image_batch_2.png  We're fed up.\\nWe're not asking for our countr...   \n",
       "2    885_image_batch_2.png           PRESIDENTS' DAY SALE\\n\\nEVERYONE MUST GO   \n",
       "3     41_image_batch_2.png  TRUDEAU'S PRIORITIES\\n1.ENRICHING HIS FRIENDS ...   \n",
       "4            169_image.png  Our elders were called to war to save lives.\\n...   \n",
       "..                     ...                                                ...   \n",
       "182  867_image_batch_2.png  AT THIS POINT, SHOULDN'T HIS RALLIES BE CONSID...   \n",
       "183  901_image_batch_2.png  HEY YOU GUYSSSS!\\n\\nI CAN TRAVEL NOW\\nTHE VACC...   \n",
       "184  932_image_batch_2.png  President Trump, infected with COVID-19, retur...   \n",
       "185  967_image_batch_2.png  Your parades are cute!\\n\\nWait till you see ou...   \n",
       "186  171_image_batch_2.png  Americans when Newton discovered gravity :\\n\\n...   \n",
       "\n",
       "     Hate  Sentiment                                             Labels  \n",
       "0       0          1  [1, 0, 0, 0, 0, 0, 0, 0, 0, 0, 0, 0, 0, 0, 0, ...  \n",
       "1       0          0  [0, 0, 0, 0, 1, 0, 0, 0, 1, 0, 1, 0, 1, 0, 0, ...  \n",
       "2       0          1  [0, 0, 0, 0, 0, 0, 0, 0, 0, 0, 0, 0, 0, 0, 0, ...  \n",
       "3       0          1  [0, 0, 0, 0, 0, 0, 0, 0, 1, 1, 1, 0, 1, 0, 0, ...  \n",
       "4       0          1  [0, 0, 1, 0, 0, 1, 0, 1, 0, 0, 0, 0, 0, 0, 0, ...  \n",
       "..    ...        ...                                                ...  \n",
       "182     0          0  [0, 0, 0, 0, 0, 0, 0, 0, 0, 0, 0, 0, 1, 0, 0, ...  \n",
       "183     0          1  [0, 0, 1, 0, 0, 0, 0, 1, 0, 0, 0, 0, 0, 0, 0, ...  \n",
       "184     0          0  [0, 0, 0, 0, 0, 0, 0, 0, 0, 1, 1, 0, 0, 0, 0, ...  \n",
       "185     0          1  [0, 0, 0, 0, 0, 0, 0, 1, 0, 0, 1, 0, 0, 0, 0, ...  \n",
       "186     0          1  [0, 0, 0, 0, 0, 0, 0, 0, 0, 0, 1, 1, 1, 0, 0, ...  \n",
       "\n",
       "[187 rows x 5 columns]"
      ]
     },
     "execution_count": 39,
     "metadata": {},
     "output_type": "execute_result"
    }
   ],
   "source": [
    "test_df"
   ]
  },
  {
   "cell_type": "markdown",
   "metadata": {},
   "source": [
    "## Save to JSON"
   ]
  },
  {
   "cell_type": "code",
   "execution_count": 40,
   "metadata": {},
   "outputs": [],
   "source": [
    "training_df.to_json('MultiModal_training_data.json')\n",
    "test_df.to_json('MultiModal_testing_data.json')"
   ]
  },
  {
   "cell_type": "code",
   "execution_count": 41,
   "metadata": {},
   "outputs": [
    {
     "data": {
      "text/html": [
       "<div>\n",
       "<style scoped>\n",
       "    .dataframe tbody tr th:only-of-type {\n",
       "        vertical-align: middle;\n",
       "    }\n",
       "\n",
       "    .dataframe tbody tr th {\n",
       "        vertical-align: top;\n",
       "    }\n",
       "\n",
       "    .dataframe thead th {\n",
       "        text-align: right;\n",
       "    }\n",
       "</style>\n",
       "<table border=\"1\" class=\"dataframe\">\n",
       "  <thead>\n",
       "    <tr style=\"text-align: right;\">\n",
       "      <th></th>\n",
       "      <th>Image</th>\n",
       "      <th>Text</th>\n",
       "      <th>Hate</th>\n",
       "      <th>Sentiment</th>\n",
       "      <th>Labels</th>\n",
       "    </tr>\n",
       "  </thead>\n",
       "  <tbody>\n",
       "    <tr>\n",
       "      <th>0</th>\n",
       "      <td>182_image.png</td>\n",
       "      <td>The most costly errors in all of history\\n\\nWo...</td>\n",
       "      <td>0</td>\n",
       "      <td>0</td>\n",
       "      <td>[0, 0, 0, 0, 0, 0, 0, 1, 0, 0, 0, 0, 1, 0, 0, ...</td>\n",
       "    </tr>\n",
       "    <tr>\n",
       "      <th>1</th>\n",
       "      <td>366_image_batch_2.png</td>\n",
       "      <td>MY PARENTS WERE KILLED AS A RESULT OF A GUN FR...</td>\n",
       "      <td>0</td>\n",
       "      <td>0</td>\n",
       "      <td>[0, 0, 0, 0, 0, 1, 0, 0, 0, 0, 1, 0, 1, 0, 0, ...</td>\n",
       "    </tr>\n",
       "    <tr>\n",
       "      <th>2</th>\n",
       "      <td>148_image.png</td>\n",
       "      <td>VOTE IT OUT\\nVOTE IT OUT\\n\\nHE SAID IT WASN'T ...</td>\n",
       "      <td>0</td>\n",
       "      <td>0</td>\n",
       "      <td>[0, 0, 0, 0, 0, 0, 0, 0, 0, 0, 1, 0, 0, 0, 0, ...</td>\n",
       "    </tr>\n",
       "    <tr>\n",
       "      <th>3</th>\n",
       "      <td>58_image_batch_2.png</td>\n",
       "      <td>IF YOU DONT LISTEN TO DESPACITO YOU AIN'T LATI...</td>\n",
       "      <td>2</td>\n",
       "      <td>1</td>\n",
       "      <td>[0, 0, 0, 0, 1, 0, 0, 1, 0, 0, 0, 0, 0, 0, 0, ...</td>\n",
       "    </tr>\n",
       "    <tr>\n",
       "      <th>4</th>\n",
       "      <td>816_image_batch_2.png</td>\n",
       "      <td>FAIR AND BALANCED\\n\\nFAUX NEWS\\n\\nWE DISTORT Y...</td>\n",
       "      <td>0</td>\n",
       "      <td>0</td>\n",
       "      <td>[0, 0, 0, 0, 0, 0, 0, 0, 0, 0, 0, 0, 1, 0, 0, ...</td>\n",
       "    </tr>\n",
       "    <tr>\n",
       "      <th>...</th>\n",
       "      <td>...</td>\n",
       "      <td>...</td>\n",
       "      <td>...</td>\n",
       "      <td>...</td>\n",
       "      <td>...</td>\n",
       "    </tr>\n",
       "    <tr>\n",
       "      <th>722</th>\n",
       "      <td>687_image_batch_2.png</td>\n",
       "      <td>Asked what the \"D.C.\" stands for in \"Washingto...</td>\n",
       "      <td>0</td>\n",
       "      <td>1</td>\n",
       "      <td>[0, 0, 0, 0, 0, 0, 0, 0, 0, 0, 0, 0, 0, 0, 0, ...</td>\n",
       "    </tr>\n",
       "    <tr>\n",
       "      <th>723</th>\n",
       "      <td>516_image_batch_2.png</td>\n",
       "      <td>BREAKING NEWS: The Chicago Police Dept has rep...</td>\n",
       "      <td>0</td>\n",
       "      <td>0</td>\n",
       "      <td>[0, 0, 1, 0, 0, 0, 0, 0, 0, 0, 0, 0, 0, 0, 0, ...</td>\n",
       "    </tr>\n",
       "    <tr>\n",
       "      <th>724</th>\n",
       "      <td>45_image_batch_2.png</td>\n",
       "      <td>IF WE GIVE UP EVERYTHING THAT OFFENDS SOMEONE ...</td>\n",
       "      <td>0</td>\n",
       "      <td>0</td>\n",
       "      <td>[0, 0, 0, 0, 0, 0, 0, 1, 0, 0, 0, 0, 0, 0, 0, ...</td>\n",
       "    </tr>\n",
       "    <tr>\n",
       "      <th>725</th>\n",
       "      <td>86_image_batch_2.png</td>\n",
       "      <td>YOU'D THINK YOU WERE IN A WHORE HOUSE, SEEING ...</td>\n",
       "      <td>2</td>\n",
       "      <td>0</td>\n",
       "      <td>[0, 0, 0, 0, 0, 0, 0, 0, 0, 0, 1, 0, 1, 0, 0, ...</td>\n",
       "    </tr>\n",
       "    <tr>\n",
       "      <th>726</th>\n",
       "      <td>636_image_batch_2.png</td>\n",
       "      <td>Naturopathy,\\nFor those who want to look like ...</td>\n",
       "      <td>0</td>\n",
       "      <td>0</td>\n",
       "      <td>[0, 0, 0, 0, 0, 0, 0, 0, 0, 0, 1, 0, 1, 0, 0, ...</td>\n",
       "    </tr>\n",
       "  </tbody>\n",
       "</table>\n",
       "<p>727 rows × 5 columns</p>\n",
       "</div>"
      ],
      "text/plain": [
       "                     Image                                               Text  \\\n",
       "0            182_image.png  The most costly errors in all of history\\n\\nWo...   \n",
       "1    366_image_batch_2.png  MY PARENTS WERE KILLED AS A RESULT OF A GUN FR...   \n",
       "2            148_image.png  VOTE IT OUT\\nVOTE IT OUT\\n\\nHE SAID IT WASN'T ...   \n",
       "3     58_image_batch_2.png  IF YOU DONT LISTEN TO DESPACITO YOU AIN'T LATI...   \n",
       "4    816_image_batch_2.png  FAIR AND BALANCED\\n\\nFAUX NEWS\\n\\nWE DISTORT Y...   \n",
       "..                     ...                                                ...   \n",
       "722  687_image_batch_2.png  Asked what the \"D.C.\" stands for in \"Washingto...   \n",
       "723  516_image_batch_2.png  BREAKING NEWS: The Chicago Police Dept has rep...   \n",
       "724   45_image_batch_2.png  IF WE GIVE UP EVERYTHING THAT OFFENDS SOMEONE ...   \n",
       "725   86_image_batch_2.png  YOU'D THINK YOU WERE IN A WHORE HOUSE, SEEING ...   \n",
       "726  636_image_batch_2.png  Naturopathy,\\nFor those who want to look like ...   \n",
       "\n",
       "     Hate  Sentiment                                             Labels  \n",
       "0       0          0  [0, 0, 0, 0, 0, 0, 0, 1, 0, 0, 0, 0, 1, 0, 0, ...  \n",
       "1       0          0  [0, 0, 0, 0, 0, 1, 0, 0, 0, 0, 1, 0, 1, 0, 0, ...  \n",
       "2       0          0  [0, 0, 0, 0, 0, 0, 0, 0, 0, 0, 1, 0, 0, 0, 0, ...  \n",
       "3       2          1  [0, 0, 0, 0, 1, 0, 0, 1, 0, 0, 0, 0, 0, 0, 0, ...  \n",
       "4       0          0  [0, 0, 0, 0, 0, 0, 0, 0, 0, 0, 0, 0, 1, 0, 0, ...  \n",
       "..    ...        ...                                                ...  \n",
       "722     0          1  [0, 0, 0, 0, 0, 0, 0, 0, 0, 0, 0, 0, 0, 0, 0, ...  \n",
       "723     0          0  [0, 0, 1, 0, 0, 0, 0, 0, 0, 0, 0, 0, 0, 0, 0, ...  \n",
       "724     0          0  [0, 0, 0, 0, 0, 0, 0, 1, 0, 0, 0, 0, 0, 0, 0, ...  \n",
       "725     2          0  [0, 0, 0, 0, 0, 0, 0, 0, 0, 0, 1, 0, 1, 0, 0, ...  \n",
       "726     0          0  [0, 0, 0, 0, 0, 0, 0, 0, 0, 0, 1, 0, 1, 0, 0, ...  \n",
       "\n",
       "[727 rows x 5 columns]"
      ]
     },
     "execution_count": 41,
     "metadata": {},
     "output_type": "execute_result"
    }
   ],
   "source": [
    "pd.read_json('MultiModal_training_data.json')"
   ]
  },
  {
   "cell_type": "code",
   "execution_count": 42,
   "metadata": {},
   "outputs": [
    {
     "name": "stdout",
     "output_type": "stream",
     "text": [
      "<class 'pandas.core.frame.DataFrame'>\n",
      "Int64Index: 727 entries, 0 to 726\n",
      "Data columns (total 5 columns):\n",
      " #   Column     Non-Null Count  Dtype \n",
      "---  ------     --------------  ----- \n",
      " 0   Image      727 non-null    object\n",
      " 1   Text       727 non-null    object\n",
      " 2   Hate       727 non-null    int64 \n",
      " 3   Sentiment  727 non-null    int64 \n",
      " 4   Labels     727 non-null    object\n",
      "dtypes: int64(2), object(3)\n",
      "memory usage: 34.1+ KB\n"
     ]
    }
   ],
   "source": [
    "pd.read_json('MultiModal_training_data.json').info()"
   ]
  },
  {
   "cell_type": "code",
   "execution_count": null,
   "metadata": {},
   "outputs": [],
   "source": []
  }
 ],
 "metadata": {
  "kernelspec": {
   "display_name": "Python 3",
   "language": "python",
   "name": "python3"
  },
  "language_info": {
   "codemirror_mode": {
    "name": "ipython",
    "version": 3
   },
   "file_extension": ".py",
   "mimetype": "text/x-python",
   "name": "python",
   "nbconvert_exporter": "python",
   "pygments_lexer": "ipython3",
   "version": "3.6.9"
  }
 },
 "nbformat": 4,
 "nbformat_minor": 4
}
